{
 "cells": [
  {
   "cell_type": "markdown",
   "metadata": {
    "id": "fNtYhxijsi8_"
   },
   "source": [
    "# 1. Import libraries"
   ]
  },
  {
   "cell_type": "code",
   "execution_count": 15,
   "metadata": {
    "id": "pQ98Py2FsbRa"
   },
   "outputs": [
    {
     "name": "stdout",
     "output_type": "stream",
     "text": [
      "Running outside Google Colab. Please ensure necessary paths are correctly set in Jupyter Notebook.\n"
     ]
    }
   ],
   "source": [
    "# Import necessary libraries\n",
    "import os\n",
    "import tensorflow as tf\n",
    "import matplotlib.pyplot as plt\n",
    "import numpy as np\n",
    "import random\n",
    "import seaborn as sns\n",
    "\n",
    "from sklearn.metrics import roc_curve, auc, confusion_matrix, ConfusionMatrixDisplay, roc_auc_score\n",
    "from tensorflow.keras.preprocessing.image import ImageDataGenerator\n",
    "from tensorflow.keras.models import Sequential\n",
    "from tensorflow.keras.layers import Conv2D, MaxPooling2D, Flatten, Dense, Dropout\n",
    "from tensorflow.keras import layers, models\n",
    "from sklearn.model_selection import train_test_split\n",
    "from PIL import Image\n",
    "from tensorflow.keras.preprocessing.image import DirectoryIterator\n",
    "\n",
    "from sklearn.metrics import roc_curve, auc\n",
    "from sklearn.preprocessing import label_binarize\n",
    "from sklearn.metrics import roc_auc_score\n",
    "# From here, add any libraries that you might need for the rest of your code\n",
    "# Check if running in Google Colab\n",
    "try:\n",
    "    from google.colab import drive\n",
    "    IN_COLAB = True\n",
    "except ImportError:\n",
    "    IN_COLAB = False\n",
    "\n",
    "# Mount Google Drive if in Google Colab\n",
    "if IN_COLAB:\n",
    "    drive.mount('/content/drive', force_remount=True)  # Mounts Google Drive for each user in Colab\n",
    "    print(\"Google Drive mounted successfully in Colab.\")\n",
    "\n",
    "else:\n",
    "    # If running in a local Jupyter Notebook, ensure the necessary path is set\n",
    "    print(\"Running outside Google Colab. Please ensure necessary paths are correctly set in Jupyter Notebook.\")\n"
   ]
  },
  {
   "cell_type": "markdown",
   "metadata": {
    "id": "qQT9fT6Qs2qJ"
   },
   "source": [
    "# 2. Load and pre-process the dataset"
   ]
  },
  {
   "cell_type": "code",
   "execution_count": 16,
   "metadata": {
    "colab": {
     "base_uri": "https://localhost:8080/"
    },
    "id": "Rq1c8jHEs68D",
    "outputId": "f216c40a-5457-4c52-a435-081eb1769ee0"
   },
   "outputs": [
    {
     "name": "stdout",
     "output_type": "stream",
     "text": [
      "Data directory: D:\\T\n",
      "Training directory: D:\\T\\Training\n",
      "Testing directory: D:\\T\\Testing\n"
     ]
    }
   ],
   "source": [
    "# Set the paths based on your Drive directory\n",
    "data_dir ='D:\\T' # Change to the path to your directory\n",
    "\n",
    "train_images_dir = os.path.join(data_dir, 'Training')\n",
    "test_images_dir = os.path.join(data_dir, 'Testing')\n",
    "\n",
    "print(f\"Data directory: {data_dir}\")\n",
    "print(f\"Training directory: {train_images_dir}\")\n",
    "print(f\"Testing directory: {test_images_dir}\")"
   ]
  },
  {
   "cell_type": "markdown",
   "metadata": {
    "id": "QRGobtlhNoS-"
   },
   "source": [
    "*   This code loads images from directories, adds noise to them, rescales them, and prepares them for training/testing\n",
    "*   Training data is shuffled and processed in batches of 32 images.\n",
    "    *   Shuffle for Training: Helps the model generalize by presenting the data in a different order, reducing the risk of model overfitting or learning the order of the data.\n",
    "    *   No shuffle for Testing: It keeps the test data in the same order, so the evaluation is consistent and reliable.\n",
    "\n",
    "*   The images are resized to 30x30 pixels, and their pixel values are normalized between 0 and 1.\n",
    "*   Classes are one-hot encoded, which is important for multi-class classification problems.\n",
    "\n",
    "\n",
    "\n"
   ]
  },
  {
   "cell_type": "code",
   "execution_count": 17,
   "metadata": {
    "colab": {
     "base_uri": "https://localhost:8080/"
    },
    "id": "7mbrguV3tBdF",
    "outputId": "340f8c46-e645-4f93-9f9b-6a66ebe48393"
   },
   "outputs": [
    {
     "name": "stdout",
     "output_type": "stream",
     "text": [
      "Found 5712 images belonging to 4 classes.\n",
      "Found 1311 images belonging to 4 classes.\n",
      "Data loading completed successfully.\n",
      "Number of training samples: 5712\n",
      "Number of test samples: 1311\n",
      "Class names: {'glioma': 0, 'meningioma': 1, 'notumor': 2, 'pituitary': 3}\n"
     ]
    }
   ],
   "source": [
    "## IMPORTANT: please remember that you are not allowed to change the\n",
    "## loading and preprocessing code to improve model performance for this assignment.\n",
    "\n",
    "# Load and preprocess the data\n",
    "# add_noise : To add random Gaussian noise to each image, which can help the model generalize better by preventing it from memorizing training data\n",
    "np.random.seed(seed=42)\n",
    "def add_noise(img):\n",
    "    std_coeff = 70*np.random.random()\n",
    "    noise = np.random.normal(0, std_coeff, img.shape)\n",
    "    img += noise\n",
    "    np.clip(img, 0., 255.)\n",
    "    return img\n",
    "\n",
    "image_res = 30 # resized to 30x30 pixels for processing\n",
    "def get_images(train_dir: str, test_dir: str):\n",
    "    datagen = ImageDataGenerator(rescale=1./255, # Rescales image pixel values from [0,255] to [0,1]\n",
    "                                 preprocessing_function=add_noise)\n",
    "\n",
    "    img_height, img_width = image_res, image_res\n",
    "    batch_size = 32\n",
    "\n",
    "    # Load training data\n",
    "    train_data = datagen.flow_from_directory(\n",
    "        train_dir,\n",
    "        target_size=(img_height, img_width), # Resizes every image to 30x30 pixels\n",
    "        batch_size=batch_size, # Loads 32 images at a time\n",
    "        class_mode='categorical', # One-hot encoding happens here\n",
    "        shuffle=True,\n",
    "        color_mode='grayscale' # they only have one color channel(insted of three for RGB)\n",
    "    )\n",
    "\n",
    "    # Load test data\n",
    "    test_data = datagen.flow_from_directory(\n",
    "        test_dir,\n",
    "        target_size=(img_height, img_width), # Resizes every image to 30x30 pixels\n",
    "        batch_size=batch_size, # Loads 32 images at a time\n",
    "        class_mode='categorical', # One-hot encoding happens here\n",
    "        shuffle=False,\n",
    "        color_mode='grayscale' # they only have one color channel(insted of three for RGB)\n",
    "    )\n",
    "\n",
    "    return train_data, test_data\n",
    "\n",
    "# Load the training and test data\n",
    "try:\n",
    "    train_data, test_data = get_images(train_images_dir, test_images_dir)\n",
    "    print(\"Data loading completed successfully.\")\n",
    "    print(f\"Number of training samples: {train_data.samples}\")\n",
    "    print(f\"Number of test samples: {test_data.samples}\")\n",
    "    print(f\"Class names: {train_data.class_indices}\")\n",
    "except Exception as e:\n",
    "    print(f\"Error loading data: {e}\")\n",
    "    raise"
   ]
  },
  {
   "cell_type": "markdown",
   "metadata": {
    "id": "NF5seZFjthmc"
   },
   "source": [
    "# 3. Visualise data and plot data distribution"
   ]
  },
  {
   "cell_type": "markdown",
   "metadata": {
    "id": "3D0fMtEZJQBj"
   },
   "source": [
    "*   Visualise random 15 samples from the dataset. Image should be displayed with its corresponding label as text on top of the image.\n",
    "\n",
    "***The issue with the images not appearing clearly when using this function would be several factors:\n",
    "     1. Resize to 30x30 pixels\n",
    "     2. Add_noise function\n",
    "\n",
    "\n",
    "\n"
   ]
  },
  {
   "cell_type": "code",
   "execution_count": 18,
   "metadata": {
    "colab": {
     "base_uri": "https://localhost:8080/",
     "height": 760
    },
    "id": "sLlmac4A_n5m",
    "outputId": "89cf2c6b-27ed-405e-d692-2e188f61621b"
   },
   "outputs": [
    {
     "data": {
      "image/png": "[encoded data removed]",
      "text/plain": [
       "<Figure size 1000x800 with 15 Axes>"
      ]
     },
     "metadata": {},
     "output_type": "display_data"
    }
   ],
   "source": [
    "# Function to display 15 random samples from the dataset\n",
    "def display_random_samples(data_gen, num_samples=15):\n",
    "    images, labels = next(data_gen)  # Get one batch of images\n",
    "    indices = random.sample(range(len(images)), num_samples)  # Randomly select 15 images\n",
    "\n",
    "    plt.figure(figsize=(10, 8))\n",
    "    for i, idx in enumerate(indices):\n",
    "        plt.subplot(3, 5, i+1)  # Arrange in a grid 3x5\n",
    "        img = images[idx].squeeze()  # Squeeze to remove any singleton dimensions (if grayscale)\n",
    "        plt.imshow(img, cmap='gray')  # Assuming grayscale\n",
    "        label_idx = np.argmax(labels[idx])  # Get the class label index\n",
    "        class_label = [k for k, v in train_data.class_indices.items() if v == label_idx][0]\n",
    "        plt.title(class_label)\n",
    "    plt.tight_layout()\n",
    "    plt.show()\n",
    "\n",
    "# Call the function to display 15 random samples from the training data\n",
    "display_random_samples(train_data)"
   ]
  },
  {
   "cell_type": "markdown",
   "metadata": {
    "id": "frv2iJl9KMuD"
   },
   "source": [
    "*   Create a bar plot to visulaize the class label distribution of the dataset\n",
    "\n",
    "\n"
   ]
  },
  {
   "cell_type": "code",
   "execution_count": 19,
   "metadata": {
    "colab": {
     "base_uri": "https://localhost:8080/",
     "height": 621
    },
    "id": "JporUPP-KJJ4",
    "outputId": "78f3fb30-9a7d-4cf4-d2de-78bbcb98771f"
   },
   "outputs": [
    {
     "data": {
      "image/png": "[encoded data removed]",
      "text/plain": [
       "<Figure size 1000x600 with 1 Axes>"
      ]
     },
     "metadata": {},
     "output_type": "display_data"
    }
   ],
   "source": [
    "# Create a bar plot to visualize the class label distribution\n",
    "def plot_class_distribution(data_gen):\n",
    "    class_labels = list(data_gen.class_indices.keys())  # Get class labels\n",
    "    num_samples = list(data_gen.classes)  # List of classes for all samples\n",
    "    class_count = np.bincount(num_samples)  # Count of each class\n",
    "\n",
    "    plt.figure(figsize=(10, 6))\n",
    "    bars = plt.bar(class_labels, class_count, color='skyblue')\n",
    "\n",
    "    plt.xlabel('Class Labels')\n",
    "    plt.ylabel('Number of Samples')\n",
    "    plt.title('Class Label Distribution')\n",
    "    plt.xticks(rotation=45)\n",
    "\n",
    "    # Add the total number on top of each bar\n",
    "    for bar, count in zip(bars, class_count):\n",
    "        yval = bar.get_height()  # Height of the bar (number of samples)\n",
    "        plt.text(bar.get_x() + bar.get_width()/2, yval, f'{int(count)}', ha='center', va='bottom')\n",
    "\n",
    "    plt.show()\n",
    "\n",
    "# Call the function to create the class distribution plot\n",
    "plot_class_distribution(train_data)\n"
   ]
  },
  {
   "cell_type": "markdown",
   "metadata": {
    "id": "RW7imEV6vrT0"
   },
   "source": [
    "# 4. Train and Evaluation functions"
   ]
  },
  {
   "cell_type": "markdown",
   "metadata": {
    "id": "sv0MZ9zEU4zX"
   },
   "source": [
    "*   Implement the baseline CNN algorithm without any modification for both model and dataset.\n",
    "\n",
    "  1.   Convolutional layer with 32 filters and kernel size of 3 x 3 with ReLU activations followed by a max pooling layer of size 2 x 2\n",
    "  2.   Convolutional layer with 32 filters and kernel size of 3 x 3 with ReLu activations followed by a max pooling layer of size 2 x 2\n",
    "  3.   Flatten the 3D output\n",
    "  4.   Desn layers of sizes 32 and with Relu activation\n",
    "  5.   Output layer with softmax activation are added for multi-class classification\n",
    "  6. The optimizer should be Adam, metric should be acrruracy. The categorical crossentropy loss function is used for multi-class classification problems.\n",
    "\n",
    "\n",
    "\n",
    "\n",
    "\n"
   ]
  },
  {
   "cell_type": "code",
   "execution_count": 20,
   "metadata": {
    "colab": {
     "base_uri": "https://localhost:8080/",
     "height": 357
    },
    "id": "HvsrviopSYe3",
    "outputId": "27a3bb98-5256-4982-e9e3-467cf186cf24"
   },
   "outputs": [
    {
     "name": "stderr",
     "output_type": "stream",
     "text": [
      "C:\\ProgramData\\anaconda3\\Lib\\site-packages\\keras\\src\\layers\\convolutional\\base_conv.py:107: UserWarning: Do not pass an `input_shape`/`input_dim` argument to a layer. When using Sequential models, prefer using an `Input(shape)` object as the first layer in the model instead.\n",
      "  super().__init__(activity_regularizer=activity_regularizer, **kwargs)\n"
     ]
    },
    {
     "data": {
      "text/html": [
       "<pre style=\"white-space:pre;overflow-x:auto;line-height:normal;font-family:Menlo,'DejaVu Sans Mono',consolas,'Courier New',monospace\"><span style=\"font-weight: bold\">Model: \"sequential_15\"</span>\n",
       "</pre>\n"
      ],
      "text/plain": [
       "\u001b[1mModel: \"sequential_15\"\u001b[0m\n"
      ]
     },
     "metadata": {},
     "output_type": "display_data"
    },
    {
     "data": {
      "text/html": [
       "<pre style=\"white-space:pre;overflow-x:auto;line-height:normal;font-family:Menlo,'DejaVu Sans Mono',consolas,'Courier New',monospace\">┏━━━━━━━━━━━━━━━━━━━━━━━━━━━━━━━━━━━━━━┳━━━━━━━━━━━━━━━━━━━━━━━━━━━━━┳━━━━━━━━━━━━━━━━━┓\n",
       "┃<span style=\"font-weight: bold\"> Layer (type)                         </span>┃<span style=\"font-weight: bold\"> Output Shape                </span>┃<span style=\"font-weight: bold\">         Param # </span>┃\n",
       "┡━━━━━━━━━━━━━━━━━━━━━━━━━━━━━━━━━━━━━━╇━━━━━━━━━━━━━━━━━━━━━━━━━━━━━╇━━━━━━━━━━━━━━━━━┩\n",
       "│ conv2d_30 (<span style=\"color: #0087ff; text-decoration-color: #0087ff\">Conv2D</span>)                   │ (<span style=\"color: #00d7ff; text-decoration-color: #00d7ff\">None</span>, <span style=\"color: #00af00; text-decoration-color: #00af00\">28</span>, <span style=\"color: #00af00; text-decoration-color: #00af00\">28</span>, <span style=\"color: #00af00; text-decoration-color: #00af00\">32</span>)          │             <span style=\"color: #00af00; text-decoration-color: #00af00\">320</span> │\n",
       "├──────────────────────────────────────┼─────────────────────────────┼─────────────────┤\n",
       "│ max_pooling2d_30 (<span style=\"color: #0087ff; text-decoration-color: #0087ff\">MaxPooling2D</span>)      │ (<span style=\"color: #00d7ff; text-decoration-color: #00d7ff\">None</span>, <span style=\"color: #00af00; text-decoration-color: #00af00\">14</span>, <span style=\"color: #00af00; text-decoration-color: #00af00\">14</span>, <span style=\"color: #00af00; text-decoration-color: #00af00\">32</span>)          │               <span style=\"color: #00af00; text-decoration-color: #00af00\">0</span> │\n",
       "├──────────────────────────────────────┼─────────────────────────────┼─────────────────┤\n",
       "│ conv2d_31 (<span style=\"color: #0087ff; text-decoration-color: #0087ff\">Conv2D</span>)                   │ (<span style=\"color: #00d7ff; text-decoration-color: #00d7ff\">None</span>, <span style=\"color: #00af00; text-decoration-color: #00af00\">12</span>, <span style=\"color: #00af00; text-decoration-color: #00af00\">12</span>, <span style=\"color: #00af00; text-decoration-color: #00af00\">32</span>)          │           <span style=\"color: #00af00; text-decoration-color: #00af00\">9,248</span> │\n",
       "├──────────────────────────────────────┼─────────────────────────────┼─────────────────┤\n",
       "│ max_pooling2d_31 (<span style=\"color: #0087ff; text-decoration-color: #0087ff\">MaxPooling2D</span>)      │ (<span style=\"color: #00d7ff; text-decoration-color: #00d7ff\">None</span>, <span style=\"color: #00af00; text-decoration-color: #00af00\">6</span>, <span style=\"color: #00af00; text-decoration-color: #00af00\">6</span>, <span style=\"color: #00af00; text-decoration-color: #00af00\">32</span>)            │               <span style=\"color: #00af00; text-decoration-color: #00af00\">0</span> │\n",
       "├──────────────────────────────────────┼─────────────────────────────┼─────────────────┤\n",
       "│ flatten_15 (<span style=\"color: #0087ff; text-decoration-color: #0087ff\">Flatten</span>)                 │ (<span style=\"color: #00d7ff; text-decoration-color: #00d7ff\">None</span>, <span style=\"color: #00af00; text-decoration-color: #00af00\">1152</span>)                │               <span style=\"color: #00af00; text-decoration-color: #00af00\">0</span> │\n",
       "├──────────────────────────────────────┼─────────────────────────────┼─────────────────┤\n",
       "│ dense_45 (<span style=\"color: #0087ff; text-decoration-color: #0087ff\">Dense</span>)                     │ (<span style=\"color: #00d7ff; text-decoration-color: #00d7ff\">None</span>, <span style=\"color: #00af00; text-decoration-color: #00af00\">32</span>)                  │          <span style=\"color: #00af00; text-decoration-color: #00af00\">36,896</span> │\n",
       "├──────────────────────────────────────┼─────────────────────────────┼─────────────────┤\n",
       "│ dense_46 (<span style=\"color: #0087ff; text-decoration-color: #0087ff\">Dense</span>)                     │ (<span style=\"color: #00d7ff; text-decoration-color: #00d7ff\">None</span>, <span style=\"color: #00af00; text-decoration-color: #00af00\">4</span>)                   │             <span style=\"color: #00af00; text-decoration-color: #00af00\">132</span> │\n",
       "└──────────────────────────────────────┴─────────────────────────────┴─────────────────┘\n",
       "</pre>\n"
      ],
      "text/plain": [
       "┏━━━━━━━━━━━━━━━━━━━━━━━━━━━━━━━━━━━━━━┳━━━━━━━━━━━━━━━━━━━━━━━━━━━━━┳━━━━━━━━━━━━━━━━━┓\n",
       "┃\u001b[1m \u001b[0m\u001b[1mLayer (type)                        \u001b[0m\u001b[1m \u001b[0m┃\u001b[1m \u001b[0m\u001b[1mOutput Shape               \u001b[0m\u001b[1m \u001b[0m┃\u001b[1m \u001b[0m\u001b[1m        Param #\u001b[0m\u001b[1m \u001b[0m┃\n",
       "┡━━━━━━━━━━━━━━━━━━━━━━━━━━━━━━━━━━━━━━╇━━━━━━━━━━━━━━━━━━━━━━━━━━━━━╇━━━━━━━━━━━━━━━━━┩\n",
       "│ conv2d_30 (\u001b[38;5;33mConv2D\u001b[0m)                   │ (\u001b[38;5;45mNone\u001b[0m, \u001b[38;5;34m28\u001b[0m, \u001b[38;5;34m28\u001b[0m, \u001b[38;5;34m32\u001b[0m)          │             \u001b[38;5;34m320\u001b[0m │\n",
       "├──────────────────────────────────────┼─────────────────────────────┼─────────────────┤\n",
       "│ max_pooling2d_30 (\u001b[38;5;33mMaxPooling2D\u001b[0m)      │ (\u001b[38;5;45mNone\u001b[0m, \u001b[38;5;34m14\u001b[0m, \u001b[38;5;34m14\u001b[0m, \u001b[38;5;34m32\u001b[0m)          │               \u001b[38;5;34m0\u001b[0m │\n",
       "├──────────────────────────────────────┼─────────────────────────────┼─────────────────┤\n",
       "│ conv2d_31 (\u001b[38;5;33mConv2D\u001b[0m)                   │ (\u001b[38;5;45mNone\u001b[0m, \u001b[38;5;34m12\u001b[0m, \u001b[38;5;34m12\u001b[0m, \u001b[38;5;34m32\u001b[0m)          │           \u001b[38;5;34m9,248\u001b[0m │\n",
       "├──────────────────────────────────────┼─────────────────────────────┼─────────────────┤\n",
       "│ max_pooling2d_31 (\u001b[38;5;33mMaxPooling2D\u001b[0m)      │ (\u001b[38;5;45mNone\u001b[0m, \u001b[38;5;34m6\u001b[0m, \u001b[38;5;34m6\u001b[0m, \u001b[38;5;34m32\u001b[0m)            │               \u001b[38;5;34m0\u001b[0m │\n",
       "├──────────────────────────────────────┼─────────────────────────────┼─────────────────┤\n",
       "│ flatten_15 (\u001b[38;5;33mFlatten\u001b[0m)                 │ (\u001b[38;5;45mNone\u001b[0m, \u001b[38;5;34m1152\u001b[0m)                │               \u001b[38;5;34m0\u001b[0m │\n",
       "├──────────────────────────────────────┼─────────────────────────────┼─────────────────┤\n",
       "│ dense_45 (\u001b[38;5;33mDense\u001b[0m)                     │ (\u001b[38;5;45mNone\u001b[0m, \u001b[38;5;34m32\u001b[0m)                  │          \u001b[38;5;34m36,896\u001b[0m │\n",
       "├──────────────────────────────────────┼─────────────────────────────┼─────────────────┤\n",
       "│ dense_46 (\u001b[38;5;33mDense\u001b[0m)                     │ (\u001b[38;5;45mNone\u001b[0m, \u001b[38;5;34m4\u001b[0m)                   │             \u001b[38;5;34m132\u001b[0m │\n",
       "└──────────────────────────────────────┴─────────────────────────────┴─────────────────┘\n"
      ]
     },
     "metadata": {},
     "output_type": "display_data"
    },
    {
     "data": {
      "text/html": [
       "<pre style=\"white-space:pre;overflow-x:auto;line-height:normal;font-family:Menlo,'DejaVu Sans Mono',consolas,'Courier New',monospace\"><span style=\"font-weight: bold\"> Total params: </span><span style=\"color: #00af00; text-decoration-color: #00af00\">46,596</span> (182.02 KB)\n",
       "</pre>\n"
      ],
      "text/plain": [
       "\u001b[1m Total params: \u001b[0m\u001b[38;5;34m46,596\u001b[0m (182.02 KB)\n"
      ]
     },
     "metadata": {},
     "output_type": "display_data"
    },
    {
     "data": {
      "text/html": [
       "<pre style=\"white-space:pre;overflow-x:auto;line-height:normal;font-family:Menlo,'DejaVu Sans Mono',consolas,'Courier New',monospace\"><span style=\"font-weight: bold\"> Trainable params: </span><span style=\"color: #00af00; text-decoration-color: #00af00\">46,596</span> (182.02 KB)\n",
       "</pre>\n"
      ],
      "text/plain": [
       "\u001b[1m Trainable params: \u001b[0m\u001b[38;5;34m46,596\u001b[0m (182.02 KB)\n"
      ]
     },
     "metadata": {},
     "output_type": "display_data"
    },
    {
     "data": {
      "text/html": [
       "<pre style=\"white-space:pre;overflow-x:auto;line-height:normal;font-family:Menlo,'DejaVu Sans Mono',consolas,'Courier New',monospace\"><span style=\"font-weight: bold\"> Non-trainable params: </span><span style=\"color: #00af00; text-decoration-color: #00af00\">0</span> (0.00 B)\n",
       "</pre>\n"
      ],
      "text/plain": [
       "\u001b[1m Non-trainable params: \u001b[0m\u001b[38;5;34m0\u001b[0m (0.00 B)\n"
      ]
     },
     "metadata": {},
     "output_type": "display_data"
    }
   ],
   "source": [
    "# CNN to classify grayscale images (30x30pixels) into different categories.\n",
    "# Correct input shape for grayscale images (30x30 pixels, 1 channel)\n",
    "img_shape = (30, 30, 1)  # 30x30 pixels, 1 channel (grayscale)\n",
    "model = models.Sequential()\n",
    "\n",
    "# first convolutional layer + max pooling layer\n",
    "model.add(layers.Conv2D(32, (3, 3), activation = 'relu', input_shape = img_shape)) #relu helps to introduce non-linearity\n",
    "model.add(layers.MaxPooling2D((2,2)))\n",
    "\n",
    "# second convolutional layer + max pooling layer\n",
    "model.add(layers.Conv2D(32, (3, 3), activation='relu'))\n",
    "model.add(layers.MaxPooling2D((2, 2)))\n",
    "\n",
    "# flatten the 3D output from the convolutional layers into 1D\n",
    "model.add(layers.Flatten())\n",
    "\n",
    "# Dense layer with 32 units and ReLU activation\n",
    "model.add(layers.Dense(32, activation = 'relu'))\n",
    "\n",
    "num_classes = len(list(train_data.class_indices.keys()))\n",
    "model.add(layers.Dense(num_classes, activation='softmax'))\n",
    "\n",
    "# Compile the model\n",
    "model.compile(optimizer='adam',\n",
    "              loss='categorical_crossentropy',  # Loss function for multi-class classification\n",
    "              metrics=['accuracy'])\n",
    "\n",
    "# Summary of the model\n",
    "model.summary()"
   ]
  },
  {
   "cell_type": "markdown",
   "metadata": {
    "id": "Ye7rfIreXJEV"
   },
   "source": [
    "*   Analyze the performance of the baseline by plotting\n",
    "  1.   **Split the training data and validation data again due to the restriction of not modifying the preprocessing code.**\n",
    "      \n",
    "      -> Given that it's not allowed to modify the original preprocessing code and it's already loaded train_data and test_data using the ImageDataGenerator, we need a solution that follows the rule but still allows you to create a validation set from the training data.\n",
    "\n",
    "      Since we're using ImageDataGenerator to load both the training and test data, the easiest way to create a validation set without modifying the original code is to split the training data after loading it.\n",
    "  2.   The training and validation losses and accuracies on the training and validation set through epochs\n",
    "  3.   The Receiver Operator Characteristic (ROC) curve with the Area under the Curve (AUC) score and a confusion matrix for the validation and test sets.\n",
    "  4.   Report performance measures (accuracy, precision, recall, and F1-score) for both validation and test sets.\n",
    "\n",
    "\n",
    "\n",
    "\n"
   ]
  },
  {
   "cell_type": "code",
   "execution_count": 21,
   "metadata": {
    "id": "9S5snBPx9JBE"
   },
   "outputs": [
    {
     "name": "stdout",
     "output_type": "stream",
     "text": [
      "Split the training and validation data successfully.\n",
      "Number of training samples: 4569\n",
      "Number of validation samples: 1143\n",
      "Number of validation samples: 1311\n"
     ]
    }
   ],
   "source": [
    "# Collect all images and labels from the train_data generator\n",
    "x_data = []\n",
    "y_data = []\n",
    "\n",
    "# Loop through the generator to collect data\n",
    "for i in range(len(train_data)):\n",
    "    images, labels = next(train_data)\n",
    "    x_data.extend(images)\n",
    "    y_data.extend(labels)\n",
    "\n",
    "# Convert lists to NumPy arrays\n",
    "x_data = np.array(x_data)\n",
    "y_data = np.array(y_data)\n",
    "\n",
    "# Split into training and validation sets\n",
    "x_train, x_val, y_train, y_val = train_test_split(x_data, y_data, test_size=0.2, random_state=42)\n",
    "\n",
    "# Now you can use x_train, y_train for training and x_val, y_val for validation.\n",
    "print(\"Split the training and validation data successfully.\")\n",
    "print(f\"Number of training samples: {len(x_train)}\")  # Should show 80% of total\n",
    "print(f\"Number of validation samples: {len(x_val)}\")  # Should show 20% of total\n",
    "print(f\"Number of validation samples: {test_data.samples}\")\n"
   ]
  },
  {
   "cell_type": "code",
   "execution_count": 22,
   "metadata": {},
   "outputs": [],
   "source": [
    "validation_data=(x_val, y_val)"
   ]
  },
  {
   "cell_type": "code",
   "execution_count": 23,
   "metadata": {
    "colab": {
     "base_uri": "https://localhost:8080/"
    },
    "id": "XNmDI9mEE6mD",
    "outputId": "b11831de-2617-4a8d-b471-5b72cdd155e3"
   },
   "outputs": [
    {
     "name": "stdout",
     "output_type": "stream",
     "text": [
      "Epoch 1/10\n",
      "\u001b[1m143/143\u001b[0m \u001b[32m━━━━━━━━━━━━━━━━━━━━\u001b[0m\u001b[37m\u001b[0m \u001b[1m3s\u001b[0m 9ms/step - accuracy: 0.4145 - loss: 1.2194 - val_accuracy: 0.6605 - val_loss: 0.8688\n",
      "Epoch 2/10\n",
      "\u001b[1m143/143\u001b[0m \u001b[32m━━━━━━━━━━━━━━━━━━━━\u001b[0m\u001b[37m\u001b[0m \u001b[1m2s\u001b[0m 11ms/step - accuracy: 0.6916 - loss: 0.8378 - val_accuracy: 0.7227 - val_loss: 0.7371\n",
      "Epoch 3/10\n",
      "\u001b[1m143/143\u001b[0m \u001b[32m━━━━━━━━━━━━━━━━━━━━\u001b[0m\u001b[37m\u001b[0m \u001b[1m1s\u001b[0m 9ms/step - accuracy: 0.7269 - loss: 0.7179 - val_accuracy: 0.7200 - val_loss: 0.6966\n",
      "Epoch 4/10\n",
      "\u001b[1m143/143\u001b[0m \u001b[32m━━━━━━━━━━━━━━━━━━━━\u001b[0m\u001b[37m\u001b[0m \u001b[1m1s\u001b[0m 8ms/step - accuracy: 0.7706 - loss: 0.6233 - val_accuracy: 0.7664 - val_loss: 0.5987\n",
      "Epoch 5/10\n",
      "\u001b[1m143/143\u001b[0m \u001b[32m━━━━━━━━━━━━━━━━━━━━\u001b[0m\u001b[37m\u001b[0m \u001b[1m1s\u001b[0m 8ms/step - accuracy: 0.7798 - loss: 0.5939 - val_accuracy: 0.7393 - val_loss: 0.6467\n",
      "Epoch 6/10\n",
      "\u001b[1m143/143\u001b[0m \u001b[32m━━━━━━━━━━━━━━━━━━━━\u001b[0m\u001b[37m\u001b[0m \u001b[1m1s\u001b[0m 9ms/step - accuracy: 0.7966 - loss: 0.5403 - val_accuracy: 0.7778 - val_loss: 0.5679\n",
      "Epoch 7/10\n",
      "\u001b[1m143/143\u001b[0m \u001b[32m━━━━━━━━━━━━━━━━━━━━\u001b[0m\u001b[37m\u001b[0m \u001b[1m1s\u001b[0m 8ms/step - accuracy: 0.8063 - loss: 0.5181 - val_accuracy: 0.7489 - val_loss: 0.6345\n",
      "Epoch 8/10\n",
      "\u001b[1m143/143\u001b[0m \u001b[32m━━━━━━━━━━━━━━━━━━━━\u001b[0m\u001b[37m\u001b[0m \u001b[1m1s\u001b[0m 9ms/step - accuracy: 0.7888 - loss: 0.5174 - val_accuracy: 0.7918 - val_loss: 0.5436\n",
      "Epoch 9/10\n",
      "\u001b[1m143/143\u001b[0m \u001b[32m━━━━━━━━━━━━━━━━━━━━\u001b[0m\u001b[37m\u001b[0m \u001b[1m1s\u001b[0m 9ms/step - accuracy: 0.8221 - loss: 0.4649 - val_accuracy: 0.7979 - val_loss: 0.5439\n",
      "Epoch 10/10\n",
      "\u001b[1m143/143\u001b[0m \u001b[32m━━━━━━━━━━━━━━━━━━━━\u001b[0m\u001b[37m\u001b[0m \u001b[1m1s\u001b[0m 9ms/step - accuracy: 0.8405 - loss: 0.4409 - val_accuracy: 0.7804 - val_loss: 0.5628\n"
     ]
    }
   ],
   "source": [
    "# Train the model with NumPy arrays\n",
    "history = model.fit(\n",
    "    x_train,  # Training data (images)\n",
    "    y_train,  # Training data (labels)\n",
    "    validation_data=(x_val, y_val),  # Validation data (images and labels)\n",
    "    epochs=10,\n",
    "    shuffle=True\n",
    ")"
   ]
  },
  {
   "cell_type": "code",
   "execution_count": 24,
   "metadata": {
    "colab": {
     "base_uri": "https://localhost:8080/",
     "height": 507
    },
    "id": "ScXrFxtjA5Nj",
    "outputId": "7344a786-38bf-4261-af1b-b2f13be04f95"
   },
   "outputs": [
    {
     "data": {
      "image/png": "[encoded data removed]",
      "text/plain": [
       "<Figure size 1000x500 with 2 Axes>"
      ]
     },
     "metadata": {},
     "output_type": "display_data"
    }
   ],
   "source": [
    "# Assuming 'history' is the variable that holds the result of model.fit()\n",
    "np.random.seed(42)\n",
    "\n",
    "def plot_training_history(history):\n",
    "    epochs = range(1, len(history.history['accuracy']) + 1)\n",
    "\n",
    "    # Plot training and validation accuracy\n",
    "    plt.figure(figsize=(10, 5))\n",
    "\n",
    "    # Accuracy plot\n",
    "    plt.subplot(1, 2, 1)\n",
    "    plt.plot(epochs, history.history['accuracy'], 'r', label='Training Accuracy')\n",
    "    plt.plot(epochs, history.history['val_accuracy'], 'g', label='Validation Accuracy')\n",
    "    plt.title('Baseline Model Training and Validation Accuracy')\n",
    "    plt.xlabel('Epochs')\n",
    "    plt.ylabel('Accuracy')\n",
    "    plt.legend()\n",
    "    plt.grid(True)\n",
    "\n",
    "    # Highlight the best epoch for validation accuracy\n",
    "    best_epoch_acc = history.history['val_accuracy'].index(max(history.history['val_accuracy'])) + 1\n",
    "    plt.scatter(best_epoch_acc, max(history.history['val_accuracy']), label=f'Best epoch = {best_epoch_acc}', color='blue')\n",
    "    plt.legend()\n",
    "\n",
    "    # Loss plot\n",
    "    plt.subplot(1, 2, 2)\n",
    "    plt.plot(epochs, history.history['loss'], 'r', label='Training Loss')\n",
    "    plt.plot(epochs, history.history['val_loss'], 'g', label='Validation Loss')\n",
    "    plt.title('Baseline Model Training and Validation Loss')\n",
    "    plt.xlabel('Epochs')\n",
    "    plt.ylabel('Loss')\n",
    "    plt.legend()\n",
    "    plt.grid(True)\n",
    "\n",
    "    # Highlight the best epoch for validation loss based on the best validation accuracy epoch\n",
    "    plt.scatter(best_epoch_acc, history.history['val_loss'][best_epoch_acc - 1], label=f'Best epoch = {best_epoch_acc}', color='blue')\n",
    "    plt.legend()\n",
    "\n",
    "    plt.tight_layout()\n",
    "    plt.show()\n",
    "\n",
    "# Call the function with the history object returned from model.fit()\n",
    "plot_training_history(history)"
   ]
  },
  {
   "cell_type": "code",
   "execution_count": 28,
   "metadata": {
    "id": "WFA2GpHNIgi9"
   },
   "outputs": [],
   "source": [
    "# Create a tensorFlow Dataset for your validation data\n",
    "val_dataset = tf.data.Dataset.from_tensor_slices((x_val, y_val))\n",
    "val_dataset = val_dataset.batch(32)  # Set batch size to match other data generators\n"
   ]
  },
  {
   "cell_type": "code",
   "execution_count": 29,
   "metadata": {
    "id": "VdWgWnCoIjFo"
   },
   "outputs": [],
   "source": [
    "def plot_multiclass_roc_and_confusion_matrix(model, data_gen, class_names, set_type='Validation'):\n",
    "    y_true = []\n",
    "    y_pred = []\n",
    "\n",
    "    # Check if data_gen is a TensorFlow Dataset object or a generator\n",
    "    if isinstance(data_gen, tf.data.Dataset):\n",
    "        # Collect true labels and predicted probabilities from Dataset\n",
    "        for images, labels in data_gen:\n",
    "            preds = model.predict(images)\n",
    "            y_true.extend(np.argmax(labels, axis=1))\n",
    "            y_pred.extend(preds)\n",
    "    else:\n",
    "        # Collect true labels and predicted probabilities from generator\n",
    "        for images, labels in data_gen:\n",
    "            preds = model.predict(images)\n",
    "            y_true.extend(np.argmax(labels, axis=1))\n",
    "            y_pred.extend(preds)\n",
    "            if len(y_true) >= data_gen.samples:\n",
    "                break\n",
    "\n",
    "    y_true = np.array(y_true)\n",
    "    y_pred = np.array(y_pred)\n",
    "\n",
    "    # Binarize the output for ROC calculations\n",
    "    y_true_binarized = label_binarize(y_true, classes=[0, 1, 2, 3])\n",
    "    n_classes = y_true_binarized.shape[1]\n",
    "\n",
    "    # Compute ROC curve and AUC for each class\n",
    "    fpr = dict()\n",
    "    tpr = dict()\n",
    "    roc_auc = dict()\n",
    "    for i in range(n_classes):\n",
    "        fpr[i], tpr[i], _ = roc_curve(y_true_binarized[:, i], y_pred[:, i])\n",
    "        roc_auc[i] = auc(fpr[i], tpr[i])\n",
    "\n",
    "    # Plot ROC and Confusion Matrix\n",
    "    plt.figure(figsize=(10, 5))\n",
    "\n",
    "    # Plot ROC curve\n",
    "    plt.subplot(1, 2, 1)\n",
    "    for i in range(n_classes):\n",
    "        plt.plot(fpr[i], tpr[i], lw=2, label=f'Class {class_names[i]} (AUC = {roc_auc[i]:.2f})')\n",
    "    plt.plot([0, 1], [0, 1], color='navy', lw=2, linestyle='--')\n",
    "    plt.xlim([0.0, 1.0])\n",
    "    plt.ylim([0.0, 1.05])\n",
    "    plt.xlabel('False Positive Rate')\n",
    "    plt.ylabel('True Positive Rate')\n",
    "    plt.title(f'ROC Curve for {set_type} Set')\n",
    "    plt.legend(loc=\"lower right\")\n",
    "\n",
    "    # Plot Confusion Matrix\n",
    "    plt.subplot(1, 2, 2)\n",
    "    y_pred_classes = np.argmax(y_pred, axis=1)\n",
    "    cm = confusion_matrix(y_true, y_pred_classes)\n",
    "    sns.heatmap(cm, annot=True, fmt=\"d\", cmap=\"Blues\", xticklabels=class_names, yticklabels=class_names)\n",
    "    plt.title(f'Confusion Matrix for {set_type} Set')\n",
    "    plt.ylabel('True label')\n",
    "    plt.xlabel('Predicted label')\n",
    "    plt.xticks(rotation=45)\n",
    "\n",
    "    plt.tight_layout()\n",
    "    plt.show()\n"
   ]
  },
  {
   "cell_type": "code",
   "execution_count": 30,
   "metadata": {
    "colab": {
     "base_uri": "https://localhost:8080/",
     "height": 1000
    },
    "id": "WkZ9HOU0IjJ0",
    "outputId": "70875116-e827-4e39-ed8a-05001576a4db"
   },
   "outputs": [
    {
     "name": "stdout",
     "output_type": "stream",
     "text": [
      "\u001b[1m1/1\u001b[0m \u001b[32m━━━━━━━━━━━━━━━━━━━━\u001b[0m\u001b[37m\u001b[0m \u001b[1m0s\u001b[0m 36ms/step\n",
      "\u001b[1m1/1\u001b[0m \u001b[32m━━━━━━━━━━━━━━━━━━━━\u001b[0m\u001b[37m\u001b[0m \u001b[1m0s\u001b[0m 27ms/step\n",
      "\u001b[1m1/1\u001b[0m \u001b[32m━━━━━━━━━━━━━━━━━━━━\u001b[0m\u001b[37m\u001b[0m \u001b[1m0s\u001b[0m 29ms/step\n",
      "\u001b[1m1/1\u001b[0m \u001b[32m━━━━━━━━━━━━━━━━━━━━\u001b[0m\u001b[37m\u001b[0m \u001b[1m0s\u001b[0m 29ms/step\n",
      "\u001b[1m1/1\u001b[0m \u001b[32m━━━━━━━━━━━━━━━━━━━━\u001b[0m\u001b[37m\u001b[0m \u001b[1m0s\u001b[0m 22ms/step\n",
      "\u001b[1m1/1\u001b[0m \u001b[32m━━━━━━━━━━━━━━━━━━━━\u001b[0m\u001b[37m\u001b[0m \u001b[1m0s\u001b[0m 37ms/step\n",
      "\u001b[1m1/1\u001b[0m \u001b[32m━━━━━━━━━━━━━━━━━━━━\u001b[0m\u001b[37m\u001b[0m \u001b[1m0s\u001b[0m 26ms/step\n",
      "\u001b[1m1/1\u001b[0m \u001b[32m━━━━━━━━━━━━━━━━━━━━\u001b[0m\u001b[37m\u001b[0m \u001b[1m0s\u001b[0m 32ms/step\n",
      "\u001b[1m1/1\u001b[0m \u001b[32m━━━━━━━━━━━━━━━━━━━━\u001b[0m\u001b[37m\u001b[0m \u001b[1m0s\u001b[0m 32ms/step\n",
      "\u001b[1m1/1\u001b[0m \u001b[32m━━━━━━━━━━━━━━━━━━━━\u001b[0m\u001b[37m\u001b[0m \u001b[1m0s\u001b[0m 26ms/step\n",
      "\u001b[1m1/1\u001b[0m \u001b[32m━━━━━━━━━━━━━━━━━━━━\u001b[0m\u001b[37m\u001b[0m \u001b[1m0s\u001b[0m 36ms/step\n",
      "\u001b[1m1/1\u001b[0m \u001b[32m━━━━━━━━━━━━━━━━━━━━\u001b[0m\u001b[37m\u001b[0m \u001b[1m0s\u001b[0m 34ms/step\n",
      "\u001b[1m1/1\u001b[0m \u001b[32m━━━━━━━━━━━━━━━━━━━━\u001b[0m\u001b[37m\u001b[0m \u001b[1m0s\u001b[0m 26ms/step\n",
      "\u001b[1m1/1\u001b[0m \u001b[32m━━━━━━━━━━━━━━━━━━━━\u001b[0m\u001b[37m\u001b[0m \u001b[1m0s\u001b[0m 49ms/step\n",
      "\u001b[1m1/1\u001b[0m \u001b[32m━━━━━━━━━━━━━━━━━━━━\u001b[0m\u001b[37m\u001b[0m \u001b[1m0s\u001b[0m 38ms/step\n",
      "\u001b[1m1/1\u001b[0m \u001b[32m━━━━━━━━━━━━━━━━━━━━\u001b[0m\u001b[37m\u001b[0m \u001b[1m0s\u001b[0m 34ms/step\n",
      "\u001b[1m1/1\u001b[0m \u001b[32m━━━━━━━━━━━━━━━━━━━━\u001b[0m\u001b[37m\u001b[0m \u001b[1m0s\u001b[0m 44ms/step\n",
      "\u001b[1m1/1\u001b[0m \u001b[32m━━━━━━━━━━━━━━━━━━━━\u001b[0m\u001b[37m\u001b[0m \u001b[1m0s\u001b[0m 28ms/step\n",
      "\u001b[1m1/1\u001b[0m \u001b[32m━━━━━━━━━━━━━━━━━━━━\u001b[0m\u001b[37m\u001b[0m \u001b[1m0s\u001b[0m 34ms/step\n",
      "\u001b[1m1/1\u001b[0m \u001b[32m━━━━━━━━━━━━━━━━━━━━\u001b[0m\u001b[37m\u001b[0m \u001b[1m0s\u001b[0m 37ms/step\n",
      "\u001b[1m1/1\u001b[0m \u001b[32m━━━━━━━━━━━━━━━━━━━━\u001b[0m\u001b[37m\u001b[0m \u001b[1m0s\u001b[0m 29ms/step\n",
      "\u001b[1m1/1\u001b[0m \u001b[32m━━━━━━━━━━━━━━━━━━━━\u001b[0m\u001b[37m\u001b[0m \u001b[1m0s\u001b[0m 30ms/step\n",
      "\u001b[1m1/1\u001b[0m \u001b[32m━━━━━━━━━━━━━━━━━━━━\u001b[0m\u001b[37m\u001b[0m \u001b[1m0s\u001b[0m 26ms/step\n",
      "\u001b[1m1/1\u001b[0m \u001b[32m━━━━━━━━━━━━━━━━━━━━\u001b[0m\u001b[37m\u001b[0m \u001b[1m0s\u001b[0m 31ms/step\n",
      "\u001b[1m1/1\u001b[0m \u001b[32m━━━━━━━━━━━━━━━━━━━━\u001b[0m\u001b[37m\u001b[0m \u001b[1m0s\u001b[0m 29ms/step\n",
      "\u001b[1m1/1\u001b[0m \u001b[32m━━━━━━━━━━━━━━━━━━━━\u001b[0m\u001b[37m\u001b[0m \u001b[1m0s\u001b[0m 33ms/step\n",
      "\u001b[1m1/1\u001b[0m \u001b[32m━━━━━━━━━━━━━━━━━━━━\u001b[0m\u001b[37m\u001b[0m \u001b[1m0s\u001b[0m 20ms/step\n",
      "\u001b[1m1/1\u001b[0m \u001b[32m━━━━━━━━━━━━━━━━━━━━\u001b[0m\u001b[37m\u001b[0m \u001b[1m0s\u001b[0m 30ms/step\n",
      "\u001b[1m1/1\u001b[0m \u001b[32m━━━━━━━━━━━━━━━━━━━━\u001b[0m\u001b[37m\u001b[0m \u001b[1m0s\u001b[0m 31ms/step\n",
      "\u001b[1m1/1\u001b[0m \u001b[32m━━━━━━━━━━━━━━━━━━━━\u001b[0m\u001b[37m\u001b[0m \u001b[1m0s\u001b[0m 24ms/step\n",
      "\u001b[1m1/1\u001b[0m \u001b[32m━━━━━━━━━━━━━━━━━━━━\u001b[0m\u001b[37m\u001b[0m \u001b[1m0s\u001b[0m 27ms/step\n",
      "\u001b[1m1/1\u001b[0m \u001b[32m━━━━━━━━━━━━━━━━━━━━\u001b[0m\u001b[37m\u001b[0m \u001b[1m0s\u001b[0m 31ms/step\n",
      "\u001b[1m1/1\u001b[0m \u001b[32m━━━━━━━━━━━━━━━━━━━━\u001b[0m\u001b[37m\u001b[0m \u001b[1m0s\u001b[0m 24ms/step\n",
      "\u001b[1m1/1\u001b[0m \u001b[32m━━━━━━━━━━━━━━━━━━━━\u001b[0m\u001b[37m\u001b[0m \u001b[1m0s\u001b[0m 32ms/step\n",
      "\u001b[1m1/1\u001b[0m \u001b[32m━━━━━━━━━━━━━━━━━━━━\u001b[0m\u001b[37m\u001b[0m \u001b[1m0s\u001b[0m 19ms/step\n",
      "\u001b[1m1/1\u001b[0m \u001b[32m━━━━━━━━━━━━━━━━━━━━\u001b[0m\u001b[37m\u001b[0m \u001b[1m0s\u001b[0m 32ms/step\n"
     ]
    },
    {
     "data": {
      "image/png": "[encoded data removed]",
      "text/plain": [
       "<Figure size 1000x500 with 3 Axes>"
      ]
     },
     "metadata": {},
     "output_type": "display_data"
    },
    {
     "name": "stdout",
     "output_type": "stream",
     "text": [
      "\u001b[1m1/1\u001b[0m \u001b[32m━━━━━━━━━━━━━━━━━━━━\u001b[0m\u001b[37m\u001b[0m \u001b[1m0s\u001b[0m 16ms/step\n",
      "\u001b[1m1/1\u001b[0m \u001b[32m━━━━━━━━━━━━━━━━━━━━\u001b[0m\u001b[37m\u001b[0m \u001b[1m0s\u001b[0m 30ms/step\n",
      "\u001b[1m1/1\u001b[0m \u001b[32m━━━━━━━━━━━━━━━━━━━━\u001b[0m\u001b[37m\u001b[0m \u001b[1m0s\u001b[0m 31ms/step\n",
      "\u001b[1m1/1\u001b[0m \u001b[32m━━━━━━━━━━━━━━━━━━━━\u001b[0m\u001b[37m\u001b[0m \u001b[1m0s\u001b[0m 23ms/step\n",
      "\u001b[1m1/1\u001b[0m \u001b[32m━━━━━━━━━━━━━━━━━━━━\u001b[0m\u001b[37m\u001b[0m \u001b[1m0s\u001b[0m 16ms/step\n",
      "\u001b[1m1/1\u001b[0m \u001b[32m━━━━━━━━━━━━━━━━━━━━\u001b[0m\u001b[37m\u001b[0m \u001b[1m0s\u001b[0m 27ms/step\n",
      "\u001b[1m1/1\u001b[0m \u001b[32m━━━━━━━━━━━━━━━━━━━━\u001b[0m\u001b[37m\u001b[0m \u001b[1m0s\u001b[0m 33ms/step\n",
      "\u001b[1m1/1\u001b[0m \u001b[32m━━━━━━━━━━━━━━━━━━━━\u001b[0m\u001b[37m\u001b[0m \u001b[1m0s\u001b[0m 25ms/step\n",
      "\u001b[1m1/1\u001b[0m \u001b[32m━━━━━━━━━━━━━━━━━━━━\u001b[0m\u001b[37m\u001b[0m \u001b[1m0s\u001b[0m 31ms/step\n",
      "\u001b[1m1/1\u001b[0m \u001b[32m━━━━━━━━━━━━━━━━━━━━\u001b[0m\u001b[37m\u001b[0m \u001b[1m0s\u001b[0m 23ms/step\n",
      "\u001b[1m1/1\u001b[0m \u001b[32m━━━━━━━━━━━━━━━━━━━━\u001b[0m\u001b[37m\u001b[0m \u001b[1m0s\u001b[0m 31ms/step\n",
      "\u001b[1m1/1\u001b[0m \u001b[32m━━━━━━━━━━━━━━━━━━━━\u001b[0m\u001b[37m\u001b[0m \u001b[1m0s\u001b[0m 31ms/step\n",
      "\u001b[1m1/1\u001b[0m \u001b[32m━━━━━━━━━━━━━━━━━━━━\u001b[0m\u001b[37m\u001b[0m \u001b[1m0s\u001b[0m 15ms/step\n",
      "\u001b[1m1/1\u001b[0m \u001b[32m━━━━━━━━━━━━━━━━━━━━\u001b[0m\u001b[37m\u001b[0m \u001b[1m0s\u001b[0m 27ms/step\n",
      "\u001b[1m1/1\u001b[0m \u001b[32m━━━━━━━━━━━━━━━━━━━━\u001b[0m\u001b[37m\u001b[0m \u001b[1m0s\u001b[0m 27ms/step\n",
      "\u001b[1m1/1\u001b[0m \u001b[32m━━━━━━━━━━━━━━━━━━━━\u001b[0m\u001b[37m\u001b[0m \u001b[1m0s\u001b[0m 32ms/step\n",
      "\u001b[1m1/1\u001b[0m \u001b[32m━━━━━━━━━━━━━━━━━━━━\u001b[0m\u001b[37m\u001b[0m \u001b[1m0s\u001b[0m 22ms/step\n",
      "\u001b[1m1/1\u001b[0m \u001b[32m━━━━━━━━━━━━━━━━━━━━\u001b[0m\u001b[37m\u001b[0m \u001b[1m0s\u001b[0m 31ms/step\n",
      "\u001b[1m1/1\u001b[0m \u001b[32m━━━━━━━━━━━━━━━━━━━━\u001b[0m\u001b[37m\u001b[0m \u001b[1m0s\u001b[0m 16ms/step\n",
      "\u001b[1m1/1\u001b[0m \u001b[32m━━━━━━━━━━━━━━━━━━━━\u001b[0m\u001b[37m\u001b[0m \u001b[1m0s\u001b[0m 34ms/step\n",
      "\u001b[1m1/1\u001b[0m \u001b[32m━━━━━━━━━━━━━━━━━━━━\u001b[0m\u001b[37m\u001b[0m \u001b[1m0s\u001b[0m 6ms/step\n",
      "\u001b[1m1/1\u001b[0m \u001b[32m━━━━━━━━━━━━━━━━━━━━\u001b[0m\u001b[37m\u001b[0m \u001b[1m0s\u001b[0m 20ms/step\n",
      "\u001b[1m1/1\u001b[0m \u001b[32m━━━━━━━━━━━━━━━━━━━━\u001b[0m\u001b[37m\u001b[0m \u001b[1m0s\u001b[0m 16ms/step\n",
      "\u001b[1m1/1\u001b[0m \u001b[32m━━━━━━━━━━━━━━━━━━━━\u001b[0m\u001b[37m\u001b[0m \u001b[1m0s\u001b[0m 16ms/step\n",
      "\u001b[1m1/1\u001b[0m \u001b[32m━━━━━━━━━━━━━━━━━━━━\u001b[0m\u001b[37m\u001b[0m \u001b[1m0s\u001b[0m 9ms/step\n",
      "\u001b[1m1/1\u001b[0m \u001b[32m━━━━━━━━━━━━━━━━━━━━\u001b[0m\u001b[37m\u001b[0m \u001b[1m0s\u001b[0m 32ms/step\n",
      "\u001b[1m1/1\u001b[0m \u001b[32m━━━━━━━━━━━━━━━━━━━━\u001b[0m\u001b[37m\u001b[0m \u001b[1m0s\u001b[0m 16ms/step\n",
      "\u001b[1m1/1\u001b[0m \u001b[32m━━━━━━━━━━━━━━━━━━━━\u001b[0m\u001b[37m\u001b[0m \u001b[1m0s\u001b[0m 19ms/step\n",
      "\u001b[1m1/1\u001b[0m \u001b[32m━━━━━━━━━━━━━━━━━━━━\u001b[0m\u001b[37m\u001b[0m \u001b[1m0s\u001b[0m 22ms/step\n",
      "\u001b[1m1/1\u001b[0m \u001b[32m━━━━━━━━━━━━━━━━━━━━\u001b[0m\u001b[37m\u001b[0m \u001b[1m0s\u001b[0m 18ms/step\n",
      "\u001b[1m1/1\u001b[0m \u001b[32m━━━━━━━━━━━━━━━━━━━━\u001b[0m\u001b[37m\u001b[0m \u001b[1m0s\u001b[0m 28ms/step\n",
      "\u001b[1m1/1\u001b[0m \u001b[32m━━━━━━━━━━━━━━━━━━━━\u001b[0m\u001b[37m\u001b[0m \u001b[1m0s\u001b[0m 16ms/step\n",
      "\u001b[1m1/1\u001b[0m \u001b[32m━━━━━━━━━━━━━━━━━━━━\u001b[0m\u001b[37m\u001b[0m \u001b[1m0s\u001b[0m 31ms/step\n",
      "\u001b[1m1/1\u001b[0m \u001b[32m━━━━━━━━━━━━━━━━━━━━\u001b[0m\u001b[37m\u001b[0m \u001b[1m0s\u001b[0m 16ms/step\n",
      "\u001b[1m1/1\u001b[0m \u001b[32m━━━━━━━━━━━━━━━━━━━━\u001b[0m\u001b[37m\u001b[0m \u001b[1m0s\u001b[0m 17ms/step\n",
      "\u001b[1m1/1\u001b[0m \u001b[32m━━━━━━━━━━━━━━━━━━━━\u001b[0m\u001b[37m\u001b[0m \u001b[1m0s\u001b[0m 16ms/step\n",
      "\u001b[1m1/1\u001b[0m \u001b[32m━━━━━━━━━━━━━━━━━━━━\u001b[0m\u001b[37m\u001b[0m \u001b[1m0s\u001b[0m 34ms/step\n",
      "\u001b[1m1/1\u001b[0m \u001b[32m━━━━━━━━━━━━━━━━━━━━\u001b[0m\u001b[37m\u001b[0m \u001b[1m0s\u001b[0m 50ms/step\n",
      "\u001b[1m1/1\u001b[0m \u001b[32m━━━━━━━━━━━━━━━━━━━━\u001b[0m\u001b[37m\u001b[0m \u001b[1m0s\u001b[0m 21ms/step\n",
      "\u001b[1m1/1\u001b[0m \u001b[32m━━━━━━━━━━━━━━━━━━━━\u001b[0m\u001b[37m\u001b[0m \u001b[1m0s\u001b[0m 22ms/step\n",
      "\u001b[1m1/1\u001b[0m \u001b[32m━━━━━━━━━━━━━━━━━━━━\u001b[0m\u001b[37m\u001b[0m \u001b[1m0s\u001b[0m 24ms/step\n"
     ]
    },
    {
     "data": {
      "image/png": "[encoded data removed]",
      "text/plain": [
       "<Figure size 1000x500 with 3 Axes>"
      ]
     },
     "metadata": {},
     "output_type": "display_data"
    }
   ],
   "source": [
    "# Define the class names corresponding to your data\n",
    "class_names = ['glioma', 'meningioma', 'no tumor', 'pituitary']\n",
    "\n",
    "\n",
    "# Example usage for the validation set using the custom Dataset\n",
    "plot_multiclass_roc_and_confusion_matrix(model, val_dataset, class_names, set_type='Validation')\n",
    "\n",
    "# Example usage for the test set using the DirectoryIterator\n",
    "plot_multiclass_roc_and_confusion_matrix(model, test_data, class_names, set_type='Test')\n"
   ]
  },
  {
   "cell_type": "markdown",
   "metadata": {
    "id": "C0c6U8aMvylz"
   },
   "source": [
    "# 6. Model Optimization"
   ]
  },
  {
   "cell_type": "markdown",
   "metadata": {},
   "source": [
    "## 6.1 Get insight from Loops of parameters"
   ]
  },
  {
   "cell_type": "markdown",
   "metadata": {},
   "source": [
    "### 6.1.1 Define functions that creates models with varying configurations "
   ]
  },
  {
   "cell_type": "markdown",
   "metadata": {},
   "source": [
    "Here we add the optimization phase with the hyperparameters mentioned below to the baseline model:\n",
    "- Filter size\n",
    "- Number of filters\n",
    "- Number of layers\n",
    "- Number of units in dense layers\n",
    "- Hidden layer activation function\n",
    "- Padding\n",
    "- Stride\n",
    "- Epochs\n",
    "- Batch size\n",
    "- Optimizers (Adagrad, RMSprop, Adam, SGD, SGD(momentum=0.9))\n",
    "- L1, L2 regularization (with adjustable lambda)\n",
    "- Dropout on fully connected layers\n",
    "- Early Stopping"
   ]
  },
  {
   "cell_type": "code",
   "execution_count": 65,
   "metadata": {},
   "outputs": [],
   "source": [
    "import tensorflow as tf\n",
    "from tensorflow.keras.models import Sequential\n",
    "from tensorflow.keras.layers import Conv2D, MaxPooling2D, Flatten, Dense, Dropout, BatchNormalization\n",
    "from tensorflow.keras.optimizers import Adagrad, RMSprop, Adam, SGD\n",
    "from tensorflow.keras.callbacks import EarlyStopping\n",
    "from tensorflow.keras.regularizers import l1, l2\n",
    "\n",
    "# Function to create the model with configurable parameters\n",
    "from tensorflow.keras.regularizers import l1, l2, l1_l2\n",
    "\n",
    "def create_model(filter_size=(3, 3), num_filters=32, num_layers=2, num_units=64,\n",
    "                 activation='relu', padding='same', stride=(1, 1), \n",
    "                 l1_lambda=0.0, l2_lambda=0.0,dropout_rate=0.0, input_shape=(30, 30, 1), num_classes=4):\n",
    "    \n",
    "    \n",
    "    model = Sequential()\n",
    "    \n",
    "    # Determine the regularizer\n",
    "    if l1_lambda > 0 and l2_lambda > 0:\n",
    "        regularizer = l1_l2(l1=l1_lambda, l2=l2_lambda)\n",
    "    elif l1_lambda > 0:\n",
    "        regularizer = l1(l1_lambda)\n",
    "    elif l2_lambda > 0:\n",
    "        regularizer = l2(l2_lambda)\n",
    "    else:\n",
    "        regularizer = None\n",
    "\n",
    "    # Adding convolutional layers\n",
    "    for i in range(num_layers):\n",
    "        model.add(Conv2D(filters=num_filters, kernel_size=filter_size, activation=activation,\n",
    "                         padding=padding, strides=stride, input_shape=input_shape if i == 0 else None,\n",
    "                         kernel_regularizer=regularizer))\n",
    "        model.add(MaxPooling2D(pool_size=(2, 2)))\n",
    "#   model.add(BatchNormalization())\n",
    "\n",
    "    # Flatten and add Dense layers\n",
    "    model.add(Flatten())\n",
    "    model.add(Dense(num_units, activation=activation, kernel_regularizer=regularizer))\n",
    "    model.add(Dense(num_units, activation=activation, kernel_regularizer=regularizer))\n",
    "    model.add(Dropout(dropout_rate))\n",
    "    \n",
    "    # Output layer (assuming 10 classes)\n",
    "    model.add(Dense(num_classes, activation='softmax'))\n",
    "    \n",
    "    return model\n",
    "\n"
   ]
  },
  {
   "cell_type": "code",
   "execution_count": 66,
   "metadata": {},
   "outputs": [],
   "source": [
    "def train_and_evaluate(filter_size, num_filters, num_layers, num_units, activation, padding, stride, \n",
    "                       optimizer_name, l1_lambda, l2_lambda, dropout_rate, epochs, batch_size, num_classes):\n",
    "    \n",
    "  \n",
    "    # Create the model\n",
    "    model = create_model(filter_size=filter_size, num_filters=num_filters, num_layers=num_layers, \n",
    "                         num_units=num_units, activation=activation, padding=padding, stride=stride, \n",
    "                         l1_lambda=l1_lambda, l2_lambda=l2_lambda, dropout_rate=dropout_rate, num_classes=num_classes)\n",
    "    \n",
    " \n",
    "    # Instantiate a new optimizer for each training run\n",
    "    if optimizer_name == 'adagrad':\n",
    "        optimizer = Adagrad()\n",
    "    elif optimizer_name == 'rmsprop':\n",
    "        optimizer = RMSprop()\n",
    "    elif optimizer_name == 'adam':\n",
    "        optimizer = Adam()\n",
    "    elif optimizer_name == 'sgd':\n",
    "        optimizer = SGD() \n",
    "    elif optimizer_name == 'sgd_momentum 0.9':\n",
    "        optimizer = SGD(momentum=0.9)\n",
    "    elif optimizer_name == 'sgd_momentum 0.8':\n",
    "        optimizer = SGD(momentum=0.8)\n",
    "    \n",
    "    # Compile the model with the selected optimizer\n",
    "    model.compile(optimizer=optimizer, loss='categorical_crossentropy', metrics=['accuracy'])\n",
    "    \n",
    "    # Using early stopping\n",
    "#     early_stopping = EarlyStopping(monitor='val_loss', patience=3, restore_best_weights=True)\n",
    "    \n",
    "    # Train the model\n",
    "    history = model.fit(train_data, validation_data=validation_data, epochs=epochs, \n",
    "                        batch_size=batch_size) #, callbacks=[early_stopping]\n",
    "    \n",
    "    return history.history\n"
   ]
  },
  {
   "cell_type": "markdown",
   "metadata": {},
   "source": [
    "Here we are defining experiments with different settings (Combination of parameters).\n",
    "\n",
    "This code performs a grid search over the specified parameter space using simple loops.\n",
    "We can adjust the search space by modifying the lists provided for each hyperparameter."
   ]
  },
  {
   "cell_type": "code",
   "execution_count": 69,
   "metadata": {},
   "outputs": [
    {
     "name": "stdout",
     "output_type": "stream",
     "text": [
      "Training model with config: filter_size=(3, 3), num_filters=32, num_layers=2, num_units=32, activation=relu, padding=valid, stride=(1, 1), optimizer=rmsprop, l1_lambda=0, l2_lambda=0, dropout_rate=0, epochs=10, batch_size=32\n",
      "Epoch 1/10\n",
      "\u001b[1m179/179\u001b[0m \u001b[32m━━━━━━━━━━━━━━━━━━━━\u001b[0m\u001b[37m\u001b[0m \u001b[1m16s\u001b[0m 76ms/step - accuracy: 0.4177 - loss: 1.2121 - val_accuracy: 0.6885 - val_loss: 0.8102\n",
      "Epoch 2/10\n",
      "\u001b[1m179/179\u001b[0m \u001b[32m━━━━━━━━━━━━━━━━━━━━\u001b[0m\u001b[37m\u001b[0m \u001b[1m15s\u001b[0m 83ms/step - accuracy: 0.6703 - loss: 0.8153 - val_accuracy: 0.7227 - val_loss: 0.6692\n",
      "Epoch 3/10\n",
      "\u001b[1m179/179\u001b[0m \u001b[32m━━━━━━━━━━━━━━━━━━━━\u001b[0m\u001b[37m\u001b[0m \u001b[1m16s\u001b[0m 88ms/step - accuracy: 0.7418 - loss: 0.6763 - val_accuracy: 0.7690 - val_loss: 0.5903\n",
      "Epoch 4/10\n",
      "\u001b[1m179/179\u001b[0m \u001b[32m━━━━━━━━━━━━━━━━━━━━\u001b[0m\u001b[37m\u001b[0m \u001b[1m17s\u001b[0m 93ms/step - accuracy: 0.7692 - loss: 0.5924 - val_accuracy: 0.7585 - val_loss: 0.5727\n",
      "Epoch 5/10\n",
      "\u001b[1m179/179\u001b[0m \u001b[32m━━━━━━━━━━━━━━━━━━━━\u001b[0m\u001b[37m\u001b[0m \u001b[1m14s\u001b[0m 77ms/step - accuracy: 0.7859 - loss: 0.5604 - val_accuracy: 0.8005 - val_loss: 0.5099\n",
      "Epoch 6/10\n",
      "\u001b[1m179/179\u001b[0m \u001b[32m━━━━━━━━━━━━━━━━━━━━\u001b[0m\u001b[37m\u001b[0m \u001b[1m15s\u001b[0m 78ms/step - accuracy: 0.7913 - loss: 0.5294 - val_accuracy: 0.8128 - val_loss: 0.4958\n",
      "Epoch 7/10\n",
      "\u001b[1m179/179\u001b[0m \u001b[32m━━━━━━━━━━━━━━━━━━━━\u001b[0m\u001b[37m\u001b[0m \u001b[1m16s\u001b[0m 84ms/step - accuracy: 0.8122 - loss: 0.5006 - val_accuracy: 0.7699 - val_loss: 0.5207\n",
      "Epoch 8/10\n",
      "\u001b[1m179/179\u001b[0m \u001b[32m━━━━━━━━━━━━━━━━━━━━\u001b[0m\u001b[37m\u001b[0m \u001b[1m19s\u001b[0m 104ms/step - accuracy: 0.8090 - loss: 0.4689 - val_accuracy: 0.8311 - val_loss: 0.4234\n",
      "Epoch 9/10\n",
      "\u001b[1m179/179\u001b[0m \u001b[32m━━━━━━━━━━━━━━━━━━━━\u001b[0m\u001b[37m\u001b[0m \u001b[1m17s\u001b[0m 88ms/step - accuracy: 0.8258 - loss: 0.4446 - val_accuracy: 0.8478 - val_loss: 0.3837\n",
      "Epoch 10/10\n",
      "\u001b[1m179/179\u001b[0m \u001b[32m━━━━━━━━━━━━━━━━━━━━\u001b[0m\u001b[37m\u001b[0m \u001b[1m17s\u001b[0m 91ms/step - accuracy: 0.8394 - loss: 0.4289 - val_accuracy: 0.8565 - val_loss: 0.3810\n",
      "Training model with config: filter_size=(3, 3), num_filters=32, num_layers=2, num_units=32, activation=relu, padding=valid, stride=(1, 1), optimizer=adagrad, l1_lambda=0, l2_lambda=0, dropout_rate=0, epochs=10, batch_size=32\n",
      "Epoch 1/10\n",
      "\u001b[1m179/179\u001b[0m \u001b[32m━━━━━━━━━━━━━━━━━━━━\u001b[0m\u001b[37m\u001b[0m \u001b[1m19s\u001b[0m 95ms/step - accuracy: 0.2815 - loss: 1.3693 - val_accuracy: 0.2992 - val_loss: 1.3594\n",
      "Epoch 2/10\n",
      "\u001b[1m179/179\u001b[0m \u001b[32m━━━━━━━━━━━━━━━━━━━━\u001b[0m\u001b[37m\u001b[0m \u001b[1m20s\u001b[0m 110ms/step - accuracy: 0.2740 - loss: 1.3575 - val_accuracy: 0.2992 - val_loss: 1.3451\n",
      "Epoch 3/10\n",
      "\u001b[1m179/179\u001b[0m \u001b[32m━━━━━━━━━━━━━━━━━━━━\u001b[0m\u001b[37m\u001b[0m \u001b[1m15s\u001b[0m 81ms/step - accuracy: 0.2835 - loss: 1.3422 - val_accuracy: 0.2992 - val_loss: 1.3304\n",
      "Epoch 4/10\n",
      "\u001b[1m179/179\u001b[0m \u001b[32m━━━━━━━━━━━━━━━━━━━━\u001b[0m\u001b[37m\u001b[0m \u001b[1m15s\u001b[0m 83ms/step - accuracy: 0.2825 - loss: 1.3283 - val_accuracy: 0.2975 - val_loss: 1.3149\n",
      "Epoch 5/10\n",
      "\u001b[1m179/179\u001b[0m \u001b[32m━━━━━━━━━━━━━━━━━━━━\u001b[0m\u001b[37m\u001b[0m \u001b[1m16s\u001b[0m 86ms/step - accuracy: 0.2698 - loss: 1.3180 - val_accuracy: 0.3027 - val_loss: 1.2958\n",
      "Epoch 6/10\n",
      "\u001b[1m179/179\u001b[0m \u001b[32m━━━━━━━━━━━━━━━━━━━━\u001b[0m\u001b[37m\u001b[0m \u001b[1m20s\u001b[0m 104ms/step - accuracy: 0.2824 - loss: 1.3038 - val_accuracy: 0.3333 - val_loss: 1.2753\n",
      "Epoch 7/10\n",
      "\u001b[1m179/179\u001b[0m \u001b[32m━━━━━━━━━━━━━━━━━━━━\u001b[0m\u001b[37m\u001b[0m \u001b[1m15s\u001b[0m 81ms/step - accuracy: 0.3298 - loss: 1.2769 - val_accuracy: 0.3640 - val_loss: 1.2523\n",
      "Epoch 8/10\n",
      "\u001b[1m179/179\u001b[0m \u001b[32m━━━━━━━━━━━━━━━━━━━━\u001b[0m\u001b[37m\u001b[0m \u001b[1m17s\u001b[0m 89ms/step - accuracy: 0.3650 - loss: 1.2533 - val_accuracy: 0.4077 - val_loss: 1.2292\n",
      "Epoch 9/10\n",
      "\u001b[1m179/179\u001b[0m \u001b[32m━━━━━━━━━━━━━━━━━━━━\u001b[0m\u001b[37m\u001b[0m \u001b[1m14s\u001b[0m 76ms/step - accuracy: 0.4173 - loss: 1.2282 - val_accuracy: 0.4497 - val_loss: 1.2039\n",
      "Epoch 10/10\n",
      "\u001b[1m179/179\u001b[0m \u001b[32m━━━━━━━━━━━━━━━━━━━━\u001b[0m\u001b[37m\u001b[0m \u001b[1m17s\u001b[0m 91ms/step - accuracy: 0.4531 - loss: 1.2003 - val_accuracy: 0.4479 - val_loss: 1.1750\n",
      "Training model with config: filter_size=(3, 3), num_filters=32, num_layers=2, num_units=32, activation=relu, padding=valid, stride=(1, 1), optimizer=adam, l1_lambda=0, l2_lambda=0, dropout_rate=0, epochs=10, batch_size=32\n",
      "Epoch 1/10\n",
      "\u001b[1m179/179\u001b[0m \u001b[32m━━━━━━━━━━━━━━━━━━━━\u001b[0m\u001b[37m\u001b[0m \u001b[1m18s\u001b[0m 83ms/step - accuracy: 0.4304 - loss: 1.1963 - val_accuracy: 0.6675 - val_loss: 0.8337\n",
      "Epoch 2/10\n",
      "\u001b[1m179/179\u001b[0m \u001b[32m━━━━━━━━━━━━━━━━━━━━\u001b[0m\u001b[37m\u001b[0m \u001b[1m15s\u001b[0m 78ms/step - accuracy: 0.7041 - loss: 0.7672 - val_accuracy: 0.6789 - val_loss: 0.8200\n",
      "Epoch 3/10\n",
      "\u001b[1m179/179\u001b[0m \u001b[32m━━━━━━━━━━━━━━━━━━━━\u001b[0m\u001b[37m\u001b[0m \u001b[1m15s\u001b[0m 83ms/step - accuracy: 0.7477 - loss: 0.6536 - val_accuracy: 0.7673 - val_loss: 0.5726\n",
      "Epoch 4/10\n",
      "\u001b[1m179/179\u001b[0m \u001b[32m━━━━━━━━━━━━━━━━━━━━\u001b[0m\u001b[37m\u001b[0m \u001b[1m15s\u001b[0m 83ms/step - accuracy: 0.7892 - loss: 0.5675 - val_accuracy: 0.8093 - val_loss: 0.5152\n",
      "Epoch 5/10\n",
      "\u001b[1m179/179\u001b[0m \u001b[32m━━━━━━━━━━━━━━━━━━━━\u001b[0m\u001b[37m\u001b[0m \u001b[1m16s\u001b[0m 85ms/step - accuracy: 0.8006 - loss: 0.5173 - val_accuracy: 0.8163 - val_loss: 0.4743\n",
      "Epoch 6/10\n",
      "\u001b[1m179/179\u001b[0m \u001b[32m━━━━━━━━━━━━━━━━━━━━\u001b[0m\u001b[37m\u001b[0m \u001b[1m17s\u001b[0m 90ms/step - accuracy: 0.8134 - loss: 0.4850 - val_accuracy: 0.8180 - val_loss: 0.4527\n",
      "Epoch 7/10\n",
      "\u001b[1m179/179\u001b[0m \u001b[32m━━━━━━━━━━━━━━━━━━━━\u001b[0m\u001b[37m\u001b[0m \u001b[1m16s\u001b[0m 86ms/step - accuracy: 0.8166 - loss: 0.4857 - val_accuracy: 0.8285 - val_loss: 0.4610\n",
      "Epoch 8/10\n",
      "\u001b[1m179/179\u001b[0m \u001b[32m━━━━━━━━━━━━━━━━━━━━\u001b[0m\u001b[37m\u001b[0m \u001b[1m15s\u001b[0m 82ms/step - accuracy: 0.8258 - loss: 0.4589 - val_accuracy: 0.8364 - val_loss: 0.4239\n",
      "Epoch 9/10\n",
      "\u001b[1m179/179\u001b[0m \u001b[32m━━━━━━━━━━━━━━━━━━━━\u001b[0m\u001b[37m\u001b[0m \u001b[1m17s\u001b[0m 91ms/step - accuracy: 0.8162 - loss: 0.4634 - val_accuracy: 0.8320 - val_loss: 0.4225\n",
      "Epoch 10/10\n",
      "\u001b[1m179/179\u001b[0m \u001b[32m━━━━━━━━━━━━━━━━━━━━\u001b[0m\u001b[37m\u001b[0m \u001b[1m17s\u001b[0m 94ms/step - accuracy: 0.8301 - loss: 0.4500 - val_accuracy: 0.8408 - val_loss: 0.3903\n",
      "Training model with config: filter_size=(3, 3), num_filters=32, num_layers=2, num_units=32, activation=relu, padding=valid, stride=(1, 1), optimizer=sgd, l1_lambda=0, l2_lambda=0, dropout_rate=0, epochs=10, batch_size=32\n",
      "Epoch 1/10\n",
      "\u001b[1m179/179\u001b[0m \u001b[32m━━━━━━━━━━━━━━━━━━━━\u001b[0m\u001b[37m\u001b[0m \u001b[1m20s\u001b[0m 104ms/step - accuracy: 0.2782 - loss: 1.3626 - val_accuracy: 0.2992 - val_loss: 1.3105\n",
      "Epoch 2/10\n",
      "\u001b[1m179/179\u001b[0m \u001b[32m━━━━━━━━━━━━━━━━━━━━\u001b[0m\u001b[37m\u001b[0m \u001b[1m18s\u001b[0m 98ms/step - accuracy: 0.3369 - loss: 1.2915 - val_accuracy: 0.5171 - val_loss: 1.1760\n",
      "Epoch 3/10\n",
      "\u001b[1m179/179\u001b[0m \u001b[32m━━━━━━━━━━━━━━━━━━━━\u001b[0m\u001b[37m\u001b[0m \u001b[1m16s\u001b[0m 86ms/step - accuracy: 0.5687 - loss: 1.1465 - val_accuracy: 0.6430 - val_loss: 1.0159\n",
      "Epoch 4/10\n",
      "\u001b[1m179/179\u001b[0m \u001b[32m━━━━━━━━━━━━━━━━━━━━\u001b[0m\u001b[37m\u001b[0m \u001b[1m18s\u001b[0m 99ms/step - accuracy: 0.6528 - loss: 0.9844 - val_accuracy: 0.6824 - val_loss: 0.8945\n",
      "Epoch 5/10\n",
      "\u001b[1m179/179\u001b[0m \u001b[32m━━━━━━━━━━━━━━━━━━━━\u001b[0m\u001b[37m\u001b[0m \u001b[1m19s\u001b[0m 101ms/step - accuracy: 0.6551 - loss: 0.9061 - val_accuracy: 0.6982 - val_loss: 0.8260\n",
      "Epoch 6/10\n",
      "\u001b[1m179/179\u001b[0m \u001b[32m━━━━━━━━━━━━━━━━━━━━\u001b[0m\u001b[37m\u001b[0m \u001b[1m16s\u001b[0m 85ms/step - accuracy: 0.6758 - loss: 0.8578 - val_accuracy: 0.7034 - val_loss: 0.8010\n",
      "Epoch 7/10\n",
      "\u001b[1m179/179\u001b[0m \u001b[32m━━━━━━━━━━━━━━━━━━━━\u001b[0m\u001b[37m\u001b[0m \u001b[1m16s\u001b[0m 88ms/step - accuracy: 0.6963 - loss: 0.8093 - val_accuracy: 0.7148 - val_loss: 0.7716\n",
      "Epoch 8/10\n",
      "\u001b[1m179/179\u001b[0m \u001b[32m━━━━━━━━━━━━━━━━━━━━\u001b[0m\u001b[37m\u001b[0m \u001b[1m17s\u001b[0m 94ms/step - accuracy: 0.6904 - loss: 0.8105 - val_accuracy: 0.7218 - val_loss: 0.7447\n",
      "Epoch 9/10\n",
      "\u001b[1m179/179\u001b[0m \u001b[32m━━━━━━━━━━━━━━━━━━━━\u001b[0m\u001b[37m\u001b[0m \u001b[1m17s\u001b[0m 93ms/step - accuracy: 0.7124 - loss: 0.7687 - val_accuracy: 0.7165 - val_loss: 0.7329\n",
      "Epoch 10/10\n",
      "\u001b[1m179/179\u001b[0m \u001b[32m━━━━━━━━━━━━━━━━━━━━\u001b[0m\u001b[37m\u001b[0m \u001b[1m17s\u001b[0m 93ms/step - accuracy: 0.7064 - loss: 0.7570 - val_accuracy: 0.6859 - val_loss: 0.7429\n",
      "Training model with config: filter_size=(3, 3), num_filters=32, num_layers=2, num_units=32, activation=tanh, padding=valid, stride=(1, 1), optimizer=rmsprop, l1_lambda=0, l2_lambda=0, dropout_rate=0, epochs=10, batch_size=32\n",
      "Epoch 1/10\n",
      "\u001b[1m179/179\u001b[0m \u001b[32m━━━━━━━━━━━━━━━━━━━━\u001b[0m\u001b[37m\u001b[0m \u001b[1m21s\u001b[0m 106ms/step - accuracy: 0.5506 - loss: 1.0447 - val_accuracy: 0.7507 - val_loss: 0.6352\n",
      "Epoch 2/10\n",
      "\u001b[1m179/179\u001b[0m \u001b[32m━━━━━━━━━━━━━━━━━━━━\u001b[0m\u001b[37m\u001b[0m \u001b[1m17s\u001b[0m 90ms/step - accuracy: 0.7376 - loss: 0.6594 - val_accuracy: 0.7892 - val_loss: 0.5624\n",
      "Epoch 3/10\n",
      "\u001b[1m179/179\u001b[0m \u001b[32m━━━━━━━━━━━━━━━━━━━━\u001b[0m\u001b[37m\u001b[0m \u001b[1m17s\u001b[0m 91ms/step - accuracy: 0.7810 - loss: 0.5683 - val_accuracy: 0.8128 - val_loss: 0.4868\n",
      "Epoch 4/10\n",
      "\u001b[1m179/179\u001b[0m \u001b[32m━━━━━━━━━━━━━━━━━━━━\u001b[0m\u001b[37m\u001b[0m \u001b[1m16s\u001b[0m 85ms/step - accuracy: 0.7931 - loss: 0.5375 - val_accuracy: 0.7927 - val_loss: 0.5078\n",
      "Epoch 5/10\n",
      "\u001b[1m179/179\u001b[0m \u001b[32m━━━━━━━━━━━━━━━━━━━━\u001b[0m\u001b[37m\u001b[0m \u001b[1m16s\u001b[0m 85ms/step - accuracy: 0.8233 - loss: 0.4776 - val_accuracy: 0.8373 - val_loss: 0.4277\n",
      "Epoch 6/10\n",
      "\u001b[1m179/179\u001b[0m \u001b[32m━━━━━━━━━━━━━━━━━━━━\u001b[0m\u001b[37m\u001b[0m \u001b[1m16s\u001b[0m 85ms/step - accuracy: 0.8252 - loss: 0.4467 - val_accuracy: 0.8390 - val_loss: 0.4109\n",
      "Epoch 7/10\n",
      "\u001b[1m179/179\u001b[0m \u001b[32m━━━━━━━━━━━━━━━━━━━━\u001b[0m\u001b[37m\u001b[0m \u001b[1m16s\u001b[0m 85ms/step - accuracy: 0.8278 - loss: 0.4399 - val_accuracy: 0.8539 - val_loss: 0.4066\n",
      "Epoch 8/10\n",
      "\u001b[1m179/179\u001b[0m \u001b[32m━━━━━━━━━━━━━━━━━━━━\u001b[0m\u001b[37m\u001b[0m \u001b[1m17s\u001b[0m 93ms/step - accuracy: 0.8346 - loss: 0.4259 - val_accuracy: 0.8478 - val_loss: 0.3794\n",
      "Epoch 9/10\n",
      "\u001b[1m179/179\u001b[0m \u001b[32m━━━━━━━━━━━━━━━━━━━━\u001b[0m\u001b[37m\u001b[0m \u001b[1m16s\u001b[0m 84ms/step - accuracy: 0.8368 - loss: 0.4128 - val_accuracy: 0.8434 - val_loss: 0.3949\n",
      "Epoch 10/10\n",
      "\u001b[1m179/179\u001b[0m \u001b[32m━━━━━━━━━━━━━━━━━━━━\u001b[0m\u001b[37m\u001b[0m \u001b[1m16s\u001b[0m 85ms/step - accuracy: 0.8471 - loss: 0.4052 - val_accuracy: 0.8775 - val_loss: 0.3403\n",
      "Training model with config: filter_size=(3, 3), num_filters=32, num_layers=2, num_units=32, activation=tanh, padding=valid, stride=(1, 1), optimizer=adagrad, l1_lambda=0, l2_lambda=0, dropout_rate=0, epochs=10, batch_size=32\n",
      "Epoch 1/10\n",
      "\u001b[1m179/179\u001b[0m \u001b[32m━━━━━━━━━━━━━━━━━━━━\u001b[0m\u001b[37m\u001b[0m \u001b[1m17s\u001b[0m 87ms/step - accuracy: 0.2723 - loss: 1.3735 - val_accuracy: 0.2983 - val_loss: 1.3405\n",
      "Epoch 2/10\n",
      "\u001b[1m179/179\u001b[0m \u001b[32m━━━━━━━━━━━━━━━━━━━━\u001b[0m\u001b[37m\u001b[0m \u001b[1m18s\u001b[0m 94ms/step - accuracy: 0.2945 - loss: 1.3339 - val_accuracy: 0.3543 - val_loss: 1.3069\n",
      "Epoch 3/10\n",
      "\u001b[1m179/179\u001b[0m \u001b[32m━━━━━━━━━━━━━━━━━━━━\u001b[0m\u001b[37m\u001b[0m \u001b[1m19s\u001b[0m 104ms/step - accuracy: 0.3192 - loss: 1.3038 - val_accuracy: 0.3998 - val_loss: 1.2647\n",
      "Epoch 4/10\n",
      "\u001b[1m179/179\u001b[0m \u001b[32m━━━━━━━━━━━━━━━━━━━━\u001b[0m\u001b[37m\u001b[0m \u001b[1m18s\u001b[0m 96ms/step - accuracy: 0.3898 - loss: 1.2609 - val_accuracy: 0.4759 - val_loss: 1.2163\n",
      "Epoch 5/10\n",
      "\u001b[1m179/179\u001b[0m \u001b[32m━━━━━━━━━━━━━━━━━━━━\u001b[0m\u001b[37m\u001b[0m \u001b[1m17s\u001b[0m 88ms/step - accuracy: 0.4681 - loss: 1.2175 - val_accuracy: 0.5556 - val_loss: 1.1632\n",
      "Epoch 6/10\n",
      "\u001b[1m179/179\u001b[0m \u001b[32m━━━━━━━━━━━━━━━━━━━━\u001b[0m\u001b[37m\u001b[0m \u001b[1m16s\u001b[0m 84ms/step - accuracy: 0.5566 - loss: 1.1585 - val_accuracy: 0.5652 - val_loss: 1.1069\n",
      "Epoch 7/10\n",
      "\u001b[1m179/179\u001b[0m \u001b[32m━━━━━━━━━━━━━━━━━━━━\u001b[0m\u001b[37m\u001b[0m \u001b[1m16s\u001b[0m 86ms/step - accuracy: 0.5842 - loss: 1.1033 - val_accuracy: 0.6203 - val_loss: 1.0568\n",
      "Epoch 8/10\n",
      "\u001b[1m179/179\u001b[0m \u001b[32m━━━━━━━━━━━━━━━━━━━━\u001b[0m\u001b[37m\u001b[0m \u001b[1m16s\u001b[0m 84ms/step - accuracy: 0.6188 - loss: 1.0548 - val_accuracy: 0.6290 - val_loss: 1.0142\n",
      "Epoch 9/10\n",
      "\u001b[1m179/179\u001b[0m \u001b[32m━━━━━━━━━━━━━━━━━━━━\u001b[0m\u001b[37m\u001b[0m \u001b[1m16s\u001b[0m 88ms/step - accuracy: 0.6273 - loss: 1.0091 - val_accuracy: 0.6387 - val_loss: 0.9783\n",
      "Epoch 10/10\n",
      "\u001b[1m179/179\u001b[0m \u001b[32m━━━━━━━━━━━━━━━━━━━━\u001b[0m\u001b[37m\u001b[0m \u001b[1m16s\u001b[0m 84ms/step - accuracy: 0.6445 - loss: 0.9783 - val_accuracy: 0.6597 - val_loss: 0.9469\n",
      "Training model with config: filter_size=(3, 3), num_filters=32, num_layers=2, num_units=32, activation=tanh, padding=valid, stride=(1, 1), optimizer=adam, l1_lambda=0, l2_lambda=0, dropout_rate=0, epochs=10, batch_size=32\n",
      "Epoch 1/10\n",
      "\u001b[1m179/179\u001b[0m \u001b[32m━━━━━━━━━━━━━━━━━━━━\u001b[0m\u001b[37m\u001b[0m \u001b[1m18s\u001b[0m 85ms/step - accuracy: 0.5443 - loss: 1.0489 - val_accuracy: 0.7594 - val_loss: 0.6237\n",
      "Epoch 2/10\n",
      "\u001b[1m179/179\u001b[0m \u001b[32m━━━━━━━━━━━━━━━━━━━━\u001b[0m\u001b[37m\u001b[0m \u001b[1m16s\u001b[0m 86ms/step - accuracy: 0.7657 - loss: 0.6312 - val_accuracy: 0.8005 - val_loss: 0.5356\n",
      "Epoch 3/10\n",
      "\u001b[1m179/179\u001b[0m \u001b[32m━━━━━━━━━━━━━━━━━━━━\u001b[0m\u001b[37m\u001b[0m \u001b[1m16s\u001b[0m 87ms/step - accuracy: 0.7900 - loss: 0.5550 - val_accuracy: 0.7979 - val_loss: 0.5069\n",
      "Epoch 4/10\n",
      "\u001b[1m179/179\u001b[0m \u001b[32m━━━━━━━━━━━━━━━━━━━━\u001b[0m\u001b[37m\u001b[0m \u001b[1m16s\u001b[0m 84ms/step - accuracy: 0.7934 - loss: 0.5402 - val_accuracy: 0.8119 - val_loss: 0.4567\n",
      "Epoch 5/10\n",
      "\u001b[1m179/179\u001b[0m \u001b[32m━━━━━━━━━━━━━━━━━━━━\u001b[0m\u001b[37m\u001b[0m \u001b[1m16s\u001b[0m 85ms/step - accuracy: 0.8146 - loss: 0.4701 - val_accuracy: 0.8031 - val_loss: 0.4633\n",
      "Epoch 6/10\n",
      "\u001b[1m179/179\u001b[0m \u001b[32m━━━━━━━━━━━━━━━━━━━━\u001b[0m\u001b[37m\u001b[0m \u001b[1m16s\u001b[0m 88ms/step - accuracy: 0.8339 - loss: 0.4377 - val_accuracy: 0.8390 - val_loss: 0.3975\n",
      "Epoch 7/10\n",
      "\u001b[1m179/179\u001b[0m \u001b[32m━━━━━━━━━━━━━━━━━━━━\u001b[0m\u001b[37m\u001b[0m \u001b[1m21s\u001b[0m 115ms/step - accuracy: 0.8334 - loss: 0.4443 - val_accuracy: 0.8338 - val_loss: 0.4143\n",
      "Epoch 8/10\n",
      "\u001b[1m179/179\u001b[0m \u001b[32m━━━━━━━━━━━━━━━━━━━━\u001b[0m\u001b[37m\u001b[0m \u001b[1m21s\u001b[0m 113ms/step - accuracy: 0.8329 - loss: 0.4285 - val_accuracy: 0.8434 - val_loss: 0.4006\n",
      "Epoch 9/10\n",
      "\u001b[1m179/179\u001b[0m \u001b[32m━━━━━━━━━━━━━━━━━━━━\u001b[0m\u001b[37m\u001b[0m \u001b[1m20s\u001b[0m 105ms/step - accuracy: 0.8477 - loss: 0.4075 - val_accuracy: 0.8574 - val_loss: 0.3853\n",
      "Epoch 10/10\n",
      "\u001b[1m179/179\u001b[0m \u001b[32m━━━━━━━━━━━━━━━━━━━━\u001b[0m\u001b[37m\u001b[0m \u001b[1m20s\u001b[0m 109ms/step - accuracy: 0.8478 - loss: 0.3991 - val_accuracy: 0.8513 - val_loss: 0.3913\n",
      "Training model with config: filter_size=(3, 3), num_filters=32, num_layers=2, num_units=32, activation=tanh, padding=valid, stride=(1, 1), optimizer=sgd, l1_lambda=0, l2_lambda=0, dropout_rate=0, epochs=10, batch_size=32\n",
      "Epoch 1/10\n",
      "\u001b[1m179/179\u001b[0m \u001b[32m━━━━━━━━━━━━━━━━━━━━\u001b[0m\u001b[37m\u001b[0m \u001b[1m25s\u001b[0m 132ms/step - accuracy: 0.3658 - loss: 1.3064 - val_accuracy: 0.6203 - val_loss: 1.0812\n",
      "Epoch 2/10\n",
      "\u001b[1m179/179\u001b[0m \u001b[32m━━━━━━━━━━━━━━━━━━━━\u001b[0m\u001b[37m\u001b[0m \u001b[1m23s\u001b[0m 126ms/step - accuracy: 0.6078 - loss: 1.0455 - val_accuracy: 0.6518 - val_loss: 0.9156\n",
      "Epoch 3/10\n",
      "\u001b[1m179/179\u001b[0m \u001b[32m━━━━━━━━━━━━━━━━━━━━\u001b[0m\u001b[37m\u001b[0m \u001b[1m24s\u001b[0m 131ms/step - accuracy: 0.6592 - loss: 0.9008 - val_accuracy: 0.6798 - val_loss: 0.8439\n",
      "Epoch 4/10\n",
      "\u001b[1m179/179\u001b[0m \u001b[32m━━━━━━━━━━━━━━━━━━━━\u001b[0m\u001b[37m\u001b[0m \u001b[1m24s\u001b[0m 131ms/step - accuracy: 0.6831 - loss: 0.8344 - val_accuracy: 0.6938 - val_loss: 0.7954\n",
      "Epoch 5/10\n",
      "\u001b[1m179/179\u001b[0m \u001b[32m━━━━━━━━━━━━━━━━━━━━\u001b[0m\u001b[37m\u001b[0m \u001b[1m24s\u001b[0m 132ms/step - accuracy: 0.7065 - loss: 0.7881 - val_accuracy: 0.7060 - val_loss: 0.7679\n",
      "Epoch 6/10\n",
      "\u001b[1m179/179\u001b[0m \u001b[32m━━━━━━━━━━━━━━━━━━━━\u001b[0m\u001b[37m\u001b[0m \u001b[1m24s\u001b[0m 128ms/step - accuracy: 0.7119 - loss: 0.7751 - val_accuracy: 0.7165 - val_loss: 0.7266\n",
      "Epoch 7/10\n",
      "\u001b[1m179/179\u001b[0m \u001b[32m━━━━━━━━━━━━━━━━━━━━\u001b[0m\u001b[37m\u001b[0m \u001b[1m24s\u001b[0m 128ms/step - accuracy: 0.7143 - loss: 0.7394 - val_accuracy: 0.7349 - val_loss: 0.6926\n",
      "Epoch 8/10\n",
      "\u001b[1m179/179\u001b[0m \u001b[32m━━━━━━━━━━━━━━━━━━━━\u001b[0m\u001b[37m\u001b[0m \u001b[1m24s\u001b[0m 130ms/step - accuracy: 0.7405 - loss: 0.6963 - val_accuracy: 0.7428 - val_loss: 0.6545\n",
      "Epoch 9/10\n",
      "\u001b[1m179/179\u001b[0m \u001b[32m━━━━━━━━━━━━━━━━━━━━\u001b[0m\u001b[37m\u001b[0m \u001b[1m24s\u001b[0m 132ms/step - accuracy: 0.7405 - loss: 0.6714 - val_accuracy: 0.7384 - val_loss: 0.6437\n",
      "Epoch 10/10\n",
      "\u001b[1m179/179\u001b[0m \u001b[32m━━━━━━━━━━━━━━━━━━━━\u001b[0m\u001b[37m\u001b[0m \u001b[1m24s\u001b[0m 128ms/step - accuracy: 0.7649 - loss: 0.6369 - val_accuracy: 0.7515 - val_loss: 0.6235\n",
      "Training model with config: filter_size=(3, 3), num_filters=32, num_layers=2, num_units=64, activation=relu, padding=valid, stride=(1, 1), optimizer=rmsprop, l1_lambda=0, l2_lambda=0, dropout_rate=0, epochs=10, batch_size=32\n",
      "Epoch 1/10\n",
      "\u001b[1m179/179\u001b[0m \u001b[32m━━━━━━━━━━━━━━━━━━━━\u001b[0m\u001b[37m\u001b[0m \u001b[1m26s\u001b[0m 135ms/step - accuracy: 0.4366 - loss: 1.1851 - val_accuracy: 0.6798 - val_loss: 0.8102\n",
      "Epoch 2/10\n",
      "\u001b[1m179/179\u001b[0m \u001b[32m━━━━━━━━━━━━━━━━━━━━\u001b[0m\u001b[37m\u001b[0m \u001b[1m24s\u001b[0m 129ms/step - accuracy: 0.6942 - loss: 0.7851 - val_accuracy: 0.7620 - val_loss: 0.6179\n",
      "Epoch 3/10\n",
      "\u001b[1m179/179\u001b[0m \u001b[32m━━━━━━━━━━━━━━━━━━━━\u001b[0m\u001b[37m\u001b[0m \u001b[1m24s\u001b[0m 129ms/step - accuracy: 0.7418 - loss: 0.6613 - val_accuracy: 0.7507 - val_loss: 0.6422\n",
      "Epoch 4/10\n",
      "\u001b[1m179/179\u001b[0m \u001b[32m━━━━━━━━━━━━━━━━━━━━\u001b[0m\u001b[37m\u001b[0m \u001b[1m30s\u001b[0m 166ms/step - accuracy: 0.7637 - loss: 0.5971 - val_accuracy: 0.7542 - val_loss: 0.5785\n",
      "Epoch 5/10\n",
      "\u001b[1m179/179\u001b[0m \u001b[32m━━━━━━━━━━━━━━━━━━━━\u001b[0m\u001b[37m\u001b[0m \u001b[1m21s\u001b[0m 113ms/step - accuracy: 0.7867 - loss: 0.5392 - val_accuracy: 0.8101 - val_loss: 0.4799\n",
      "Epoch 6/10\n",
      "\u001b[1m179/179\u001b[0m \u001b[32m━━━━━━━━━━━━━━━━━━━━\u001b[0m\u001b[37m\u001b[0m \u001b[1m22s\u001b[0m 119ms/step - accuracy: 0.8083 - loss: 0.4956 - val_accuracy: 0.8233 - val_loss: 0.4499\n",
      "Epoch 7/10\n",
      "\u001b[1m179/179\u001b[0m \u001b[32m━━━━━━━━━━━━━━━━━━━━\u001b[0m\u001b[37m\u001b[0m \u001b[1m22s\u001b[0m 115ms/step - accuracy: 0.8102 - loss: 0.4830 - val_accuracy: 0.8425 - val_loss: 0.3956\n",
      "Epoch 8/10\n"
     ]
    },
    {
     "name": "stdout",
     "output_type": "stream",
     "text": [
      "\u001b[1m179/179\u001b[0m \u001b[32m━━━━━━━━━━━━━━━━━━━━\u001b[0m\u001b[37m\u001b[0m \u001b[1m17s\u001b[0m 92ms/step - accuracy: 0.8294 - loss: 0.4344 - val_accuracy: 0.8023 - val_loss: 0.4684\n",
      "Epoch 9/10\n",
      "\u001b[1m179/179\u001b[0m \u001b[32m━━━━━━━━━━━━━━━━━━━━\u001b[0m\u001b[37m\u001b[0m \u001b[1m19s\u001b[0m 102ms/step - accuracy: 0.8268 - loss: 0.4381 - val_accuracy: 0.8460 - val_loss: 0.4055\n",
      "Epoch 10/10\n",
      "\u001b[1m179/179\u001b[0m \u001b[32m━━━━━━━━━━━━━━━━━━━━\u001b[0m\u001b[37m\u001b[0m \u001b[1m18s\u001b[0m 98ms/step - accuracy: 0.8495 - loss: 0.3903 - val_accuracy: 0.8101 - val_loss: 0.4369\n",
      "Training model with config: filter_size=(3, 3), num_filters=32, num_layers=2, num_units=64, activation=relu, padding=valid, stride=(1, 1), optimizer=adagrad, l1_lambda=0, l2_lambda=0, dropout_rate=0, epochs=10, batch_size=32\n",
      "Epoch 1/10\n",
      "\u001b[1m179/179\u001b[0m \u001b[32m━━━━━━━━━━━━━━━━━━━━\u001b[0m\u001b[37m\u001b[0m \u001b[1m19s\u001b[0m 94ms/step - accuracy: 0.2709 - loss: 1.3860 - val_accuracy: 0.3132 - val_loss: 1.3743\n",
      "Epoch 2/10\n",
      "\u001b[1m179/179\u001b[0m \u001b[32m━━━━━━━━━━━━━━━━━━━━\u001b[0m\u001b[37m\u001b[0m \u001b[1m17s\u001b[0m 92ms/step - accuracy: 0.2912 - loss: 1.3714 - val_accuracy: 0.2992 - val_loss: 1.3625\n",
      "Epoch 3/10\n",
      "\u001b[1m179/179\u001b[0m \u001b[32m━━━━━━━━━━━━━━━━━━━━\u001b[0m\u001b[37m\u001b[0m \u001b[1m18s\u001b[0m 97ms/step - accuracy: 0.2856 - loss: 1.3634 - val_accuracy: 0.3115 - val_loss: 1.3482\n",
      "Epoch 4/10\n",
      "\u001b[1m179/179\u001b[0m \u001b[32m━━━━━━━━━━━━━━━━━━━━\u001b[0m\u001b[37m\u001b[0m \u001b[1m26s\u001b[0m 137ms/step - accuracy: 0.3118 - loss: 1.3445 - val_accuracy: 0.3272 - val_loss: 1.3301\n",
      "Epoch 5/10\n",
      "\u001b[1m179/179\u001b[0m \u001b[32m━━━━━━━━━━━━━━━━━━━━\u001b[0m\u001b[37m\u001b[0m \u001b[1m19s\u001b[0m 98ms/step - accuracy: 0.3155 - loss: 1.3334 - val_accuracy: 0.3500 - val_loss: 1.3091\n",
      "Epoch 6/10\n",
      "\u001b[1m179/179\u001b[0m \u001b[32m━━━━━━━━━━━━━━━━━━━━\u001b[0m\u001b[37m\u001b[0m \u001b[1m17s\u001b[0m 92ms/step - accuracy: 0.3429 - loss: 1.3067 - val_accuracy: 0.3902 - val_loss: 1.2823\n",
      "Epoch 7/10\n",
      "\u001b[1m179/179\u001b[0m \u001b[32m━━━━━━━━━━━━━━━━━━━━\u001b[0m\u001b[37m\u001b[0m \u001b[1m18s\u001b[0m 95ms/step - accuracy: 0.3937 - loss: 1.2843 - val_accuracy: 0.4112 - val_loss: 1.2475\n",
      "Epoch 8/10\n",
      "\u001b[1m179/179\u001b[0m \u001b[32m━━━━━━━━━━━━━━━━━━━━\u001b[0m\u001b[37m\u001b[0m \u001b[1m17s\u001b[0m 90ms/step - accuracy: 0.4326 - loss: 1.2449 - val_accuracy: 0.4987 - val_loss: 1.2101\n",
      "Epoch 9/10\n",
      "\u001b[1m179/179\u001b[0m \u001b[32m━━━━━━━━━━━━━━━━━━━━\u001b[0m\u001b[37m\u001b[0m \u001b[1m17s\u001b[0m 91ms/step - accuracy: 0.5114 - loss: 1.1986 - val_accuracy: 0.5074 - val_loss: 1.1590\n",
      "Epoch 10/10\n",
      "\u001b[1m179/179\u001b[0m \u001b[32m━━━━━━━━━━━━━━━━━━━━\u001b[0m\u001b[37m\u001b[0m \u001b[1m18s\u001b[0m 96ms/step - accuracy: 0.5483 - loss: 1.1449 - val_accuracy: 0.5871 - val_loss: 1.1085\n",
      "Training model with config: filter_size=(3, 3), num_filters=32, num_layers=2, num_units=64, activation=relu, padding=valid, stride=(1, 1), optimizer=adam, l1_lambda=0, l2_lambda=0, dropout_rate=0, epochs=10, batch_size=32\n",
      "Epoch 1/10\n",
      "\u001b[1m179/179\u001b[0m \u001b[32m━━━━━━━━━━━━━━━━━━━━\u001b[0m\u001b[37m\u001b[0m \u001b[1m19s\u001b[0m 87ms/step - accuracy: 0.4459 - loss: 1.1874 - val_accuracy: 0.7349 - val_loss: 0.7320\n",
      "Epoch 2/10\n",
      "\u001b[1m179/179\u001b[0m \u001b[32m━━━━━━━━━━━━━━━━━━━━\u001b[0m\u001b[37m\u001b[0m \u001b[1m17s\u001b[0m 92ms/step - accuracy: 0.7207 - loss: 0.7279 - val_accuracy: 0.7813 - val_loss: 0.5644\n",
      "Epoch 3/10\n",
      "\u001b[1m179/179\u001b[0m \u001b[32m━━━━━━━━━━━━━━━━━━━━\u001b[0m\u001b[37m\u001b[0m \u001b[1m18s\u001b[0m 98ms/step - accuracy: 0.7650 - loss: 0.6041 - val_accuracy: 0.7944 - val_loss: 0.5424\n",
      "Epoch 4/10\n",
      "\u001b[1m179/179\u001b[0m \u001b[32m━━━━━━━━━━━━━━━━━━━━\u001b[0m\u001b[37m\u001b[0m \u001b[1m18s\u001b[0m 97ms/step - accuracy: 0.7976 - loss: 0.5394 - val_accuracy: 0.7682 - val_loss: 0.5732\n",
      "Epoch 5/10\n",
      "\u001b[1m179/179\u001b[0m \u001b[32m━━━━━━━━━━━━━━━━━━━━\u001b[0m\u001b[37m\u001b[0m \u001b[1m19s\u001b[0m 100ms/step - accuracy: 0.8036 - loss: 0.5149 - val_accuracy: 0.8180 - val_loss: 0.4612\n",
      "Epoch 6/10\n",
      "\u001b[1m179/179\u001b[0m \u001b[32m━━━━━━━━━━━━━━━━━━━━\u001b[0m\u001b[37m\u001b[0m \u001b[1m19s\u001b[0m 104ms/step - accuracy: 0.8082 - loss: 0.4925 - val_accuracy: 0.8189 - val_loss: 0.4445\n",
      "Epoch 7/10\n",
      "\u001b[1m179/179\u001b[0m \u001b[32m━━━━━━━━━━━━━━━━━━━━\u001b[0m\u001b[37m\u001b[0m \u001b[1m16s\u001b[0m 85ms/step - accuracy: 0.8212 - loss: 0.4620 - val_accuracy: 0.7927 - val_loss: 0.4909\n",
      "Epoch 8/10\n",
      "\u001b[1m179/179\u001b[0m \u001b[32m━━━━━━━━━━━━━━━━━━━━\u001b[0m\u001b[37m\u001b[0m \u001b[1m16s\u001b[0m 85ms/step - accuracy: 0.8183 - loss: 0.4624 - val_accuracy: 0.8443 - val_loss: 0.3769\n",
      "Epoch 9/10\n",
      "\u001b[1m179/179\u001b[0m \u001b[32m━━━━━━━━━━━━━━━━━━━━\u001b[0m\u001b[37m\u001b[0m \u001b[1m16s\u001b[0m 85ms/step - accuracy: 0.8203 - loss: 0.4491 - val_accuracy: 0.8250 - val_loss: 0.4222\n",
      "Epoch 10/10\n",
      "\u001b[1m179/179\u001b[0m \u001b[32m━━━━━━━━━━━━━━━━━━━━\u001b[0m\u001b[37m\u001b[0m \u001b[1m15s\u001b[0m 81ms/step - accuracy: 0.8432 - loss: 0.4231 - val_accuracy: 0.8539 - val_loss: 0.3636\n",
      "Training model with config: filter_size=(3, 3), num_filters=32, num_layers=2, num_units=64, activation=relu, padding=valid, stride=(1, 1), optimizer=sgd, l1_lambda=0, l2_lambda=0, dropout_rate=0, epochs=10, batch_size=32\n",
      "Epoch 1/10\n",
      "\u001b[1m179/179\u001b[0m \u001b[32m━━━━━━━━━━━━━━━━━━━━\u001b[0m\u001b[37m\u001b[0m \u001b[1m16s\u001b[0m 81ms/step - accuracy: 0.2535 - loss: 1.3816 - val_accuracy: 0.2992 - val_loss: 1.3363\n",
      "Epoch 2/10\n",
      "\u001b[1m179/179\u001b[0m \u001b[32m━━━━━━━━━━━━━━━━━━━━\u001b[0m\u001b[37m\u001b[0m \u001b[1m15s\u001b[0m 78ms/step - accuracy: 0.3311 - loss: 1.3223 - val_accuracy: 0.5836 - val_loss: 1.2128\n",
      "Epoch 3/10\n",
      "\u001b[1m179/179\u001b[0m \u001b[32m━━━━━━━━━━━━━━━━━━━━\u001b[0m\u001b[37m\u001b[0m \u001b[1m15s\u001b[0m 82ms/step - accuracy: 0.5756 - loss: 1.1658 - val_accuracy: 0.6737 - val_loss: 0.9785\n",
      "Epoch 4/10\n",
      "\u001b[1m179/179\u001b[0m \u001b[32m━━━━━━━━━━━━━━━━━━━━\u001b[0m\u001b[37m\u001b[0m \u001b[1m15s\u001b[0m 82ms/step - accuracy: 0.6543 - loss: 0.9469 - val_accuracy: 0.6807 - val_loss: 0.8677\n",
      "Epoch 5/10\n",
      "\u001b[1m179/179\u001b[0m \u001b[32m━━━━━━━━━━━━━━━━━━━━\u001b[0m\u001b[37m\u001b[0m \u001b[1m15s\u001b[0m 79ms/step - accuracy: 0.6672 - loss: 0.8648 - val_accuracy: 0.6710 - val_loss: 0.8613\n",
      "Epoch 6/10\n",
      "\u001b[1m179/179\u001b[0m \u001b[32m━━━━━━━━━━━━━━━━━━━━\u001b[0m\u001b[37m\u001b[0m \u001b[1m15s\u001b[0m 78ms/step - accuracy: 0.6837 - loss: 0.8307 - val_accuracy: 0.7008 - val_loss: 0.7863\n",
      "Epoch 7/10\n",
      "\u001b[1m179/179\u001b[0m \u001b[32m━━━━━━━━━━━━━━━━━━━━\u001b[0m\u001b[37m\u001b[0m \u001b[1m15s\u001b[0m 80ms/step - accuracy: 0.6946 - loss: 0.8026 - val_accuracy: 0.6894 - val_loss: 0.7830\n",
      "Epoch 8/10\n",
      "\u001b[1m179/179\u001b[0m \u001b[32m━━━━━━━━━━━━━━━━━━━━\u001b[0m\u001b[37m\u001b[0m \u001b[1m15s\u001b[0m 79ms/step - accuracy: 0.6958 - loss: 0.7790 - val_accuracy: 0.7200 - val_loss: 0.7229\n",
      "Epoch 9/10\n",
      "\u001b[1m179/179\u001b[0m \u001b[32m━━━━━━━━━━━━━━━━━━━━\u001b[0m\u001b[37m\u001b[0m \u001b[1m15s\u001b[0m 80ms/step - accuracy: 0.7033 - loss: 0.7530 - val_accuracy: 0.7358 - val_loss: 0.6956\n",
      "Epoch 10/10\n",
      "\u001b[1m179/179\u001b[0m \u001b[32m━━━━━━━━━━━━━━━━━━━━\u001b[0m\u001b[37m\u001b[0m \u001b[1m15s\u001b[0m 81ms/step - accuracy: 0.7209 - loss: 0.7344 - val_accuracy: 0.7402 - val_loss: 0.6690\n",
      "Training model with config: filter_size=(3, 3), num_filters=32, num_layers=2, num_units=64, activation=tanh, padding=valid, stride=(1, 1), optimizer=rmsprop, l1_lambda=0, l2_lambda=0, dropout_rate=0, epochs=10, batch_size=32\n",
      "Epoch 1/10\n",
      "\u001b[1m179/179\u001b[0m \u001b[32m━━━━━━━━━━━━━━━━━━━━\u001b[0m\u001b[37m\u001b[0m \u001b[1m16s\u001b[0m 82ms/step - accuracy: 0.5602 - loss: 1.0240 - val_accuracy: 0.7612 - val_loss: 0.6050\n",
      "Epoch 2/10\n",
      "\u001b[1m179/179\u001b[0m \u001b[32m━━━━━━━━━━━━━━━━━━━━\u001b[0m\u001b[37m\u001b[0m \u001b[1m15s\u001b[0m 81ms/step - accuracy: 0.7579 - loss: 0.6386 - val_accuracy: 0.7813 - val_loss: 0.5348\n",
      "Epoch 3/10\n",
      "\u001b[1m179/179\u001b[0m \u001b[32m━━━━━━━━━━━━━━━━━━━━\u001b[0m\u001b[37m\u001b[0m \u001b[1m15s\u001b[0m 79ms/step - accuracy: 0.7878 - loss: 0.5516 - val_accuracy: 0.8198 - val_loss: 0.4589\n",
      "Epoch 4/10\n",
      "\u001b[1m179/179\u001b[0m \u001b[32m━━━━━━━━━━━━━━━━━━━━\u001b[0m\u001b[37m\u001b[0m \u001b[1m15s\u001b[0m 79ms/step - accuracy: 0.8040 - loss: 0.5106 - val_accuracy: 0.8163 - val_loss: 0.4664\n",
      "Epoch 5/10\n",
      "\u001b[1m179/179\u001b[0m \u001b[32m━━━━━━━━━━━━━━━━━━━━\u001b[0m\u001b[37m\u001b[0m \u001b[1m15s\u001b[0m 80ms/step - accuracy: 0.8022 - loss: 0.5121 - val_accuracy: 0.8381 - val_loss: 0.4182\n",
      "Epoch 6/10\n",
      "\u001b[1m179/179\u001b[0m \u001b[32m━━━━━━━━━━━━━━━━━━━━\u001b[0m\u001b[37m\u001b[0m \u001b[1m15s\u001b[0m 79ms/step - accuracy: 0.8273 - loss: 0.4529 - val_accuracy: 0.8338 - val_loss: 0.4009\n",
      "Epoch 7/10\n",
      "\u001b[1m179/179\u001b[0m \u001b[32m━━━━━━━━━━━━━━━━━━━━\u001b[0m\u001b[37m\u001b[0m \u001b[1m15s\u001b[0m 83ms/step - accuracy: 0.8250 - loss: 0.4450 - val_accuracy: 0.8416 - val_loss: 0.3926\n",
      "Epoch 8/10\n",
      "\u001b[1m179/179\u001b[0m \u001b[32m━━━━━━━━━━━━━━━━━━━━\u001b[0m\u001b[37m\u001b[0m \u001b[1m15s\u001b[0m 79ms/step - accuracy: 0.8398 - loss: 0.4315 - val_accuracy: 0.8495 - val_loss: 0.3965\n",
      "Epoch 9/10\n",
      "\u001b[1m179/179\u001b[0m \u001b[32m━━━━━━━━━━━━━━━━━━━━\u001b[0m\u001b[37m\u001b[0m \u001b[1m15s\u001b[0m 81ms/step - accuracy: 0.8424 - loss: 0.4086 - val_accuracy: 0.8504 - val_loss: 0.3682\n",
      "Epoch 10/10\n",
      "\u001b[1m179/179\u001b[0m \u001b[32m━━━━━━━━━━━━━━━━━━━━\u001b[0m\u001b[37m\u001b[0m \u001b[1m15s\u001b[0m 80ms/step - accuracy: 0.8391 - loss: 0.4101 - val_accuracy: 0.8705 - val_loss: 0.3468\n",
      "Training model with config: filter_size=(3, 3), num_filters=32, num_layers=2, num_units=64, activation=tanh, padding=valid, stride=(1, 1), optimizer=adagrad, l1_lambda=0, l2_lambda=0, dropout_rate=0, epochs=10, batch_size=32\n",
      "Epoch 1/10\n",
      "\u001b[1m179/179\u001b[0m \u001b[32m━━━━━━━━━━━━━━━━━━━━\u001b[0m\u001b[37m\u001b[0m \u001b[1m18s\u001b[0m 93ms/step - accuracy: 0.2867 - loss: 1.3610 - val_accuracy: 0.3185 - val_loss: 1.3080\n",
      "Epoch 2/10\n",
      "\u001b[1m179/179\u001b[0m \u001b[32m━━━━━━━━━━━━━━━━━━━━\u001b[0m\u001b[37m\u001b[0m \u001b[1m16s\u001b[0m 88ms/step - accuracy: 0.3170 - loss: 1.3050 - val_accuracy: 0.3806 - val_loss: 1.2501\n",
      "Epoch 3/10\n",
      "\u001b[1m179/179\u001b[0m \u001b[32m━━━━━━━━━━━━━━━━━━━━\u001b[0m\u001b[37m\u001b[0m \u001b[1m15s\u001b[0m 82ms/step - accuracy: 0.4112 - loss: 1.2415 - val_accuracy: 0.5442 - val_loss: 1.1834\n",
      "Epoch 4/10\n",
      "\u001b[1m179/179\u001b[0m \u001b[32m━━━━━━━━━━━━━━━━━━━━\u001b[0m\u001b[37m\u001b[0m \u001b[1m17s\u001b[0m 91ms/step - accuracy: 0.5444 - loss: 1.1755 - val_accuracy: 0.5888 - val_loss: 1.1131\n",
      "Epoch 5/10\n",
      "\u001b[1m179/179\u001b[0m \u001b[32m━━━━━━━━━━━━━━━━━━━━\u001b[0m\u001b[37m\u001b[0m \u001b[1m17s\u001b[0m 89ms/step - accuracy: 0.5911 - loss: 1.1054 - val_accuracy: 0.6124 - val_loss: 1.0511\n",
      "Epoch 6/10\n",
      "\u001b[1m179/179\u001b[0m \u001b[32m━━━━━━━━━━━━━━━━━━━━\u001b[0m\u001b[37m\u001b[0m \u001b[1m17s\u001b[0m 89ms/step - accuracy: 0.6172 - loss: 1.0349 - val_accuracy: 0.6282 - val_loss: 1.0011\n",
      "Epoch 7/10\n",
      "\u001b[1m179/179\u001b[0m \u001b[32m━━━━━━━━━━━━━━━━━━━━\u001b[0m\u001b[37m\u001b[0m \u001b[1m14s\u001b[0m 77ms/step - accuracy: 0.6250 - loss: 1.0099 - val_accuracy: 0.6448 - val_loss: 0.9594\n",
      "Epoch 8/10\n",
      "\u001b[1m179/179\u001b[0m \u001b[32m━━━━━━━━━━━━━━━━━━━━\u001b[0m\u001b[37m\u001b[0m \u001b[1m16s\u001b[0m 88ms/step - accuracy: 0.6363 - loss: 0.9714 - val_accuracy: 0.6553 - val_loss: 0.9255\n",
      "Epoch 9/10\n",
      "\u001b[1m179/179\u001b[0m \u001b[32m━━━━━━━━━━━━━━━━━━━━\u001b[0m\u001b[37m\u001b[0m \u001b[1m15s\u001b[0m 81ms/step - accuracy: 0.6615 - loss: 0.9325 - val_accuracy: 0.6667 - val_loss: 0.9007\n",
      "Epoch 10/10\n",
      "\u001b[1m179/179\u001b[0m \u001b[32m━━━━━━━━━━━━━━━━━━━━\u001b[0m\u001b[37m\u001b[0m \u001b[1m15s\u001b[0m 82ms/step - accuracy: 0.6642 - loss: 0.8980 - val_accuracy: 0.6815 - val_loss: 0.8768\n",
      "Training model with config: filter_size=(3, 3), num_filters=32, num_layers=2, num_units=64, activation=tanh, padding=valid, stride=(1, 1), optimizer=adam, l1_lambda=0, l2_lambda=0, dropout_rate=0, epochs=10, batch_size=32\n",
      "Epoch 1/10\n",
      "\u001b[1m179/179\u001b[0m \u001b[32m━━━━━━━━━━━━━━━━━━━━\u001b[0m\u001b[37m\u001b[0m \u001b[1m17s\u001b[0m 84ms/step - accuracy: 0.5596 - loss: 1.0123 - val_accuracy: 0.7594 - val_loss: 0.6159\n",
      "Epoch 2/10\n",
      "\u001b[1m179/179\u001b[0m \u001b[32m━━━━━━━━━━━━━━━━━━━━\u001b[0m\u001b[37m\u001b[0m \u001b[1m16s\u001b[0m 85ms/step - accuracy: 0.7625 - loss: 0.6252 - val_accuracy: 0.7865 - val_loss: 0.5392\n",
      "Epoch 3/10\n",
      "\u001b[1m179/179\u001b[0m \u001b[32m━━━━━━━━━━━━━━━━━━━━\u001b[0m\u001b[37m\u001b[0m \u001b[1m16s\u001b[0m 86ms/step - accuracy: 0.7968 - loss: 0.5444 - val_accuracy: 0.7953 - val_loss: 0.5155\n",
      "Epoch 4/10\n",
      "\u001b[1m179/179\u001b[0m \u001b[32m━━━━━━━━━━━━━━━━━━━━\u001b[0m\u001b[37m\u001b[0m \u001b[1m16s\u001b[0m 85ms/step - accuracy: 0.8070 - loss: 0.5022 - val_accuracy: 0.8311 - val_loss: 0.4458\n",
      "Epoch 5/10\n",
      "\u001b[1m179/179\u001b[0m \u001b[32m━━━━━━━━━━━━━━━━━━━━\u001b[0m\u001b[37m\u001b[0m \u001b[1m15s\u001b[0m 81ms/step - accuracy: 0.8065 - loss: 0.4809 - val_accuracy: 0.8215 - val_loss: 0.4446\n",
      "Epoch 6/10\n",
      "\u001b[1m179/179\u001b[0m \u001b[32m━━━━━━━━━━━━━━━━━━━━\u001b[0m\u001b[37m\u001b[0m \u001b[1m16s\u001b[0m 85ms/step - accuracy: 0.8291 - loss: 0.4521 - val_accuracy: 0.8399 - val_loss: 0.4082\n",
      "Epoch 7/10\n",
      "\u001b[1m179/179\u001b[0m \u001b[32m━━━━━━━━━━━━━━━━━━━━\u001b[0m\u001b[37m\u001b[0m \u001b[1m15s\u001b[0m 83ms/step - accuracy: 0.8286 - loss: 0.4496 - val_accuracy: 0.8451 - val_loss: 0.3848\n",
      "Epoch 8/10\n",
      "\u001b[1m179/179\u001b[0m \u001b[32m━━━━━━━━━━━━━━━━━━━━\u001b[0m\u001b[37m\u001b[0m \u001b[1m15s\u001b[0m 83ms/step - accuracy: 0.8474 - loss: 0.4094 - val_accuracy: 0.8451 - val_loss: 0.3907\n",
      "Epoch 9/10\n",
      "\u001b[1m179/179\u001b[0m \u001b[32m━━━━━━━━━━━━━━━━━━━━\u001b[0m\u001b[37m\u001b[0m \u001b[1m16s\u001b[0m 84ms/step - accuracy: 0.8552 - loss: 0.3813 - val_accuracy: 0.8434 - val_loss: 0.3866\n",
      "Epoch 10/10\n",
      "\u001b[1m179/179\u001b[0m \u001b[32m━━━━━━━━━━━━━━━━━━━━\u001b[0m\u001b[37m\u001b[0m \u001b[1m16s\u001b[0m 85ms/step - accuracy: 0.8516 - loss: 0.3903 - val_accuracy: 0.8583 - val_loss: 0.3569\n",
      "Training model with config: filter_size=(3, 3), num_filters=32, num_layers=2, num_units=64, activation=tanh, padding=valid, stride=(1, 1), optimizer=sgd, l1_lambda=0, l2_lambda=0, dropout_rate=0, epochs=10, batch_size=32\n",
      "Epoch 1/10\n",
      "\u001b[1m179/179\u001b[0m \u001b[32m━━━━━━━━━━━━━━━━━━━━\u001b[0m\u001b[37m\u001b[0m \u001b[1m16s\u001b[0m 85ms/step - accuracy: 0.2949 - loss: 1.3550 - val_accuracy: 0.5284 - val_loss: 1.1788\n",
      "Epoch 2/10\n",
      "\u001b[1m179/179\u001b[0m \u001b[32m━━━━━━━━━━━━━━━━━━━━\u001b[0m\u001b[37m\u001b[0m \u001b[1m16s\u001b[0m 84ms/step - accuracy: 0.5944 - loss: 1.1173 - val_accuracy: 0.6203 - val_loss: 0.9541\n",
      "Epoch 3/10\n",
      "\u001b[1m179/179\u001b[0m \u001b[32m━━━━━━━━━━━━━━━━━━━━\u001b[0m\u001b[37m\u001b[0m \u001b[1m16s\u001b[0m 88ms/step - accuracy: 0.6492 - loss: 0.9382 - val_accuracy: 0.6920 - val_loss: 0.8505\n",
      "Epoch 4/10\n",
      "\u001b[1m179/179\u001b[0m \u001b[32m━━━━━━━━━━━━━━━━━━━━\u001b[0m\u001b[37m\u001b[0m \u001b[1m15s\u001b[0m 82ms/step - accuracy: 0.6916 - loss: 0.8503 - val_accuracy: 0.6737 - val_loss: 0.8329\n",
      "Epoch 5/10\n",
      "\u001b[1m179/179\u001b[0m \u001b[32m━━━━━━━━━━━━━━━━━━━━\u001b[0m\u001b[37m\u001b[0m \u001b[1m16s\u001b[0m 86ms/step - accuracy: 0.6972 - loss: 0.7946 - val_accuracy: 0.7017 - val_loss: 0.7835\n",
      "Epoch 6/10\n",
      "\u001b[1m179/179\u001b[0m \u001b[32m━━━━━━━━━━━━━━━━━━━━\u001b[0m\u001b[37m\u001b[0m \u001b[1m15s\u001b[0m 82ms/step - accuracy: 0.7135 - loss: 0.7742 - val_accuracy: 0.7174 - val_loss: 0.7325\n",
      "Epoch 7/10\n",
      "\u001b[1m179/179\u001b[0m \u001b[32m━━━━━━━━━━━━━━━━━━━━\u001b[0m\u001b[37m\u001b[0m \u001b[1m16s\u001b[0m 85ms/step - accuracy: 0.7294 - loss: 0.7214 - val_accuracy: 0.7323 - val_loss: 0.6907\n",
      "Epoch 8/10\n",
      "\u001b[1m179/179\u001b[0m \u001b[32m━━━━━━━━━━━━━━━━━━━━\u001b[0m\u001b[37m\u001b[0m \u001b[1m16s\u001b[0m 86ms/step - accuracy: 0.7342 - loss: 0.6926 - val_accuracy: 0.7489 - val_loss: 0.6485\n",
      "Epoch 9/10\n",
      "\u001b[1m179/179\u001b[0m \u001b[32m━━━━━━━━━━━━━━━━━━━━\u001b[0m\u001b[37m\u001b[0m \u001b[1m17s\u001b[0m 92ms/step - accuracy: 0.7544 - loss: 0.6628 - val_accuracy: 0.7620 - val_loss: 0.6245\n",
      "Epoch 10/10\n",
      "\u001b[1m179/179\u001b[0m \u001b[32m━━━━━━━━━━━━━━━━━━━━\u001b[0m\u001b[37m\u001b[0m \u001b[1m17s\u001b[0m 91ms/step - accuracy: 0.7514 - loss: 0.6323 - val_accuracy: 0.7682 - val_loss: 0.5979\n",
      "Training model with config: filter_size=(3, 3), num_filters=64, num_layers=2, num_units=32, activation=relu, padding=valid, stride=(1, 1), optimizer=rmsprop, l1_lambda=0, l2_lambda=0, dropout_rate=0, epochs=10, batch_size=32\n",
      "Epoch 1/10\n",
      "\u001b[1m179/179\u001b[0m \u001b[32m━━━━━━━━━━━━━━━━━━━━\u001b[0m\u001b[37m\u001b[0m \u001b[1m20s\u001b[0m 101ms/step - accuracy: 0.4070 - loss: 1.2152 - val_accuracy: 0.6754 - val_loss: 0.7982\n",
      "Epoch 2/10\n",
      "\u001b[1m179/179\u001b[0m \u001b[32m━━━━━━━━━━━━━━━━━━━━\u001b[0m\u001b[37m\u001b[0m \u001b[1m18s\u001b[0m 97ms/step - accuracy: 0.6980 - loss: 0.7829 - val_accuracy: 0.7760 - val_loss: 0.6217\n",
      "Epoch 3/10\n",
      "\u001b[1m179/179\u001b[0m \u001b[32m━━━━━━━━━━━━━━━━━━━━\u001b[0m\u001b[37m\u001b[0m \u001b[1m18s\u001b[0m 96ms/step - accuracy: 0.7423 - loss: 0.6783 - val_accuracy: 0.7638 - val_loss: 0.6004\n",
      "Epoch 4/10\n",
      "\u001b[1m179/179\u001b[0m \u001b[32m━━━━━━━━━━━━━━━━━━━━\u001b[0m\u001b[37m\u001b[0m \u001b[1m17s\u001b[0m 93ms/step - accuracy: 0.7773 - loss: 0.5808 - val_accuracy: 0.8145 - val_loss: 0.4857\n",
      "Epoch 5/10\n",
      "\u001b[1m179/179\u001b[0m \u001b[32m━━━━━━━━━━━━━━━━━━━━\u001b[0m\u001b[37m\u001b[0m \u001b[1m17s\u001b[0m 92ms/step - accuracy: 0.7987 - loss: 0.5236 - val_accuracy: 0.8346 - val_loss: 0.4463\n",
      "Epoch 6/10\n",
      "\u001b[1m179/179\u001b[0m \u001b[32m━━━━━━━━━━━━━━━━━━━━\u001b[0m\u001b[37m\u001b[0m \u001b[1m19s\u001b[0m 103ms/step - accuracy: 0.8112 - loss: 0.4966 - val_accuracy: 0.7892 - val_loss: 0.5341\n",
      "Epoch 7/10\n",
      "\u001b[1m179/179\u001b[0m \u001b[32m━━━━━━━━━━━━━━━━━━━━\u001b[0m\u001b[37m\u001b[0m \u001b[1m18s\u001b[0m 96ms/step - accuracy: 0.8266 - loss: 0.4681 - val_accuracy: 0.8329 - val_loss: 0.4284\n",
      "Epoch 8/10\n",
      "\u001b[1m179/179\u001b[0m \u001b[32m━━━━━━━━━━━━━━━━━━━━\u001b[0m\u001b[37m\u001b[0m \u001b[1m18s\u001b[0m 96ms/step - accuracy: 0.8263 - loss: 0.4371 - val_accuracy: 0.8530 - val_loss: 0.3900\n",
      "Epoch 9/10\n",
      "\u001b[1m179/179\u001b[0m \u001b[32m━━━━━━━━━━━━━━━━━━━━\u001b[0m\u001b[37m\u001b[0m \u001b[1m20s\u001b[0m 106ms/step - accuracy: 0.8425 - loss: 0.4160 - val_accuracy: 0.8626 - val_loss: 0.3700\n",
      "Epoch 10/10\n",
      "\u001b[1m179/179\u001b[0m \u001b[32m━━━━━━━━━━━━━━━━━━━━\u001b[0m\u001b[37m\u001b[0m \u001b[1m19s\u001b[0m 102ms/step - accuracy: 0.8394 - loss: 0.4164 - val_accuracy: 0.8618 - val_loss: 0.3738\n",
      "Training model with config: filter_size=(3, 3), num_filters=64, num_layers=2, num_units=32, activation=relu, padding=valid, stride=(1, 1), optimizer=adagrad, l1_lambda=0, l2_lambda=0, dropout_rate=0, epochs=10, batch_size=32\n",
      "Epoch 1/10\n",
      "\u001b[1m179/179\u001b[0m \u001b[32m━━━━━━━━━━━━━━━━━━━━\u001b[0m\u001b[37m\u001b[0m \u001b[1m21s\u001b[0m 110ms/step - accuracy: 0.2923 - loss: 1.3720 - val_accuracy: 0.2992 - val_loss: 1.3614\n",
      "Epoch 2/10\n",
      "\u001b[1m179/179\u001b[0m \u001b[32m━━━━━━━━━━━━━━━━━━━━\u001b[0m\u001b[37m\u001b[0m \u001b[1m20s\u001b[0m 107ms/step - accuracy: 0.2785 - loss: 1.3563 - val_accuracy: 0.2966 - val_loss: 1.3446\n",
      "Epoch 3/10\n",
      "\u001b[1m179/179\u001b[0m \u001b[32m━━━━━━━━━━━━━━━━━━━━\u001b[0m\u001b[37m\u001b[0m \u001b[1m20s\u001b[0m 110ms/step - accuracy: 0.2757 - loss: 1.3412 - val_accuracy: 0.2966 - val_loss: 1.3246\n",
      "Epoch 4/10\n",
      "\u001b[1m179/179\u001b[0m \u001b[32m━━━━━━━━━━━━━━━━━━━━\u001b[0m\u001b[37m\u001b[0m \u001b[1m20s\u001b[0m 108ms/step - accuracy: 0.2914 - loss: 1.3168 - val_accuracy: 0.3342 - val_loss: 1.3041\n",
      "Epoch 5/10\n"
     ]
    },
    {
     "name": "stdout",
     "output_type": "stream",
     "text": [
      "\u001b[1m179/179\u001b[0m \u001b[32m━━━━━━━━━━━━━━━━━━━━\u001b[0m\u001b[37m\u001b[0m \u001b[1m19s\u001b[0m 103ms/step - accuracy: 0.3208 - loss: 1.2978 - val_accuracy: 0.3832 - val_loss: 1.2787\n",
      "Epoch 6/10\n",
      "\u001b[1m179/179\u001b[0m \u001b[32m━━━━━━━━━━━━━━━━━━━━\u001b[0m\u001b[37m\u001b[0m \u001b[1m19s\u001b[0m 105ms/step - accuracy: 0.3975 - loss: 1.2661 - val_accuracy: 0.4016 - val_loss: 1.2471\n",
      "Epoch 7/10\n",
      "\u001b[1m179/179\u001b[0m \u001b[32m━━━━━━━━━━━━━━━━━━━━\u001b[0m\u001b[37m\u001b[0m \u001b[1m20s\u001b[0m 105ms/step - accuracy: 0.4448 - loss: 1.2384 - val_accuracy: 0.4532 - val_loss: 1.2100\n",
      "Epoch 8/10\n",
      "\u001b[1m179/179\u001b[0m \u001b[32m━━━━━━━━━━━━━━━━━━━━\u001b[0m\u001b[37m\u001b[0m \u001b[1m19s\u001b[0m 100ms/step - accuracy: 0.4816 - loss: 1.2067 - val_accuracy: 0.5074 - val_loss: 1.1742\n",
      "Epoch 9/10\n",
      "\u001b[1m179/179\u001b[0m \u001b[32m━━━━━━━━━━━━━━━━━━━━\u001b[0m\u001b[37m\u001b[0m \u001b[1m18s\u001b[0m 99ms/step - accuracy: 0.5145 - loss: 1.1699 - val_accuracy: 0.5372 - val_loss: 1.1356\n",
      "Epoch 10/10\n",
      "\u001b[1m179/179\u001b[0m \u001b[32m━━━━━━━━━━━━━━━━━━━━\u001b[0m\u001b[37m\u001b[0m \u001b[1m18s\u001b[0m 99ms/step - accuracy: 0.5539 - loss: 1.1265 - val_accuracy: 0.5433 - val_loss: 1.0995\n",
      "Training model with config: filter_size=(3, 3), num_filters=64, num_layers=2, num_units=32, activation=relu, padding=valid, stride=(1, 1), optimizer=adam, l1_lambda=0, l2_lambda=0, dropout_rate=0, epochs=10, batch_size=32\n",
      "Epoch 1/10\n",
      "\u001b[1m179/179\u001b[0m \u001b[32m━━━━━━━━━━━━━━━━━━━━\u001b[0m\u001b[37m\u001b[0m \u001b[1m22s\u001b[0m 110ms/step - accuracy: 0.3800 - loss: 1.2090 - val_accuracy: 0.7209 - val_loss: 0.7745\n",
      "Epoch 2/10\n",
      "\u001b[1m179/179\u001b[0m \u001b[32m━━━━━━━━━━━━━━━━━━━━\u001b[0m\u001b[37m\u001b[0m \u001b[1m19s\u001b[0m 99ms/step - accuracy: 0.7084 - loss: 0.7416 - val_accuracy: 0.7340 - val_loss: 0.6887\n",
      "Epoch 3/10\n",
      "\u001b[1m179/179\u001b[0m \u001b[32m━━━━━━━━━━━━━━━━━━━━\u001b[0m\u001b[37m\u001b[0m \u001b[1m22s\u001b[0m 118ms/step - accuracy: 0.7682 - loss: 0.6082 - val_accuracy: 0.7813 - val_loss: 0.5437\n",
      "Epoch 4/10\n",
      "\u001b[1m179/179\u001b[0m \u001b[32m━━━━━━━━━━━━━━━━━━━━\u001b[0m\u001b[37m\u001b[0m \u001b[1m23s\u001b[0m 124ms/step - accuracy: 0.7895 - loss: 0.5504 - val_accuracy: 0.7944 - val_loss: 0.5116\n",
      "Epoch 5/10\n",
      "\u001b[1m179/179\u001b[0m \u001b[32m━━━━━━━━━━━━━━━━━━━━\u001b[0m\u001b[37m\u001b[0m \u001b[1m20s\u001b[0m 107ms/step - accuracy: 0.7945 - loss: 0.5511 - val_accuracy: 0.7988 - val_loss: 0.5251\n",
      "Epoch 6/10\n",
      "\u001b[1m179/179\u001b[0m \u001b[32m━━━━━━━━━━━━━━━━━━━━\u001b[0m\u001b[37m\u001b[0m \u001b[1m20s\u001b[0m 103ms/step - accuracy: 0.8086 - loss: 0.4982 - val_accuracy: 0.8215 - val_loss: 0.4562\n",
      "Epoch 7/10\n",
      "\u001b[1m179/179\u001b[0m \u001b[32m━━━━━━━━━━━━━━━━━━━━\u001b[0m\u001b[37m\u001b[0m \u001b[1m20s\u001b[0m 106ms/step - accuracy: 0.8122 - loss: 0.4838 - val_accuracy: 0.8198 - val_loss: 0.4553\n",
      "Epoch 8/10\n",
      "\u001b[1m179/179\u001b[0m \u001b[32m━━━━━━━━━━━━━━━━━━━━\u001b[0m\u001b[37m\u001b[0m \u001b[1m19s\u001b[0m 102ms/step - accuracy: 0.8357 - loss: 0.4470 - val_accuracy: 0.8303 - val_loss: 0.4379\n",
      "Epoch 9/10\n",
      "\u001b[1m179/179\u001b[0m \u001b[32m━━━━━━━━━━━━━━━━━━━━\u001b[0m\u001b[37m\u001b[0m \u001b[1m20s\u001b[0m 103ms/step - accuracy: 0.8185 - loss: 0.4665 - val_accuracy: 0.8381 - val_loss: 0.4120\n",
      "Epoch 10/10\n",
      "\u001b[1m179/179\u001b[0m \u001b[32m━━━━━━━━━━━━━━━━━━━━\u001b[0m\u001b[37m\u001b[0m \u001b[1m18s\u001b[0m 99ms/step - accuracy: 0.8285 - loss: 0.4446 - val_accuracy: 0.8399 - val_loss: 0.4245\n",
      "Training model with config: filter_size=(3, 3), num_filters=64, num_layers=2, num_units=32, activation=relu, padding=valid, stride=(1, 1), optimizer=sgd, l1_lambda=0, l2_lambda=0, dropout_rate=0, epochs=10, batch_size=32\n",
      "Epoch 1/10\n",
      "\u001b[1m179/179\u001b[0m \u001b[32m━━━━━━━━━━━━━━━━━━━━\u001b[0m\u001b[37m\u001b[0m \u001b[1m19s\u001b[0m 101ms/step - accuracy: 0.2735 - loss: 1.3606 - val_accuracy: 0.3491 - val_loss: 1.2892\n",
      "Epoch 2/10\n",
      "\u001b[1m179/179\u001b[0m \u001b[32m━━━━━━━━━━━━━━━━━━━━\u001b[0m\u001b[37m\u001b[0m \u001b[1m18s\u001b[0m 99ms/step - accuracy: 0.3913 - loss: 1.2616 - val_accuracy: 0.6212 - val_loss: 1.1394\n",
      "Epoch 3/10\n",
      "\u001b[1m179/179\u001b[0m \u001b[32m━━━━━━━━━━━━━━━━━━━━\u001b[0m\u001b[37m\u001b[0m \u001b[1m20s\u001b[0m 108ms/step - accuracy: 0.6203 - loss: 1.0962 - val_accuracy: 0.6430 - val_loss: 0.9802\n",
      "Epoch 4/10\n",
      "\u001b[1m179/179\u001b[0m \u001b[32m━━━━━━━━━━━━━━━━━━━━\u001b[0m\u001b[37m\u001b[0m \u001b[1m21s\u001b[0m 112ms/step - accuracy: 0.6331 - loss: 0.9648 - val_accuracy: 0.6929 - val_loss: 0.8628\n",
      "Epoch 5/10\n",
      "\u001b[1m179/179\u001b[0m \u001b[32m━━━━━━━━━━━━━━━━━━━━\u001b[0m\u001b[37m\u001b[0m \u001b[1m20s\u001b[0m 107ms/step - accuracy: 0.6572 - loss: 0.9125 - val_accuracy: 0.6807 - val_loss: 0.8427\n",
      "Epoch 6/10\n",
      "\u001b[1m179/179\u001b[0m \u001b[32m━━━━━━━━━━━━━━━━━━━━\u001b[0m\u001b[37m\u001b[0m \u001b[1m19s\u001b[0m 100ms/step - accuracy: 0.6757 - loss: 0.8536 - val_accuracy: 0.6772 - val_loss: 0.8459\n",
      "Epoch 7/10\n",
      "\u001b[1m179/179\u001b[0m \u001b[32m━━━━━━━━━━━━━━━━━━━━\u001b[0m\u001b[37m\u001b[0m \u001b[1m20s\u001b[0m 108ms/step - accuracy: 0.6803 - loss: 0.8282 - val_accuracy: 0.6728 - val_loss: 0.7961\n",
      "Epoch 8/10\n",
      "\u001b[1m179/179\u001b[0m \u001b[32m━━━━━━━━━━━━━━━━━━━━\u001b[0m\u001b[37m\u001b[0m \u001b[1m20s\u001b[0m 105ms/step - accuracy: 0.6895 - loss: 0.8114 - val_accuracy: 0.6850 - val_loss: 0.8470\n",
      "Epoch 9/10\n",
      "\u001b[1m179/179\u001b[0m \u001b[32m━━━━━━━━━━━━━━━━━━━━\u001b[0m\u001b[37m\u001b[0m \u001b[1m19s\u001b[0m 100ms/step - accuracy: 0.6885 - loss: 0.7935 - val_accuracy: 0.7008 - val_loss: 0.7378\n",
      "Epoch 10/10\n",
      "\u001b[1m179/179\u001b[0m \u001b[32m━━━━━━━━━━━━━━━━━━━━\u001b[0m\u001b[37m\u001b[0m \u001b[1m20s\u001b[0m 109ms/step - accuracy: 0.7080 - loss: 0.7414 - val_accuracy: 0.7367 - val_loss: 0.6945\n",
      "Training model with config: filter_size=(3, 3), num_filters=64, num_layers=2, num_units=32, activation=tanh, padding=valid, stride=(1, 1), optimizer=rmsprop, l1_lambda=0, l2_lambda=0, dropout_rate=0, epochs=10, batch_size=32\n",
      "Epoch 1/10\n",
      "\u001b[1m179/179\u001b[0m \u001b[32m━━━━━━━━━━━━━━━━━━━━\u001b[0m\u001b[37m\u001b[0m \u001b[1m27s\u001b[0m 138ms/step - accuracy: 0.5485 - loss: 1.0637 - val_accuracy: 0.7874 - val_loss: 0.5709\n",
      "Epoch 2/10\n",
      "\u001b[1m179/179\u001b[0m \u001b[32m━━━━━━━━━━━━━━━━━━━━\u001b[0m\u001b[37m\u001b[0m \u001b[1m24s\u001b[0m 130ms/step - accuracy: 0.7605 - loss: 0.6134 - val_accuracy: 0.7734 - val_loss: 0.5539\n",
      "Epoch 3/10\n",
      "\u001b[1m179/179\u001b[0m \u001b[32m━━━━━━━━━━━━━━━━━━━━\u001b[0m\u001b[37m\u001b[0m \u001b[1m25s\u001b[0m 134ms/step - accuracy: 0.7974 - loss: 0.5320 - val_accuracy: 0.8250 - val_loss: 0.4494\n",
      "Epoch 4/10\n",
      "\u001b[1m179/179\u001b[0m \u001b[32m━━━━━━━━━━━━━━━━━━━━\u001b[0m\u001b[37m\u001b[0m \u001b[1m21s\u001b[0m 114ms/step - accuracy: 0.8235 - loss: 0.4663 - val_accuracy: 0.8416 - val_loss: 0.4179\n",
      "Epoch 5/10\n",
      "\u001b[1m179/179\u001b[0m \u001b[32m━━━━━━━━━━━━━━━━━━━━\u001b[0m\u001b[37m\u001b[0m \u001b[1m25s\u001b[0m 137ms/step - accuracy: 0.8399 - loss: 0.4396 - val_accuracy: 0.8556 - val_loss: 0.3899\n",
      "Epoch 6/10\n",
      "\u001b[1m179/179\u001b[0m \u001b[32m━━━━━━━━━━━━━━━━━━━━\u001b[0m\u001b[37m\u001b[0m \u001b[1m20s\u001b[0m 108ms/step - accuracy: 0.8237 - loss: 0.4384 - val_accuracy: 0.8583 - val_loss: 0.3795\n",
      "Epoch 7/10\n",
      "\u001b[1m179/179\u001b[0m \u001b[32m━━━━━━━━━━━━━━━━━━━━\u001b[0m\u001b[37m\u001b[0m \u001b[1m24s\u001b[0m 122ms/step - accuracy: 0.8493 - loss: 0.3916 - val_accuracy: 0.8688 - val_loss: 0.3535\n",
      "Epoch 8/10\n",
      "\u001b[1m179/179\u001b[0m \u001b[32m━━━━━━━━━━━━━━━━━━━━\u001b[0m\u001b[37m\u001b[0m \u001b[1m19s\u001b[0m 103ms/step - accuracy: 0.8461 - loss: 0.3939 - val_accuracy: 0.8329 - val_loss: 0.3950\n",
      "Epoch 9/10\n",
      "\u001b[1m179/179\u001b[0m \u001b[32m━━━━━━━━━━━━━━━━━━━━\u001b[0m\u001b[37m\u001b[0m \u001b[1m19s\u001b[0m 104ms/step - accuracy: 0.8670 - loss: 0.3587 - val_accuracy: 0.8880 - val_loss: 0.3045\n",
      "Epoch 10/10\n",
      "\u001b[1m179/179\u001b[0m \u001b[32m━━━━━━━━━━━━━━━━━━━━\u001b[0m\u001b[37m\u001b[0m \u001b[1m19s\u001b[0m 103ms/step - accuracy: 0.8624 - loss: 0.3545 - val_accuracy: 0.8985 - val_loss: 0.2849\n",
      "Training model with config: filter_size=(3, 3), num_filters=64, num_layers=2, num_units=32, activation=tanh, padding=valid, stride=(1, 1), optimizer=adagrad, l1_lambda=0, l2_lambda=0, dropout_rate=0, epochs=10, batch_size=32\n",
      "Epoch 1/10\n",
      "\u001b[1m179/179\u001b[0m \u001b[32m━━━━━━━━━━━━━━━━━━━━\u001b[0m\u001b[37m\u001b[0m \u001b[1m22s\u001b[0m 113ms/step - accuracy: 0.2719 - loss: 1.3701 - val_accuracy: 0.3220 - val_loss: 1.3281\n",
      "Epoch 2/10\n",
      "\u001b[1m179/179\u001b[0m \u001b[32m━━━━━━━━━━━━━━━━━━━━\u001b[0m\u001b[37m\u001b[0m \u001b[1m19s\u001b[0m 104ms/step - accuracy: 0.3187 - loss: 1.3151 - val_accuracy: 0.3902 - val_loss: 1.2682\n",
      "Epoch 3/10\n",
      "\u001b[1m179/179\u001b[0m \u001b[32m━━━━━━━━━━━━━━━━━━━━\u001b[0m\u001b[37m\u001b[0m \u001b[1m20s\u001b[0m 110ms/step - accuracy: 0.4427 - loss: 1.2560 - val_accuracy: 0.4952 - val_loss: 1.1978\n",
      "Epoch 4/10\n",
      "\u001b[1m179/179\u001b[0m \u001b[32m━━━━━━━━━━━━━━━━━━━━\u001b[0m\u001b[37m\u001b[0m \u001b[1m22s\u001b[0m 117ms/step - accuracy: 0.5098 - loss: 1.1929 - val_accuracy: 0.5809 - val_loss: 1.1225\n",
      "Epoch 5/10\n",
      "\u001b[1m179/179\u001b[0m \u001b[32m━━━━━━━━━━━━━━━━━━━━\u001b[0m\u001b[37m\u001b[0m \u001b[1m21s\u001b[0m 112ms/step - accuracy: 0.5828 - loss: 1.1076 - val_accuracy: 0.5958 - val_loss: 1.0501\n",
      "Epoch 6/10\n",
      "\u001b[1m179/179\u001b[0m \u001b[32m━━━━━━━━━━━━━━━━━━━━\u001b[0m\u001b[37m\u001b[0m \u001b[1m20s\u001b[0m 110ms/step - accuracy: 0.6067 - loss: 1.0357 - val_accuracy: 0.6360 - val_loss: 0.9970\n",
      "Epoch 7/10\n",
      "\u001b[1m179/179\u001b[0m \u001b[32m━━━━━━━━━━━━━━━━━━━━\u001b[0m\u001b[37m\u001b[0m \u001b[1m22s\u001b[0m 121ms/step - accuracy: 0.6336 - loss: 0.9836 - val_accuracy: 0.6562 - val_loss: 0.9488\n",
      "Epoch 8/10\n",
      "\u001b[1m179/179\u001b[0m \u001b[32m━━━━━━━━━━━━━━━━━━━━\u001b[0m\u001b[37m\u001b[0m \u001b[1m22s\u001b[0m 117ms/step - accuracy: 0.6570 - loss: 0.9485 - val_accuracy: 0.6754 - val_loss: 0.9182\n",
      "Epoch 9/10\n",
      "\u001b[1m179/179\u001b[0m \u001b[32m━━━━━━━━━━━━━━━━━━━━\u001b[0m\u001b[37m\u001b[0m \u001b[1m19s\u001b[0m 104ms/step - accuracy: 0.6674 - loss: 0.9071 - val_accuracy: 0.6789 - val_loss: 0.8918\n",
      "Epoch 10/10\n",
      "\u001b[1m179/179\u001b[0m \u001b[32m━━━━━━━━━━━━━━━━━━━━\u001b[0m\u001b[37m\u001b[0m \u001b[1m18s\u001b[0m 98ms/step - accuracy: 0.6828 - loss: 0.8784 - val_accuracy: 0.6938 - val_loss: 0.8726\n",
      "Training model with config: filter_size=(3, 3), num_filters=64, num_layers=2, num_units=32, activation=tanh, padding=valid, stride=(1, 1), optimizer=adam, l1_lambda=0, l2_lambda=0, dropout_rate=0, epochs=10, batch_size=32\n",
      "Epoch 1/10\n",
      "\u001b[1m179/179\u001b[0m \u001b[32m━━━━━━━━━━━━━━━━━━━━\u001b[0m\u001b[37m\u001b[0m \u001b[1m20s\u001b[0m 100ms/step - accuracy: 0.5237 - loss: 1.0638 - val_accuracy: 0.7787 - val_loss: 0.6014\n",
      "Epoch 2/10\n",
      "\u001b[1m179/179\u001b[0m \u001b[32m━━━━━━━━━━━━━━━━━━━━\u001b[0m\u001b[37m\u001b[0m \u001b[1m20s\u001b[0m 107ms/step - accuracy: 0.7593 - loss: 0.6044 - val_accuracy: 0.8075 - val_loss: 0.5144\n",
      "Epoch 3/10\n",
      "\u001b[1m179/179\u001b[0m \u001b[32m━━━━━━━━━━━━━━━━━━━━\u001b[0m\u001b[37m\u001b[0m \u001b[1m19s\u001b[0m 101ms/step - accuracy: 0.7939 - loss: 0.5138 - val_accuracy: 0.8136 - val_loss: 0.4659\n",
      "Epoch 4/10\n",
      "\u001b[1m179/179\u001b[0m \u001b[32m━━━━━━━━━━━━━━━━━━━━\u001b[0m\u001b[37m\u001b[0m \u001b[1m19s\u001b[0m 104ms/step - accuracy: 0.8347 - loss: 0.4522 - val_accuracy: 0.8521 - val_loss: 0.4094\n",
      "Epoch 5/10\n",
      "\u001b[1m179/179\u001b[0m \u001b[32m━━━━━━━━━━━━━━━━━━━━\u001b[0m\u001b[37m\u001b[0m \u001b[1m23s\u001b[0m 124ms/step - accuracy: 0.8227 - loss: 0.4480 - val_accuracy: 0.8364 - val_loss: 0.4051\n",
      "Epoch 6/10\n",
      "\u001b[1m179/179\u001b[0m \u001b[32m━━━━━━━━━━━━━━━━━━━━\u001b[0m\u001b[37m\u001b[0m \u001b[1m23s\u001b[0m 124ms/step - accuracy: 0.8409 - loss: 0.4154 - val_accuracy: 0.8723 - val_loss: 0.3495\n",
      "Epoch 7/10\n",
      "\u001b[1m179/179\u001b[0m \u001b[32m━━━━━━━━━━━━━━━━━━━━\u001b[0m\u001b[37m\u001b[0m \u001b[1m22s\u001b[0m 115ms/step - accuracy: 0.8581 - loss: 0.3706 - val_accuracy: 0.8740 - val_loss: 0.3253\n",
      "Epoch 8/10\n",
      "\u001b[1m179/179\u001b[0m \u001b[32m━━━━━━━━━━━━━━━━━━━━\u001b[0m\u001b[37m\u001b[0m \u001b[1m18s\u001b[0m 97ms/step - accuracy: 0.8703 - loss: 0.3529 - val_accuracy: 0.8898 - val_loss: 0.2986\n",
      "Epoch 9/10\n",
      "\u001b[1m179/179\u001b[0m \u001b[32m━━━━━━━━━━━━━━━━━━━━\u001b[0m\u001b[37m\u001b[0m \u001b[1m19s\u001b[0m 102ms/step - accuracy: 0.8749 - loss: 0.3325 - val_accuracy: 0.8679 - val_loss: 0.3425\n",
      "Epoch 10/10\n",
      "\u001b[1m179/179\u001b[0m \u001b[32m━━━━━━━━━━━━━━━━━━━━\u001b[0m\u001b[37m\u001b[0m \u001b[1m21s\u001b[0m 115ms/step - accuracy: 0.8747 - loss: 0.3375 - val_accuracy: 0.8898 - val_loss: 0.2820\n",
      "Training model with config: filter_size=(3, 3), num_filters=64, num_layers=2, num_units=32, activation=tanh, padding=valid, stride=(1, 1), optimizer=sgd, l1_lambda=0, l2_lambda=0, dropout_rate=0, epochs=10, batch_size=32\n",
      "Epoch 1/10\n",
      "\u001b[1m179/179\u001b[0m \u001b[32m━━━━━━━━━━━━━━━━━━━━\u001b[0m\u001b[37m\u001b[0m \u001b[1m22s\u001b[0m 114ms/step - accuracy: 0.3321 - loss: 1.3317 - val_accuracy: 0.6019 - val_loss: 1.0933\n",
      "Epoch 2/10\n",
      "\u001b[1m179/179\u001b[0m \u001b[32m━━━━━━━━━━━━━━━━━━━━\u001b[0m\u001b[37m\u001b[0m \u001b[1m18s\u001b[0m 96ms/step - accuracy: 0.6008 - loss: 1.0364 - val_accuracy: 0.6789 - val_loss: 0.8978\n",
      "Epoch 3/10\n",
      "\u001b[1m179/179\u001b[0m \u001b[32m━━━━━━━━━━━━━━━━━━━━\u001b[0m\u001b[37m\u001b[0m \u001b[1m18s\u001b[0m 95ms/step - accuracy: 0.6745 - loss: 0.8929 - val_accuracy: 0.6807 - val_loss: 0.8651\n",
      "Epoch 4/10\n",
      "\u001b[1m179/179\u001b[0m \u001b[32m━━━━━━━━━━━━━━━━━━━━\u001b[0m\u001b[37m\u001b[0m \u001b[1m18s\u001b[0m 97ms/step - accuracy: 0.6883 - loss: 0.8343 - val_accuracy: 0.6990 - val_loss: 0.8106\n",
      "Epoch 5/10\n",
      "\u001b[1m179/179\u001b[0m \u001b[32m━━━━━━━━━━━━━━━━━━━━\u001b[0m\u001b[37m\u001b[0m \u001b[1m22s\u001b[0m 118ms/step - accuracy: 0.6977 - loss: 0.8055 - val_accuracy: 0.6999 - val_loss: 0.7848\n",
      "Epoch 6/10\n",
      "\u001b[1m179/179\u001b[0m \u001b[32m━━━━━━━━━━━━━━━━━━━━\u001b[0m\u001b[37m\u001b[0m \u001b[1m19s\u001b[0m 105ms/step - accuracy: 0.7260 - loss: 0.7581 - val_accuracy: 0.7052 - val_loss: 0.7491\n",
      "Epoch 7/10\n",
      "\u001b[1m179/179\u001b[0m \u001b[32m━━━━━━━━━━━━━━━━━━━━\u001b[0m\u001b[37m\u001b[0m \u001b[1m22s\u001b[0m 114ms/step - accuracy: 0.7285 - loss: 0.7259 - val_accuracy: 0.7244 - val_loss: 0.6990\n",
      "Epoch 8/10\n",
      "\u001b[1m179/179\u001b[0m \u001b[32m━━━━━━━━━━━━━━━━━━━━\u001b[0m\u001b[37m\u001b[0m \u001b[1m19s\u001b[0m 102ms/step - accuracy: 0.7435 - loss: 0.6997 - val_accuracy: 0.7227 - val_loss: 0.6899\n",
      "Epoch 9/10\n",
      "\u001b[1m179/179\u001b[0m \u001b[32m━━━━━━━━━━━━━━━━━━━━\u001b[0m\u001b[37m\u001b[0m \u001b[1m19s\u001b[0m 102ms/step - accuracy: 0.7466 - loss: 0.6485 - val_accuracy: 0.7437 - val_loss: 0.6585\n",
      "Epoch 10/10\n",
      "\u001b[1m179/179\u001b[0m \u001b[32m━━━━━━━━━━━━━━━━━━━━\u001b[0m\u001b[37m\u001b[0m \u001b[1m19s\u001b[0m 102ms/step - accuracy: 0.7751 - loss: 0.6359 - val_accuracy: 0.7515 - val_loss: 0.6362\n",
      "Training model with config: filter_size=(3, 3), num_filters=64, num_layers=2, num_units=64, activation=relu, padding=valid, stride=(1, 1), optimizer=rmsprop, l1_lambda=0, l2_lambda=0, dropout_rate=0, epochs=10, batch_size=32\n",
      "Epoch 1/10\n",
      "\u001b[1m179/179\u001b[0m \u001b[32m━━━━━━━━━━━━━━━━━━━━\u001b[0m\u001b[37m\u001b[0m \u001b[1m20s\u001b[0m 102ms/step - accuracy: 0.4329 - loss: 1.1843 - val_accuracy: 0.5862 - val_loss: 0.9690\n",
      "Epoch 2/10\n",
      "\u001b[1m179/179\u001b[0m \u001b[32m━━━━━━━━━━━━━━━━━━━━\u001b[0m\u001b[37m\u001b[0m \u001b[1m19s\u001b[0m 105ms/step - accuracy: 0.6784 - loss: 0.8011 - val_accuracy: 0.7375 - val_loss: 0.6343\n",
      "Epoch 3/10\n",
      "\u001b[1m179/179\u001b[0m \u001b[32m━━━━━━━━━━━━━━━━━━━━\u001b[0m\u001b[37m\u001b[0m \u001b[1m20s\u001b[0m 102ms/step - accuracy: 0.7556 - loss: 0.6345 - val_accuracy: 0.8093 - val_loss: 0.4925\n",
      "Epoch 4/10\n",
      "\u001b[1m179/179\u001b[0m \u001b[32m━━━━━━━━━━━━━━━━━━━━\u001b[0m\u001b[37m\u001b[0m \u001b[1m19s\u001b[0m 103ms/step - accuracy: 0.7879 - loss: 0.5597 - val_accuracy: 0.8031 - val_loss: 0.5150\n",
      "Epoch 5/10\n",
      "\u001b[1m179/179\u001b[0m \u001b[32m━━━━━━━━━━━━━━━━━━━━\u001b[0m\u001b[37m\u001b[0m \u001b[1m19s\u001b[0m 104ms/step - accuracy: 0.7986 - loss: 0.5097 - val_accuracy: 0.8206 - val_loss: 0.4551\n",
      "Epoch 6/10\n",
      "\u001b[1m179/179\u001b[0m \u001b[32m━━━━━━━━━━━━━━━━━━━━\u001b[0m\u001b[37m\u001b[0m \u001b[1m19s\u001b[0m 102ms/step - accuracy: 0.8167 - loss: 0.4552 - val_accuracy: 0.8241 - val_loss: 0.4421\n",
      "Epoch 7/10\n",
      "\u001b[1m179/179\u001b[0m \u001b[32m━━━━━━━━━━━━━━━━━━━━\u001b[0m\u001b[37m\u001b[0m \u001b[1m19s\u001b[0m 102ms/step - accuracy: 0.8269 - loss: 0.4405 - val_accuracy: 0.8548 - val_loss: 0.3953\n",
      "Epoch 8/10\n",
      "\u001b[1m179/179\u001b[0m \u001b[32m━━━━━━━━━━━━━━━━━━━━\u001b[0m\u001b[37m\u001b[0m \u001b[1m20s\u001b[0m 106ms/step - accuracy: 0.8395 - loss: 0.4198 - val_accuracy: 0.8731 - val_loss: 0.3377\n",
      "Epoch 9/10\n",
      "\u001b[1m179/179\u001b[0m \u001b[32m━━━━━━━━━━━━━━━━━━━━\u001b[0m\u001b[37m\u001b[0m \u001b[1m19s\u001b[0m 103ms/step - accuracy: 0.8462 - loss: 0.4014 - val_accuracy: 0.8793 - val_loss: 0.3359\n",
      "Epoch 10/10\n",
      "\u001b[1m179/179\u001b[0m \u001b[32m━━━━━━━━━━━━━━━━━━━━\u001b[0m\u001b[37m\u001b[0m \u001b[1m19s\u001b[0m 104ms/step - accuracy: 0.8571 - loss: 0.3635 - val_accuracy: 0.8828 - val_loss: 0.3054\n",
      "Training model with config: filter_size=(3, 3), num_filters=64, num_layers=2, num_units=64, activation=relu, padding=valid, stride=(1, 1), optimizer=adagrad, l1_lambda=0, l2_lambda=0, dropout_rate=0, epochs=10, batch_size=32\n",
      "Epoch 1/10\n",
      "\u001b[1m179/179\u001b[0m \u001b[32m━━━━━━━━━━━━━━━━━━━━\u001b[0m\u001b[37m\u001b[0m \u001b[1m21s\u001b[0m 108ms/step - accuracy: 0.2817 - loss: 1.3747 - val_accuracy: 0.2992 - val_loss: 1.3588\n",
      "Epoch 2/10\n",
      "\u001b[1m179/179\u001b[0m \u001b[32m━━━━━━━━━━━━━━━━━━━━\u001b[0m\u001b[37m\u001b[0m \u001b[1m19s\u001b[0m 104ms/step - accuracy: 0.2839 - loss: 1.3568 - val_accuracy: 0.2992 - val_loss: 1.3434\n",
      "Epoch 3/10\n",
      "\u001b[1m179/179\u001b[0m \u001b[32m━━━━━━━━━━━━━━━━━━━━\u001b[0m\u001b[37m\u001b[0m \u001b[1m19s\u001b[0m 102ms/step - accuracy: 0.2756 - loss: 1.3462 - val_accuracy: 0.2983 - val_loss: 1.3259\n",
      "Epoch 4/10\n",
      "\u001b[1m179/179\u001b[0m \u001b[32m━━━━━━━━━━━━━━━━━━━━\u001b[0m\u001b[37m\u001b[0m \u001b[1m16s\u001b[0m 86ms/step - accuracy: 0.2808 - loss: 1.3272 - val_accuracy: 0.2992 - val_loss: 1.3049\n",
      "Epoch 5/10\n",
      "\u001b[1m179/179\u001b[0m \u001b[32m━━━━━━━━━━━━━━━━━━━━\u001b[0m\u001b[37m\u001b[0m \u001b[1m18s\u001b[0m 98ms/step - accuracy: 0.2823 - loss: 1.3067 - val_accuracy: 0.3001 - val_loss: 1.2782\n",
      "Epoch 6/10\n",
      "\u001b[1m179/179\u001b[0m \u001b[32m━━━━━━━━━━━━━━━━━━━━\u001b[0m\u001b[37m\u001b[0m \u001b[1m16s\u001b[0m 86ms/step - accuracy: 0.2830 - loss: 1.2861 - val_accuracy: 0.3045 - val_loss: 1.2489\n",
      "Epoch 7/10\n",
      "\u001b[1m179/179\u001b[0m \u001b[32m━━━━━━━━━━━━━━━━━━━━\u001b[0m\u001b[37m\u001b[0m \u001b[1m16s\u001b[0m 86ms/step - accuracy: 0.3133 - loss: 1.2481 - val_accuracy: 0.3858 - val_loss: 1.2174\n",
      "Epoch 8/10\n",
      "\u001b[1m179/179\u001b[0m \u001b[32m━━━━━━━━━━━━━━━━━━━━\u001b[0m\u001b[37m\u001b[0m \u001b[1m16s\u001b[0m 86ms/step - accuracy: 0.3663 - loss: 1.2203 - val_accuracy: 0.4374 - val_loss: 1.1842\n",
      "Epoch 9/10\n",
      "\u001b[1m179/179\u001b[0m \u001b[32m━━━━━━━━━━━━━━━━━━━━\u001b[0m\u001b[37m\u001b[0m \u001b[1m16s\u001b[0m 86ms/step - accuracy: 0.4082 - loss: 1.1861 - val_accuracy: 0.4891 - val_loss: 1.1511\n",
      "Epoch 10/10\n",
      "\u001b[1m179/179\u001b[0m \u001b[32m━━━━━━━━━━━━━━━━━━━━\u001b[0m\u001b[37m\u001b[0m \u001b[1m16s\u001b[0m 86ms/step - accuracy: 0.4684 - loss: 1.1442 - val_accuracy: 0.5661 - val_loss: 1.1182\n",
      "Training model with config: filter_size=(3, 3), num_filters=64, num_layers=2, num_units=64, activation=relu, padding=valid, stride=(1, 1), optimizer=adam, l1_lambda=0, l2_lambda=0, dropout_rate=0, epochs=10, batch_size=32\n",
      "Epoch 1/10\n",
      "\u001b[1m179/179\u001b[0m \u001b[32m━━━━━━━━━━━━━━━━━━━━\u001b[0m\u001b[37m\u001b[0m \u001b[1m19s\u001b[0m 89ms/step - accuracy: 0.4840 - loss: 1.1059 - val_accuracy: 0.7025 - val_loss: 0.6797\n",
      "Epoch 2/10\n"
     ]
    },
    {
     "name": "stdout",
     "output_type": "stream",
     "text": [
      "\u001b[1m179/179\u001b[0m \u001b[32m━━━━━━━━━━━━━━━━━━━━\u001b[0m\u001b[37m\u001b[0m \u001b[1m16s\u001b[0m 86ms/step - accuracy: 0.7505 - loss: 0.6474 - val_accuracy: 0.7437 - val_loss: 0.6287\n",
      "Epoch 3/10\n",
      "\u001b[1m179/179\u001b[0m \u001b[32m━━━━━━━━━━━━━━━━━━━━\u001b[0m\u001b[37m\u001b[0m \u001b[1m16s\u001b[0m 87ms/step - accuracy: 0.7888 - loss: 0.5681 - val_accuracy: 0.8154 - val_loss: 0.4675\n",
      "Epoch 4/10\n",
      "\u001b[1m179/179\u001b[0m \u001b[32m━━━━━━━━━━━━━━━━━━━━\u001b[0m\u001b[37m\u001b[0m \u001b[1m16s\u001b[0m 84ms/step - accuracy: 0.8080 - loss: 0.4986 - val_accuracy: 0.8390 - val_loss: 0.4210\n",
      "Epoch 5/10\n",
      "\u001b[1m179/179\u001b[0m \u001b[32m━━━━━━━━━━━━━━━━━━━━\u001b[0m\u001b[37m\u001b[0m \u001b[1m16s\u001b[0m 87ms/step - accuracy: 0.8247 - loss: 0.4592 - val_accuracy: 0.8268 - val_loss: 0.4358\n",
      "Epoch 6/10\n",
      "\u001b[1m179/179\u001b[0m \u001b[32m━━━━━━━━━━━━━━━━━━━━\u001b[0m\u001b[37m\u001b[0m \u001b[1m16s\u001b[0m 84ms/step - accuracy: 0.8198 - loss: 0.4542 - val_accuracy: 0.8408 - val_loss: 0.4042\n",
      "Epoch 7/10\n",
      "\u001b[1m179/179\u001b[0m \u001b[32m━━━━━━━━━━━━━━━━━━━━\u001b[0m\u001b[37m\u001b[0m \u001b[1m16s\u001b[0m 87ms/step - accuracy: 0.8514 - loss: 0.3883 - val_accuracy: 0.8749 - val_loss: 0.3394\n",
      "Epoch 8/10\n",
      "\u001b[1m179/179\u001b[0m \u001b[32m━━━━━━━━━━━━━━━━━━━━\u001b[0m\u001b[37m\u001b[0m \u001b[1m16s\u001b[0m 87ms/step - accuracy: 0.8559 - loss: 0.3840 - val_accuracy: 0.8661 - val_loss: 0.3512\n",
      "Epoch 9/10\n",
      "\u001b[1m179/179\u001b[0m \u001b[32m━━━━━━━━━━━━━━━━━━━━\u001b[0m\u001b[37m\u001b[0m \u001b[1m16s\u001b[0m 87ms/step - accuracy: 0.8584 - loss: 0.3775 - val_accuracy: 0.8775 - val_loss: 0.3238\n",
      "Epoch 10/10\n",
      "\u001b[1m179/179\u001b[0m \u001b[32m━━━━━━━━━━━━━━━━━━━━\u001b[0m\u001b[37m\u001b[0m \u001b[1m16s\u001b[0m 86ms/step - accuracy: 0.8661 - loss: 0.3569 - val_accuracy: 0.8836 - val_loss: 0.2952\n",
      "Training model with config: filter_size=(3, 3), num_filters=64, num_layers=2, num_units=64, activation=relu, padding=valid, stride=(1, 1), optimizer=sgd, l1_lambda=0, l2_lambda=0, dropout_rate=0, epochs=10, batch_size=32\n",
      "Epoch 1/10\n",
      "\u001b[1m179/179\u001b[0m \u001b[32m━━━━━━━━━━━━━━━━━━━━\u001b[0m\u001b[37m\u001b[0m \u001b[1m17s\u001b[0m 87ms/step - accuracy: 0.2627 - loss: 1.3827 - val_accuracy: 0.2992 - val_loss: 1.3536\n",
      "Epoch 2/10\n",
      "\u001b[1m179/179\u001b[0m \u001b[32m━━━━━━━━━━━━━━━━━━━━\u001b[0m\u001b[37m\u001b[0m \u001b[1m16s\u001b[0m 84ms/step - accuracy: 0.3055 - loss: 1.3420 - val_accuracy: 0.3902 - val_loss: 1.2648\n",
      "Epoch 3/10\n",
      "\u001b[1m179/179\u001b[0m \u001b[32m━━━━━━━━━━━━━━━━━━━━\u001b[0m\u001b[37m\u001b[0m \u001b[1m16s\u001b[0m 85ms/step - accuracy: 0.4734 - loss: 1.2252 - val_accuracy: 0.5722 - val_loss: 1.0316\n",
      "Epoch 4/10\n",
      "\u001b[1m179/179\u001b[0m \u001b[32m━━━━━━━━━━━━━━━━━━━━\u001b[0m\u001b[37m\u001b[0m \u001b[1m16s\u001b[0m 84ms/step - accuracy: 0.6560 - loss: 0.9704 - val_accuracy: 0.6710 - val_loss: 0.8833\n",
      "Epoch 5/10\n",
      "\u001b[1m179/179\u001b[0m \u001b[32m━━━━━━━━━━━━━━━━━━━━\u001b[0m\u001b[37m\u001b[0m \u001b[1m16s\u001b[0m 85ms/step - accuracy: 0.6619 - loss: 0.8862 - val_accuracy: 0.6658 - val_loss: 0.8610\n",
      "Epoch 6/10\n",
      "\u001b[1m179/179\u001b[0m \u001b[32m━━━━━━━━━━━━━━━━━━━━\u001b[0m\u001b[37m\u001b[0m \u001b[1m16s\u001b[0m 85ms/step - accuracy: 0.6871 - loss: 0.8241 - val_accuracy: 0.6702 - val_loss: 0.8367\n",
      "Epoch 7/10\n",
      "\u001b[1m179/179\u001b[0m \u001b[32m━━━━━━━━━━━━━━━━━━━━\u001b[0m\u001b[37m\u001b[0m \u001b[1m16s\u001b[0m 86ms/step - accuracy: 0.6919 - loss: 0.8027 - val_accuracy: 0.7078 - val_loss: 0.7612\n",
      "Epoch 8/10\n",
      "\u001b[1m179/179\u001b[0m \u001b[32m━━━━━━━━━━━━━━━━━━━━\u001b[0m\u001b[37m\u001b[0m \u001b[1m16s\u001b[0m 86ms/step - accuracy: 0.7070 - loss: 0.7656 - val_accuracy: 0.7069 - val_loss: 0.7581\n",
      "Epoch 9/10\n",
      "\u001b[1m179/179\u001b[0m \u001b[32m━━━━━━━━━━━━━━━━━━━━\u001b[0m\u001b[37m\u001b[0m \u001b[1m16s\u001b[0m 84ms/step - accuracy: 0.7115 - loss: 0.7547 - val_accuracy: 0.7174 - val_loss: 0.7277\n",
      "Epoch 10/10\n",
      "\u001b[1m179/179\u001b[0m \u001b[32m━━━━━━━━━━━━━━━━━━━━\u001b[0m\u001b[37m\u001b[0m \u001b[1m16s\u001b[0m 85ms/step - accuracy: 0.7248 - loss: 0.7250 - val_accuracy: 0.7200 - val_loss: 0.6956\n",
      "Training model with config: filter_size=(3, 3), num_filters=64, num_layers=2, num_units=64, activation=tanh, padding=valid, stride=(1, 1), optimizer=rmsprop, l1_lambda=0, l2_lambda=0, dropout_rate=0, epochs=10, batch_size=32\n",
      "Epoch 1/10\n",
      "\u001b[1m179/179\u001b[0m \u001b[32m━━━━━━━━━━━━━━━━━━━━\u001b[0m\u001b[37m\u001b[0m \u001b[1m18s\u001b[0m 89ms/step - accuracy: 0.5372 - loss: 1.0552 - val_accuracy: 0.7909 - val_loss: 0.5362\n",
      "Epoch 2/10\n",
      "\u001b[1m179/179\u001b[0m \u001b[32m━━━━━━━━━━━━━━━━━━━━\u001b[0m\u001b[37m\u001b[0m \u001b[1m19s\u001b[0m 104ms/step - accuracy: 0.7744 - loss: 0.5888 - val_accuracy: 0.8075 - val_loss: 0.5060\n",
      "Epoch 3/10\n",
      "\u001b[1m179/179\u001b[0m \u001b[32m━━━━━━━━━━━━━━━━━━━━\u001b[0m\u001b[37m\u001b[0m \u001b[1m16s\u001b[0m 86ms/step - accuracy: 0.7965 - loss: 0.5307 - val_accuracy: 0.7682 - val_loss: 0.5615\n",
      "Epoch 4/10\n",
      "\u001b[1m179/179\u001b[0m \u001b[32m━━━━━━━━━━━━━━━━━━━━\u001b[0m\u001b[37m\u001b[0m \u001b[1m16s\u001b[0m 88ms/step - accuracy: 0.8031 - loss: 0.4929 - val_accuracy: 0.8233 - val_loss: 0.4566\n",
      "Epoch 5/10\n",
      "\u001b[1m179/179\u001b[0m \u001b[32m━━━━━━━━━━━━━━━━━━━━\u001b[0m\u001b[37m\u001b[0m \u001b[1m17s\u001b[0m 90ms/step - accuracy: 0.8153 - loss: 0.4630 - val_accuracy: 0.8303 - val_loss: 0.4296\n",
      "Epoch 6/10\n",
      "\u001b[1m179/179\u001b[0m \u001b[32m━━━━━━━━━━━━━━━━━━━━\u001b[0m\u001b[37m\u001b[0m \u001b[1m16s\u001b[0m 87ms/step - accuracy: 0.8380 - loss: 0.4230 - val_accuracy: 0.8381 - val_loss: 0.4022\n",
      "Epoch 7/10\n",
      "\u001b[1m179/179\u001b[0m \u001b[32m━━━━━━━━━━━━━━━━━━━━\u001b[0m\u001b[37m\u001b[0m \u001b[1m16s\u001b[0m 86ms/step - accuracy: 0.8553 - loss: 0.3954 - val_accuracy: 0.8635 - val_loss: 0.3530\n",
      "Epoch 8/10\n",
      "\u001b[1m179/179\u001b[0m \u001b[32m━━━━━━━━━━━━━━━━━━━━\u001b[0m\u001b[37m\u001b[0m \u001b[1m16s\u001b[0m 88ms/step - accuracy: 0.8472 - loss: 0.3974 - val_accuracy: 0.8443 - val_loss: 0.3947\n",
      "Epoch 9/10\n",
      "\u001b[1m179/179\u001b[0m \u001b[32m━━━━━━━━━━━━━━━━━━━━\u001b[0m\u001b[37m\u001b[0m \u001b[1m16s\u001b[0m 87ms/step - accuracy: 0.8640 - loss: 0.3648 - val_accuracy: 0.8828 - val_loss: 0.3121\n",
      "Epoch 10/10\n",
      "\u001b[1m179/179\u001b[0m \u001b[32m━━━━━━━━━━━━━━━━━━━━\u001b[0m\u001b[37m\u001b[0m \u001b[1m16s\u001b[0m 88ms/step - accuracy: 0.8657 - loss: 0.3404 - val_accuracy: 0.8933 - val_loss: 0.2838\n",
      "Training model with config: filter_size=(3, 3), num_filters=64, num_layers=2, num_units=64, activation=tanh, padding=valid, stride=(1, 1), optimizer=adagrad, l1_lambda=0, l2_lambda=0, dropout_rate=0, epochs=10, batch_size=32\n",
      "Epoch 1/10\n",
      "\u001b[1m179/179\u001b[0m \u001b[32m━━━━━━━━━━━━━━━━━━━━\u001b[0m\u001b[37m\u001b[0m \u001b[1m17s\u001b[0m 90ms/step - accuracy: 0.2625 - loss: 1.3746 - val_accuracy: 0.2983 - val_loss: 1.3262\n",
      "Epoch 2/10\n",
      "\u001b[1m179/179\u001b[0m \u001b[32m━━━━━━━━━━━━━━━━━━━━\u001b[0m\u001b[37m\u001b[0m \u001b[1m16s\u001b[0m 86ms/step - accuracy: 0.2828 - loss: 1.3250 - val_accuracy: 0.3185 - val_loss: 1.2784\n",
      "Epoch 3/10\n",
      "\u001b[1m179/179\u001b[0m \u001b[32m━━━━━━━━━━━━━━━━━━━━\u001b[0m\u001b[37m\u001b[0m \u001b[1m16s\u001b[0m 88ms/step - accuracy: 0.3468 - loss: 1.2726 - val_accuracy: 0.4471 - val_loss: 1.2211\n",
      "Epoch 4/10\n",
      "\u001b[1m179/179\u001b[0m \u001b[32m━━━━━━━━━━━━━━━━━━━━\u001b[0m\u001b[37m\u001b[0m \u001b[1m16s\u001b[0m 86ms/step - accuracy: 0.4770 - loss: 1.2168 - val_accuracy: 0.5774 - val_loss: 1.1499\n",
      "Epoch 5/10\n",
      "\u001b[1m179/179\u001b[0m \u001b[32m━━━━━━━━━━━━━━━━━━━━\u001b[0m\u001b[37m\u001b[0m \u001b[1m16s\u001b[0m 87ms/step - accuracy: 0.5854 - loss: 1.1443 - val_accuracy: 0.6080 - val_loss: 1.0736\n",
      "Epoch 6/10\n",
      "\u001b[1m179/179\u001b[0m \u001b[32m━━━━━━━━━━━━━━━━━━━━\u001b[0m\u001b[37m\u001b[0m \u001b[1m16s\u001b[0m 88ms/step - accuracy: 0.6176 - loss: 1.0582 - val_accuracy: 0.6439 - val_loss: 1.0077\n",
      "Epoch 7/10\n",
      "\u001b[1m179/179\u001b[0m \u001b[32m━━━━━━━━━━━━━━━━━━━━\u001b[0m\u001b[37m\u001b[0m \u001b[1m16s\u001b[0m 86ms/step - accuracy: 0.6447 - loss: 0.9980 - val_accuracy: 0.6369 - val_loss: 0.9548\n",
      "Epoch 8/10\n",
      "\u001b[1m179/179\u001b[0m \u001b[32m━━━━━━━━━━━━━━━━━━━━\u001b[0m\u001b[37m\u001b[0m \u001b[1m16s\u001b[0m 87ms/step - accuracy: 0.6407 - loss: 0.9569 - val_accuracy: 0.6667 - val_loss: 0.9195\n",
      "Epoch 9/10\n",
      "\u001b[1m179/179\u001b[0m \u001b[32m━━━━━━━━━━━━━━━━━━━━\u001b[0m\u001b[37m\u001b[0m \u001b[1m16s\u001b[0m 88ms/step - accuracy: 0.6598 - loss: 0.9175 - val_accuracy: 0.6789 - val_loss: 0.8855\n",
      "Epoch 10/10\n",
      "\u001b[1m179/179\u001b[0m \u001b[32m━━━━━━━━━━━━━━━━━━━━\u001b[0m\u001b[37m\u001b[0m \u001b[1m16s\u001b[0m 88ms/step - accuracy: 0.6637 - loss: 0.8907 - val_accuracy: 0.6702 - val_loss: 0.8678\n",
      "Training model with config: filter_size=(3, 3), num_filters=64, num_layers=2, num_units=64, activation=tanh, padding=valid, stride=(1, 1), optimizer=adam, l1_lambda=0, l2_lambda=0, dropout_rate=0, epochs=10, batch_size=32\n",
      "Epoch 1/10\n",
      "\u001b[1m179/179\u001b[0m \u001b[32m━━━━━━━━━━━━━━━━━━━━\u001b[0m\u001b[37m\u001b[0m \u001b[1m18s\u001b[0m 88ms/step - accuracy: 0.5732 - loss: 0.9913 - val_accuracy: 0.7760 - val_loss: 0.5565\n",
      "Epoch 2/10\n",
      "\u001b[1m179/179\u001b[0m \u001b[32m━━━━━━━━━━━━━━━━━━━━\u001b[0m\u001b[37m\u001b[0m \u001b[1m16s\u001b[0m 88ms/step - accuracy: 0.7812 - loss: 0.5779 - val_accuracy: 0.8058 - val_loss: 0.4690\n",
      "Epoch 3/10\n",
      "\u001b[1m179/179\u001b[0m \u001b[32m━━━━━━━━━━━━━━━━━━━━\u001b[0m\u001b[37m\u001b[0m \u001b[1m16s\u001b[0m 87ms/step - accuracy: 0.8001 - loss: 0.5068 - val_accuracy: 0.8329 - val_loss: 0.4177\n",
      "Epoch 4/10\n",
      "\u001b[1m179/179\u001b[0m \u001b[32m━━━━━━━━━━━━━━━━━━━━\u001b[0m\u001b[37m\u001b[0m \u001b[1m16s\u001b[0m 88ms/step - accuracy: 0.8156 - loss: 0.4661 - val_accuracy: 0.8548 - val_loss: 0.3732\n",
      "Epoch 5/10\n",
      "\u001b[1m179/179\u001b[0m \u001b[32m━━━━━━━━━━━━━━━━━━━━\u001b[0m\u001b[37m\u001b[0m \u001b[1m16s\u001b[0m 88ms/step - accuracy: 0.8377 - loss: 0.4283 - val_accuracy: 0.8478 - val_loss: 0.3865\n",
      "Epoch 6/10\n",
      "\u001b[1m179/179\u001b[0m \u001b[32m━━━━━━━━━━━━━━━━━━━━\u001b[0m\u001b[37m\u001b[0m \u001b[1m16s\u001b[0m 89ms/step - accuracy: 0.8384 - loss: 0.4156 - val_accuracy: 0.8600 - val_loss: 0.3746\n",
      "Epoch 7/10\n",
      "\u001b[1m179/179\u001b[0m \u001b[32m━━━━━━━━━━━━━━━━━━━━\u001b[0m\u001b[37m\u001b[0m \u001b[1m16s\u001b[0m 88ms/step - accuracy: 0.8627 - loss: 0.3572 - val_accuracy: 0.8854 - val_loss: 0.3098\n",
      "Epoch 8/10\n",
      "\u001b[1m179/179\u001b[0m \u001b[32m━━━━━━━━━━━━━━━━━━━━\u001b[0m\u001b[37m\u001b[0m \u001b[1m16s\u001b[0m 85ms/step - accuracy: 0.8735 - loss: 0.3485 - val_accuracy: 0.8871 - val_loss: 0.3069\n",
      "Epoch 9/10\n",
      "\u001b[1m179/179\u001b[0m \u001b[32m━━━━━━━━━━━━━━━━━━━━\u001b[0m\u001b[37m\u001b[0m \u001b[1m16s\u001b[0m 86ms/step - accuracy: 0.8720 - loss: 0.3288 - val_accuracy: 0.8933 - val_loss: 0.2871\n",
      "Epoch 10/10\n",
      "\u001b[1m179/179\u001b[0m \u001b[32m━━━━━━━━━━━━━━━━━━━━\u001b[0m\u001b[37m\u001b[0m \u001b[1m16s\u001b[0m 87ms/step - accuracy: 0.8864 - loss: 0.3027 - val_accuracy: 0.9003 - val_loss: 0.2479\n",
      "Training model with config: filter_size=(3, 3), num_filters=64, num_layers=2, num_units=64, activation=tanh, padding=valid, stride=(1, 1), optimizer=sgd, l1_lambda=0, l2_lambda=0, dropout_rate=0, epochs=10, batch_size=32\n",
      "Epoch 1/10\n",
      "\u001b[1m179/179\u001b[0m \u001b[32m━━━━━━━━━━━━━━━━━━━━\u001b[0m\u001b[37m\u001b[0m \u001b[1m17s\u001b[0m 86ms/step - accuracy: 0.3178 - loss: 1.3340 - val_accuracy: 0.6387 - val_loss: 1.1126\n",
      "Epoch 2/10\n",
      "\u001b[1m179/179\u001b[0m \u001b[32m━━━━━━━━━━━━━━━━━━━━\u001b[0m\u001b[37m\u001b[0m \u001b[1m16s\u001b[0m 85ms/step - accuracy: 0.6480 - loss: 1.0417 - val_accuracy: 0.6728 - val_loss: 0.9014\n",
      "Epoch 3/10\n",
      "\u001b[1m179/179\u001b[0m \u001b[32m━━━━━━━━━━━━━━━━━━━━\u001b[0m\u001b[37m\u001b[0m \u001b[1m16s\u001b[0m 87ms/step - accuracy: 0.6687 - loss: 0.8886 - val_accuracy: 0.6850 - val_loss: 0.8387\n",
      "Epoch 4/10\n",
      "\u001b[1m179/179\u001b[0m \u001b[32m━━━━━━━━━━━━━━━━━━━━\u001b[0m\u001b[37m\u001b[0m \u001b[1m16s\u001b[0m 86ms/step - accuracy: 0.6840 - loss: 0.8474 - val_accuracy: 0.6973 - val_loss: 0.8084\n",
      "Epoch 5/10\n",
      "\u001b[1m179/179\u001b[0m \u001b[32m━━━━━━━━━━━━━━━━━━━━\u001b[0m\u001b[37m\u001b[0m \u001b[1m16s\u001b[0m 86ms/step - accuracy: 0.6937 - loss: 0.8139 - val_accuracy: 0.7165 - val_loss: 0.7577\n",
      "Epoch 6/10\n",
      "\u001b[1m179/179\u001b[0m \u001b[32m━━━━━━━━━━━━━━━━━━━━\u001b[0m\u001b[37m\u001b[0m \u001b[1m16s\u001b[0m 85ms/step - accuracy: 0.7160 - loss: 0.7707 - val_accuracy: 0.7270 - val_loss: 0.7154\n",
      "Epoch 7/10\n",
      "\u001b[1m179/179\u001b[0m \u001b[32m━━━━━━━━━━━━━━━━━━━━\u001b[0m\u001b[37m\u001b[0m \u001b[1m16s\u001b[0m 87ms/step - accuracy: 0.7264 - loss: 0.7261 - val_accuracy: 0.7349 - val_loss: 0.6796\n",
      "Epoch 8/10\n",
      "\u001b[1m179/179\u001b[0m \u001b[32m━━━━━━━━━━━━━━━━━━━━\u001b[0m\u001b[37m\u001b[0m \u001b[1m16s\u001b[0m 85ms/step - accuracy: 0.7471 - loss: 0.6749 - val_accuracy: 0.7498 - val_loss: 0.6484\n",
      "Epoch 9/10\n",
      "\u001b[1m179/179\u001b[0m \u001b[32m━━━━━━━━━━━━━━━━━━━━\u001b[0m\u001b[37m\u001b[0m \u001b[1m16s\u001b[0m 86ms/step - accuracy: 0.7556 - loss: 0.6480 - val_accuracy: 0.7550 - val_loss: 0.6205\n",
      "Epoch 10/10\n",
      "\u001b[1m179/179\u001b[0m \u001b[32m━━━━━━━━━━━━━━━━━━━━\u001b[0m\u001b[37m\u001b[0m \u001b[1m16s\u001b[0m 86ms/step - accuracy: 0.7702 - loss: 0.6231 - val_accuracy: 0.7603 - val_loss: 0.5956\n",
      "Training model with config: filter_size=(5, 5), num_filters=32, num_layers=2, num_units=32, activation=relu, padding=valid, stride=(1, 1), optimizer=rmsprop, l1_lambda=0, l2_lambda=0, dropout_rate=0, epochs=10, batch_size=32\n",
      "Epoch 1/10\n",
      "\u001b[1m179/179\u001b[0m \u001b[32m━━━━━━━━━━━━━━━━━━━━\u001b[0m\u001b[37m\u001b[0m \u001b[1m17s\u001b[0m 81ms/step - accuracy: 0.3714 - loss: 1.2774 - val_accuracy: 0.5328 - val_loss: 1.0582\n",
      "Epoch 2/10\n",
      "\u001b[1m179/179\u001b[0m \u001b[32m━━━━━━━━━━━━━━━━━━━━\u001b[0m\u001b[37m\u001b[0m \u001b[1m15s\u001b[0m 81ms/step - accuracy: 0.6543 - loss: 0.8655 - val_accuracy: 0.7454 - val_loss: 0.6672\n",
      "Epoch 3/10\n",
      "\u001b[1m179/179\u001b[0m \u001b[32m━━━━━━━━━━━━━━━━━━━━\u001b[0m\u001b[37m\u001b[0m \u001b[1m15s\u001b[0m 80ms/step - accuracy: 0.7153 - loss: 0.7207 - val_accuracy: 0.7708 - val_loss: 0.5984\n",
      "Epoch 4/10\n",
      "\u001b[1m179/179\u001b[0m \u001b[32m━━━━━━━━━━━━━━━━━━━━\u001b[0m\u001b[37m\u001b[0m \u001b[1m15s\u001b[0m 80ms/step - accuracy: 0.7406 - loss: 0.6612 - val_accuracy: 0.7577 - val_loss: 0.6358\n",
      "Epoch 5/10\n",
      "\u001b[1m179/179\u001b[0m \u001b[32m━━━━━━━━━━━━━━━━━━━━\u001b[0m\u001b[37m\u001b[0m \u001b[1m15s\u001b[0m 80ms/step - accuracy: 0.7617 - loss: 0.6214 - val_accuracy: 0.7682 - val_loss: 0.5544\n",
      "Epoch 6/10\n",
      "\u001b[1m179/179\u001b[0m \u001b[32m━━━━━━━━━━━━━━━━━━━━\u001b[0m\u001b[37m\u001b[0m \u001b[1m15s\u001b[0m 80ms/step - accuracy: 0.7800 - loss: 0.5650 - val_accuracy: 0.7865 - val_loss: 0.5329\n",
      "Epoch 7/10\n",
      "\u001b[1m179/179\u001b[0m \u001b[32m━━━━━━━━━━━━━━━━━━━━\u001b[0m\u001b[37m\u001b[0m \u001b[1m15s\u001b[0m 80ms/step - accuracy: 0.7880 - loss: 0.5597 - val_accuracy: 0.8241 - val_loss: 0.4653\n",
      "Epoch 8/10\n",
      "\u001b[1m179/179\u001b[0m \u001b[32m━━━━━━━━━━━━━━━━━━━━\u001b[0m\u001b[37m\u001b[0m \u001b[1m15s\u001b[0m 80ms/step - accuracy: 0.7909 - loss: 0.5329 - val_accuracy: 0.7927 - val_loss: 0.5391\n",
      "Epoch 9/10\n",
      "\u001b[1m179/179\u001b[0m \u001b[32m━━━━━━━━━━━━━━━━━━━━\u001b[0m\u001b[37m\u001b[0m \u001b[1m15s\u001b[0m 80ms/step - accuracy: 0.8079 - loss: 0.5016 - val_accuracy: 0.7900 - val_loss: 0.5089\n",
      "Epoch 10/10\n",
      "\u001b[1m179/179\u001b[0m \u001b[32m━━━━━━━━━━━━━━━━━━━━\u001b[0m\u001b[37m\u001b[0m \u001b[1m15s\u001b[0m 82ms/step - accuracy: 0.7927 - loss: 0.5155 - val_accuracy: 0.8373 - val_loss: 0.4104\n",
      "Training model with config: filter_size=(5, 5), num_filters=32, num_layers=2, num_units=32, activation=relu, padding=valid, stride=(1, 1), optimizer=adagrad, l1_lambda=0, l2_lambda=0, dropout_rate=0, epochs=10, batch_size=32\n",
      "Epoch 1/10\n",
      "\u001b[1m179/179\u001b[0m \u001b[32m━━━━━━━━━━━━━━━━━━━━\u001b[0m\u001b[37m\u001b[0m \u001b[1m16s\u001b[0m 81ms/step - accuracy: 0.3264 - loss: 1.3913 - val_accuracy: 0.2983 - val_loss: 1.3673\n",
      "Epoch 2/10\n",
      "\u001b[1m179/179\u001b[0m \u001b[32m━━━━━━━━━━━━━━━━━━━━\u001b[0m\u001b[37m\u001b[0m \u001b[1m15s\u001b[0m 80ms/step - accuracy: 0.2782 - loss: 1.3640 - val_accuracy: 0.2975 - val_loss: 1.3402\n",
      "Epoch 3/10\n",
      "\u001b[1m179/179\u001b[0m \u001b[32m━━━━━━━━━━━━━━━━━━━━\u001b[0m\u001b[37m\u001b[0m \u001b[1m15s\u001b[0m 81ms/step - accuracy: 0.2827 - loss: 1.3389 - val_accuracy: 0.2948 - val_loss: 1.3158\n",
      "Epoch 4/10\n",
      "\u001b[1m179/179\u001b[0m \u001b[32m━━━━━━━━━━━━━━━━━━━━\u001b[0m\u001b[37m\u001b[0m \u001b[1m15s\u001b[0m 80ms/step - accuracy: 0.2843 - loss: 1.3156 - val_accuracy: 0.3141 - val_loss: 1.2911\n",
      "Epoch 5/10\n",
      "\u001b[1m179/179\u001b[0m \u001b[32m━━━━━━━━━━━━━━━━━━━━\u001b[0m\u001b[37m\u001b[0m \u001b[1m15s\u001b[0m 80ms/step - accuracy: 0.3023 - loss: 1.2904 - val_accuracy: 0.4191 - val_loss: 1.2605\n",
      "Epoch 6/10\n",
      "\u001b[1m179/179\u001b[0m \u001b[32m━━━━━━━━━━━━━━━━━━━━\u001b[0m\u001b[37m\u001b[0m \u001b[1m15s\u001b[0m 81ms/step - accuracy: 0.3875 - loss: 1.2585 - val_accuracy: 0.4584 - val_loss: 1.2177\n",
      "Epoch 7/10\n",
      "\u001b[1m179/179\u001b[0m \u001b[32m━━━━━━━━━━━━━━━━━━━━\u001b[0m\u001b[37m\u001b[0m \u001b[1m15s\u001b[0m 81ms/step - accuracy: 0.4400 - loss: 1.2179 - val_accuracy: 0.4759 - val_loss: 1.1728\n",
      "Epoch 8/10\n",
      "\u001b[1m179/179\u001b[0m \u001b[32m━━━━━━━━━━━━━━━━━━━━\u001b[0m\u001b[37m\u001b[0m \u001b[1m15s\u001b[0m 83ms/step - accuracy: 0.5106 - loss: 1.1562 - val_accuracy: 0.5223 - val_loss: 1.1230\n",
      "Epoch 9/10\n",
      "\u001b[1m179/179\u001b[0m \u001b[32m━━━━━━━━━━━━━━━━━━━━\u001b[0m\u001b[37m\u001b[0m \u001b[1m15s\u001b[0m 81ms/step - accuracy: 0.5337 - loss: 1.1196 - val_accuracy: 0.5923 - val_loss: 1.0797\n",
      "Epoch 10/10\n",
      "\u001b[1m179/179\u001b[0m \u001b[32m━━━━━━━━━━━━━━━━━━━━\u001b[0m\u001b[37m\u001b[0m \u001b[1m15s\u001b[0m 80ms/step - accuracy: 0.5819 - loss: 1.0793 - val_accuracy: 0.6220 - val_loss: 1.0408\n",
      "Training model with config: filter_size=(5, 5), num_filters=32, num_layers=2, num_units=32, activation=relu, padding=valid, stride=(1, 1), optimizer=adam, l1_lambda=0, l2_lambda=0, dropout_rate=0, epochs=10, batch_size=32\n",
      "Epoch 1/10\n",
      "\u001b[1m179/179\u001b[0m \u001b[32m━━━━━━━━━━━━━━━━━━━━\u001b[0m\u001b[37m\u001b[0m \u001b[1m17s\u001b[0m 83ms/step - accuracy: 0.4444 - loss: 1.2242 - val_accuracy: 0.6789 - val_loss: 0.8305\n",
      "Epoch 2/10\n",
      "\u001b[1m179/179\u001b[0m \u001b[32m━━━━━━━━━━━━━━━━━━━━\u001b[0m\u001b[37m\u001b[0m \u001b[1m15s\u001b[0m 81ms/step - accuracy: 0.7044 - loss: 0.7900 - val_accuracy: 0.7550 - val_loss: 0.6512\n",
      "Epoch 3/10\n",
      "\u001b[1m179/179\u001b[0m \u001b[32m━━━━━━━━━━━━━━━━━━━━\u001b[0m\u001b[37m\u001b[0m \u001b[1m15s\u001b[0m 82ms/step - accuracy: 0.7429 - loss: 0.6617 - val_accuracy: 0.7717 - val_loss: 0.5945\n",
      "Epoch 4/10\n",
      "\u001b[1m179/179\u001b[0m \u001b[32m━━━━━━━━━━━━━━━━━━━━\u001b[0m\u001b[37m\u001b[0m \u001b[1m15s\u001b[0m 82ms/step - accuracy: 0.7577 - loss: 0.6277 - val_accuracy: 0.7664 - val_loss: 0.6142\n",
      "Epoch 5/10\n",
      "\u001b[1m179/179\u001b[0m \u001b[32m━━━━━━━━━━━━━━━━━━━━\u001b[0m\u001b[37m\u001b[0m \u001b[1m15s\u001b[0m 82ms/step - accuracy: 0.7649 - loss: 0.6179 - val_accuracy: 0.7585 - val_loss: 0.6666\n",
      "Epoch 6/10\n",
      "\u001b[1m179/179\u001b[0m \u001b[32m━━━━━━━━━━━━━━━━━━━━\u001b[0m\u001b[37m\u001b[0m \u001b[1m15s\u001b[0m 82ms/step - accuracy: 0.7796 - loss: 0.5876 - val_accuracy: 0.7857 - val_loss: 0.5237\n",
      "Epoch 7/10\n",
      "\u001b[1m179/179\u001b[0m \u001b[32m━━━━━━━━━━━━━━━━━━━━\u001b[0m\u001b[37m\u001b[0m \u001b[1m15s\u001b[0m 80ms/step - accuracy: 0.7814 - loss: 0.5713 - val_accuracy: 0.7997 - val_loss: 0.5433\n",
      "Epoch 8/10\n",
      "\u001b[1m179/179\u001b[0m \u001b[32m━━━━━━━━━━━━━━━━━━━━\u001b[0m\u001b[37m\u001b[0m \u001b[1m15s\u001b[0m 81ms/step - accuracy: 0.8035 - loss: 0.5324 - val_accuracy: 0.7813 - val_loss: 0.5658\n",
      "Epoch 9/10\n",
      "\u001b[1m179/179\u001b[0m \u001b[32m━━━━━━━━━━━━━━━━━━━━\u001b[0m\u001b[37m\u001b[0m \u001b[1m15s\u001b[0m 82ms/step - accuracy: 0.8086 - loss: 0.5136 - val_accuracy: 0.8049 - val_loss: 0.4874\n",
      "Epoch 10/10\n"
     ]
    },
    {
     "name": "stdout",
     "output_type": "stream",
     "text": [
      "\u001b[1m179/179\u001b[0m \u001b[32m━━━━━━━━━━━━━━━━━━━━\u001b[0m\u001b[37m\u001b[0m \u001b[1m15s\u001b[0m 80ms/step - accuracy: 0.8133 - loss: 0.5001 - val_accuracy: 0.8329 - val_loss: 0.4494\n",
      "Training model with config: filter_size=(5, 5), num_filters=32, num_layers=2, num_units=32, activation=relu, padding=valid, stride=(1, 1), optimizer=sgd, l1_lambda=0, l2_lambda=0, dropout_rate=0, epochs=10, batch_size=32\n",
      "Epoch 1/10\n",
      "\u001b[1m179/179\u001b[0m \u001b[32m━━━━━━━━━━━━━━━━━━━━\u001b[0m\u001b[37m\u001b[0m \u001b[1m15s\u001b[0m 80ms/step - accuracy: 0.2770 - loss: 1.3601 - val_accuracy: 0.4094 - val_loss: 1.2656\n",
      "Epoch 2/10\n",
      "\u001b[1m179/179\u001b[0m \u001b[32m━━━━━━━━━━━━━━━━━━━━\u001b[0m\u001b[37m\u001b[0m \u001b[1m15s\u001b[0m 79ms/step - accuracy: 0.3985 - loss: 1.2282 - val_accuracy: 0.4086 - val_loss: 1.1971\n",
      "Epoch 3/10\n",
      "\u001b[1m179/179\u001b[0m \u001b[32m━━━━━━━━━━━━━━━━━━━━\u001b[0m\u001b[37m\u001b[0m \u001b[1m15s\u001b[0m 81ms/step - accuracy: 0.5729 - loss: 1.0967 - val_accuracy: 0.5582 - val_loss: 1.0852\n",
      "Epoch 4/10\n",
      "\u001b[1m179/179\u001b[0m \u001b[32m━━━━━━━━━━━━━━━━━━━━\u001b[0m\u001b[37m\u001b[0m \u001b[1m15s\u001b[0m 80ms/step - accuracy: 0.6029 - loss: 1.0295 - val_accuracy: 0.6527 - val_loss: 0.9344\n",
      "Epoch 5/10\n",
      "\u001b[1m179/179\u001b[0m \u001b[32m━━━━━━━━━━━━━━━━━━━━\u001b[0m\u001b[37m\u001b[0m \u001b[1m15s\u001b[0m 79ms/step - accuracy: 0.6437 - loss: 0.9549 - val_accuracy: 0.6597 - val_loss: 0.9214\n",
      "Epoch 6/10\n",
      "\u001b[1m179/179\u001b[0m \u001b[32m━━━━━━━━━━━━━━━━━━━━\u001b[0m\u001b[37m\u001b[0m \u001b[1m15s\u001b[0m 80ms/step - accuracy: 0.6630 - loss: 0.8875 - val_accuracy: 0.6562 - val_loss: 0.8690\n",
      "Epoch 7/10\n",
      "\u001b[1m179/179\u001b[0m \u001b[32m━━━━━━━━━━━━━━━━━━━━\u001b[0m\u001b[37m\u001b[0m \u001b[1m15s\u001b[0m 80ms/step - accuracy: 0.6679 - loss: 0.8752 - val_accuracy: 0.6807 - val_loss: 0.8308\n",
      "Epoch 8/10\n",
      "\u001b[1m179/179\u001b[0m \u001b[32m━━━━━━━━━━━━━━━━━━━━\u001b[0m\u001b[37m\u001b[0m \u001b[1m15s\u001b[0m 79ms/step - accuracy: 0.6724 - loss: 0.8349 - val_accuracy: 0.6903 - val_loss: 0.7934\n",
      "Epoch 9/10\n",
      "\u001b[1m179/179\u001b[0m \u001b[32m━━━━━━━━━━━━━━━━━━━━\u001b[0m\u001b[37m\u001b[0m \u001b[1m15s\u001b[0m 79ms/step - accuracy: 0.6798 - loss: 0.8235 - val_accuracy: 0.6702 - val_loss: 0.8089\n",
      "Epoch 10/10\n",
      "\u001b[1m179/179\u001b[0m \u001b[32m━━━━━━━━━━━━━━━━━━━━\u001b[0m\u001b[37m\u001b[0m \u001b[1m15s\u001b[0m 81ms/step - accuracy: 0.6871 - loss: 0.7965 - val_accuracy: 0.6982 - val_loss: 0.7722\n",
      "Training model with config: filter_size=(5, 5), num_filters=32, num_layers=2, num_units=32, activation=tanh, padding=valid, stride=(1, 1), optimizer=rmsprop, l1_lambda=0, l2_lambda=0, dropout_rate=0, epochs=10, batch_size=32\n",
      "Epoch 1/10\n",
      "\u001b[1m179/179\u001b[0m \u001b[32m━━━━━━━━━━━━━━━━━━━━\u001b[0m\u001b[37m\u001b[0m \u001b[1m17s\u001b[0m 83ms/step - accuracy: 0.4948 - loss: 1.1188 - val_accuracy: 0.7445 - val_loss: 0.6934\n",
      "Epoch 2/10\n",
      "\u001b[1m179/179\u001b[0m \u001b[32m━━━━━━━━━━━━━━━━━━━━\u001b[0m\u001b[37m\u001b[0m \u001b[1m15s\u001b[0m 81ms/step - accuracy: 0.7314 - loss: 0.6750 - val_accuracy: 0.7139 - val_loss: 0.6799\n",
      "Epoch 3/10\n",
      "\u001b[1m179/179\u001b[0m \u001b[32m━━━━━━━━━━━━━━━━━━━━\u001b[0m\u001b[37m\u001b[0m \u001b[1m15s\u001b[0m 82ms/step - accuracy: 0.7646 - loss: 0.6020 - val_accuracy: 0.8119 - val_loss: 0.4880\n",
      "Epoch 4/10\n",
      "\u001b[1m179/179\u001b[0m \u001b[32m━━━━━━━━━━━━━━━━━━━━\u001b[0m\u001b[37m\u001b[0m \u001b[1m15s\u001b[0m 80ms/step - accuracy: 0.7862 - loss: 0.5527 - val_accuracy: 0.7962 - val_loss: 0.5072\n",
      "Epoch 5/10\n",
      "\u001b[1m179/179\u001b[0m \u001b[32m━━━━━━━━━━━━━━━━━━━━\u001b[0m\u001b[37m\u001b[0m \u001b[1m16s\u001b[0m 83ms/step - accuracy: 0.7997 - loss: 0.5203 - val_accuracy: 0.8066 - val_loss: 0.4992\n",
      "Epoch 6/10\n",
      "\u001b[1m179/179\u001b[0m \u001b[32m━━━━━━━━━━━━━━━━━━━━\u001b[0m\u001b[37m\u001b[0m \u001b[1m15s\u001b[0m 80ms/step - accuracy: 0.8136 - loss: 0.4763 - val_accuracy: 0.8373 - val_loss: 0.4296\n",
      "Epoch 7/10\n",
      "\u001b[1m179/179\u001b[0m \u001b[32m━━━━━━━━━━━━━━━━━━━━\u001b[0m\u001b[37m\u001b[0m \u001b[1m15s\u001b[0m 80ms/step - accuracy: 0.8261 - loss: 0.4571 - val_accuracy: 0.8504 - val_loss: 0.3826\n",
      "Epoch 8/10\n",
      "\u001b[1m179/179\u001b[0m \u001b[32m━━━━━━━━━━━━━━━━━━━━\u001b[0m\u001b[37m\u001b[0m \u001b[1m15s\u001b[0m 80ms/step - accuracy: 0.8272 - loss: 0.4450 - val_accuracy: 0.8285 - val_loss: 0.4069\n",
      "Epoch 9/10\n",
      "\u001b[1m179/179\u001b[0m \u001b[32m━━━━━━━━━━━━━━━━━━━━\u001b[0m\u001b[37m\u001b[0m \u001b[1m15s\u001b[0m 81ms/step - accuracy: 0.8294 - loss: 0.4235 - val_accuracy: 0.8653 - val_loss: 0.3605\n",
      "Epoch 10/10\n",
      "\u001b[1m179/179\u001b[0m \u001b[32m━━━━━━━━━━━━━━━━━━━━\u001b[0m\u001b[37m\u001b[0m \u001b[1m15s\u001b[0m 82ms/step - accuracy: 0.8474 - loss: 0.3963 - val_accuracy: 0.8434 - val_loss: 0.3773\n",
      "Training model with config: filter_size=(5, 5), num_filters=32, num_layers=2, num_units=32, activation=tanh, padding=valid, stride=(1, 1), optimizer=adagrad, l1_lambda=0, l2_lambda=0, dropout_rate=0, epochs=10, batch_size=32\n",
      "Epoch 1/10\n",
      "\u001b[1m179/179\u001b[0m \u001b[32m━━━━━━━━━━━━━━━━━━━━\u001b[0m\u001b[37m\u001b[0m \u001b[1m16s\u001b[0m 81ms/step - accuracy: 0.2731 - loss: 1.3723 - val_accuracy: 0.2992 - val_loss: 1.3390\n",
      "Epoch 2/10\n",
      "\u001b[1m179/179\u001b[0m \u001b[32m━━━━━━━━━━━━━━━━━━━━\u001b[0m\u001b[37m\u001b[0m \u001b[1m15s\u001b[0m 80ms/step - accuracy: 0.2823 - loss: 1.3397 - val_accuracy: 0.3027 - val_loss: 1.3066\n",
      "Epoch 3/10\n",
      "\u001b[1m179/179\u001b[0m \u001b[32m━━━━━━━━━━━━━━━━━━━━\u001b[0m\u001b[37m\u001b[0m \u001b[1m15s\u001b[0m 81ms/step - accuracy: 0.3151 - loss: 1.3045 - val_accuracy: 0.3745 - val_loss: 1.2713\n",
      "Epoch 4/10\n",
      "\u001b[1m179/179\u001b[0m \u001b[32m━━━━━━━━━━━━━━━━━━━━\u001b[0m\u001b[37m\u001b[0m \u001b[1m15s\u001b[0m 81ms/step - accuracy: 0.3954 - loss: 1.2688 - val_accuracy: 0.4427 - val_loss: 1.2298\n",
      "Epoch 5/10\n",
      "\u001b[1m179/179\u001b[0m \u001b[32m━━━━━━━━━━━━━━━━━━━━\u001b[0m\u001b[37m\u001b[0m \u001b[1m15s\u001b[0m 80ms/step - accuracy: 0.4804 - loss: 1.2238 - val_accuracy: 0.5039 - val_loss: 1.1860\n",
      "Epoch 6/10\n",
      "\u001b[1m179/179\u001b[0m \u001b[32m━━━━━━━━━━━━━━━━━━━━\u001b[0m\u001b[37m\u001b[0m \u001b[1m15s\u001b[0m 80ms/step - accuracy: 0.5175 - loss: 1.1859 - val_accuracy: 0.5774 - val_loss: 1.1416\n",
      "Epoch 7/10\n",
      "\u001b[1m179/179\u001b[0m \u001b[32m━━━━━━━━━━━━━━━━━━━━\u001b[0m\u001b[37m\u001b[0m \u001b[1m15s\u001b[0m 81ms/step - accuracy: 0.5773 - loss: 1.1360 - val_accuracy: 0.6089 - val_loss: 1.0950\n",
      "Epoch 8/10\n",
      "\u001b[1m179/179\u001b[0m \u001b[32m━━━━━━━━━━━━━━━━━━━━\u001b[0m\u001b[37m\u001b[0m \u001b[1m16s\u001b[0m 85ms/step - accuracy: 0.6131 - loss: 1.0903 - val_accuracy: 0.6334 - val_loss: 1.0547\n",
      "Epoch 9/10\n",
      "\u001b[1m179/179\u001b[0m \u001b[32m━━━━━━━━━━━━━━━━━━━━\u001b[0m\u001b[37m\u001b[0m \u001b[1m15s\u001b[0m 80ms/step - accuracy: 0.6217 - loss: 1.0502 - val_accuracy: 0.6457 - val_loss: 1.0179\n",
      "Epoch 10/10\n",
      "\u001b[1m179/179\u001b[0m \u001b[32m━━━━━━━━━━━━━━━━━━━━\u001b[0m\u001b[37m\u001b[0m \u001b[1m15s\u001b[0m 80ms/step - accuracy: 0.6481 - loss: 1.0099 - val_accuracy: 0.6597 - val_loss: 0.9820\n",
      "Training model with config: filter_size=(5, 5), num_filters=32, num_layers=2, num_units=32, activation=tanh, padding=valid, stride=(1, 1), optimizer=adam, l1_lambda=0, l2_lambda=0, dropout_rate=0, epochs=10, batch_size=32\n",
      "Epoch 1/10\n",
      "\u001b[1m179/179\u001b[0m \u001b[32m━━━━━━━━━━━━━━━━━━━━\u001b[0m\u001b[37m\u001b[0m \u001b[1m17s\u001b[0m 83ms/step - accuracy: 0.4987 - loss: 1.1066 - val_accuracy: 0.7183 - val_loss: 0.6653\n",
      "Epoch 2/10\n",
      "\u001b[1m179/179\u001b[0m \u001b[32m━━━━━━━━━━━━━━━━━━━━\u001b[0m\u001b[37m\u001b[0m \u001b[1m15s\u001b[0m 81ms/step - accuracy: 0.7564 - loss: 0.6572 - val_accuracy: 0.8040 - val_loss: 0.5267\n",
      "Epoch 3/10\n",
      "\u001b[1m179/179\u001b[0m \u001b[32m━━━━━━━━━━━━━━━━━━━━\u001b[0m\u001b[37m\u001b[0m \u001b[1m15s\u001b[0m 82ms/step - accuracy: 0.7811 - loss: 0.5630 - val_accuracy: 0.7935 - val_loss: 0.5300\n",
      "Epoch 4/10\n",
      "\u001b[1m179/179\u001b[0m \u001b[32m━━━━━━━━━━━━━━━━━━━━\u001b[0m\u001b[37m\u001b[0m \u001b[1m16s\u001b[0m 84ms/step - accuracy: 0.8052 - loss: 0.5203 - val_accuracy: 0.8215 - val_loss: 0.4644\n",
      "Epoch 5/10\n",
      "\u001b[1m179/179\u001b[0m \u001b[32m━━━━━━━━━━━━━━━━━━━━\u001b[0m\u001b[37m\u001b[0m \u001b[1m15s\u001b[0m 81ms/step - accuracy: 0.8220 - loss: 0.4787 - val_accuracy: 0.8154 - val_loss: 0.4708\n",
      "Epoch 6/10\n",
      "\u001b[1m179/179\u001b[0m \u001b[32m━━━━━━━━━━━━━━━━━━━━\u001b[0m\u001b[37m\u001b[0m \u001b[1m15s\u001b[0m 82ms/step - accuracy: 0.8241 - loss: 0.4606 - val_accuracy: 0.8338 - val_loss: 0.4301\n",
      "Epoch 7/10\n",
      "\u001b[1m179/179\u001b[0m \u001b[32m━━━━━━━━━━━━━━━━━━━━\u001b[0m\u001b[37m\u001b[0m \u001b[1m15s\u001b[0m 82ms/step - accuracy: 0.8314 - loss: 0.4332 - val_accuracy: 0.8329 - val_loss: 0.4341\n",
      "Epoch 8/10\n",
      "\u001b[1m179/179\u001b[0m \u001b[32m━━━━━━━━━━━━━━━━━━━━\u001b[0m\u001b[37m\u001b[0m \u001b[1m15s\u001b[0m 81ms/step - accuracy: 0.8338 - loss: 0.4283 - val_accuracy: 0.8451 - val_loss: 0.3773\n",
      "Epoch 9/10\n",
      "\u001b[1m179/179\u001b[0m \u001b[32m━━━━━━━━━━━━━━━━━━━━\u001b[0m\u001b[37m\u001b[0m \u001b[1m16s\u001b[0m 83ms/step - accuracy: 0.8517 - loss: 0.3830 - val_accuracy: 0.8416 - val_loss: 0.4138\n",
      "Epoch 10/10\n",
      "\u001b[1m179/179\u001b[0m \u001b[32m━━━━━━━━━━━━━━━━━━━━\u001b[0m\u001b[37m\u001b[0m \u001b[1m15s\u001b[0m 81ms/step - accuracy: 0.8409 - loss: 0.4110 - val_accuracy: 0.8574 - val_loss: 0.3585\n",
      "Training model with config: filter_size=(5, 5), num_filters=32, num_layers=2, num_units=32, activation=tanh, padding=valid, stride=(1, 1), optimizer=sgd, l1_lambda=0, l2_lambda=0, dropout_rate=0, epochs=10, batch_size=32\n",
      "Epoch 1/10\n",
      "\u001b[1m179/179\u001b[0m \u001b[32m━━━━━━━━━━━━━━━━━━━━\u001b[0m\u001b[37m\u001b[0m \u001b[1m16s\u001b[0m 83ms/step - accuracy: 0.3314 - loss: 1.3316 - val_accuracy: 0.6422 - val_loss: 1.1145\n",
      "Epoch 2/10\n",
      "\u001b[1m179/179\u001b[0m \u001b[32m━━━━━━━━━━━━━━━━━━━━\u001b[0m\u001b[37m\u001b[0m \u001b[1m15s\u001b[0m 83ms/step - accuracy: 0.6313 - loss: 1.0473 - val_accuracy: 0.6772 - val_loss: 0.9243\n",
      "Epoch 3/10\n",
      "\u001b[1m179/179\u001b[0m \u001b[32m━━━━━━━━━━━━━━━━━━━━\u001b[0m\u001b[37m\u001b[0m \u001b[1m15s\u001b[0m 80ms/step - accuracy: 0.6675 - loss: 0.9144 - val_accuracy: 0.6877 - val_loss: 0.8788\n",
      "Epoch 4/10\n",
      "\u001b[1m179/179\u001b[0m \u001b[32m━━━━━━━━━━━━━━━━━━━━\u001b[0m\u001b[37m\u001b[0m \u001b[1m15s\u001b[0m 79ms/step - accuracy: 0.6746 - loss: 0.8682 - val_accuracy: 0.6649 - val_loss: 0.8722\n",
      "Epoch 5/10\n",
      "\u001b[1m179/179\u001b[0m \u001b[32m━━━━━━━━━━━━━━━━━━━━\u001b[0m\u001b[37m\u001b[0m \u001b[1m15s\u001b[0m 79ms/step - accuracy: 0.6853 - loss: 0.8343 - val_accuracy: 0.6999 - val_loss: 0.8078\n",
      "Epoch 6/10\n",
      "\u001b[1m179/179\u001b[0m \u001b[32m━━━━━━━━━━━━━━━━━━━━\u001b[0m\u001b[37m\u001b[0m \u001b[1m15s\u001b[0m 79ms/step - accuracy: 0.6929 - loss: 0.8125 - val_accuracy: 0.6912 - val_loss: 0.8081\n",
      "Epoch 7/10\n",
      "\u001b[1m179/179\u001b[0m \u001b[32m━━━━━━━━━━━━━━━━━━━━\u001b[0m\u001b[37m\u001b[0m \u001b[1m15s\u001b[0m 80ms/step - accuracy: 0.6976 - loss: 0.7960 - val_accuracy: 0.7148 - val_loss: 0.7532\n",
      "Epoch 8/10\n",
      "\u001b[1m179/179\u001b[0m \u001b[32m━━━━━━━━━━━━━━━━━━━━\u001b[0m\u001b[37m\u001b[0m \u001b[1m15s\u001b[0m 80ms/step - accuracy: 0.7073 - loss: 0.7692 - val_accuracy: 0.7227 - val_loss: 0.7285\n",
      "Epoch 9/10\n",
      "\u001b[1m179/179\u001b[0m \u001b[32m━━━━━━━━━━━━━━━━━━━━\u001b[0m\u001b[37m\u001b[0m \u001b[1m15s\u001b[0m 79ms/step - accuracy: 0.7222 - loss: 0.7226 - val_accuracy: 0.7358 - val_loss: 0.7011\n",
      "Epoch 10/10\n",
      "\u001b[1m179/179\u001b[0m \u001b[32m━━━━━━━━━━━━━━━━━━━━\u001b[0m\u001b[37m\u001b[0m \u001b[1m15s\u001b[0m 80ms/step - accuracy: 0.7254 - loss: 0.7186 - val_accuracy: 0.7367 - val_loss: 0.6836\n",
      "Training model with config: filter_size=(5, 5), num_filters=32, num_layers=2, num_units=64, activation=relu, padding=valid, stride=(1, 1), optimizer=rmsprop, l1_lambda=0, l2_lambda=0, dropout_rate=0, epochs=10, batch_size=32\n",
      "Epoch 1/10\n",
      "\u001b[1m179/179\u001b[0m \u001b[32m━━━━━━━━━━━━━━━━━━━━\u001b[0m\u001b[37m\u001b[0m \u001b[1m16s\u001b[0m 83ms/step - accuracy: 0.4086 - loss: 1.2258 - val_accuracy: 0.6877 - val_loss: 0.8030\n",
      "Epoch 2/10\n",
      "\u001b[1m179/179\u001b[0m \u001b[32m━━━━━━━━━━━━━━━━━━━━\u001b[0m\u001b[37m\u001b[0m \u001b[1m15s\u001b[0m 80ms/step - accuracy: 0.6675 - loss: 0.8323 - val_accuracy: 0.7288 - val_loss: 0.6872\n",
      "Epoch 3/10\n",
      "\u001b[1m179/179\u001b[0m \u001b[32m━━━━━━━━━━━━━━━━━━━━\u001b[0m\u001b[37m\u001b[0m \u001b[1m15s\u001b[0m 80ms/step - accuracy: 0.7256 - loss: 0.7222 - val_accuracy: 0.7542 - val_loss: 0.6040\n",
      "Epoch 4/10\n",
      "\u001b[1m179/179\u001b[0m \u001b[32m━━━━━━━━━━━━━━━━━━━━\u001b[0m\u001b[37m\u001b[0m \u001b[1m15s\u001b[0m 82ms/step - accuracy: 0.7614 - loss: 0.6356 - val_accuracy: 0.7874 - val_loss: 0.5450\n",
      "Epoch 5/10\n",
      "\u001b[1m179/179\u001b[0m \u001b[32m━━━━━━━━━━━━━━━━━━━━\u001b[0m\u001b[37m\u001b[0m \u001b[1m15s\u001b[0m 81ms/step - accuracy: 0.7954 - loss: 0.5444 - val_accuracy: 0.8005 - val_loss: 0.5121\n",
      "Epoch 6/10\n",
      "\u001b[1m179/179\u001b[0m \u001b[32m━━━━━━━━━━━━━━━━━━━━\u001b[0m\u001b[37m\u001b[0m \u001b[1m15s\u001b[0m 80ms/step - accuracy: 0.8005 - loss: 0.5183 - val_accuracy: 0.8206 - val_loss: 0.4504\n",
      "Epoch 7/10\n",
      "\u001b[1m179/179\u001b[0m \u001b[32m━━━━━━━━━━━━━━━━━━━━\u001b[0m\u001b[37m\u001b[0m \u001b[1m15s\u001b[0m 80ms/step - accuracy: 0.8040 - loss: 0.4997 - val_accuracy: 0.8005 - val_loss: 0.4863\n",
      "Epoch 8/10\n",
      "\u001b[1m179/179\u001b[0m \u001b[32m━━━━━━━━━━━━━━━━━━━━\u001b[0m\u001b[37m\u001b[0m \u001b[1m15s\u001b[0m 82ms/step - accuracy: 0.8187 - loss: 0.4667 - val_accuracy: 0.8311 - val_loss: 0.4534\n",
      "Epoch 9/10\n",
      "\u001b[1m179/179\u001b[0m \u001b[32m━━━━━━━━━━━━━━━━━━━━\u001b[0m\u001b[37m\u001b[0m \u001b[1m15s\u001b[0m 83ms/step - accuracy: 0.8380 - loss: 0.4335 - val_accuracy: 0.8591 - val_loss: 0.3773\n",
      "Epoch 10/10\n",
      "\u001b[1m179/179\u001b[0m \u001b[32m━━━━━━━━━━━━━━━━━━━━\u001b[0m\u001b[37m\u001b[0m \u001b[1m15s\u001b[0m 80ms/step - accuracy: 0.8304 - loss: 0.4251 - val_accuracy: 0.8548 - val_loss: 0.3927\n",
      "Training model with config: filter_size=(5, 5), num_filters=32, num_layers=2, num_units=64, activation=relu, padding=valid, stride=(1, 1), optimizer=adagrad, l1_lambda=0, l2_lambda=0, dropout_rate=0, epochs=10, batch_size=32\n",
      "Epoch 1/10\n",
      "\u001b[1m179/179\u001b[0m \u001b[32m━━━━━━━━━━━━━━━━━━━━\u001b[0m\u001b[37m\u001b[0m \u001b[1m16s\u001b[0m 82ms/step - accuracy: 0.2815 - loss: 1.3783 - val_accuracy: 0.2992 - val_loss: 1.3619\n",
      "Epoch 2/10\n",
      "\u001b[1m179/179\u001b[0m \u001b[32m━━━━━━━━━━━━━━━━━━━━\u001b[0m\u001b[37m\u001b[0m \u001b[1m15s\u001b[0m 80ms/step - accuracy: 0.2728 - loss: 1.3639 - val_accuracy: 0.2992 - val_loss: 1.3482\n",
      "Epoch 3/10\n",
      "\u001b[1m179/179\u001b[0m \u001b[32m━━━━━━━━━━━━━━━━━━━━\u001b[0m\u001b[37m\u001b[0m \u001b[1m15s\u001b[0m 80ms/step - accuracy: 0.2822 - loss: 1.3486 - val_accuracy: 0.2992 - val_loss: 1.3363\n",
      "Epoch 4/10\n",
      "\u001b[1m179/179\u001b[0m \u001b[32m━━━━━━━━━━━━━━━━━━━━\u001b[0m\u001b[37m\u001b[0m \u001b[1m15s\u001b[0m 79ms/step - accuracy: 0.2753 - loss: 1.3428 - val_accuracy: 0.2992 - val_loss: 1.3233\n",
      "Epoch 5/10\n",
      "\u001b[1m179/179\u001b[0m \u001b[32m━━━━━━━━━━━━━━━━━━━━\u001b[0m\u001b[37m\u001b[0m \u001b[1m15s\u001b[0m 80ms/step - accuracy: 0.2739 - loss: 1.3281 - val_accuracy: 0.3001 - val_loss: 1.3065\n",
      "Epoch 6/10\n",
      "\u001b[1m179/179\u001b[0m \u001b[32m━━━━━━━━━━━━━━━━━━━━\u001b[0m\u001b[37m\u001b[0m \u001b[1m15s\u001b[0m 79ms/step - accuracy: 0.2783 - loss: 1.3100 - val_accuracy: 0.3062 - val_loss: 1.2830\n",
      "Epoch 7/10\n",
      "\u001b[1m179/179\u001b[0m \u001b[32m━━━━━━━━━━━━━━━━━━━━\u001b[0m\u001b[37m\u001b[0m \u001b[1m15s\u001b[0m 82ms/step - accuracy: 0.2905 - loss: 1.2885 - val_accuracy: 0.3421 - val_loss: 1.2574\n",
      "Epoch 8/10\n",
      "\u001b[1m179/179\u001b[0m \u001b[32m━━━━━━━━━━━━━━━━━━━━\u001b[0m\u001b[37m\u001b[0m \u001b[1m15s\u001b[0m 80ms/step - accuracy: 0.3446 - loss: 1.2605 - val_accuracy: 0.4366 - val_loss: 1.2264\n",
      "Epoch 9/10\n",
      "\u001b[1m179/179\u001b[0m \u001b[32m━━━━━━━━━━━━━━━━━━━━\u001b[0m\u001b[37m\u001b[0m \u001b[1m15s\u001b[0m 80ms/step - accuracy: 0.4190 - loss: 1.2313 - val_accuracy: 0.4768 - val_loss: 1.1932\n",
      "Epoch 10/10\n",
      "\u001b[1m179/179\u001b[0m \u001b[32m━━━━━━━━━━━━━━━━━━━━\u001b[0m\u001b[37m\u001b[0m \u001b[1m15s\u001b[0m 80ms/step - accuracy: 0.5152 - loss: 1.1872 - val_accuracy: 0.5442 - val_loss: 1.1490\n",
      "Training model with config: filter_size=(5, 5), num_filters=32, num_layers=2, num_units=64, activation=relu, padding=valid, stride=(1, 1), optimizer=adam, l1_lambda=0, l2_lambda=0, dropout_rate=0, epochs=10, batch_size=32\n",
      "Epoch 1/10\n",
      "\u001b[1m179/179\u001b[0m \u001b[32m━━━━━━━━━━━━━━━━━━━━\u001b[0m\u001b[37m\u001b[0m \u001b[1m17s\u001b[0m 82ms/step - accuracy: 0.4096 - loss: 1.2169 - val_accuracy: 0.6308 - val_loss: 0.8966\n",
      "Epoch 2/10\n",
      "\u001b[1m179/179\u001b[0m \u001b[32m━━━━━━━━━━━━━━━━━━━━\u001b[0m\u001b[37m\u001b[0m \u001b[1m15s\u001b[0m 83ms/step - accuracy: 0.6885 - loss: 0.7961 - val_accuracy: 0.7218 - val_loss: 0.6894\n",
      "Epoch 3/10\n",
      "\u001b[1m179/179\u001b[0m \u001b[32m━━━━━━━━━━━━━━━━━━━━\u001b[0m\u001b[37m\u001b[0m \u001b[1m15s\u001b[0m 81ms/step - accuracy: 0.7192 - loss: 0.6975 - val_accuracy: 0.7830 - val_loss: 0.5925\n",
      "Epoch 4/10\n",
      "\u001b[1m179/179\u001b[0m \u001b[32m━━━━━━━━━━━━━━━━━━━━\u001b[0m\u001b[37m\u001b[0m \u001b[1m15s\u001b[0m 83ms/step - accuracy: 0.7593 - loss: 0.6105 - val_accuracy: 0.7874 - val_loss: 0.5524\n",
      "Epoch 5/10\n",
      "\u001b[1m179/179\u001b[0m \u001b[32m━━━━━━━━━━━━━━━━━━━━\u001b[0m\u001b[37m\u001b[0m \u001b[1m15s\u001b[0m 83ms/step - accuracy: 0.7706 - loss: 0.6004 - val_accuracy: 0.8005 - val_loss: 0.5230\n",
      "Epoch 6/10\n",
      "\u001b[1m179/179\u001b[0m \u001b[32m━━━━━━━━━━━━━━━━━━━━\u001b[0m\u001b[37m\u001b[0m \u001b[1m15s\u001b[0m 81ms/step - accuracy: 0.7938 - loss: 0.5475 - val_accuracy: 0.7944 - val_loss: 0.5219\n",
      "Epoch 7/10\n",
      "\u001b[1m179/179\u001b[0m \u001b[32m━━━━━━━━━━━━━━━━━━━━\u001b[0m\u001b[37m\u001b[0m \u001b[1m15s\u001b[0m 80ms/step - accuracy: 0.8048 - loss: 0.5103 - val_accuracy: 0.8346 - val_loss: 0.4488\n",
      "Epoch 8/10\n",
      "\u001b[1m179/179\u001b[0m \u001b[32m━━━━━━━━━━━━━━━━━━━━\u001b[0m\u001b[37m\u001b[0m \u001b[1m15s\u001b[0m 81ms/step - accuracy: 0.8155 - loss: 0.4915 - val_accuracy: 0.8408 - val_loss: 0.4566\n",
      "Epoch 9/10\n",
      "\u001b[1m179/179\u001b[0m \u001b[32m━━━━━━━━━━━━━━━━━━━━\u001b[0m\u001b[37m\u001b[0m \u001b[1m15s\u001b[0m 81ms/step - accuracy: 0.8191 - loss: 0.4706 - val_accuracy: 0.8469 - val_loss: 0.4094\n",
      "Epoch 10/10\n",
      "\u001b[1m179/179\u001b[0m \u001b[32m━━━━━━━━━━━━━━━━━━━━\u001b[0m\u001b[37m\u001b[0m \u001b[1m15s\u001b[0m 80ms/step - accuracy: 0.8261 - loss: 0.4500 - val_accuracy: 0.8451 - val_loss: 0.4197\n",
      "Training model with config: filter_size=(5, 5), num_filters=32, num_layers=2, num_units=64, activation=relu, padding=valid, stride=(1, 1), optimizer=sgd, l1_lambda=0, l2_lambda=0, dropout_rate=0, epochs=10, batch_size=32\n",
      "Epoch 1/10\n",
      "\u001b[1m179/179\u001b[0m \u001b[32m━━━━━━━━━━━━━━━━━━━━\u001b[0m\u001b[37m\u001b[0m \u001b[1m16s\u001b[0m 85ms/step - accuracy: 0.2548 - loss: 1.3823 - val_accuracy: 0.2992 - val_loss: 1.3574\n",
      "Epoch 2/10\n",
      "\u001b[1m179/179\u001b[0m \u001b[32m━━━━━━━━━━━━━━━━━━━━\u001b[0m\u001b[37m\u001b[0m \u001b[1m16s\u001b[0m 85ms/step - accuracy: 0.2835 - loss: 1.3476 - val_accuracy: 0.3666 - val_loss: 1.2846\n",
      "Epoch 3/10\n",
      "\u001b[1m179/179\u001b[0m \u001b[32m━━━━━━━━━━━━━━━━━━━━\u001b[0m\u001b[37m\u001b[0m \u001b[1m15s\u001b[0m 83ms/step - accuracy: 0.4193 - loss: 1.2412 - val_accuracy: 0.6185 - val_loss: 1.0641\n",
      "Epoch 4/10\n",
      "\u001b[1m179/179\u001b[0m \u001b[32m━━━━━━━━━━━━━━━━━━━━\u001b[0m\u001b[37m\u001b[0m \u001b[1m15s\u001b[0m 80ms/step - accuracy: 0.6174 - loss: 1.0381 - val_accuracy: 0.6649 - val_loss: 0.9194\n",
      "Epoch 5/10\n",
      "\u001b[1m179/179\u001b[0m \u001b[32m━━━━━━━━━━━━━━━━━━━━\u001b[0m\u001b[37m\u001b[0m \u001b[1m15s\u001b[0m 81ms/step - accuracy: 0.6523 - loss: 0.9152 - val_accuracy: 0.6448 - val_loss: 0.8965\n",
      "Epoch 6/10\n",
      "\u001b[1m179/179\u001b[0m \u001b[32m━━━━━━━━━━━━━━━━━━━━\u001b[0m\u001b[37m\u001b[0m \u001b[1m15s\u001b[0m 81ms/step - accuracy: 0.6886 - loss: 0.8443 - val_accuracy: 0.6754 - val_loss: 0.8220\n",
      "Epoch 7/10\n"
     ]
    },
    {
     "name": "stdout",
     "output_type": "stream",
     "text": [
      "\u001b[1m179/179\u001b[0m \u001b[32m━━━━━━━━━━━━━━━━━━━━\u001b[0m\u001b[37m\u001b[0m \u001b[1m15s\u001b[0m 79ms/step - accuracy: 0.6707 - loss: 0.8398 - val_accuracy: 0.6553 - val_loss: 0.8387\n",
      "Epoch 8/10\n",
      "\u001b[1m179/179\u001b[0m \u001b[32m━━━━━━━━━━━━━━━━━━━━\u001b[0m\u001b[37m\u001b[0m \u001b[1m15s\u001b[0m 80ms/step - accuracy: 0.6910 - loss: 0.8194 - val_accuracy: 0.6859 - val_loss: 0.7902\n",
      "Epoch 9/10\n",
      "\u001b[1m179/179\u001b[0m \u001b[32m━━━━━━━━━━━━━━━━━━━━\u001b[0m\u001b[37m\u001b[0m \u001b[1m15s\u001b[0m 79ms/step - accuracy: 0.7021 - loss: 0.7738 - val_accuracy: 0.6929 - val_loss: 0.7718\n",
      "Epoch 10/10\n",
      "\u001b[1m179/179\u001b[0m \u001b[32m━━━━━━━━━━━━━━━━━━━━\u001b[0m\u001b[37m\u001b[0m \u001b[1m16s\u001b[0m 85ms/step - accuracy: 0.7052 - loss: 0.7675 - val_accuracy: 0.7192 - val_loss: 0.7180\n",
      "Training model with config: filter_size=(5, 5), num_filters=32, num_layers=2, num_units=64, activation=tanh, padding=valid, stride=(1, 1), optimizer=rmsprop, l1_lambda=0, l2_lambda=0, dropout_rate=0, epochs=10, batch_size=32\n",
      "Epoch 1/10\n",
      "\u001b[1m179/179\u001b[0m \u001b[32m━━━━━━━━━━━━━━━━━━━━\u001b[0m\u001b[37m\u001b[0m \u001b[1m23s\u001b[0m 114ms/step - accuracy: 0.5032 - loss: 1.0918 - val_accuracy: 0.7454 - val_loss: 0.6348\n",
      "Epoch 2/10\n",
      "\u001b[1m179/179\u001b[0m \u001b[32m━━━━━━━━━━━━━━━━━━━━\u001b[0m\u001b[37m\u001b[0m \u001b[1m19s\u001b[0m 99ms/step - accuracy: 0.7291 - loss: 0.6925 - val_accuracy: 0.7743 - val_loss: 0.5636\n",
      "Epoch 3/10\n",
      "\u001b[1m179/179\u001b[0m \u001b[32m━━━━━━━━━━━━━━━━━━━━\u001b[0m\u001b[37m\u001b[0m \u001b[1m15s\u001b[0m 80ms/step - accuracy: 0.7615 - loss: 0.5888 - val_accuracy: 0.7997 - val_loss: 0.5046\n",
      "Epoch 4/10\n",
      "\u001b[1m179/179\u001b[0m \u001b[32m━━━━━━━━━━━━━━━━━━━━\u001b[0m\u001b[37m\u001b[0m \u001b[1m15s\u001b[0m 80ms/step - accuracy: 0.7877 - loss: 0.5405 - val_accuracy: 0.8206 - val_loss: 0.4529\n",
      "Epoch 5/10\n",
      "\u001b[1m179/179\u001b[0m \u001b[32m━━━━━━━━━━━━━━━━━━━━\u001b[0m\u001b[37m\u001b[0m \u001b[1m15s\u001b[0m 79ms/step - accuracy: 0.8033 - loss: 0.5034 - val_accuracy: 0.7804 - val_loss: 0.5158\n",
      "Epoch 6/10\n",
      "\u001b[1m179/179\u001b[0m \u001b[32m━━━━━━━━━━━━━━━━━━━━\u001b[0m\u001b[37m\u001b[0m \u001b[1m15s\u001b[0m 80ms/step - accuracy: 0.8012 - loss: 0.5096 - val_accuracy: 0.8408 - val_loss: 0.4142\n",
      "Epoch 7/10\n",
      "\u001b[1m179/179\u001b[0m \u001b[32m━━━━━━━━━━━━━━━━━━━━\u001b[0m\u001b[37m\u001b[0m \u001b[1m15s\u001b[0m 81ms/step - accuracy: 0.8144 - loss: 0.4833 - val_accuracy: 0.8276 - val_loss: 0.4380\n",
      "Epoch 8/10\n",
      "\u001b[1m179/179\u001b[0m \u001b[32m━━━━━━━━━━━━━━━━━━━━\u001b[0m\u001b[37m\u001b[0m \u001b[1m15s\u001b[0m 81ms/step - accuracy: 0.8242 - loss: 0.4602 - val_accuracy: 0.8364 - val_loss: 0.4131\n",
      "Epoch 9/10\n",
      "\u001b[1m179/179\u001b[0m \u001b[32m━━━━━━━━━━━━━━━━━━━━\u001b[0m\u001b[37m\u001b[0m \u001b[1m15s\u001b[0m 80ms/step - accuracy: 0.8405 - loss: 0.4089 - val_accuracy: 0.8556 - val_loss: 0.3851\n",
      "Epoch 10/10\n",
      "\u001b[1m179/179\u001b[0m \u001b[32m━━━━━━━━━━━━━━━━━━━━\u001b[0m\u001b[37m\u001b[0m \u001b[1m15s\u001b[0m 80ms/step - accuracy: 0.8296 - loss: 0.4395 - val_accuracy: 0.8574 - val_loss: 0.3650\n",
      "Training model with config: filter_size=(5, 5), num_filters=32, num_layers=2, num_units=64, activation=tanh, padding=valid, stride=(1, 1), optimizer=adagrad, l1_lambda=0, l2_lambda=0, dropout_rate=0, epochs=10, batch_size=32\n",
      "Epoch 1/10\n",
      "\u001b[1m179/179\u001b[0m \u001b[32m━━━━━━━━━━━━━━━━━━━━\u001b[0m\u001b[37m\u001b[0m \u001b[1m16s\u001b[0m 82ms/step - accuracy: 0.2763 - loss: 1.3659 - val_accuracy: 0.3071 - val_loss: 1.3203\n",
      "Epoch 2/10\n",
      "\u001b[1m179/179\u001b[0m \u001b[32m━━━━━━━━━━━━━━━━━━━━\u001b[0m\u001b[37m\u001b[0m \u001b[1m15s\u001b[0m 82ms/step - accuracy: 0.2933 - loss: 1.3177 - val_accuracy: 0.3421 - val_loss: 1.2755\n",
      "Epoch 3/10\n",
      "\u001b[1m179/179\u001b[0m \u001b[32m━━━━━━━━━━━━━━━━━━━━\u001b[0m\u001b[37m\u001b[0m \u001b[1m15s\u001b[0m 80ms/step - accuracy: 0.3577 - loss: 1.2713 - val_accuracy: 0.4313 - val_loss: 1.2230\n",
      "Epoch 4/10\n",
      "\u001b[1m179/179\u001b[0m \u001b[32m━━━━━━━━━━━━━━━━━━━━\u001b[0m\u001b[37m\u001b[0m \u001b[1m15s\u001b[0m 80ms/step - accuracy: 0.4462 - loss: 1.2120 - val_accuracy: 0.5398 - val_loss: 1.1677\n",
      "Epoch 5/10\n",
      "\u001b[1m179/179\u001b[0m \u001b[32m━━━━━━━━━━━━━━━━━━━━\u001b[0m\u001b[37m\u001b[0m \u001b[1m15s\u001b[0m 81ms/step - accuracy: 0.5210 - loss: 1.1634 - val_accuracy: 0.6037 - val_loss: 1.1179\n",
      "Epoch 6/10\n",
      "\u001b[1m179/179\u001b[0m \u001b[32m━━━━━━━━━━━━━━━━━━━━\u001b[0m\u001b[37m\u001b[0m \u001b[1m15s\u001b[0m 82ms/step - accuracy: 0.5962 - loss: 1.1123 - val_accuracy: 0.6229 - val_loss: 1.0697\n",
      "Epoch 7/10\n",
      "\u001b[1m179/179\u001b[0m \u001b[32m━━━━━━━━━━━━━━━━━━━━\u001b[0m\u001b[37m\u001b[0m \u001b[1m15s\u001b[0m 80ms/step - accuracy: 0.6205 - loss: 1.0637 - val_accuracy: 0.6317 - val_loss: 1.0263\n",
      "Epoch 8/10\n",
      "\u001b[1m179/179\u001b[0m \u001b[32m━━━━━━━━━━━━━━━━━━━━\u001b[0m\u001b[37m\u001b[0m \u001b[1m15s\u001b[0m 79ms/step - accuracy: 0.6394 - loss: 1.0270 - val_accuracy: 0.6527 - val_loss: 0.9896\n",
      "Epoch 9/10\n",
      "\u001b[1m179/179\u001b[0m \u001b[32m━━━━━━━━━━━━━━━━━━━━\u001b[0m\u001b[37m\u001b[0m \u001b[1m15s\u001b[0m 80ms/step - accuracy: 0.6517 - loss: 0.9857 - val_accuracy: 0.6492 - val_loss: 0.9609\n",
      "Epoch 10/10\n",
      "\u001b[1m179/179\u001b[0m \u001b[32m━━━━━━━━━━━━━━━━━━━━\u001b[0m\u001b[37m\u001b[0m \u001b[1m15s\u001b[0m 81ms/step - accuracy: 0.6519 - loss: 0.9549 - val_accuracy: 0.6667 - val_loss: 0.9353\n",
      "Training model with config: filter_size=(5, 5), num_filters=32, num_layers=2, num_units=64, activation=tanh, padding=valid, stride=(1, 1), optimizer=adam, l1_lambda=0, l2_lambda=0, dropout_rate=0, epochs=10, batch_size=32\n",
      "Epoch 1/10\n",
      "\u001b[1m179/179\u001b[0m \u001b[32m━━━━━━━━━━━━━━━━━━━━\u001b[0m\u001b[37m\u001b[0m \u001b[1m17s\u001b[0m 82ms/step - accuracy: 0.4966 - loss: 1.0958 - val_accuracy: 0.7340 - val_loss: 0.6722\n",
      "Epoch 2/10\n",
      "\u001b[1m179/179\u001b[0m \u001b[32m━━━━━━━━━━━━━━━━━━━━\u001b[0m\u001b[37m\u001b[0m \u001b[1m15s\u001b[0m 79ms/step - accuracy: 0.7441 - loss: 0.6496 - val_accuracy: 0.7865 - val_loss: 0.5285\n",
      "Epoch 3/10\n",
      "\u001b[1m179/179\u001b[0m \u001b[32m━━━━━━━━━━━━━━━━━━━━\u001b[0m\u001b[37m\u001b[0m \u001b[1m15s\u001b[0m 80ms/step - accuracy: 0.7833 - loss: 0.5516 - val_accuracy: 0.8136 - val_loss: 0.4894\n",
      "Epoch 4/10\n",
      "\u001b[1m179/179\u001b[0m \u001b[32m━━━━━━━━━━━━━━━━━━━━\u001b[0m\u001b[37m\u001b[0m \u001b[1m15s\u001b[0m 81ms/step - accuracy: 0.8114 - loss: 0.5011 - val_accuracy: 0.8145 - val_loss: 0.4716\n",
      "Epoch 5/10\n",
      "\u001b[1m179/179\u001b[0m \u001b[32m━━━━━━━━━━━━━━━━━━━━\u001b[0m\u001b[37m\u001b[0m \u001b[1m15s\u001b[0m 80ms/step - accuracy: 0.8278 - loss: 0.4737 - val_accuracy: 0.8443 - val_loss: 0.4236\n",
      "Epoch 6/10\n",
      "\u001b[1m179/179\u001b[0m \u001b[32m━━━━━━━━━━━━━━━━━━━━\u001b[0m\u001b[37m\u001b[0m \u001b[1m15s\u001b[0m 80ms/step - accuracy: 0.8179 - loss: 0.4891 - val_accuracy: 0.8486 - val_loss: 0.4235\n",
      "Epoch 7/10\n",
      "\u001b[1m179/179\u001b[0m \u001b[32m━━━━━━━━━━━━━━━━━━━━\u001b[0m\u001b[37m\u001b[0m \u001b[1m15s\u001b[0m 80ms/step - accuracy: 0.8345 - loss: 0.4302 - val_accuracy: 0.8548 - val_loss: 0.3799\n",
      "Epoch 8/10\n",
      "\u001b[1m179/179\u001b[0m \u001b[32m━━━━━━━━━━━━━━━━━━━━\u001b[0m\u001b[37m\u001b[0m \u001b[1m15s\u001b[0m 82ms/step - accuracy: 0.8515 - loss: 0.4045 - val_accuracy: 0.8443 - val_loss: 0.3964\n",
      "Epoch 9/10\n",
      "\u001b[1m179/179\u001b[0m \u001b[32m━━━━━━━━━━━━━━━━━━━━\u001b[0m\u001b[37m\u001b[0m \u001b[1m15s\u001b[0m 81ms/step - accuracy: 0.8519 - loss: 0.3853 - val_accuracy: 0.8416 - val_loss: 0.3891\n",
      "Epoch 10/10\n",
      "\u001b[1m179/179\u001b[0m \u001b[32m━━━━━━━━━━━━━━━━━━━━\u001b[0m\u001b[37m\u001b[0m \u001b[1m15s\u001b[0m 79ms/step - accuracy: 0.8578 - loss: 0.3771 - val_accuracy: 0.8408 - val_loss: 0.4018\n",
      "Training model with config: filter_size=(5, 5), num_filters=32, num_layers=2, num_units=64, activation=tanh, padding=valid, stride=(1, 1), optimizer=sgd, l1_lambda=0, l2_lambda=0, dropout_rate=0, epochs=10, batch_size=32\n",
      "Epoch 1/10\n",
      "\u001b[1m179/179\u001b[0m \u001b[32m━━━━━━━━━━━━━━━━━━━━\u001b[0m\u001b[37m\u001b[0m \u001b[1m16s\u001b[0m 81ms/step - accuracy: 0.2775 - loss: 1.3515 - val_accuracy: 0.5976 - val_loss: 1.1371\n",
      "Epoch 2/10\n",
      "\u001b[1m179/179\u001b[0m \u001b[32m━━━━━━━━━━━━━━━━━━━━\u001b[0m\u001b[37m\u001b[0m \u001b[1m15s\u001b[0m 82ms/step - accuracy: 0.6268 - loss: 1.0655 - val_accuracy: 0.6509 - val_loss: 0.9447\n",
      "Epoch 3/10\n",
      "\u001b[1m179/179\u001b[0m \u001b[32m━━━━━━━━━━━━━━━━━━━━\u001b[0m\u001b[37m\u001b[0m \u001b[1m15s\u001b[0m 81ms/step - accuracy: 0.6613 - loss: 0.9225 - val_accuracy: 0.6588 - val_loss: 0.9235\n",
      "Epoch 4/10\n",
      "\u001b[1m179/179\u001b[0m \u001b[32m━━━━━━━━━━━━━━━━━━━━\u001b[0m\u001b[37m\u001b[0m \u001b[1m15s\u001b[0m 80ms/step - accuracy: 0.6595 - loss: 0.8988 - val_accuracy: 0.6929 - val_loss: 0.8419\n",
      "Epoch 5/10\n",
      "\u001b[1m179/179\u001b[0m \u001b[32m━━━━━━━━━━━━━━━━━━━━\u001b[0m\u001b[37m\u001b[0m \u001b[1m15s\u001b[0m 80ms/step - accuracy: 0.6891 - loss: 0.8357 - val_accuracy: 0.6850 - val_loss: 0.8083\n",
      "Epoch 6/10\n",
      "\u001b[1m179/179\u001b[0m \u001b[32m━━━━━━━━━━━━━━━━━━━━\u001b[0m\u001b[37m\u001b[0m \u001b[1m15s\u001b[0m 81ms/step - accuracy: 0.6996 - loss: 0.8068 - val_accuracy: 0.7052 - val_loss: 0.7847\n",
      "Epoch 7/10\n",
      "\u001b[1m179/179\u001b[0m \u001b[32m━━━━━━━━━━━━━━━━━━━━\u001b[0m\u001b[37m\u001b[0m \u001b[1m15s\u001b[0m 79ms/step - accuracy: 0.7128 - loss: 0.7663 - val_accuracy: 0.7078 - val_loss: 0.7517\n",
      "Epoch 8/10\n",
      "\u001b[1m179/179\u001b[0m \u001b[32m━━━━━━━━━━━━━━━━━━━━\u001b[0m\u001b[37m\u001b[0m \u001b[1m15s\u001b[0m 80ms/step - accuracy: 0.7177 - loss: 0.7479 - val_accuracy: 0.7270 - val_loss: 0.7110\n",
      "Epoch 9/10\n",
      "\u001b[1m179/179\u001b[0m \u001b[32m━━━━━━━━━━━━━━━━━━━━\u001b[0m\u001b[37m\u001b[0m \u001b[1m15s\u001b[0m 81ms/step - accuracy: 0.7239 - loss: 0.7189 - val_accuracy: 0.7262 - val_loss: 0.7141\n",
      "Epoch 10/10\n",
      "\u001b[1m179/179\u001b[0m \u001b[32m━━━━━━━━━━━━━━━━━━━━\u001b[0m\u001b[37m\u001b[0m \u001b[1m16s\u001b[0m 85ms/step - accuracy: 0.7395 - loss: 0.6763 - val_accuracy: 0.7375 - val_loss: 0.6812\n",
      "Training model with config: filter_size=(5, 5), num_filters=64, num_layers=2, num_units=32, activation=relu, padding=valid, stride=(1, 1), optimizer=rmsprop, l1_lambda=0, l2_lambda=0, dropout_rate=0, epochs=10, batch_size=32\n"
     ]
    },
    {
     "name": "stdout",
     "output_type": "stream",
     "text": [
      "Epoch 1/10\n",
      "\u001b[1m179/179\u001b[0m \u001b[32m━━━━━━━━━━━━━━━━━━━━\u001b[0m\u001b[37m\u001b[0m \u001b[1m18s\u001b[0m 94ms/step - accuracy: 0.3892 - loss: 1.2656 - val_accuracy: 0.6037 - val_loss: 0.9115\n",
      "Epoch 2/10\n",
      "\u001b[1m179/179\u001b[0m \u001b[32m━━━━━━━━━━━━━━━━━━━━\u001b[0m\u001b[37m\u001b[0m \u001b[1m17s\u001b[0m 92ms/step - accuracy: 0.6538 - loss: 0.8673 - val_accuracy: 0.7060 - val_loss: 0.7442\n",
      "Epoch 3/10\n",
      "\u001b[1m179/179\u001b[0m \u001b[32m━━━━━━━━━━━━━━━━━━━━\u001b[0m\u001b[37m\u001b[0m \u001b[1m17s\u001b[0m 92ms/step - accuracy: 0.7191 - loss: 0.7328 - val_accuracy: 0.7743 - val_loss: 0.5856\n",
      "Epoch 4/10\n",
      "\u001b[1m179/179\u001b[0m \u001b[32m━━━━━━━━━━━━━━━━━━━━\u001b[0m\u001b[37m\u001b[0m \u001b[1m17s\u001b[0m 91ms/step - accuracy: 0.7490 - loss: 0.6469 - val_accuracy: 0.7857 - val_loss: 0.5326\n",
      "Epoch 5/10\n",
      "\u001b[1m179/179\u001b[0m \u001b[32m━━━━━━━━━━━━━━━━━━━━\u001b[0m\u001b[37m\u001b[0m \u001b[1m17s\u001b[0m 91ms/step - accuracy: 0.7672 - loss: 0.6161 - val_accuracy: 0.8136 - val_loss: 0.4983\n",
      "Epoch 6/10\n",
      "\u001b[1m179/179\u001b[0m \u001b[32m━━━━━━━━━━━━━━━━━━━━\u001b[0m\u001b[37m\u001b[0m \u001b[1m17s\u001b[0m 91ms/step - accuracy: 0.7974 - loss: 0.5354 - val_accuracy: 0.8119 - val_loss: 0.4860\n",
      "Epoch 7/10\n",
      "\u001b[1m179/179\u001b[0m \u001b[32m━━━━━━━━━━━━━━━━━━━━\u001b[0m\u001b[37m\u001b[0m \u001b[1m17s\u001b[0m 92ms/step - accuracy: 0.8120 - loss: 0.5058 - val_accuracy: 0.8075 - val_loss: 0.4704\n",
      "Epoch 8/10\n",
      "\u001b[1m179/179\u001b[0m \u001b[32m━━━━━━━━━━━━━━━━━━━━\u001b[0m\u001b[37m\u001b[0m \u001b[1m17s\u001b[0m 92ms/step - accuracy: 0.8178 - loss: 0.4679 - val_accuracy: 0.8373 - val_loss: 0.4181\n",
      "Epoch 9/10\n",
      "\u001b[1m179/179\u001b[0m \u001b[32m━━━━━━━━━━━━━━━━━━━━\u001b[0m\u001b[37m\u001b[0m \u001b[1m17s\u001b[0m 91ms/step - accuracy: 0.8342 - loss: 0.4255 - val_accuracy: 0.8521 - val_loss: 0.3939\n",
      "Epoch 10/10\n",
      "\u001b[1m179/179\u001b[0m \u001b[32m━━━━━━━━━━━━━━━━━━━━\u001b[0m\u001b[37m\u001b[0m \u001b[1m17s\u001b[0m 92ms/step - accuracy: 0.8508 - loss: 0.3958 - val_accuracy: 0.8679 - val_loss: 0.3685\n",
      "Training model with config: filter_size=(5, 5), num_filters=64, num_layers=2, num_units=32, activation=relu, padding=valid, stride=(1, 1), optimizer=adagrad, l1_lambda=0, l2_lambda=0, dropout_rate=0, epochs=10, batch_size=32\n",
      "Epoch 1/10\n",
      "\u001b[1m179/179\u001b[0m \u001b[32m━━━━━━━━━━━━━━━━━━━━\u001b[0m\u001b[37m\u001b[0m \u001b[1m18s\u001b[0m 92ms/step - accuracy: 0.2393 - loss: 1.3908 - val_accuracy: 0.2966 - val_loss: 1.3667\n",
      "Epoch 2/10\n",
      "\u001b[1m179/179\u001b[0m \u001b[32m━━━━━━━━━━━━━━━━━━━━\u001b[0m\u001b[37m\u001b[0m \u001b[1m17s\u001b[0m 90ms/step - accuracy: 0.2848 - loss: 1.3634 - val_accuracy: 0.2992 - val_loss: 1.3424\n",
      "Epoch 3/10\n",
      "\u001b[1m179/179\u001b[0m \u001b[32m━━━━━━━━━━━━━━━━━━━━\u001b[0m\u001b[37m\u001b[0m \u001b[1m17s\u001b[0m 91ms/step - accuracy: 0.2999 - loss: 1.3405 - val_accuracy: 0.3298 - val_loss: 1.3109\n",
      "Epoch 4/10\n",
      "\u001b[1m179/179\u001b[0m \u001b[32m━━━━━━━━━━━━━━━━━━━━\u001b[0m\u001b[37m\u001b[0m \u001b[1m17s\u001b[0m 93ms/step - accuracy: 0.3293 - loss: 1.3048 - val_accuracy: 0.3771 - val_loss: 1.2712\n",
      "Epoch 5/10\n",
      "\u001b[1m179/179\u001b[0m \u001b[32m━━━━━━━━━━━━━━━━━━━━\u001b[0m\u001b[37m\u001b[0m \u001b[1m17s\u001b[0m 91ms/step - accuracy: 0.3843 - loss: 1.2677 - val_accuracy: 0.4121 - val_loss: 1.2309\n",
      "Epoch 6/10\n",
      "\u001b[1m179/179\u001b[0m \u001b[32m━━━━━━━━━━━━━━━━━━━━\u001b[0m\u001b[37m\u001b[0m \u001b[1m17s\u001b[0m 90ms/step - accuracy: 0.4683 - loss: 1.2310 - val_accuracy: 0.5459 - val_loss: 1.1955\n",
      "Epoch 7/10\n",
      "\u001b[1m179/179\u001b[0m \u001b[32m━━━━━━━━━━━━━━━━━━━━\u001b[0m\u001b[37m\u001b[0m \u001b[1m17s\u001b[0m 93ms/step - accuracy: 0.5499 - loss: 1.1885 - val_accuracy: 0.5923 - val_loss: 1.1613\n",
      "Epoch 8/10\n",
      "\u001b[1m179/179\u001b[0m \u001b[32m━━━━━━━━━━━━━━━━━━━━\u001b[0m\u001b[37m\u001b[0m \u001b[1m17s\u001b[0m 92ms/step - accuracy: 0.5845 - loss: 1.1596 - val_accuracy: 0.6080 - val_loss: 1.1333\n",
      "Epoch 9/10\n",
      "\u001b[1m179/179\u001b[0m \u001b[32m━━━━━━━━━━━━━━━━━━━━\u001b[0m\u001b[37m\u001b[0m \u001b[1m17s\u001b[0m 91ms/step - accuracy: 0.6136 - loss: 1.1287 - val_accuracy: 0.5984 - val_loss: 1.1102\n",
      "Epoch 10/10\n",
      "\u001b[1m179/179\u001b[0m \u001b[32m━━━━━━━━━━━━━━━━━━━━\u001b[0m\u001b[37m\u001b[0m \u001b[1m17s\u001b[0m 91ms/step - accuracy: 0.6259 - loss: 1.1071 - val_accuracy: 0.6177 - val_loss: 1.0866\n",
      "Training model with config: filter_size=(5, 5), num_filters=64, num_layers=2, num_units=32, activation=relu, padding=valid, stride=(1, 1), optimizer=adam, l1_lambda=0, l2_lambda=0, dropout_rate=0, epochs=10, batch_size=32\n",
      "Epoch 1/10\n",
      "\u001b[1m179/179\u001b[0m \u001b[32m━━━━━━━━━━━━━━━━━━━━\u001b[0m\u001b[37m\u001b[0m \u001b[1m19s\u001b[0m 97ms/step - accuracy: 0.3917 - loss: 1.2594 - val_accuracy: 0.7113 - val_loss: 0.7913\n",
      "Epoch 2/10\n",
      "\u001b[1m179/179\u001b[0m \u001b[32m━━━━━━━━━━━━━━━━━━━━\u001b[0m\u001b[37m\u001b[0m \u001b[1m17s\u001b[0m 91ms/step - accuracy: 0.6834 - loss: 0.8178 - val_accuracy: 0.7454 - val_loss: 0.7088\n",
      "Epoch 3/10\n",
      "\u001b[1m179/179\u001b[0m \u001b[32m━━━━━━━━━━━━━━━━━━━━\u001b[0m\u001b[37m\u001b[0m \u001b[1m17s\u001b[0m 91ms/step - accuracy: 0.7392 - loss: 0.7042 - val_accuracy: 0.7489 - val_loss: 0.6060\n",
      "Epoch 4/10\n",
      "\u001b[1m179/179\u001b[0m \u001b[32m━━━━━━━━━━━━━━━━━━━━\u001b[0m\u001b[37m\u001b[0m \u001b[1m17s\u001b[0m 92ms/step - accuracy: 0.7508 - loss: 0.6469 - val_accuracy: 0.7874 - val_loss: 0.5610\n",
      "Epoch 5/10\n",
      "\u001b[1m179/179\u001b[0m \u001b[32m━━━━━━━━━━━━━━━━━━━━\u001b[0m\u001b[37m\u001b[0m \u001b[1m17s\u001b[0m 91ms/step - accuracy: 0.7766 - loss: 0.5811 - val_accuracy: 0.8031 - val_loss: 0.5181\n",
      "Epoch 6/10\n",
      "\u001b[1m179/179\u001b[0m \u001b[32m━━━━━━━━━━━━━━━━━━━━\u001b[0m\u001b[37m\u001b[0m \u001b[1m17s\u001b[0m 91ms/step - accuracy: 0.7954 - loss: 0.5417 - val_accuracy: 0.8268 - val_loss: 0.4741\n",
      "Epoch 7/10\n",
      "\u001b[1m179/179\u001b[0m \u001b[32m━━━━━━━━━━━━━━━━━━━━\u001b[0m\u001b[37m\u001b[0m \u001b[1m17s\u001b[0m 92ms/step - accuracy: 0.8081 - loss: 0.5118 - val_accuracy: 0.7865 - val_loss: 0.5621\n",
      "Epoch 8/10\n",
      "\u001b[1m179/179\u001b[0m \u001b[32m━━━━━━━━━━━━━━━━━━━━\u001b[0m\u001b[37m\u001b[0m \u001b[1m17s\u001b[0m 94ms/step - accuracy: 0.8165 - loss: 0.4825 - val_accuracy: 0.8469 - val_loss: 0.4237\n",
      "Epoch 9/10\n",
      "\u001b[1m179/179\u001b[0m \u001b[32m━━━━━━━━━━━━━━━━━━━━\u001b[0m\u001b[37m\u001b[0m \u001b[1m17s\u001b[0m 92ms/step - accuracy: 0.8323 - loss: 0.4320 - val_accuracy: 0.8338 - val_loss: 0.4308\n",
      "Epoch 10/10\n",
      "\u001b[1m179/179\u001b[0m \u001b[32m━━━━━━━━━━━━━━━━━━━━\u001b[0m\u001b[37m\u001b[0m \u001b[1m17s\u001b[0m 91ms/step - accuracy: 0.8329 - loss: 0.4403 - val_accuracy: 0.8364 - val_loss: 0.4314\n",
      "Training model with config: filter_size=(5, 5), num_filters=64, num_layers=2, num_units=32, activation=relu, padding=valid, stride=(1, 1), optimizer=sgd, l1_lambda=0, l2_lambda=0, dropout_rate=0, epochs=10, batch_size=32\n",
      "Epoch 1/10\n",
      "\u001b[1m179/179\u001b[0m \u001b[32m━━━━━━━━━━━━━━━━━━━━\u001b[0m\u001b[37m\u001b[0m \u001b[1m19s\u001b[0m 98ms/step - accuracy: 0.2516 - loss: 1.3748 - val_accuracy: 0.3053 - val_loss: 1.3314\n",
      "Epoch 2/10\n",
      "\u001b[1m179/179\u001b[0m \u001b[32m━━━━━━━━━━━━━━━━━━━━\u001b[0m\u001b[37m\u001b[0m \u001b[1m19s\u001b[0m 102ms/step - accuracy: 0.3186 - loss: 1.3063 - val_accuracy: 0.4208 - val_loss: 1.1897\n",
      "Epoch 3/10\n",
      "\u001b[1m179/179\u001b[0m \u001b[32m━━━━━━━━━━━━━━━━━━━━\u001b[0m\u001b[37m\u001b[0m \u001b[1m17s\u001b[0m 93ms/step - accuracy: 0.5025 - loss: 1.1558 - val_accuracy: 0.6448 - val_loss: 1.0404\n",
      "Epoch 4/10\n",
      "\u001b[1m179/179\u001b[0m \u001b[32m━━━━━━━━━━━━━━━━━━━━\u001b[0m\u001b[37m\u001b[0m \u001b[1m17s\u001b[0m 91ms/step - accuracy: 0.6211 - loss: 1.0286 - val_accuracy: 0.6518 - val_loss: 0.9408\n",
      "Epoch 5/10\n",
      "\u001b[1m179/179\u001b[0m \u001b[32m━━━━━━━━━━━━━━━━━━━━\u001b[0m\u001b[37m\u001b[0m \u001b[1m17s\u001b[0m 94ms/step - accuracy: 0.6445 - loss: 0.9360 - val_accuracy: 0.6492 - val_loss: 0.9311\n",
      "Epoch 6/10\n",
      "\u001b[1m179/179\u001b[0m \u001b[32m━━━━━━━━━━━━━━━━━━━━\u001b[0m\u001b[37m\u001b[0m \u001b[1m17s\u001b[0m 92ms/step - accuracy: 0.6526 - loss: 0.8829 - val_accuracy: 0.6439 - val_loss: 0.8893\n",
      "Epoch 7/10\n",
      "\u001b[1m179/179\u001b[0m \u001b[32m━━━━━━━━━━━━━━━━━━━━\u001b[0m\u001b[37m\u001b[0m \u001b[1m17s\u001b[0m 91ms/step - accuracy: 0.6652 - loss: 0.8709 - val_accuracy: 0.6527 - val_loss: 0.8724\n",
      "Epoch 8/10\n",
      "\u001b[1m179/179\u001b[0m \u001b[32m━━━━━━━━━━━━━━━━━━━━\u001b[0m\u001b[37m\u001b[0m \u001b[1m18s\u001b[0m 95ms/step - accuracy: 0.6861 - loss: 0.8216 - val_accuracy: 0.6728 - val_loss: 0.8239\n",
      "Epoch 9/10\n",
      "\u001b[1m179/179\u001b[0m \u001b[32m━━━━━━━━━━━━━━━━━━━━\u001b[0m\u001b[37m\u001b[0m \u001b[1m17s\u001b[0m 91ms/step - accuracy: 0.6849 - loss: 0.8162 - val_accuracy: 0.7017 - val_loss: 0.7833\n",
      "Epoch 10/10\n",
      "\u001b[1m179/179\u001b[0m \u001b[32m━━━━━━━━━━━━━━━━━━━━\u001b[0m\u001b[37m\u001b[0m \u001b[1m17s\u001b[0m 92ms/step - accuracy: 0.6986 - loss: 0.7789 - val_accuracy: 0.7148 - val_loss: 0.7168\n",
      "Training model with config: filter_size=(5, 5), num_filters=64, num_layers=2, num_units=32, activation=tanh, padding=valid, stride=(1, 1), optimizer=rmsprop, l1_lambda=0, l2_lambda=0, dropout_rate=0, epochs=10, batch_size=32\n",
      "Epoch 1/10\n",
      "\u001b[1m179/179\u001b[0m \u001b[32m━━━━━━━━━━━━━━━━━━━━\u001b[0m\u001b[37m\u001b[0m \u001b[1m18s\u001b[0m 94ms/step - accuracy: 0.5255 - loss: 1.0880 - val_accuracy: 0.7507 - val_loss: 0.6506\n",
      "Epoch 2/10\n",
      "\u001b[1m179/179\u001b[0m \u001b[32m━━━━━━━━━━━━━━━━━━━━\u001b[0m\u001b[37m\u001b[0m \u001b[1m18s\u001b[0m 96ms/step - accuracy: 0.7389 - loss: 0.6613 - val_accuracy: 0.6990 - val_loss: 0.7276\n",
      "Epoch 3/10\n",
      "\u001b[1m179/179\u001b[0m \u001b[32m━━━━━━━━━━━━━━━━━━━━\u001b[0m\u001b[37m\u001b[0m \u001b[1m17s\u001b[0m 92ms/step - accuracy: 0.7909 - loss: 0.5542 - val_accuracy: 0.8128 - val_loss: 0.4728\n",
      "Epoch 4/10\n",
      "\u001b[1m179/179\u001b[0m \u001b[32m━━━━━━━━━━━━━━━━━━━━\u001b[0m\u001b[37m\u001b[0m \u001b[1m17s\u001b[0m 91ms/step - accuracy: 0.8017 - loss: 0.5103 - val_accuracy: 0.8294 - val_loss: 0.4565\n",
      "Epoch 5/10\n",
      "\u001b[1m179/179\u001b[0m \u001b[32m━━━━━━━━━━━━━━━━━━━━\u001b[0m\u001b[37m\u001b[0m \u001b[1m17s\u001b[0m 93ms/step - accuracy: 0.8290 - loss: 0.4646 - val_accuracy: 0.8460 - val_loss: 0.4042\n",
      "Epoch 6/10\n",
      "\u001b[1m179/179\u001b[0m \u001b[32m━━━━━━━━━━━━━━━━━━━━\u001b[0m\u001b[37m\u001b[0m \u001b[1m17s\u001b[0m 91ms/step - accuracy: 0.8340 - loss: 0.4340 - val_accuracy: 0.8591 - val_loss: 0.3755\n",
      "Epoch 7/10\n",
      "\u001b[1m179/179\u001b[0m \u001b[32m━━━━━━━━━━━━━━━━━━━━\u001b[0m\u001b[37m\u001b[0m \u001b[1m17s\u001b[0m 94ms/step - accuracy: 0.8427 - loss: 0.4042 - val_accuracy: 0.8653 - val_loss: 0.3565\n",
      "Epoch 8/10\n",
      "\u001b[1m179/179\u001b[0m \u001b[32m━━━━━━━━━━━━━━━━━━━━\u001b[0m\u001b[37m\u001b[0m \u001b[1m17s\u001b[0m 92ms/step - accuracy: 0.8446 - loss: 0.3949 - val_accuracy: 0.8653 - val_loss: 0.3363\n",
      "Epoch 9/10\n",
      "\u001b[1m179/179\u001b[0m \u001b[32m━━━━━━━━━━━━━━━━━━━━\u001b[0m\u001b[37m\u001b[0m \u001b[1m17s\u001b[0m 94ms/step - accuracy: 0.8558 - loss: 0.3685 - val_accuracy: 0.8723 - val_loss: 0.3218\n",
      "Epoch 10/10\n",
      "\u001b[1m179/179\u001b[0m \u001b[32m━━━━━━━━━━━━━━━━━━━━\u001b[0m\u001b[37m\u001b[0m \u001b[1m17s\u001b[0m 91ms/step - accuracy: 0.8569 - loss: 0.3554 - val_accuracy: 0.8793 - val_loss: 0.3170\n",
      "Training model with config: filter_size=(5, 5), num_filters=64, num_layers=2, num_units=32, activation=tanh, padding=valid, stride=(1, 1), optimizer=adagrad, l1_lambda=0, l2_lambda=0, dropout_rate=0, epochs=10, batch_size=32\n",
      "Epoch 1/10\n",
      "\u001b[1m179/179\u001b[0m \u001b[32m━━━━━━━━━━━━━━━━━━━━\u001b[0m\u001b[37m\u001b[0m \u001b[1m18s\u001b[0m 93ms/step - accuracy: 0.2752 - loss: 1.3720 - val_accuracy: 0.2992 - val_loss: 1.3372\n",
      "Epoch 2/10\n",
      "\u001b[1m179/179\u001b[0m \u001b[32m━━━━━━━━━━━━━━━━━━━━\u001b[0m\u001b[37m\u001b[0m \u001b[1m17s\u001b[0m 93ms/step - accuracy: 0.2850 - loss: 1.3328 - val_accuracy: 0.3053 - val_loss: 1.3074\n",
      "Epoch 3/10\n",
      "\u001b[1m179/179\u001b[0m \u001b[32m━━━━━━━━━━━━━━━━━━━━\u001b[0m\u001b[37m\u001b[0m \u001b[1m17s\u001b[0m 91ms/step - accuracy: 0.2834 - loss: 1.3119 - val_accuracy: 0.3132 - val_loss: 1.2718\n",
      "Epoch 4/10\n",
      "\u001b[1m179/179\u001b[0m \u001b[32m━━━━━━━━━━━━━━━━━━━━\u001b[0m\u001b[37m\u001b[0m \u001b[1m17s\u001b[0m 91ms/step - accuracy: 0.3578 - loss: 1.2676 - val_accuracy: 0.5188 - val_loss: 1.2325\n",
      "Epoch 5/10\n",
      "\u001b[1m179/179\u001b[0m \u001b[32m━━━━━━━━━━━━━━━━━━━━\u001b[0m\u001b[37m\u001b[0m \u001b[1m17s\u001b[0m 94ms/step - accuracy: 0.4654 - loss: 1.2234 - val_accuracy: 0.5486 - val_loss: 1.1776\n",
      "Epoch 6/10\n",
      "\u001b[1m179/179\u001b[0m \u001b[32m━━━━━━━━━━━━━━━━━━━━\u001b[0m\u001b[37m\u001b[0m \u001b[1m17s\u001b[0m 93ms/step - accuracy: 0.5347 - loss: 1.1675 - val_accuracy: 0.5879 - val_loss: 1.1237\n",
      "Epoch 7/10\n",
      "\u001b[1m179/179\u001b[0m \u001b[32m━━━━━━━━━━━━━━━━━━━━\u001b[0m\u001b[37m\u001b[0m \u001b[1m17s\u001b[0m 91ms/step - accuracy: 0.6021 - loss: 1.1106 - val_accuracy: 0.6002 - val_loss: 1.0684\n",
      "Epoch 8/10\n",
      "\u001b[1m179/179\u001b[0m \u001b[32m━━━━━━━━━━━━━━━━━━━━\u001b[0m\u001b[37m\u001b[0m \u001b[1m17s\u001b[0m 91ms/step - accuracy: 0.6310 - loss: 1.0557 - val_accuracy: 0.6334 - val_loss: 1.0246\n",
      "Epoch 9/10\n",
      "\u001b[1m179/179\u001b[0m \u001b[32m━━━━━━━━━━━━━━━━━━━━\u001b[0m\u001b[37m\u001b[0m \u001b[1m17s\u001b[0m 93ms/step - accuracy: 0.6434 - loss: 1.0156 - val_accuracy: 0.6483 - val_loss: 0.9874\n",
      "Epoch 10/10\n",
      "\u001b[1m179/179\u001b[0m \u001b[32m━━━━━━━━━━━━━━━━━━━━\u001b[0m\u001b[37m\u001b[0m \u001b[1m17s\u001b[0m 91ms/step - accuracy: 0.6501 - loss: 0.9809 - val_accuracy: 0.6684 - val_loss: 0.9546\n",
      "Training model with config: filter_size=(5, 5), num_filters=64, num_layers=2, num_units=32, activation=tanh, padding=valid, stride=(1, 1), optimizer=adam, l1_lambda=0, l2_lambda=0, dropout_rate=0, epochs=10, batch_size=32\n",
      "Epoch 1/10\n",
      "\u001b[1m179/179\u001b[0m \u001b[32m━━━━━━━━━━━━━━━━━━━━\u001b[0m\u001b[37m\u001b[0m \u001b[1m19s\u001b[0m 93ms/step - accuracy: 0.5417 - loss: 1.0554 - val_accuracy: 0.7734 - val_loss: 0.5786\n",
      "Epoch 2/10\n",
      "\u001b[1m179/179\u001b[0m \u001b[32m━━━━━━━━━━━━━━━━━━━━\u001b[0m\u001b[37m\u001b[0m \u001b[1m17s\u001b[0m 92ms/step - accuracy: 0.7553 - loss: 0.6237 - val_accuracy: 0.7848 - val_loss: 0.5270\n",
      "Epoch 3/10\n",
      "\u001b[1m179/179\u001b[0m \u001b[32m━━━━━━━━━━━━━━━━━━━━\u001b[0m\u001b[37m\u001b[0m \u001b[1m18s\u001b[0m 95ms/step - accuracy: 0.7832 - loss: 0.5625 - val_accuracy: 0.7962 - val_loss: 0.5036\n",
      "Epoch 4/10\n",
      "\u001b[1m179/179\u001b[0m \u001b[32m━━━━━━━━━━━━━━━━━━━━\u001b[0m\u001b[37m\u001b[0m \u001b[1m17s\u001b[0m 92ms/step - accuracy: 0.8165 - loss: 0.4930 - val_accuracy: 0.8460 - val_loss: 0.4077\n",
      "Epoch 5/10\n",
      "\u001b[1m179/179\u001b[0m \u001b[32m━━━━━━━━━━━━━━━━━━━━\u001b[0m\u001b[37m\u001b[0m \u001b[1m17s\u001b[0m 92ms/step - accuracy: 0.8255 - loss: 0.4496 - val_accuracy: 0.7874 - val_loss: 0.5001\n",
      "Epoch 6/10\n",
      "\u001b[1m179/179\u001b[0m \u001b[32m━━━━━━━━━━━━━━━━━━━━\u001b[0m\u001b[37m\u001b[0m \u001b[1m17s\u001b[0m 94ms/step - accuracy: 0.8277 - loss: 0.4425 - val_accuracy: 0.8469 - val_loss: 0.3481\n",
      "Epoch 7/10\n",
      "\u001b[1m179/179\u001b[0m \u001b[32m━━━━━━━━━━━━━━━━━━━━\u001b[0m\u001b[37m\u001b[0m \u001b[1m17s\u001b[0m 92ms/step - accuracy: 0.8575 - loss: 0.3683 - val_accuracy: 0.8810 - val_loss: 0.3092\n",
      "Epoch 8/10\n",
      "\u001b[1m179/179\u001b[0m \u001b[32m━━━━━━━━━━━━━━━━━━━━\u001b[0m\u001b[37m\u001b[0m \u001b[1m17s\u001b[0m 90ms/step - accuracy: 0.8569 - loss: 0.3602 - val_accuracy: 0.8373 - val_loss: 0.3896\n",
      "Epoch 9/10\n",
      "\u001b[1m179/179\u001b[0m \u001b[32m━━━━━━━━━━━━━━━━━━━━\u001b[0m\u001b[37m\u001b[0m \u001b[1m17s\u001b[0m 92ms/step - accuracy: 0.8520 - loss: 0.3849 - val_accuracy: 0.8863 - val_loss: 0.2975\n",
      "Epoch 10/10\n",
      "\u001b[1m179/179\u001b[0m \u001b[32m━━━━━━━━━━━━━━━━━━━━\u001b[0m\u001b[37m\u001b[0m \u001b[1m17s\u001b[0m 93ms/step - accuracy: 0.8676 - loss: 0.3475 - val_accuracy: 0.8941 - val_loss: 0.2791\n",
      "Training model with config: filter_size=(5, 5), num_filters=64, num_layers=2, num_units=32, activation=tanh, padding=valid, stride=(1, 1), optimizer=sgd, l1_lambda=0, l2_lambda=0, dropout_rate=0, epochs=10, batch_size=32\n",
      "Epoch 1/10\n",
      "\u001b[1m179/179\u001b[0m \u001b[32m━━━━━━━━━━━━━━━━━━━━\u001b[0m\u001b[37m\u001b[0m \u001b[1m18s\u001b[0m 94ms/step - accuracy: 0.3378 - loss: 1.3333 - val_accuracy: 0.5783 - val_loss: 1.1404\n",
      "Epoch 2/10\n",
      "\u001b[1m179/179\u001b[0m \u001b[32m━━━━━━━━━━━━━━━━━━━━\u001b[0m\u001b[37m\u001b[0m \u001b[1m17s\u001b[0m 91ms/step - accuracy: 0.6021 - loss: 1.0890 - val_accuracy: 0.6675 - val_loss: 0.9517\n",
      "Epoch 3/10\n",
      "\u001b[1m179/179\u001b[0m \u001b[32m━━━━━━━━━━━━━━━━━━━━\u001b[0m\u001b[37m\u001b[0m \u001b[1m17s\u001b[0m 93ms/step - accuracy: 0.6756 - loss: 0.9116 - val_accuracy: 0.6868 - val_loss: 0.8740\n",
      "Epoch 4/10\n",
      "\u001b[1m179/179\u001b[0m \u001b[32m━━━━━━━━━━━━━━━━━━━━\u001b[0m\u001b[37m\u001b[0m \u001b[1m17s\u001b[0m 91ms/step - accuracy: 0.6840 - loss: 0.8640 - val_accuracy: 0.6894 - val_loss: 0.8313\n",
      "Epoch 5/10\n",
      "\u001b[1m179/179\u001b[0m \u001b[32m━━━━━━━━━━━━━━━━━━━━\u001b[0m\u001b[37m\u001b[0m \u001b[1m17s\u001b[0m 91ms/step - accuracy: 0.6847 - loss: 0.8423 - val_accuracy: 0.6842 - val_loss: 0.8115\n",
      "Epoch 6/10\n",
      "\u001b[1m179/179\u001b[0m \u001b[32m━━━━━━━━━━━━━━━━━━━━\u001b[0m\u001b[37m\u001b[0m \u001b[1m17s\u001b[0m 93ms/step - accuracy: 0.7050 - loss: 0.7934 - val_accuracy: 0.7043 - val_loss: 0.7674\n",
      "Epoch 7/10\n",
      "\u001b[1m179/179\u001b[0m \u001b[32m━━━━━━━━━━━━━━━━━━━━\u001b[0m\u001b[37m\u001b[0m \u001b[1m17s\u001b[0m 92ms/step - accuracy: 0.7079 - loss: 0.7733 - val_accuracy: 0.7078 - val_loss: 0.7428\n",
      "Epoch 8/10\n",
      "\u001b[1m179/179\u001b[0m \u001b[32m━━━━━━━━━━━━━━━━━━━━\u001b[0m\u001b[37m\u001b[0m \u001b[1m17s\u001b[0m 92ms/step - accuracy: 0.7268 - loss: 0.7309 - val_accuracy: 0.7227 - val_loss: 0.7060\n",
      "Epoch 9/10\n",
      "\u001b[1m179/179\u001b[0m \u001b[32m━━━━━━━━━━━━━━━━━━━━\u001b[0m\u001b[37m\u001b[0m \u001b[1m17s\u001b[0m 92ms/step - accuracy: 0.7384 - loss: 0.6959 - val_accuracy: 0.7157 - val_loss: 0.6925\n",
      "Epoch 10/10\n",
      "\u001b[1m179/179\u001b[0m \u001b[32m━━━━━━━━━━━━━━━━━━━━\u001b[0m\u001b[37m\u001b[0m \u001b[1m17s\u001b[0m 93ms/step - accuracy: 0.7469 - loss: 0.6750 - val_accuracy: 0.7349 - val_loss: 0.6576\n",
      "Training model with config: filter_size=(5, 5), num_filters=64, num_layers=2, num_units=64, activation=relu, padding=valid, stride=(1, 1), optimizer=rmsprop, l1_lambda=0, l2_lambda=0, dropout_rate=0, epochs=10, batch_size=32\n",
      "Epoch 1/10\n",
      "\u001b[1m179/179\u001b[0m \u001b[32m━━━━━━━━━━━━━━━━━━━━\u001b[0m\u001b[37m\u001b[0m \u001b[1m18s\u001b[0m 93ms/step - accuracy: 0.3787 - loss: 1.2543 - val_accuracy: 0.6439 - val_loss: 0.8821\n",
      "Epoch 2/10\n",
      "\u001b[1m179/179\u001b[0m \u001b[32m━━━━━━━━━━━━━━━━━━━━\u001b[0m\u001b[37m\u001b[0m \u001b[1m17s\u001b[0m 91ms/step - accuracy: 0.6613 - loss: 0.8471 - val_accuracy: 0.6798 - val_loss: 0.7689\n",
      "Epoch 3/10\n",
      "\u001b[1m179/179\u001b[0m \u001b[32m━━━━━━━━━━━━━━━━━━━━\u001b[0m\u001b[37m\u001b[0m \u001b[1m17s\u001b[0m 92ms/step - accuracy: 0.7174 - loss: 0.7201 - val_accuracy: 0.7787 - val_loss: 0.5718\n",
      "Epoch 4/10\n",
      "\u001b[1m179/179\u001b[0m \u001b[32m━━━━━━━━━━━━━━━━━━━━\u001b[0m\u001b[37m\u001b[0m \u001b[1m17s\u001b[0m 94ms/step - accuracy: 0.7453 - loss: 0.6485 - val_accuracy: 0.7883 - val_loss: 0.5229\n",
      "Epoch 5/10\n",
      "\u001b[1m179/179\u001b[0m \u001b[32m━━━━━━━━━━━━━━━━━━━━\u001b[0m\u001b[37m\u001b[0m \u001b[1m17s\u001b[0m 93ms/step - accuracy: 0.7785 - loss: 0.5643 - val_accuracy: 0.8276 - val_loss: 0.4496\n",
      "Epoch 6/10\n",
      "\u001b[1m179/179\u001b[0m \u001b[32m━━━━━━━━━━━━━━━━━━━━\u001b[0m\u001b[37m\u001b[0m \u001b[1m17s\u001b[0m 92ms/step - accuracy: 0.7985 - loss: 0.4979 - val_accuracy: 0.8399 - val_loss: 0.4099\n",
      "Epoch 7/10\n",
      "\u001b[1m179/179\u001b[0m \u001b[32m━━━━━━━━━━━━━━━━━━━━\u001b[0m\u001b[37m\u001b[0m \u001b[1m17s\u001b[0m 93ms/step - accuracy: 0.8261 - loss: 0.4532 - val_accuracy: 0.8591 - val_loss: 0.3746\n",
      "Epoch 8/10\n",
      "\u001b[1m179/179\u001b[0m \u001b[32m━━━━━━━━━━━━━━━━━━━━\u001b[0m\u001b[37m\u001b[0m \u001b[1m17s\u001b[0m 93ms/step - accuracy: 0.8451 - loss: 0.3981 - val_accuracy: 0.8338 - val_loss: 0.4122\n",
      "Epoch 9/10\n"
     ]
    },
    {
     "name": "stdout",
     "output_type": "stream",
     "text": [
      "\u001b[1m179/179\u001b[0m \u001b[32m━━━━━━━━━━━━━━━━━━━━\u001b[0m\u001b[37m\u001b[0m \u001b[1m17s\u001b[0m 90ms/step - accuracy: 0.8388 - loss: 0.4195 - val_accuracy: 0.7970 - val_loss: 0.4754\n",
      "Epoch 10/10\n",
      "\u001b[1m179/179\u001b[0m \u001b[32m━━━━━━━━━━━━━━━━━━━━\u001b[0m\u001b[37m\u001b[0m \u001b[1m17s\u001b[0m 92ms/step - accuracy: 0.8404 - loss: 0.4043 - val_accuracy: 0.8696 - val_loss: 0.3370\n",
      "Training model with config: filter_size=(5, 5), num_filters=64, num_layers=2, num_units=64, activation=relu, padding=valid, stride=(1, 1), optimizer=adagrad, l1_lambda=0, l2_lambda=0, dropout_rate=0, epochs=10, batch_size=32\n",
      "Epoch 1/10\n",
      "\u001b[1m179/179\u001b[0m \u001b[32m━━━━━━━━━━━━━━━━━━━━\u001b[0m\u001b[37m\u001b[0m \u001b[1m18s\u001b[0m 93ms/step - accuracy: 0.2714 - loss: 1.3841 - val_accuracy: 0.2992 - val_loss: 1.3703\n",
      "Epoch 2/10\n",
      "\u001b[1m179/179\u001b[0m \u001b[32m━━━━━━━━━━━━━━━━━━━━\u001b[0m\u001b[37m\u001b[0m \u001b[1m17s\u001b[0m 90ms/step - accuracy: 0.2860 - loss: 1.3705 - val_accuracy: 0.2992 - val_loss: 1.3566\n",
      "Epoch 3/10\n",
      "\u001b[1m179/179\u001b[0m \u001b[32m━━━━━━━━━━━━━━━━━━━━\u001b[0m\u001b[37m\u001b[0m \u001b[1m17s\u001b[0m 90ms/step - accuracy: 0.2746 - loss: 1.3605 - val_accuracy: 0.2992 - val_loss: 1.3431\n",
      "Epoch 4/10\n",
      "\u001b[1m179/179\u001b[0m \u001b[32m━━━━━━━━━━━━━━━━━━━━\u001b[0m\u001b[37m\u001b[0m \u001b[1m17s\u001b[0m 91ms/step - accuracy: 0.2842 - loss: 1.3429 - val_accuracy: 0.2992 - val_loss: 1.3253\n",
      "Epoch 5/10\n",
      "\u001b[1m179/179\u001b[0m \u001b[32m━━━━━━━━━━━━━━━━━━━━\u001b[0m\u001b[37m\u001b[0m \u001b[1m17s\u001b[0m 90ms/step - accuracy: 0.2838 - loss: 1.3282 - val_accuracy: 0.2992 - val_loss: 1.3054\n",
      "Epoch 6/10\n",
      "\u001b[1m179/179\u001b[0m \u001b[32m━━━━━━━━━━━━━━━━━━━━\u001b[0m\u001b[37m\u001b[0m \u001b[1m17s\u001b[0m 90ms/step - accuracy: 0.2870 - loss: 1.3039 - val_accuracy: 0.3132 - val_loss: 1.2771\n",
      "Epoch 7/10\n",
      "\u001b[1m179/179\u001b[0m \u001b[32m━━━━━━━━━━━━━━━━━━━━\u001b[0m\u001b[37m\u001b[0m \u001b[1m17s\u001b[0m 92ms/step - accuracy: 0.3210 - loss: 1.2834 - val_accuracy: 0.3578 - val_loss: 1.2429\n",
      "Epoch 8/10\n",
      "\u001b[1m179/179\u001b[0m \u001b[32m━━━━━━━━━━━━━━━━━━━━\u001b[0m\u001b[37m\u001b[0m \u001b[1m17s\u001b[0m 91ms/step - accuracy: 0.3940 - loss: 1.2459 - val_accuracy: 0.4864 - val_loss: 1.2031\n",
      "Epoch 9/10\n",
      "\u001b[1m179/179\u001b[0m \u001b[32m━━━━━━━━━━━━━━━━━━━━\u001b[0m\u001b[37m\u001b[0m \u001b[1m17s\u001b[0m 91ms/step - accuracy: 0.4935 - loss: 1.2076 - val_accuracy: 0.5809 - val_loss: 1.1582\n",
      "Epoch 10/10\n",
      "\u001b[1m179/179\u001b[0m \u001b[32m━━━━━━━━━━━━━━━━━━━━\u001b[0m\u001b[37m\u001b[0m \u001b[1m17s\u001b[0m 90ms/step - accuracy: 0.5739 - loss: 1.1609 - val_accuracy: 0.5871 - val_loss: 1.1131\n",
      "Training model with config: filter_size=(5, 5), num_filters=64, num_layers=2, num_units=64, activation=relu, padding=valid, stride=(1, 1), optimizer=adam, l1_lambda=0, l2_lambda=0, dropout_rate=0, epochs=10, batch_size=32\n",
      "Epoch 1/10\n",
      "\u001b[1m179/179\u001b[0m \u001b[32m━━━━━━━━━━━━━━━━━━━━\u001b[0m\u001b[37m\u001b[0m \u001b[1m19s\u001b[0m 93ms/step - accuracy: 0.4190 - loss: 1.2148 - val_accuracy: 0.7148 - val_loss: 0.7255\n",
      "Epoch 2/10\n",
      "\u001b[1m179/179\u001b[0m \u001b[32m━━━━━━━━━━━━━━━━━━━━\u001b[0m\u001b[37m\u001b[0m \u001b[1m17s\u001b[0m 90ms/step - accuracy: 0.7104 - loss: 0.7281 - val_accuracy: 0.7550 - val_loss: 0.6228\n",
      "Epoch 3/10\n",
      "\u001b[1m179/179\u001b[0m \u001b[32m━━━━━━━━━━━━━━━━━━━━\u001b[0m\u001b[37m\u001b[0m \u001b[1m17s\u001b[0m 90ms/step - accuracy: 0.7404 - loss: 0.6575 - val_accuracy: 0.7699 - val_loss: 0.5840\n",
      "Epoch 4/10\n",
      "\u001b[1m179/179\u001b[0m \u001b[32m━━━━━━━━━━━━━━━━━━━━\u001b[0m\u001b[37m\u001b[0m \u001b[1m17s\u001b[0m 93ms/step - accuracy: 0.7728 - loss: 0.5906 - val_accuracy: 0.8101 - val_loss: 0.5114\n",
      "Epoch 5/10\n",
      "\u001b[1m179/179\u001b[0m \u001b[32m━━━━━━━━━━━━━━━━━━━━\u001b[0m\u001b[37m\u001b[0m \u001b[1m18s\u001b[0m 95ms/step - accuracy: 0.7882 - loss: 0.5558 - val_accuracy: 0.8180 - val_loss: 0.4939\n",
      "Epoch 6/10\n",
      "\u001b[1m179/179\u001b[0m \u001b[32m━━━━━━━━━━━━━━━━━━━━\u001b[0m\u001b[37m\u001b[0m \u001b[1m17s\u001b[0m 90ms/step - accuracy: 0.8083 - loss: 0.4945 - val_accuracy: 0.8311 - val_loss: 0.4659\n",
      "Epoch 7/10\n",
      "\u001b[1m179/179\u001b[0m \u001b[32m━━━━━━━━━━━━━━━━━━━━\u001b[0m\u001b[37m\u001b[0m \u001b[1m17s\u001b[0m 92ms/step - accuracy: 0.8104 - loss: 0.4939 - val_accuracy: 0.8163 - val_loss: 0.4832\n",
      "Epoch 8/10\n",
      "\u001b[1m179/179\u001b[0m \u001b[32m━━━━━━━━━━━━━━━━━━━━\u001b[0m\u001b[37m\u001b[0m \u001b[1m17s\u001b[0m 92ms/step - accuracy: 0.8255 - loss: 0.4759 - val_accuracy: 0.8206 - val_loss: 0.4738\n",
      "Epoch 9/10\n",
      "\u001b[1m179/179\u001b[0m \u001b[32m━━━━━━━━━━━━━━━━━━━━\u001b[0m\u001b[37m\u001b[0m \u001b[1m17s\u001b[0m 91ms/step - accuracy: 0.8277 - loss: 0.4453 - val_accuracy: 0.8556 - val_loss: 0.4034\n",
      "Epoch 10/10\n",
      "\u001b[1m179/179\u001b[0m \u001b[32m━━━━━━━━━━━━━━━━━━━━\u001b[0m\u001b[37m\u001b[0m \u001b[1m17s\u001b[0m 91ms/step - accuracy: 0.8473 - loss: 0.3995 - val_accuracy: 0.7795 - val_loss: 0.5450\n",
      "Training model with config: filter_size=(5, 5), num_filters=64, num_layers=2, num_units=64, activation=relu, padding=valid, stride=(1, 1), optimizer=sgd, l1_lambda=0, l2_lambda=0, dropout_rate=0, epochs=10, batch_size=32\n",
      "Epoch 1/10\n",
      "\u001b[1m179/179\u001b[0m \u001b[32m━━━━━━━━━━━━━━━━━━━━\u001b[0m\u001b[37m\u001b[0m \u001b[1m18s\u001b[0m 93ms/step - accuracy: 0.2631 - loss: 1.3771 - val_accuracy: 0.3010 - val_loss: 1.3342\n",
      "Epoch 2/10\n",
      "\u001b[1m179/179\u001b[0m \u001b[32m━━━━━━━━━━━━━━━━━━━━\u001b[0m\u001b[37m\u001b[0m \u001b[1m17s\u001b[0m 91ms/step - accuracy: 0.3192 - loss: 1.3173 - val_accuracy: 0.5363 - val_loss: 1.1979\n",
      "Epoch 3/10\n",
      "\u001b[1m179/179\u001b[0m \u001b[32m━━━━━━━━━━━━━━━━━━━━\u001b[0m\u001b[37m\u001b[0m \u001b[1m17s\u001b[0m 91ms/step - accuracy: 0.5659 - loss: 1.1689 - val_accuracy: 0.4803 - val_loss: 1.1217\n",
      "Epoch 4/10\n",
      "\u001b[1m179/179\u001b[0m \u001b[32m━━━━━━━━━━━━━━━━━━━━\u001b[0m\u001b[37m\u001b[0m \u001b[1m17s\u001b[0m 91ms/step - accuracy: 0.6269 - loss: 0.9978 - val_accuracy: 0.6185 - val_loss: 0.9455\n",
      "Epoch 5/10\n",
      "\u001b[1m179/179\u001b[0m \u001b[32m━━━━━━━━━━━━━━━━━━━━\u001b[0m\u001b[37m\u001b[0m \u001b[1m17s\u001b[0m 92ms/step - accuracy: 0.6546 - loss: 0.9077 - val_accuracy: 0.6763 - val_loss: 0.8520\n",
      "Epoch 6/10\n",
      "\u001b[1m179/179\u001b[0m \u001b[32m━━━━━━━━━━━━━━━━━━━━\u001b[0m\u001b[37m\u001b[0m \u001b[1m17s\u001b[0m 90ms/step - accuracy: 0.6695 - loss: 0.8479 - val_accuracy: 0.6684 - val_loss: 0.8259\n",
      "Epoch 7/10\n",
      "\u001b[1m179/179\u001b[0m \u001b[32m━━━━━━━━━━━━━━━━━━━━\u001b[0m\u001b[37m\u001b[0m \u001b[1m17s\u001b[0m 91ms/step - accuracy: 0.6724 - loss: 0.8266 - val_accuracy: 0.6868 - val_loss: 0.7912\n",
      "Epoch 8/10\n",
      "\u001b[1m179/179\u001b[0m \u001b[32m━━━━━━━━━━━━━━━━━━━━\u001b[0m\u001b[37m\u001b[0m \u001b[1m17s\u001b[0m 91ms/step - accuracy: 0.6924 - loss: 0.8012 - val_accuracy: 0.7087 - val_loss: 0.7470\n",
      "Epoch 9/10\n",
      "\u001b[1m179/179\u001b[0m \u001b[32m━━━━━━━━━━━━━━━━━━━━\u001b[0m\u001b[37m\u001b[0m \u001b[1m17s\u001b[0m 93ms/step - accuracy: 0.7093 - loss: 0.7683 - val_accuracy: 0.7113 - val_loss: 0.7351\n",
      "Epoch 10/10\n",
      "\u001b[1m179/179\u001b[0m \u001b[32m━━━━━━━━━━━━━━━━━━━━\u001b[0m\u001b[37m\u001b[0m \u001b[1m17s\u001b[0m 91ms/step - accuracy: 0.6961 - loss: 0.7742 - val_accuracy: 0.7157 - val_loss: 0.6981\n",
      "Training model with config: filter_size=(5, 5), num_filters=64, num_layers=2, num_units=64, activation=tanh, padding=valid, stride=(1, 1), optimizer=rmsprop, l1_lambda=0, l2_lambda=0, dropout_rate=0, epochs=10, batch_size=32\n",
      "Epoch 1/10\n",
      "\u001b[1m179/179\u001b[0m \u001b[32m━━━━━━━━━━━━━━━━━━━━\u001b[0m\u001b[37m\u001b[0m \u001b[1m18s\u001b[0m 93ms/step - accuracy: 0.5172 - loss: 1.0994 - val_accuracy: 0.7104 - val_loss: 0.6912\n",
      "Epoch 2/10\n",
      "\u001b[1m179/179\u001b[0m \u001b[32m━━━━━━━━━━━━━━━━━━━━\u001b[0m\u001b[37m\u001b[0m \u001b[1m17s\u001b[0m 95ms/step - accuracy: 0.7378 - loss: 0.6536 - val_accuracy: 0.8163 - val_loss: 0.4838\n",
      "Epoch 3/10\n",
      "\u001b[1m179/179\u001b[0m \u001b[32m━━━━━━━━━━━━━━━━━━━━\u001b[0m\u001b[37m\u001b[0m \u001b[1m18s\u001b[0m 95ms/step - accuracy: 0.7704 - loss: 0.5840 - val_accuracy: 0.8058 - val_loss: 0.4852\n",
      "Epoch 4/10\n",
      "\u001b[1m179/179\u001b[0m \u001b[32m━━━━━━━━━━━━━━━━━━━━\u001b[0m\u001b[37m\u001b[0m \u001b[1m17s\u001b[0m 93ms/step - accuracy: 0.8128 - loss: 0.4947 - val_accuracy: 0.8320 - val_loss: 0.4263\n",
      "Epoch 5/10\n",
      "\u001b[1m179/179\u001b[0m \u001b[32m━━━━━━━━━━━━━━━━━━━━\u001b[0m\u001b[37m\u001b[0m \u001b[1m17s\u001b[0m 94ms/step - accuracy: 0.8282 - loss: 0.4547 - val_accuracy: 0.8469 - val_loss: 0.4046\n",
      "Epoch 6/10\n",
      "\u001b[1m179/179\u001b[0m \u001b[32m━━━━━━━━━━━━━━━━━━━━\u001b[0m\u001b[37m\u001b[0m \u001b[1m18s\u001b[0m 95ms/step - accuracy: 0.8362 - loss: 0.4220 - val_accuracy: 0.8530 - val_loss: 0.3826\n",
      "Epoch 7/10\n",
      "\u001b[1m179/179\u001b[0m \u001b[32m━━━━━━━━━━━━━━━━━━━━\u001b[0m\u001b[37m\u001b[0m \u001b[1m17s\u001b[0m 93ms/step - accuracy: 0.8512 - loss: 0.4018 - val_accuracy: 0.8539 - val_loss: 0.3872\n",
      "Epoch 8/10\n",
      "\u001b[1m179/179\u001b[0m \u001b[32m━━━━━━━━━━━━━━━━━━━━\u001b[0m\u001b[37m\u001b[0m \u001b[1m19s\u001b[0m 102ms/step - accuracy: 0.8447 - loss: 0.3974 - val_accuracy: 0.8705 - val_loss: 0.3486\n",
      "Epoch 9/10\n",
      "\u001b[1m179/179\u001b[0m \u001b[32m━━━━━━━━━━━━━━━━━━━━\u001b[0m\u001b[37m\u001b[0m \u001b[1m18s\u001b[0m 95ms/step - accuracy: 0.8492 - loss: 0.3736 - val_accuracy: 0.8486 - val_loss: 0.3755\n",
      "Epoch 10/10\n",
      "\u001b[1m179/179\u001b[0m \u001b[32m━━━━━━━━━━━━━━━━━━━━\u001b[0m\u001b[37m\u001b[0m \u001b[1m17s\u001b[0m 93ms/step - accuracy: 0.8704 - loss: 0.3586 - val_accuracy: 0.8863 - val_loss: 0.2924\n",
      "Training model with config: filter_size=(5, 5), num_filters=64, num_layers=2, num_units=64, activation=tanh, padding=valid, stride=(1, 1), optimizer=adagrad, l1_lambda=0, l2_lambda=0, dropout_rate=0, epochs=10, batch_size=32\n",
      "Epoch 1/10\n",
      "\u001b[1m179/179\u001b[0m \u001b[32m━━━━━━━━━━━━━━━━━━━━\u001b[0m\u001b[37m\u001b[0m \u001b[1m19s\u001b[0m 95ms/step - accuracy: 0.2832 - loss: 1.3580 - val_accuracy: 0.2983 - val_loss: 1.2952\n",
      "Epoch 2/10\n",
      "\u001b[1m179/179\u001b[0m \u001b[32m━━━━━━━━━━━━━━━━━━━━\u001b[0m\u001b[37m\u001b[0m \u001b[1m17s\u001b[0m 94ms/step - accuracy: 0.3040 - loss: 1.2857 - val_accuracy: 0.4558 - val_loss: 1.2263\n",
      "Epoch 3/10\n",
      "\u001b[1m179/179\u001b[0m \u001b[32m━━━━━━━━━━━━━━━━━━━━\u001b[0m\u001b[37m\u001b[0m \u001b[1m17s\u001b[0m 91ms/step - accuracy: 0.4841 - loss: 1.2151 - val_accuracy: 0.5617 - val_loss: 1.1504\n",
      "Epoch 4/10\n",
      "\u001b[1m179/179\u001b[0m \u001b[32m━━━━━━━━━━━━━━━━━━━━\u001b[0m\u001b[37m\u001b[0m \u001b[1m17s\u001b[0m 91ms/step - accuracy: 0.5835 - loss: 1.1409 - val_accuracy: 0.6264 - val_loss: 1.0810\n",
      "Epoch 5/10\n",
      "\u001b[1m179/179\u001b[0m \u001b[32m━━━━━━━━━━━━━━━━━━━━\u001b[0m\u001b[37m\u001b[0m \u001b[1m17s\u001b[0m 90ms/step - accuracy: 0.6248 - loss: 1.0747 - val_accuracy: 0.6299 - val_loss: 1.0172\n",
      "Epoch 6/10\n",
      "\u001b[1m179/179\u001b[0m \u001b[32m━━━━━━━━━━━━━━━━━━━━\u001b[0m\u001b[37m\u001b[0m \u001b[1m17s\u001b[0m 93ms/step - accuracy: 0.6433 - loss: 1.0074 - val_accuracy: 0.6500 - val_loss: 0.9705\n",
      "Epoch 7/10\n",
      "\u001b[1m179/179\u001b[0m \u001b[32m━━━━━━━━━━━━━━━━━━━━\u001b[0m\u001b[37m\u001b[0m \u001b[1m17s\u001b[0m 91ms/step - accuracy: 0.6529 - loss: 0.9609 - val_accuracy: 0.6667 - val_loss: 0.9340\n",
      "Epoch 8/10\n",
      "\u001b[1m179/179\u001b[0m \u001b[32m━━━━━━━━━━━━━━━━━━━━\u001b[0m\u001b[37m\u001b[0m \u001b[1m17s\u001b[0m 92ms/step - accuracy: 0.6604 - loss: 0.9333 - val_accuracy: 0.6763 - val_loss: 0.9042\n",
      "Epoch 9/10\n",
      "\u001b[1m179/179\u001b[0m \u001b[32m━━━━━━━━━━━━━━━━━━━━\u001b[0m\u001b[37m\u001b[0m \u001b[1m17s\u001b[0m 93ms/step - accuracy: 0.6767 - loss: 0.8850 - val_accuracy: 0.6789 - val_loss: 0.8787\n",
      "Epoch 10/10\n",
      "\u001b[1m179/179\u001b[0m \u001b[32m━━━━━━━━━━━━━━━━━━━━\u001b[0m\u001b[37m\u001b[0m \u001b[1m17s\u001b[0m 94ms/step - accuracy: 0.6844 - loss: 0.8820 - val_accuracy: 0.6912 - val_loss: 0.8590\n",
      "Training model with config: filter_size=(5, 5), num_filters=64, num_layers=2, num_units=64, activation=tanh, padding=valid, stride=(1, 1), optimizer=adam, l1_lambda=0, l2_lambda=0, dropout_rate=0, epochs=10, batch_size=32\n",
      "Epoch 1/10\n",
      "\u001b[1m179/179\u001b[0m \u001b[32m━━━━━━━━━━━━━━━━━━━━\u001b[0m\u001b[37m\u001b[0m \u001b[1m19s\u001b[0m 93ms/step - accuracy: 0.5363 - loss: 1.0468 - val_accuracy: 0.7664 - val_loss: 0.5912\n",
      "Epoch 2/10\n",
      "\u001b[1m179/179\u001b[0m \u001b[32m━━━━━━━━━━━━━━━━━━━━\u001b[0m\u001b[37m\u001b[0m \u001b[1m17s\u001b[0m 93ms/step - accuracy: 0.7642 - loss: 0.6130 - val_accuracy: 0.7979 - val_loss: 0.5218\n",
      "Epoch 3/10\n",
      "\u001b[1m179/179\u001b[0m \u001b[32m━━━━━━━━━━━━━━━━━━━━\u001b[0m\u001b[37m\u001b[0m \u001b[1m17s\u001b[0m 93ms/step - accuracy: 0.7971 - loss: 0.5275 - val_accuracy: 0.8241 - val_loss: 0.4609\n",
      "Epoch 4/10\n",
      "\u001b[1m179/179\u001b[0m \u001b[32m━━━━━━━━━━━━━━━━━━━━\u001b[0m\u001b[37m\u001b[0m \u001b[1m17s\u001b[0m 92ms/step - accuracy: 0.8261 - loss: 0.4740 - val_accuracy: 0.8416 - val_loss: 0.3952\n",
      "Epoch 5/10\n",
      "\u001b[1m179/179\u001b[0m \u001b[32m━━━━━━━━━━━━━━━━━━━━\u001b[0m\u001b[37m\u001b[0m \u001b[1m17s\u001b[0m 92ms/step - accuracy: 0.8448 - loss: 0.4229 - val_accuracy: 0.8451 - val_loss: 0.4020\n",
      "Epoch 6/10\n",
      "\u001b[1m179/179\u001b[0m \u001b[32m━━━━━━━━━━━━━━━━━━━━\u001b[0m\u001b[37m\u001b[0m \u001b[1m17s\u001b[0m 92ms/step - accuracy: 0.8399 - loss: 0.4183 - val_accuracy: 0.8294 - val_loss: 0.4040\n",
      "Epoch 7/10\n",
      "\u001b[1m179/179\u001b[0m \u001b[32m━━━━━━━━━━━━━━━━━━━━\u001b[0m\u001b[37m\u001b[0m \u001b[1m17s\u001b[0m 93ms/step - accuracy: 0.8398 - loss: 0.3984 - val_accuracy: 0.8469 - val_loss: 0.3772\n",
      "Epoch 8/10\n",
      "\u001b[1m179/179\u001b[0m \u001b[32m━━━━━━━━━━━━━━━━━━━━\u001b[0m\u001b[37m\u001b[0m \u001b[1m17s\u001b[0m 93ms/step - accuracy: 0.8670 - loss: 0.3708 - val_accuracy: 0.8740 - val_loss: 0.3180\n",
      "Epoch 9/10\n",
      "\u001b[1m179/179\u001b[0m \u001b[32m━━━━━━━━━━━━━━━━━━━━\u001b[0m\u001b[37m\u001b[0m \u001b[1m22s\u001b[0m 120ms/step - accuracy: 0.8647 - loss: 0.3492 - val_accuracy: 0.8609 - val_loss: 0.3340\n",
      "Epoch 10/10\n",
      "\u001b[1m179/179\u001b[0m \u001b[32m━━━━━━━━━━━━━━━━━━━━\u001b[0m\u001b[37m\u001b[0m \u001b[1m21s\u001b[0m 115ms/step - accuracy: 0.8641 - loss: 0.3465 - val_accuracy: 0.8775 - val_loss: 0.3195\n",
      "Training model with config: filter_size=(5, 5), num_filters=64, num_layers=2, num_units=64, activation=tanh, padding=valid, stride=(1, 1), optimizer=sgd, l1_lambda=0, l2_lambda=0, dropout_rate=0, epochs=10, batch_size=32\n",
      "Epoch 1/10\n",
      "\u001b[1m179/179\u001b[0m \u001b[32m━━━━━━━━━━━━━━━━━━━━\u001b[0m\u001b[37m\u001b[0m \u001b[1m23s\u001b[0m 116ms/step - accuracy: 0.3488 - loss: 1.3155 - val_accuracy: 0.6194 - val_loss: 1.0592\n",
      "Epoch 2/10\n",
      "\u001b[1m179/179\u001b[0m \u001b[32m━━━━━━━━━━━━━━━━━━━━\u001b[0m\u001b[37m\u001b[0m \u001b[1m20s\u001b[0m 110ms/step - accuracy: 0.6426 - loss: 1.0290 - val_accuracy: 0.6842 - val_loss: 0.9091\n",
      "Epoch 3/10\n",
      "\u001b[1m179/179\u001b[0m \u001b[32m━━━━━━━━━━━━━━━━━━━━\u001b[0m\u001b[37m\u001b[0m \u001b[1m21s\u001b[0m 112ms/step - accuracy: 0.6632 - loss: 0.9017 - val_accuracy: 0.6877 - val_loss: 0.8610\n",
      "Epoch 4/10\n",
      "\u001b[1m179/179\u001b[0m \u001b[32m━━━━━━━━━━━━━━━━━━━━\u001b[0m\u001b[37m\u001b[0m \u001b[1m20s\u001b[0m 109ms/step - accuracy: 0.6665 - loss: 0.8778 - val_accuracy: 0.6815 - val_loss: 0.8353\n",
      "Epoch 5/10\n",
      "\u001b[1m179/179\u001b[0m \u001b[32m━━━━━━━━━━━━━━━━━━━━\u001b[0m\u001b[37m\u001b[0m \u001b[1m22s\u001b[0m 119ms/step - accuracy: 0.6866 - loss: 0.8364 - val_accuracy: 0.6772 - val_loss: 0.8225\n",
      "Epoch 6/10\n",
      "\u001b[1m179/179\u001b[0m \u001b[32m━━━━━━━━━━━━━━━━━━━━\u001b[0m\u001b[37m\u001b[0m \u001b[1m27s\u001b[0m 142ms/step - accuracy: 0.7030 - loss: 0.7904 - val_accuracy: 0.6982 - val_loss: 0.7720\n",
      "Epoch 7/10\n",
      "\u001b[1m179/179\u001b[0m \u001b[32m━━━━━━━━━━━━━━━━━━━━\u001b[0m\u001b[37m\u001b[0m \u001b[1m28s\u001b[0m 148ms/step - accuracy: 0.7165 - loss: 0.7397 - val_accuracy: 0.7244 - val_loss: 0.7206\n",
      "Epoch 8/10\n",
      "\u001b[1m179/179\u001b[0m \u001b[32m━━━━━━━━━━━━━━━━━━━━\u001b[0m\u001b[37m\u001b[0m \u001b[1m28s\u001b[0m 152ms/step - accuracy: 0.7361 - loss: 0.7014 - val_accuracy: 0.7349 - val_loss: 0.6888\n",
      "Epoch 9/10\n",
      "\u001b[1m179/179\u001b[0m \u001b[32m━━━━━━━━━━━━━━━━━━━━\u001b[0m\u001b[37m\u001b[0m \u001b[1m34s\u001b[0m 118ms/step - accuracy: 0.7482 - loss: 0.6665 - val_accuracy: 0.7463 - val_loss: 0.6491\n",
      "Epoch 10/10\n",
      "\u001b[1m179/179\u001b[0m \u001b[32m━━━━━━━━━━━━━━━━━━━━\u001b[0m\u001b[37m\u001b[0m \u001b[1m19s\u001b[0m 101ms/step - accuracy: 0.7531 - loss: 0.6518 - val_accuracy: 0.7297 - val_loss: 0.7183\n"
     ]
    }
   ],
   "source": [
    "# Define the ranges of parameters to be tested\n",
    "filter_sizes = [(3, 3) , (5,5)]  # using diffrent filter size\n",
    "num_filters_list = [32 , 64]   # using diffrent number of filters\n",
    "num_layers_list = [2]          # using 2 layer CNN (Conv2D + Max pooling)\n",
    "num_units_list = [32 , 64]     # using diffrent number of units in Dense layers\n",
    "activations = ['relu', 'tanh'] # using diffrent activation function in layers\n",
    "paddings = ['valid']    # using diffrent padding\n",
    "strides = [(1,1)]      # using diffrent strides\n",
    "epochs_list = [10]             # using sufficient epochs\n",
    "batch_sizes = [32]          # using diffrent batch_sizes\n",
    "optimizers = {'rmsprop': RMSprop(), 'adagrad': Adagrad(), 'adam':Adam(), 'sgd':SGD()} # using diffrent Optimizer\n",
    "l1_lambdas = [0]\n",
    "l2_lambdas = [0] \n",
    "dropout_rates = [0]\n",
    "\n",
    "# batch normalization\n",
    "# Early stoping\n",
    "\n",
    "results = []\n",
    "\n",
    "# Iterate over all combinations\n",
    "for filter_size in filter_sizes:\n",
    "    for num_filters in num_filters_list:\n",
    "        for num_layers in num_layers_list:\n",
    "            for num_units in num_units_list:\n",
    "                for activation in activations:\n",
    "                    for padding in paddings:\n",
    "                        for stride in strides:\n",
    "                            for opt_name in optimizers.keys():  # Use keys instead of values\n",
    "                                for l1_lambda in l1_lambdas:\n",
    "                                    for l2_lambda in l2_lambdas:\n",
    "                                        for dropout_rate in dropout_rates:\n",
    "                                            for epochs in epochs_list:\n",
    "                                                for batch_size in batch_sizes:\n",
    "                                                    print(f\"Training model with config: filter_size={filter_size}, num_filters={num_filters}, \"\n",
    "                                                          f\"num_layers={num_layers}, num_units={num_units}, activation={activation}, padding={padding}, \"\n",
    "                                                          f\"stride={stride}, optimizer={opt_name}, l1_lambda={l1_lambda}, l2_lambda={l2_lambda}, \"\n",
    "                                                          f\"dropout_rate={dropout_rate}, epochs={epochs}, batch_size={batch_size}\")\n",
    "                                                    \n",
    "                                                    # Train and evaluate the model\n",
    "                                                    history = train_and_evaluate(filter_size, num_filters, num_layers, num_units, activation, \n",
    "                                                                                 padding, stride, opt_name, l1_lambda, l2_lambda, dropout_rate, \n",
    "                                                                                 epochs, batch_size, num_classes)\n",
    "                                                    \n",
    "                                                    # Store the results\n",
    "                                                    result = {\n",
    "                                                        'filter_size': filter_size,\n",
    "                                                        'num_filters': num_filters,\n",
    "                                                        'num_layers': num_layers,\n",
    "                                                        'num_units': num_units,\n",
    "                                                        'activation': activation,\n",
    "                                                        'padding': padding,\n",
    "                                                        'stride': stride,\n",
    "                                                        'optimizer': opt_name,\n",
    "                                                        'l1_lambda': l1_lambda,\n",
    "                                                        'l2_lambda': l2_lambda,\n",
    "                                                        'dropout_rate': dropout_rate,\n",
    "                                                        'epochs': epochs,\n",
    "                                                        'batch_size': batch_size,\n",
    "                                                        'history': history\n",
    "                                                    }\n",
    "                                                    results.append(result)"
   ]
  },
  {
   "cell_type": "markdown",
   "metadata": {},
   "source": [
    "### 6.1.2 Visualizing the Results of varying configurations"
   ]
  },
  {
   "cell_type": "markdown",
   "metadata": {},
   "source": [
    "To visually compare the results from the different configurations, We provided code to generate graphs for the key metrics ( training accuracy, validation accuracy). This will help to evaluate the impact of various hyperparameters on model performance."
   ]
  },
  {
   "cell_type": "code",
   "execution_count": 70,
   "metadata": {},
   "outputs": [],
   "source": [
    "import pickle\n",
    "\n",
    "# Update the path to a location on your local machine\n",
    "save_path = 'model_comparison_results.pkl'  # Saves in the current working directory\n",
    "\n",
    "# Save the results to a file for later analysis\n",
    "with open(save_path, 'wb') as f:\n",
    "    pickle.dump(results, f)\n",
    "\n",
    "# Replace 'your_results_file.pkl' with the path to your pickle file\n",
    "with open('model_comparison_results.pkl', 'rb') as f:\n",
    "    results = pickle.load(f)"
   ]
  },
  {
   "cell_type": "code",
   "execution_count": 71,
   "metadata": {},
   "outputs": [],
   "source": [
    "import pandas as pd\n",
    "\n",
    "# Create a DataFrame from the loaded results\n",
    "records = []\n",
    "for result in results:\n",
    "    record = {\n",
    "        'filter_size': result['filter_size'],\n",
    "        'num_filters': result['num_filters'],\n",
    "        'num_layers': result['num_layers'],\n",
    "        'num_units': result['num_units'],\n",
    "        'activation': result['activation'],\n",
    "        'padding': result['padding'],\n",
    "        'stride': result['stride'],\n",
    "        'optimizer': result['optimizer'],\n",
    "        'l1_lambda': result['l1_lambda'],\n",
    "        'l2_lambda': result['l2_lambda'],\n",
    "        'dropout_rate': result['dropout_rate'],\n",
    "        'epochs': result['epochs'],\n",
    "        'batch_size': result['batch_size'],\n",
    "        'train_accuracy': max(result['history']['accuracy']),\n",
    "        'val_accuracy': max(result['history']['val_accuracy']),\n",
    "        'train_loss': min(result['history']['loss']),\n",
    "        'val_loss': min(result['history']['val_loss']),\n",
    "    }\n",
    "    records.append(record)\n",
    "\n",
    "results_df = pd.DataFrame(records)\n"
   ]
  },
  {
   "cell_type": "code",
   "execution_count": 72,
   "metadata": {},
   "outputs": [
    {
     "data": {
      "application/vnd.plotly.v1+json": {
       "config": {
        "plotlyServerURL": "https://plot.ly"
       },
       "data": [
        {
         "customdata": [
          [
           [
            3,
            3
           ],
           32,
           2,
           32,
           "relu",
           "valid",
           [
            1,
            1
           ],
           0,
           0,
           0,
           10,
           32
          ],
          [
           [
            3,
            3
           ],
           32,
           2,
           32,
           "tanh",
           "valid",
           [
            1,
            1
           ],
           0,
           0,
           0,
           10,
           32
          ],
          [
           [
            3,
            3
           ],
           32,
           2,
           64,
           "relu",
           "valid",
           [
            1,
            1
           ],
           0,
           0,
           0,
           10,
           32
          ],
          [
           [
            3,
            3
           ],
           32,
           2,
           64,
           "tanh",
           "valid",
           [
            1,
            1
           ],
           0,
           0,
           0,
           10,
           32
          ],
          [
           [
            3,
            3
           ],
           64,
           2,
           32,
           "relu",
           "valid",
           [
            1,
            1
           ],
           0,
           0,
           0,
           10,
           32
          ],
          [
           [
            3,
            3
           ],
           64,
           2,
           32,
           "tanh",
           "valid",
           [
            1,
            1
           ],
           0,
           0,
           0,
           10,
           32
          ],
          [
           [
            3,
            3
           ],
           64,
           2,
           64,
           "relu",
           "valid",
           [
            1,
            1
           ],
           0,
           0,
           0,
           10,
           32
          ],
          [
           [
            3,
            3
           ],
           64,
           2,
           64,
           "tanh",
           "valid",
           [
            1,
            1
           ],
           0,
           0,
           0,
           10,
           32
          ],
          [
           [
            5,
            5
           ],
           32,
           2,
           32,
           "relu",
           "valid",
           [
            1,
            1
           ],
           0,
           0,
           0,
           10,
           32
          ],
          [
           [
            5,
            5
           ],
           32,
           2,
           32,
           "tanh",
           "valid",
           [
            1,
            1
           ],
           0,
           0,
           0,
           10,
           32
          ],
          [
           [
            5,
            5
           ],
           32,
           2,
           64,
           "relu",
           "valid",
           [
            1,
            1
           ],
           0,
           0,
           0,
           10,
           32
          ],
          [
           [
            5,
            5
           ],
           32,
           2,
           64,
           "tanh",
           "valid",
           [
            1,
            1
           ],
           0,
           0,
           0,
           10,
           32
          ],
          [
           [
            5,
            5
           ],
           64,
           2,
           32,
           "relu",
           "valid",
           [
            1,
            1
           ],
           0,
           0,
           0,
           10,
           32
          ],
          [
           [
            5,
            5
           ],
           64,
           2,
           32,
           "tanh",
           "valid",
           [
            1,
            1
           ],
           0,
           0,
           0,
           10,
           32
          ],
          [
           [
            5,
            5
           ],
           64,
           2,
           64,
           "relu",
           "valid",
           [
            1,
            1
           ],
           0,
           0,
           0,
           10,
           32
          ],
          [
           [
            5,
            5
           ],
           64,
           2,
           64,
           "tanh",
           "valid",
           [
            1,
            1
           ],
           0,
           0,
           0,
           10,
           32
          ]
         ],
         "hovertemplate": "optimizer=rmsprop<br>Training Accuracy=%{marker.size}<br>Validation Accuracy=%{y}<br>filter_size=%{customdata[0]}<br>num_filters=%{customdata[1]}<br>num_layers=%{customdata[2]}<br>num_units=%{customdata[3]}<br>activation=%{customdata[4]}<br>padding=%{customdata[5]}<br>stride=%{customdata[6]}<br>l1_lambda=%{customdata[7]}<br>l2_lambda=%{customdata[8]}<br>dropout_rate=%{customdata[9]}<br>epochs=%{customdata[10]}<br>batch_size=%{customdata[11]}<extra></extra>",
         "legendgroup": "rmsprop",
         "marker": {
          "color": "#636efa",
          "size": [
           0.8408613204956055,
           0.848739504814148,
           0.843662440776825,
           0.843837559223175,
           0.844362735748291,
           0.8665966391563416,
           0.8557422757148743,
           0.8676470518112183,
           0.8084734082221985,
           0.8429622054100037,
           0.8322829008102417,
           0.8392857313156128,
           0.8422619104385376,
           0.8588935732841492,
           0.8476890921592712,
           0.8632702827453613
          ],
          "sizemode": "area",
          "sizeref": 0.0088742995262146,
          "symbol": "circle"
         },
         "mode": "markers",
         "name": "rmsprop",
         "orientation": "v",
         "showlegend": true,
         "type": "scatter",
         "x": [
          0.8408613204956055,
          0.848739504814148,
          0.843662440776825,
          0.843837559223175,
          0.844362735748291,
          0.8665966391563416,
          0.8557422757148743,
          0.8676470518112183,
          0.8084734082221985,
          0.8429622054100037,
          0.8322829008102417,
          0.8392857313156128,
          0.8422619104385376,
          0.8588935732841492,
          0.8476890921592712,
          0.8632702827453613
         ],
         "xaxis": "x",
         "y": [
          0.8565179109573364,
          0.8775153160095215,
          0.8460192680358887,
          0.8705161809921265,
          0.8626421689987183,
          0.8985126614570618,
          0.8827646374702454,
          0.8932633399963379,
          0.8372703194618225,
          0.8652668595314026,
          0.8591426014900208,
          0.8573928475379944,
          0.8678914904594421,
          0.8792650699615479,
          0.8696413040161133,
          0.8862642049789429
         ],
         "yaxis": "y"
        },
        {
         "customdata": [
          [
           [
            3,
            3
           ],
           32,
           2,
           32,
           "relu",
           "valid",
           [
            1,
            1
           ],
           0,
           0,
           0,
           10,
           32
          ],
          [
           [
            3,
            3
           ],
           32,
           2,
           32,
           "tanh",
           "valid",
           [
            1,
            1
           ],
           0,
           0,
           0,
           10,
           32
          ],
          [
           [
            3,
            3
           ],
           32,
           2,
           64,
           "relu",
           "valid",
           [
            1,
            1
           ],
           0,
           0,
           0,
           10,
           32
          ],
          [
           [
            3,
            3
           ],
           32,
           2,
           64,
           "tanh",
           "valid",
           [
            1,
            1
           ],
           0,
           0,
           0,
           10,
           32
          ],
          [
           [
            3,
            3
           ],
           64,
           2,
           32,
           "relu",
           "valid",
           [
            1,
            1
           ],
           0,
           0,
           0,
           10,
           32
          ],
          [
           [
            3,
            3
           ],
           64,
           2,
           32,
           "tanh",
           "valid",
           [
            1,
            1
           ],
           0,
           0,
           0,
           10,
           32
          ],
          [
           [
            3,
            3
           ],
           64,
           2,
           64,
           "relu",
           "valid",
           [
            1,
            1
           ],
           0,
           0,
           0,
           10,
           32
          ],
          [
           [
            3,
            3
           ],
           64,
           2,
           64,
           "tanh",
           "valid",
           [
            1,
            1
           ],
           0,
           0,
           0,
           10,
           32
          ],
          [
           [
            5,
            5
           ],
           32,
           2,
           32,
           "relu",
           "valid",
           [
            1,
            1
           ],
           0,
           0,
           0,
           10,
           32
          ],
          [
           [
            5,
            5
           ],
           32,
           2,
           32,
           "tanh",
           "valid",
           [
            1,
            1
           ],
           0,
           0,
           0,
           10,
           32
          ],
          [
           [
            5,
            5
           ],
           32,
           2,
           64,
           "relu",
           "valid",
           [
            1,
            1
           ],
           0,
           0,
           0,
           10,
           32
          ],
          [
           [
            5,
            5
           ],
           32,
           2,
           64,
           "tanh",
           "valid",
           [
            1,
            1
           ],
           0,
           0,
           0,
           10,
           32
          ],
          [
           [
            5,
            5
           ],
           64,
           2,
           32,
           "relu",
           "valid",
           [
            1,
            1
           ],
           0,
           0,
           0,
           10,
           32
          ],
          [
           [
            5,
            5
           ],
           64,
           2,
           32,
           "tanh",
           "valid",
           [
            1,
            1
           ],
           0,
           0,
           0,
           10,
           32
          ],
          [
           [
            5,
            5
           ],
           64,
           2,
           64,
           "relu",
           "valid",
           [
            1,
            1
           ],
           0,
           0,
           0,
           10,
           32
          ],
          [
           [
            5,
            5
           ],
           64,
           2,
           64,
           "tanh",
           "valid",
           [
            1,
            1
           ],
           0,
           0,
           0,
           10,
           32
          ]
         ],
         "hovertemplate": "optimizer=adagrad<br>Training Accuracy=%{marker.size}<br>Validation Accuracy=%{y}<br>filter_size=%{customdata[0]}<br>num_filters=%{customdata[1]}<br>num_layers=%{customdata[2]}<br>num_units=%{customdata[3]}<br>activation=%{customdata[4]}<br>padding=%{customdata[5]}<br>stride=%{customdata[6]}<br>l1_lambda=%{customdata[7]}<br>l2_lambda=%{customdata[8]}<br>dropout_rate=%{customdata[9]}<br>epochs=%{customdata[10]}<br>batch_size=%{customdata[11]}<extra></extra>",
         "legendgroup": "adagrad",
         "marker": {
          "color": "#EF553B",
          "size": [
           0.46095937490463257,
           0.6502100825309753,
           0.5663515329360962,
           0.6726190447807312,
           0.5516456365585327,
           0.6796218752861023,
           0.488095223903656,
           0.6745448112487793,
           0.5915616154670715,
           0.6540616154670715,
           0.5297619104385376,
           0.658088207244873,
           0.6290265917778015,
           0.6545868515968323,
           0.5784313678741455,
           0.6882002949714661
          ],
          "sizemode": "area",
          "sizeref": 0.0088742995262146,
          "symbol": "circle"
         },
         "mode": "markers",
         "name": "adagrad",
         "orientation": "v",
         "showlegend": true,
         "type": "scatter",
         "x": [
          0.46095937490463257,
          0.6502100825309753,
          0.5663515329360962,
          0.6726190447807312,
          0.5516456365585327,
          0.6796218752861023,
          0.488095223903656,
          0.6745448112487793,
          0.5915616154670715,
          0.6540616154670715,
          0.5297619104385376,
          0.658088207244873,
          0.6290265917778015,
          0.6545868515968323,
          0.5784313678741455,
          0.6882002949714661
         ],
         "xaxis": "x",
         "y": [
          0.44969379901885986,
          0.6596675515174866,
          0.5870516300201416,
          0.6815398335456848,
          0.5433070659637451,
          0.6937882900238037,
          0.5660542249679565,
          0.6789151430130005,
          0.6220472455024719,
          0.6596675515174866,
          0.5441820025444031,
          0.6666666865348816,
          0.6176728010177612,
          0.668416440486908,
          0.5870516300201416,
          0.6911635994911194
         ],
         "yaxis": "y"
        },
        {
         "customdata": [
          [
           [
            3,
            3
           ],
           32,
           2,
           32,
           "relu",
           "valid",
           [
            1,
            1
           ],
           0,
           0,
           0,
           10,
           32
          ],
          [
           [
            3,
            3
           ],
           32,
           2,
           32,
           "tanh",
           "valid",
           [
            1,
            1
           ],
           0,
           0,
           0,
           10,
           32
          ],
          [
           [
            3,
            3
           ],
           32,
           2,
           64,
           "relu",
           "valid",
           [
            1,
            1
           ],
           0,
           0,
           0,
           10,
           32
          ],
          [
           [
            3,
            3
           ],
           32,
           2,
           64,
           "tanh",
           "valid",
           [
            1,
            1
           ],
           0,
           0,
           0,
           10,
           32
          ],
          [
           [
            3,
            3
           ],
           64,
           2,
           32,
           "relu",
           "valid",
           [
            1,
            1
           ],
           0,
           0,
           0,
           10,
           32
          ],
          [
           [
            3,
            3
           ],
           64,
           2,
           32,
           "tanh",
           "valid",
           [
            1,
            1
           ],
           0,
           0,
           0,
           10,
           32
          ],
          [
           [
            3,
            3
           ],
           64,
           2,
           64,
           "relu",
           "valid",
           [
            1,
            1
           ],
           0,
           0,
           0,
           10,
           32
          ],
          [
           [
            3,
            3
           ],
           64,
           2,
           64,
           "tanh",
           "valid",
           [
            1,
            1
           ],
           0,
           0,
           0,
           10,
           32
          ],
          [
           [
            5,
            5
           ],
           32,
           2,
           32,
           "relu",
           "valid",
           [
            1,
            1
           ],
           0,
           0,
           0,
           10,
           32
          ],
          [
           [
            5,
            5
           ],
           32,
           2,
           32,
           "tanh",
           "valid",
           [
            1,
            1
           ],
           0,
           0,
           0,
           10,
           32
          ],
          [
           [
            5,
            5
           ],
           32,
           2,
           64,
           "relu",
           "valid",
           [
            1,
            1
           ],
           0,
           0,
           0,
           10,
           32
          ],
          [
           [
            5,
            5
           ],
           32,
           2,
           64,
           "tanh",
           "valid",
           [
            1,
            1
           ],
           0,
           0,
           0,
           10,
           32
          ],
          [
           [
            5,
            5
           ],
           64,
           2,
           32,
           "relu",
           "valid",
           [
            1,
            1
           ],
           0,
           0,
           0,
           10,
           32
          ],
          [
           [
            5,
            5
           ],
           64,
           2,
           32,
           "tanh",
           "valid",
           [
            1,
            1
           ],
           0,
           0,
           0,
           10,
           32
          ],
          [
           [
            5,
            5
           ],
           64,
           2,
           64,
           "relu",
           "valid",
           [
            1,
            1
           ],
           0,
           0,
           0,
           10,
           32
          ],
          [
           [
            5,
            5
           ],
           64,
           2,
           64,
           "tanh",
           "valid",
           [
            1,
            1
           ],
           0,
           0,
           0,
           10,
           32
          ]
         ],
         "hovertemplate": "optimizer=adam<br>Training Accuracy=%{marker.size}<br>Validation Accuracy=%{y}<br>filter_size=%{customdata[0]}<br>num_filters=%{customdata[1]}<br>num_layers=%{customdata[2]}<br>num_units=%{customdata[3]}<br>activation=%{customdata[4]}<br>padding=%{customdata[5]}<br>stride=%{customdata[6]}<br>l1_lambda=%{customdata[7]}<br>l2_lambda=%{customdata[8]}<br>dropout_rate=%{customdata[9]}<br>epochs=%{customdata[10]}<br>batch_size=%{customdata[11]}<extra></extra>",
         "legendgroup": "adam",
         "marker": {
          "color": "#00cc96",
          "size": [
           0.8258053064346313,
           0.8483893275260925,
           0.8440126180648804,
           0.84996497631073,
           0.8294817805290222,
           0.8776260614395142,
           0.8664215803146362,
           0.88742995262146,
           0.8109243512153625,
           0.8473389148712158,
           0.8308823704719543,
           0.8504902124404907,
           0.8347339034080505,
           0.868697464466095,
           0.8356092572212219,
           0.8758753538131714
          ],
          "sizemode": "area",
          "sizeref": 0.0088742995262146,
          "symbol": "circle"
         },
         "mode": "markers",
         "name": "adam",
         "orientation": "v",
         "showlegend": true,
         "type": "scatter",
         "x": [
          0.8258053064346313,
          0.8483893275260925,
          0.8440126180648804,
          0.84996497631073,
          0.8294817805290222,
          0.8776260614395142,
          0.8664215803146362,
          0.88742995262146,
          0.8109243512153625,
          0.8473389148712158,
          0.8308823704719543,
          0.8504902124404907,
          0.8347339034080505,
          0.868697464466095,
          0.8356092572212219,
          0.8758753538131714
         ],
         "xaxis": "x",
         "y": [
          0.84076988697052,
          0.8573928475379944,
          0.8538932800292969,
          0.8582677245140076,
          0.8398950099945068,
          0.8897637724876404,
          0.8836395740509033,
          0.9002624750137329,
          0.8328958749771118,
          0.8573928475379944,
          0.8468941450119019,
          0.8547681570053101,
          0.8468941450119019,
          0.8941382169723511,
          0.8556430339813232,
          0.8775153160095215
         ],
         "yaxis": "y"
        },
        {
         "customdata": [
          [
           [
            3,
            3
           ],
           32,
           2,
           32,
           "relu",
           "valid",
           [
            1,
            1
           ],
           0,
           0,
           0,
           10,
           32
          ],
          [
           [
            3,
            3
           ],
           32,
           2,
           32,
           "tanh",
           "valid",
           [
            1,
            1
           ],
           0,
           0,
           0,
           10,
           32
          ],
          [
           [
            3,
            3
           ],
           32,
           2,
           64,
           "relu",
           "valid",
           [
            1,
            1
           ],
           0,
           0,
           0,
           10,
           32
          ],
          [
           [
            3,
            3
           ],
           32,
           2,
           64,
           "tanh",
           "valid",
           [
            1,
            1
           ],
           0,
           0,
           0,
           10,
           32
          ],
          [
           [
            3,
            3
           ],
           64,
           2,
           32,
           "relu",
           "valid",
           [
            1,
            1
           ],
           0,
           0,
           0,
           10,
           32
          ],
          [
           [
            3,
            3
           ],
           64,
           2,
           32,
           "tanh",
           "valid",
           [
            1,
            1
           ],
           0,
           0,
           0,
           10,
           32
          ],
          [
           [
            3,
            3
           ],
           64,
           2,
           64,
           "relu",
           "valid",
           [
            1,
            1
           ],
           0,
           0,
           0,
           10,
           32
          ],
          [
           [
            3,
            3
           ],
           64,
           2,
           64,
           "tanh",
           "valid",
           [
            1,
            1
           ],
           0,
           0,
           0,
           10,
           32
          ],
          [
           [
            5,
            5
           ],
           32,
           2,
           32,
           "relu",
           "valid",
           [
            1,
            1
           ],
           0,
           0,
           0,
           10,
           32
          ],
          [
           [
            5,
            5
           ],
           32,
           2,
           32,
           "tanh",
           "valid",
           [
            1,
            1
           ],
           0,
           0,
           0,
           10,
           32
          ],
          [
           [
            5,
            5
           ],
           32,
           2,
           64,
           "relu",
           "valid",
           [
            1,
            1
           ],
           0,
           0,
           0,
           10,
           32
          ],
          [
           [
            5,
            5
           ],
           32,
           2,
           64,
           "tanh",
           "valid",
           [
            1,
            1
           ],
           0,
           0,
           0,
           10,
           32
          ],
          [
           [
            5,
            5
           ],
           64,
           2,
           32,
           "relu",
           "valid",
           [
            1,
            1
           ],
           0,
           0,
           0,
           10,
           32
          ],
          [
           [
            5,
            5
           ],
           64,
           2,
           32,
           "tanh",
           "valid",
           [
            1,
            1
           ],
           0,
           0,
           0,
           10,
           32
          ],
          [
           [
            5,
            5
           ],
           64,
           2,
           64,
           "relu",
           "valid",
           [
            1,
            1
           ],
           0,
           0,
           0,
           10,
           32
          ],
          [
           [
            5,
            5
           ],
           64,
           2,
           64,
           "tanh",
           "valid",
           [
            1,
            1
           ],
           0,
           0,
           0,
           10,
           32
          ]
         ],
         "hovertemplate": "optimizer=sgd<br>Training Accuracy=%{marker.size}<br>Validation Accuracy=%{y}<br>filter_size=%{customdata[0]}<br>num_filters=%{customdata[1]}<br>num_layers=%{customdata[2]}<br>num_units=%{customdata[3]}<br>activation=%{customdata[4]}<br>padding=%{customdata[5]}<br>stride=%{customdata[6]}<br>l1_lambda=%{customdata[7]}<br>l2_lambda=%{customdata[8]}<br>dropout_rate=%{customdata[9]}<br>epochs=%{customdata[10]}<br>batch_size=%{customdata[11]}<extra></extra>",
         "legendgroup": "sgd",
         "marker": {
          "color": "#ab63fa",
          "size": [
           0.7146358489990234,
           0.7596288323402405,
           0.7253151535987854,
           0.7629551887512207,
           0.7116596698760986,
           0.7696078419685364,
           0.7284663915634155,
           0.7661064267158508,
           0.6925770044326782,
           0.7298669219017029,
           0.7046568393707275,
           0.7417716979980469,
           0.7011554837226868,
           0.7442227005958557,
           0.7071078419685364,
           0.7533263564109802
          ],
          "sizemode": "area",
          "sizeref": 0.0088742995262146,
          "symbol": "circle"
         },
         "mode": "markers",
         "name": "sgd",
         "orientation": "v",
         "showlegend": true,
         "type": "scatter",
         "x": [
          0.7146358489990234,
          0.7596288323402405,
          0.7253151535987854,
          0.7629551887512207,
          0.7116596698760986,
          0.7696078419685364,
          0.7284663915634155,
          0.7661064267158508,
          0.6925770044326782,
          0.7298669219017029,
          0.7046568393707275,
          0.7417716979980469,
          0.7011554837226868,
          0.7442227005958557,
          0.7071078419685364,
          0.7533263564109802
         ],
         "xaxis": "x",
         "y": [
          0.721784770488739,
          0.7515310645103455,
          0.7401574850082397,
          0.768153965473175,
          0.7366579174995422,
          0.7515310645103455,
          0.7200350165367126,
          0.7602799534797668,
          0.6981627345085144,
          0.7366579174995422,
          0.7191600799560547,
          0.7375327944755554,
          0.714785635471344,
          0.7349081635475159,
          0.715660572052002,
          0.7462817430496216
         ],
         "yaxis": "y"
        }
       ],
       "layout": {
        "legend": {
         "itemsizing": "constant",
         "title": {
          "text": "optimizer"
         },
         "tracegroupgap": 0
        },
        "template": {
         "data": {
          "bar": [
           {
            "error_x": {
             "color": "#2a3f5f"
            },
            "error_y": {
             "color": "#2a3f5f"
            },
            "marker": {
             "line": {
              "color": "#E5ECF6",
              "width": 0.5
             },
             "pattern": {
              "fillmode": "overlay",
              "size": 10,
              "solidity": 0.2
             }
            },
            "type": "bar"
           }
          ],
          "barpolar": [
           {
            "marker": {
             "line": {
              "color": "#E5ECF6",
              "width": 0.5
             },
             "pattern": {
              "fillmode": "overlay",
              "size": 10,
              "solidity": 0.2
             }
            },
            "type": "barpolar"
           }
          ],
          "carpet": [
           {
            "aaxis": {
             "endlinecolor": "#2a3f5f",
             "gridcolor": "white",
             "linecolor": "white",
             "minorgridcolor": "white",
             "startlinecolor": "#2a3f5f"
            },
            "baxis": {
             "endlinecolor": "#2a3f5f",
             "gridcolor": "white",
             "linecolor": "white",
             "minorgridcolor": "white",
             "startlinecolor": "#2a3f5f"
            },
            "type": "carpet"
           }
          ],
          "choropleth": [
           {
            "colorbar": {
             "outlinewidth": 0,
             "ticks": ""
            },
            "type": "choropleth"
           }
          ],
          "contour": [
           {
            "colorbar": {
             "outlinewidth": 0,
             "ticks": ""
            },
            "colorscale": [
             [
              0,
              "#0d0887"
             ],
             [
              0.1111111111111111,
              "#46039f"
             ],
             [
              0.2222222222222222,
              "#7201a8"
             ],
             [
              0.3333333333333333,
              "#9c179e"
             ],
             [
              0.4444444444444444,
              "#bd3786"
             ],
             [
              0.5555555555555556,
              "#d8576b"
             ],
             [
              0.6666666666666666,
              "#ed7953"
             ],
             [
              0.7777777777777778,
              "#fb9f3a"
             ],
             [
              0.8888888888888888,
              "#fdca26"
             ],
             [
              1,
              "#f0f921"
             ]
            ],
            "type": "contour"
           }
          ],
          "contourcarpet": [
           {
            "colorbar": {
             "outlinewidth": 0,
             "ticks": ""
            },
            "type": "contourcarpet"
           }
          ],
          "heatmap": [
           {
            "colorbar": {
             "outlinewidth": 0,
             "ticks": ""
            },
            "colorscale": [
             [
              0,
              "#0d0887"
             ],
             [
              0.1111111111111111,
              "#46039f"
             ],
             [
              0.2222222222222222,
              "#7201a8"
             ],
             [
              0.3333333333333333,
              "#9c179e"
             ],
             [
              0.4444444444444444,
              "#bd3786"
             ],
             [
              0.5555555555555556,
              "#d8576b"
             ],
             [
              0.6666666666666666,
              "#ed7953"
             ],
             [
              0.7777777777777778,
              "#fb9f3a"
             ],
             [
              0.8888888888888888,
              "#fdca26"
             ],
             [
              1,
              "#f0f921"
             ]
            ],
            "type": "heatmap"
           }
          ],
          "heatmapgl": [
           {
            "colorbar": {
             "outlinewidth": 0,
             "ticks": ""
            },
            "colorscale": [
             [
              0,
              "#0d0887"
             ],
             [
              0.1111111111111111,
              "#46039f"
             ],
             [
              0.2222222222222222,
              "#7201a8"
             ],
             [
              0.3333333333333333,
              "#9c179e"
             ],
             [
              0.4444444444444444,
              "#bd3786"
             ],
             [
              0.5555555555555556,
              "#d8576b"
             ],
             [
              0.6666666666666666,
              "#ed7953"
             ],
             [
              0.7777777777777778,
              "#fb9f3a"
             ],
             [
              0.8888888888888888,
              "#fdca26"
             ],
             [
              1,
              "#f0f921"
             ]
            ],
            "type": "heatmapgl"
           }
          ],
          "histogram": [
           {
            "marker": {
             "pattern": {
              "fillmode": "overlay",
              "size": 10,
              "solidity": 0.2
             }
            },
            "type": "histogram"
           }
          ],
          "histogram2d": [
           {
            "colorbar": {
             "outlinewidth": 0,
             "ticks": ""
            },
            "colorscale": [
             [
              0,
              "#0d0887"
             ],
             [
              0.1111111111111111,
              "#46039f"
             ],
             [
              0.2222222222222222,
              "#7201a8"
             ],
             [
              0.3333333333333333,
              "#9c179e"
             ],
             [
              0.4444444444444444,
              "#bd3786"
             ],
             [
              0.5555555555555556,
              "#d8576b"
             ],
             [
              0.6666666666666666,
              "#ed7953"
             ],
             [
              0.7777777777777778,
              "#fb9f3a"
             ],
             [
              0.8888888888888888,
              "#fdca26"
             ],
             [
              1,
              "#f0f921"
             ]
            ],
            "type": "histogram2d"
           }
          ],
          "histogram2dcontour": [
           {
            "colorbar": {
             "outlinewidth": 0,
             "ticks": ""
            },
            "colorscale": [
             [
              0,
              "#0d0887"
             ],
             [
              0.1111111111111111,
              "#46039f"
             ],
             [
              0.2222222222222222,
              "#7201a8"
             ],
             [
              0.3333333333333333,
              "#9c179e"
             ],
             [
              0.4444444444444444,
              "#bd3786"
             ],
             [
              0.5555555555555556,
              "#d8576b"
             ],
             [
              0.6666666666666666,
              "#ed7953"
             ],
             [
              0.7777777777777778,
              "#fb9f3a"
             ],
             [
              0.8888888888888888,
              "#fdca26"
             ],
             [
              1,
              "#f0f921"
             ]
            ],
            "type": "histogram2dcontour"
           }
          ],
          "mesh3d": [
           {
            "colorbar": {
             "outlinewidth": 0,
             "ticks": ""
            },
            "type": "mesh3d"
           }
          ],
          "parcoords": [
           {
            "line": {
             "colorbar": {
              "outlinewidth": 0,
              "ticks": ""
             }
            },
            "type": "parcoords"
           }
          ],
          "pie": [
           {
            "automargin": true,
            "type": "pie"
           }
          ],
          "scatter": [
           {
            "fillpattern": {
             "fillmode": "overlay",
             "size": 10,
             "solidity": 0.2
            },
            "type": "scatter"
           }
          ],
          "scatter3d": [
           {
            "line": {
             "colorbar": {
              "outlinewidth": 0,
              "ticks": ""
             }
            },
            "marker": {
             "colorbar": {
              "outlinewidth": 0,
              "ticks": ""
             }
            },
            "type": "scatter3d"
           }
          ],
          "scattercarpet": [
           {
            "marker": {
             "colorbar": {
              "outlinewidth": 0,
              "ticks": ""
             }
            },
            "type": "scattercarpet"
           }
          ],
          "scattergeo": [
           {
            "marker": {
             "colorbar": {
              "outlinewidth": 0,
              "ticks": ""
             }
            },
            "type": "scattergeo"
           }
          ],
          "scattergl": [
           {
            "marker": {
             "colorbar": {
              "outlinewidth": 0,
              "ticks": ""
             }
            },
            "type": "scattergl"
           }
          ],
          "scattermapbox": [
           {
            "marker": {
             "colorbar": {
              "outlinewidth": 0,
              "ticks": ""
             }
            },
            "type": "scattermapbox"
           }
          ],
          "scatterpolar": [
           {
            "marker": {
             "colorbar": {
              "outlinewidth": 0,
              "ticks": ""
             }
            },
            "type": "scatterpolar"
           }
          ],
          "scatterpolargl": [
           {
            "marker": {
             "colorbar": {
              "outlinewidth": 0,
              "ticks": ""
             }
            },
            "type": "scatterpolargl"
           }
          ],
          "scatterternary": [
           {
            "marker": {
             "colorbar": {
              "outlinewidth": 0,
              "ticks": ""
             }
            },
            "type": "scatterternary"
           }
          ],
          "surface": [
           {
            "colorbar": {
             "outlinewidth": 0,
             "ticks": ""
            },
            "colorscale": [
             [
              0,
              "#0d0887"
             ],
             [
              0.1111111111111111,
              "#46039f"
             ],
             [
              0.2222222222222222,
              "#7201a8"
             ],
             [
              0.3333333333333333,
              "#9c179e"
             ],
             [
              0.4444444444444444,
              "#bd3786"
             ],
             [
              0.5555555555555556,
              "#d8576b"
             ],
             [
              0.6666666666666666,
              "#ed7953"
             ],
             [
              0.7777777777777778,
              "#fb9f3a"
             ],
             [
              0.8888888888888888,
              "#fdca26"
             ],
             [
              1,
              "#f0f921"
             ]
            ],
            "type": "surface"
           }
          ],
          "table": [
           {
            "cells": {
             "fill": {
              "color": "#EBF0F8"
             },
             "line": {
              "color": "white"
             }
            },
            "header": {
             "fill": {
              "color": "#C8D4E3"
             },
             "line": {
              "color": "white"
             }
            },
            "type": "table"
           }
          ]
         },
         "layout": {
          "annotationdefaults": {
           "arrowcolor": "#2a3f5f",
           "arrowhead": 0,
           "arrowwidth": 1
          },
          "autotypenumbers": "strict",
          "coloraxis": {
           "colorbar": {
            "outlinewidth": 0,
            "ticks": ""
           }
          },
          "colorscale": {
           "diverging": [
            [
             0,
             "#8e0152"
            ],
            [
             0.1,
             "#c51b7d"
            ],
            [
             0.2,
             "#de77ae"
            ],
            [
             0.3,
             "#f1b6da"
            ],
            [
             0.4,
             "#fde0ef"
            ],
            [
             0.5,
             "#f7f7f7"
            ],
            [
             0.6,
             "#e6f5d0"
            ],
            [
             0.7,
             "#b8e186"
            ],
            [
             0.8,
             "#7fbc41"
            ],
            [
             0.9,
             "#4d9221"
            ],
            [
             1,
             "#276419"
            ]
           ],
           "sequential": [
            [
             0,
             "#0d0887"
            ],
            [
             0.1111111111111111,
             "#46039f"
            ],
            [
             0.2222222222222222,
             "#7201a8"
            ],
            [
             0.3333333333333333,
             "#9c179e"
            ],
            [
             0.4444444444444444,
             "#bd3786"
            ],
            [
             0.5555555555555556,
             "#d8576b"
            ],
            [
             0.6666666666666666,
             "#ed7953"
            ],
            [
             0.7777777777777778,
             "#fb9f3a"
            ],
            [
             0.8888888888888888,
             "#fdca26"
            ],
            [
             1,
             "#f0f921"
            ]
           ],
           "sequentialminus": [
            [
             0,
             "#0d0887"
            ],
            [
             0.1111111111111111,
             "#46039f"
            ],
            [
             0.2222222222222222,
             "#7201a8"
            ],
            [
             0.3333333333333333,
             "#9c179e"
            ],
            [
             0.4444444444444444,
             "#bd3786"
            ],
            [
             0.5555555555555556,
             "#d8576b"
            ],
            [
             0.6666666666666666,
             "#ed7953"
            ],
            [
             0.7777777777777778,
             "#fb9f3a"
            ],
            [
             0.8888888888888888,
             "#fdca26"
            ],
            [
             1,
             "#f0f921"
            ]
           ]
          },
          "colorway": [
           "#636efa",
           "#EF553B",
           "#00cc96",
           "#ab63fa",
           "#FFA15A",
           "#19d3f3",
           "#FF6692",
           "#B6E880",
           "#FF97FF",
           "#FECB52"
          ],
          "font": {
           "color": "#2a3f5f"
          },
          "geo": {
           "bgcolor": "white",
           "lakecolor": "white",
           "landcolor": "#E5ECF6",
           "showlakes": true,
           "showland": true,
           "subunitcolor": "white"
          },
          "hoverlabel": {
           "align": "left"
          },
          "hovermode": "closest",
          "mapbox": {
           "style": "light"
          },
          "paper_bgcolor": "white",
          "plot_bgcolor": "#E5ECF6",
          "polar": {
           "angularaxis": {
            "gridcolor": "white",
            "linecolor": "white",
            "ticks": ""
           },
           "bgcolor": "#E5ECF6",
           "radialaxis": {
            "gridcolor": "white",
            "linecolor": "white",
            "ticks": ""
           }
          },
          "scene": {
           "xaxis": {
            "backgroundcolor": "#E5ECF6",
            "gridcolor": "white",
            "gridwidth": 2,
            "linecolor": "white",
            "showbackground": true,
            "ticks": "",
            "zerolinecolor": "white"
           },
           "yaxis": {
            "backgroundcolor": "#E5ECF6",
            "gridcolor": "white",
            "gridwidth": 2,
            "linecolor": "white",
            "showbackground": true,
            "ticks": "",
            "zerolinecolor": "white"
           },
           "zaxis": {
            "backgroundcolor": "#E5ECF6",
            "gridcolor": "white",
            "gridwidth": 2,
            "linecolor": "white",
            "showbackground": true,
            "ticks": "",
            "zerolinecolor": "white"
           }
          },
          "shapedefaults": {
           "line": {
            "color": "#2a3f5f"
           }
          },
          "ternary": {
           "aaxis": {
            "gridcolor": "white",
            "linecolor": "white",
            "ticks": ""
           },
           "baxis": {
            "gridcolor": "white",
            "linecolor": "white",
            "ticks": ""
           },
           "bgcolor": "#E5ECF6",
           "caxis": {
            "gridcolor": "white",
            "linecolor": "white",
            "ticks": ""
           }
          },
          "title": {
           "x": 0.05
          },
          "xaxis": {
           "automargin": true,
           "gridcolor": "white",
           "linecolor": "white",
           "ticks": "",
           "title": {
            "standoff": 15
           },
           "zerolinecolor": "white",
           "zerolinewidth": 2
          },
          "yaxis": {
           "automargin": true,
           "gridcolor": "white",
           "linecolor": "white",
           "ticks": "",
           "title": {
            "standoff": 15
           },
           "zerolinecolor": "white",
           "zerolinewidth": 2
          }
         }
        },
        "title": {
         "text": "Training vs Validation Accuracy for Different Optimizers"
        },
        "xaxis": {
         "anchor": "y",
         "domain": [
          0,
          1
         ],
         "title": {
          "text": "Training Accuracy"
         }
        },
        "yaxis": {
         "anchor": "x",
         "domain": [
          0,
          1
         ],
         "title": {
          "text": "Validation Accuracy"
         }
        }
       }
      },
      "text/html": [
       "<div>                            <div id=\"f84f5097-56dd-4b5a-9454-fadcecf4b2a0\" class=\"plotly-graph-div\" style=\"height:525px; width:100%;\"></div>            <script type=\"text/javascript\">                require([\"plotly\"], function(Plotly) {                    window.PLOTLYENV=window.PLOTLYENV || {};                                    if (document.getElementById(\"f84f5097-56dd-4b5a-9454-fadcecf4b2a0\")) {                    Plotly.newPlot(                        \"f84f5097-56dd-4b5a-9454-fadcecf4b2a0\",                        [{\"customdata\":[[[3,3],32,2,32,\"relu\",\"valid\",[1,1],0,0,0,10,32],[[3,3],32,2,32,\"tanh\",\"valid\",[1,1],0,0,0,10,32],[[3,3],32,2,64,\"relu\",\"valid\",[1,1],0,0,0,10,32],[[3,3],32,2,64,\"tanh\",\"valid\",[1,1],0,0,0,10,32],[[3,3],64,2,32,\"relu\",\"valid\",[1,1],0,0,0,10,32],[[3,3],64,2,32,\"tanh\",\"valid\",[1,1],0,0,0,10,32],[[3,3],64,2,64,\"relu\",\"valid\",[1,1],0,0,0,10,32],[[3,3],64,2,64,\"tanh\",\"valid\",[1,1],0,0,0,10,32],[[5,5],32,2,32,\"relu\",\"valid\",[1,1],0,0,0,10,32],[[5,5],32,2,32,\"tanh\",\"valid\",[1,1],0,0,0,10,32],[[5,5],32,2,64,\"relu\",\"valid\",[1,1],0,0,0,10,32],[[5,5],32,2,64,\"tanh\",\"valid\",[1,1],0,0,0,10,32],[[5,5],64,2,32,\"relu\",\"valid\",[1,1],0,0,0,10,32],[[5,5],64,2,32,\"tanh\",\"valid\",[1,1],0,0,0,10,32],[[5,5],64,2,64,\"relu\",\"valid\",[1,1],0,0,0,10,32],[[5,5],64,2,64,\"tanh\",\"valid\",[1,1],0,0,0,10,32]],\"hovertemplate\":\"optimizer=rmsprop<br>Training Accuracy=%{marker.size}<br>Validation Accuracy=%{y}<br>filter_size=%{customdata[0]}<br>num_filters=%{customdata[1]}<br>num_layers=%{customdata[2]}<br>num_units=%{customdata[3]}<br>activation=%{customdata[4]}<br>padding=%{customdata[5]}<br>stride=%{customdata[6]}<br>l1_lambda=%{customdata[7]}<br>l2_lambda=%{customdata[8]}<br>dropout_rate=%{customdata[9]}<br>epochs=%{customdata[10]}<br>batch_size=%{customdata[11]}<extra></extra>\",\"legendgroup\":\"rmsprop\",\"marker\":{\"color\":\"#636efa\",\"size\":[0.8408613204956055,0.848739504814148,0.843662440776825,0.843837559223175,0.844362735748291,0.8665966391563416,0.8557422757148743,0.8676470518112183,0.8084734082221985,0.8429622054100037,0.8322829008102417,0.8392857313156128,0.8422619104385376,0.8588935732841492,0.8476890921592712,0.8632702827453613],\"sizemode\":\"area\",\"sizeref\":0.0088742995262146,\"symbol\":\"circle\"},\"mode\":\"markers\",\"name\":\"rmsprop\",\"orientation\":\"v\",\"showlegend\":true,\"x\":[0.8408613204956055,0.848739504814148,0.843662440776825,0.843837559223175,0.844362735748291,0.8665966391563416,0.8557422757148743,0.8676470518112183,0.8084734082221985,0.8429622054100037,0.8322829008102417,0.8392857313156128,0.8422619104385376,0.8588935732841492,0.8476890921592712,0.8632702827453613],\"xaxis\":\"x\",\"y\":[0.8565179109573364,0.8775153160095215,0.8460192680358887,0.8705161809921265,0.8626421689987183,0.8985126614570618,0.8827646374702454,0.8932633399963379,0.8372703194618225,0.8652668595314026,0.8591426014900208,0.8573928475379944,0.8678914904594421,0.8792650699615479,0.8696413040161133,0.8862642049789429],\"yaxis\":\"y\",\"type\":\"scatter\"},{\"customdata\":[[[3,3],32,2,32,\"relu\",\"valid\",[1,1],0,0,0,10,32],[[3,3],32,2,32,\"tanh\",\"valid\",[1,1],0,0,0,10,32],[[3,3],32,2,64,\"relu\",\"valid\",[1,1],0,0,0,10,32],[[3,3],32,2,64,\"tanh\",\"valid\",[1,1],0,0,0,10,32],[[3,3],64,2,32,\"relu\",\"valid\",[1,1],0,0,0,10,32],[[3,3],64,2,32,\"tanh\",\"valid\",[1,1],0,0,0,10,32],[[3,3],64,2,64,\"relu\",\"valid\",[1,1],0,0,0,10,32],[[3,3],64,2,64,\"tanh\",\"valid\",[1,1],0,0,0,10,32],[[5,5],32,2,32,\"relu\",\"valid\",[1,1],0,0,0,10,32],[[5,5],32,2,32,\"tanh\",\"valid\",[1,1],0,0,0,10,32],[[5,5],32,2,64,\"relu\",\"valid\",[1,1],0,0,0,10,32],[[5,5],32,2,64,\"tanh\",\"valid\",[1,1],0,0,0,10,32],[[5,5],64,2,32,\"relu\",\"valid\",[1,1],0,0,0,10,32],[[5,5],64,2,32,\"tanh\",\"valid\",[1,1],0,0,0,10,32],[[5,5],64,2,64,\"relu\",\"valid\",[1,1],0,0,0,10,32],[[5,5],64,2,64,\"tanh\",\"valid\",[1,1],0,0,0,10,32]],\"hovertemplate\":\"optimizer=adagrad<br>Training Accuracy=%{marker.size}<br>Validation Accuracy=%{y}<br>filter_size=%{customdata[0]}<br>num_filters=%{customdata[1]}<br>num_layers=%{customdata[2]}<br>num_units=%{customdata[3]}<br>activation=%{customdata[4]}<br>padding=%{customdata[5]}<br>stride=%{customdata[6]}<br>l1_lambda=%{customdata[7]}<br>l2_lambda=%{customdata[8]}<br>dropout_rate=%{customdata[9]}<br>epochs=%{customdata[10]}<br>batch_size=%{customdata[11]}<extra></extra>\",\"legendgroup\":\"adagrad\",\"marker\":{\"color\":\"#EF553B\",\"size\":[0.46095937490463257,0.6502100825309753,0.5663515329360962,0.6726190447807312,0.5516456365585327,0.6796218752861023,0.488095223903656,0.6745448112487793,0.5915616154670715,0.6540616154670715,0.5297619104385376,0.658088207244873,0.6290265917778015,0.6545868515968323,0.5784313678741455,0.6882002949714661],\"sizemode\":\"area\",\"sizeref\":0.0088742995262146,\"symbol\":\"circle\"},\"mode\":\"markers\",\"name\":\"adagrad\",\"orientation\":\"v\",\"showlegend\":true,\"x\":[0.46095937490463257,0.6502100825309753,0.5663515329360962,0.6726190447807312,0.5516456365585327,0.6796218752861023,0.488095223903656,0.6745448112487793,0.5915616154670715,0.6540616154670715,0.5297619104385376,0.658088207244873,0.6290265917778015,0.6545868515968323,0.5784313678741455,0.6882002949714661],\"xaxis\":\"x\",\"y\":[0.44969379901885986,0.6596675515174866,0.5870516300201416,0.6815398335456848,0.5433070659637451,0.6937882900238037,0.5660542249679565,0.6789151430130005,0.6220472455024719,0.6596675515174866,0.5441820025444031,0.6666666865348816,0.6176728010177612,0.668416440486908,0.5870516300201416,0.6911635994911194],\"yaxis\":\"y\",\"type\":\"scatter\"},{\"customdata\":[[[3,3],32,2,32,\"relu\",\"valid\",[1,1],0,0,0,10,32],[[3,3],32,2,32,\"tanh\",\"valid\",[1,1],0,0,0,10,32],[[3,3],32,2,64,\"relu\",\"valid\",[1,1],0,0,0,10,32],[[3,3],32,2,64,\"tanh\",\"valid\",[1,1],0,0,0,10,32],[[3,3],64,2,32,\"relu\",\"valid\",[1,1],0,0,0,10,32],[[3,3],64,2,32,\"tanh\",\"valid\",[1,1],0,0,0,10,32],[[3,3],64,2,64,\"relu\",\"valid\",[1,1],0,0,0,10,32],[[3,3],64,2,64,\"tanh\",\"valid\",[1,1],0,0,0,10,32],[[5,5],32,2,32,\"relu\",\"valid\",[1,1],0,0,0,10,32],[[5,5],32,2,32,\"tanh\",\"valid\",[1,1],0,0,0,10,32],[[5,5],32,2,64,\"relu\",\"valid\",[1,1],0,0,0,10,32],[[5,5],32,2,64,\"tanh\",\"valid\",[1,1],0,0,0,10,32],[[5,5],64,2,32,\"relu\",\"valid\",[1,1],0,0,0,10,32],[[5,5],64,2,32,\"tanh\",\"valid\",[1,1],0,0,0,10,32],[[5,5],64,2,64,\"relu\",\"valid\",[1,1],0,0,0,10,32],[[5,5],64,2,64,\"tanh\",\"valid\",[1,1],0,0,0,10,32]],\"hovertemplate\":\"optimizer=adam<br>Training Accuracy=%{marker.size}<br>Validation Accuracy=%{y}<br>filter_size=%{customdata[0]}<br>num_filters=%{customdata[1]}<br>num_layers=%{customdata[2]}<br>num_units=%{customdata[3]}<br>activation=%{customdata[4]}<br>padding=%{customdata[5]}<br>stride=%{customdata[6]}<br>l1_lambda=%{customdata[7]}<br>l2_lambda=%{customdata[8]}<br>dropout_rate=%{customdata[9]}<br>epochs=%{customdata[10]}<br>batch_size=%{customdata[11]}<extra></extra>\",\"legendgroup\":\"adam\",\"marker\":{\"color\":\"#00cc96\",\"size\":[0.8258053064346313,0.8483893275260925,0.8440126180648804,0.84996497631073,0.8294817805290222,0.8776260614395142,0.8664215803146362,0.88742995262146,0.8109243512153625,0.8473389148712158,0.8308823704719543,0.8504902124404907,0.8347339034080505,0.868697464466095,0.8356092572212219,0.8758753538131714],\"sizemode\":\"area\",\"sizeref\":0.0088742995262146,\"symbol\":\"circle\"},\"mode\":\"markers\",\"name\":\"adam\",\"orientation\":\"v\",\"showlegend\":true,\"x\":[0.8258053064346313,0.8483893275260925,0.8440126180648804,0.84996497631073,0.8294817805290222,0.8776260614395142,0.8664215803146362,0.88742995262146,0.8109243512153625,0.8473389148712158,0.8308823704719543,0.8504902124404907,0.8347339034080505,0.868697464466095,0.8356092572212219,0.8758753538131714],\"xaxis\":\"x\",\"y\":[0.84076988697052,0.8573928475379944,0.8538932800292969,0.8582677245140076,0.8398950099945068,0.8897637724876404,0.8836395740509033,0.9002624750137329,0.8328958749771118,0.8573928475379944,0.8468941450119019,0.8547681570053101,0.8468941450119019,0.8941382169723511,0.8556430339813232,0.8775153160095215],\"yaxis\":\"y\",\"type\":\"scatter\"},{\"customdata\":[[[3,3],32,2,32,\"relu\",\"valid\",[1,1],0,0,0,10,32],[[3,3],32,2,32,\"tanh\",\"valid\",[1,1],0,0,0,10,32],[[3,3],32,2,64,\"relu\",\"valid\",[1,1],0,0,0,10,32],[[3,3],32,2,64,\"tanh\",\"valid\",[1,1],0,0,0,10,32],[[3,3],64,2,32,\"relu\",\"valid\",[1,1],0,0,0,10,32],[[3,3],64,2,32,\"tanh\",\"valid\",[1,1],0,0,0,10,32],[[3,3],64,2,64,\"relu\",\"valid\",[1,1],0,0,0,10,32],[[3,3],64,2,64,\"tanh\",\"valid\",[1,1],0,0,0,10,32],[[5,5],32,2,32,\"relu\",\"valid\",[1,1],0,0,0,10,32],[[5,5],32,2,32,\"tanh\",\"valid\",[1,1],0,0,0,10,32],[[5,5],32,2,64,\"relu\",\"valid\",[1,1],0,0,0,10,32],[[5,5],32,2,64,\"tanh\",\"valid\",[1,1],0,0,0,10,32],[[5,5],64,2,32,\"relu\",\"valid\",[1,1],0,0,0,10,32],[[5,5],64,2,32,\"tanh\",\"valid\",[1,1],0,0,0,10,32],[[5,5],64,2,64,\"relu\",\"valid\",[1,1],0,0,0,10,32],[[5,5],64,2,64,\"tanh\",\"valid\",[1,1],0,0,0,10,32]],\"hovertemplate\":\"optimizer=sgd<br>Training Accuracy=%{marker.size}<br>Validation Accuracy=%{y}<br>filter_size=%{customdata[0]}<br>num_filters=%{customdata[1]}<br>num_layers=%{customdata[2]}<br>num_units=%{customdata[3]}<br>activation=%{customdata[4]}<br>padding=%{customdata[5]}<br>stride=%{customdata[6]}<br>l1_lambda=%{customdata[7]}<br>l2_lambda=%{customdata[8]}<br>dropout_rate=%{customdata[9]}<br>epochs=%{customdata[10]}<br>batch_size=%{customdata[11]}<extra></extra>\",\"legendgroup\":\"sgd\",\"marker\":{\"color\":\"#ab63fa\",\"size\":[0.7146358489990234,0.7596288323402405,0.7253151535987854,0.7629551887512207,0.7116596698760986,0.7696078419685364,0.7284663915634155,0.7661064267158508,0.6925770044326782,0.7298669219017029,0.7046568393707275,0.7417716979980469,0.7011554837226868,0.7442227005958557,0.7071078419685364,0.7533263564109802],\"sizemode\":\"area\",\"sizeref\":0.0088742995262146,\"symbol\":\"circle\"},\"mode\":\"markers\",\"name\":\"sgd\",\"orientation\":\"v\",\"showlegend\":true,\"x\":[0.7146358489990234,0.7596288323402405,0.7253151535987854,0.7629551887512207,0.7116596698760986,0.7696078419685364,0.7284663915634155,0.7661064267158508,0.6925770044326782,0.7298669219017029,0.7046568393707275,0.7417716979980469,0.7011554837226868,0.7442227005958557,0.7071078419685364,0.7533263564109802],\"xaxis\":\"x\",\"y\":[0.721784770488739,0.7515310645103455,0.7401574850082397,0.768153965473175,0.7366579174995422,0.7515310645103455,0.7200350165367126,0.7602799534797668,0.6981627345085144,0.7366579174995422,0.7191600799560547,0.7375327944755554,0.714785635471344,0.7349081635475159,0.715660572052002,0.7462817430496216],\"yaxis\":\"y\",\"type\":\"scatter\"}],                        {\"template\":{\"data\":{\"histogram2dcontour\":[{\"type\":\"histogram2dcontour\",\"colorbar\":{\"outlinewidth\":0,\"ticks\":\"\"},\"colorscale\":[[0.0,\"#0d0887\"],[0.1111111111111111,\"#46039f\"],[0.2222222222222222,\"#7201a8\"],[0.3333333333333333,\"#9c179e\"],[0.4444444444444444,\"#bd3786\"],[0.5555555555555556,\"#d8576b\"],[0.6666666666666666,\"#ed7953\"],[0.7777777777777778,\"#fb9f3a\"],[0.8888888888888888,\"#fdca26\"],[1.0,\"#f0f921\"]]}],\"choropleth\":[{\"type\":\"choropleth\",\"colorbar\":{\"outlinewidth\":0,\"ticks\":\"\"}}],\"histogram2d\":[{\"type\":\"histogram2d\",\"colorbar\":{\"outlinewidth\":0,\"ticks\":\"\"},\"colorscale\":[[0.0,\"#0d0887\"],[0.1111111111111111,\"#46039f\"],[0.2222222222222222,\"#7201a8\"],[0.3333333333333333,\"#9c179e\"],[0.4444444444444444,\"#bd3786\"],[0.5555555555555556,\"#d8576b\"],[0.6666666666666666,\"#ed7953\"],[0.7777777777777778,\"#fb9f3a\"],[0.8888888888888888,\"#fdca26\"],[1.0,\"#f0f921\"]]}],\"heatmap\":[{\"type\":\"heatmap\",\"colorbar\":{\"outlinewidth\":0,\"ticks\":\"\"},\"colorscale\":[[0.0,\"#0d0887\"],[0.1111111111111111,\"#46039f\"],[0.2222222222222222,\"#7201a8\"],[0.3333333333333333,\"#9c179e\"],[0.4444444444444444,\"#bd3786\"],[0.5555555555555556,\"#d8576b\"],[0.6666666666666666,\"#ed7953\"],[0.7777777777777778,\"#fb9f3a\"],[0.8888888888888888,\"#fdca26\"],[1.0,\"#f0f921\"]]}],\"heatmapgl\":[{\"type\":\"heatmapgl\",\"colorbar\":{\"outlinewidth\":0,\"ticks\":\"\"},\"colorscale\":[[0.0,\"#0d0887\"],[0.1111111111111111,\"#46039f\"],[0.2222222222222222,\"#7201a8\"],[0.3333333333333333,\"#9c179e\"],[0.4444444444444444,\"#bd3786\"],[0.5555555555555556,\"#d8576b\"],[0.6666666666666666,\"#ed7953\"],[0.7777777777777778,\"#fb9f3a\"],[0.8888888888888888,\"#fdca26\"],[1.0,\"#f0f921\"]]}],\"contourcarpet\":[{\"type\":\"contourcarpet\",\"colorbar\":{\"outlinewidth\":0,\"ticks\":\"\"}}],\"contour\":[{\"type\":\"contour\",\"colorbar\":{\"outlinewidth\":0,\"ticks\":\"\"},\"colorscale\":[[0.0,\"#0d0887\"],[0.1111111111111111,\"#46039f\"],[0.2222222222222222,\"#7201a8\"],[0.3333333333333333,\"#9c179e\"],[0.4444444444444444,\"#bd3786\"],[0.5555555555555556,\"#d8576b\"],[0.6666666666666666,\"#ed7953\"],[0.7777777777777778,\"#fb9f3a\"],[0.8888888888888888,\"#fdca26\"],[1.0,\"#f0f921\"]]}],\"surface\":[{\"type\":\"surface\",\"colorbar\":{\"outlinewidth\":0,\"ticks\":\"\"},\"colorscale\":[[0.0,\"#0d0887\"],[0.1111111111111111,\"#46039f\"],[0.2222222222222222,\"#7201a8\"],[0.3333333333333333,\"#9c179e\"],[0.4444444444444444,\"#bd3786\"],[0.5555555555555556,\"#d8576b\"],[0.6666666666666666,\"#ed7953\"],[0.7777777777777778,\"#fb9f3a\"],[0.8888888888888888,\"#fdca26\"],[1.0,\"#f0f921\"]]}],\"mesh3d\":[{\"type\":\"mesh3d\",\"colorbar\":{\"outlinewidth\":0,\"ticks\":\"\"}}],\"scatter\":[{\"fillpattern\":{\"fillmode\":\"overlay\",\"size\":10,\"solidity\":0.2},\"type\":\"scatter\"}],\"parcoords\":[{\"type\":\"parcoords\",\"line\":{\"colorbar\":{\"outlinewidth\":0,\"ticks\":\"\"}}}],\"scatterpolargl\":[{\"type\":\"scatterpolargl\",\"marker\":{\"colorbar\":{\"outlinewidth\":0,\"ticks\":\"\"}}}],\"bar\":[{\"error_x\":{\"color\":\"#2a3f5f\"},\"error_y\":{\"color\":\"#2a3f5f\"},\"marker\":{\"line\":{\"color\":\"#E5ECF6\",\"width\":0.5},\"pattern\":{\"fillmode\":\"overlay\",\"size\":10,\"solidity\":0.2}},\"type\":\"bar\"}],\"scattergeo\":[{\"type\":\"scattergeo\",\"marker\":{\"colorbar\":{\"outlinewidth\":0,\"ticks\":\"\"}}}],\"scatterpolar\":[{\"type\":\"scatterpolar\",\"marker\":{\"colorbar\":{\"outlinewidth\":0,\"ticks\":\"\"}}}],\"histogram\":[{\"marker\":{\"pattern\":{\"fillmode\":\"overlay\",\"size\":10,\"solidity\":0.2}},\"type\":\"histogram\"}],\"scattergl\":[{\"type\":\"scattergl\",\"marker\":{\"colorbar\":{\"outlinewidth\":0,\"ticks\":\"\"}}}],\"scatter3d\":[{\"type\":\"scatter3d\",\"line\":{\"colorbar\":{\"outlinewidth\":0,\"ticks\":\"\"}},\"marker\":{\"colorbar\":{\"outlinewidth\":0,\"ticks\":\"\"}}}],\"scattermapbox\":[{\"type\":\"scattermapbox\",\"marker\":{\"colorbar\":{\"outlinewidth\":0,\"ticks\":\"\"}}}],\"scatterternary\":[{\"type\":\"scatterternary\",\"marker\":{\"colorbar\":{\"outlinewidth\":0,\"ticks\":\"\"}}}],\"scattercarpet\":[{\"type\":\"scattercarpet\",\"marker\":{\"colorbar\":{\"outlinewidth\":0,\"ticks\":\"\"}}}],\"carpet\":[{\"aaxis\":{\"endlinecolor\":\"#2a3f5f\",\"gridcolor\":\"white\",\"linecolor\":\"white\",\"minorgridcolor\":\"white\",\"startlinecolor\":\"#2a3f5f\"},\"baxis\":{\"endlinecolor\":\"#2a3f5f\",\"gridcolor\":\"white\",\"linecolor\":\"white\",\"minorgridcolor\":\"white\",\"startlinecolor\":\"#2a3f5f\"},\"type\":\"carpet\"}],\"table\":[{\"cells\":{\"fill\":{\"color\":\"#EBF0F8\"},\"line\":{\"color\":\"white\"}},\"header\":{\"fill\":{\"color\":\"#C8D4E3\"},\"line\":{\"color\":\"white\"}},\"type\":\"table\"}],\"barpolar\":[{\"marker\":{\"line\":{\"color\":\"#E5ECF6\",\"width\":0.5},\"pattern\":{\"fillmode\":\"overlay\",\"size\":10,\"solidity\":0.2}},\"type\":\"barpolar\"}],\"pie\":[{\"automargin\":true,\"type\":\"pie\"}]},\"layout\":{\"autotypenumbers\":\"strict\",\"colorway\":[\"#636efa\",\"#EF553B\",\"#00cc96\",\"#ab63fa\",\"#FFA15A\",\"#19d3f3\",\"#FF6692\",\"#B6E880\",\"#FF97FF\",\"#FECB52\"],\"font\":{\"color\":\"#2a3f5f\"},\"hovermode\":\"closest\",\"hoverlabel\":{\"align\":\"left\"},\"paper_bgcolor\":\"white\",\"plot_bgcolor\":\"#E5ECF6\",\"polar\":{\"bgcolor\":\"#E5ECF6\",\"angularaxis\":{\"gridcolor\":\"white\",\"linecolor\":\"white\",\"ticks\":\"\"},\"radialaxis\":{\"gridcolor\":\"white\",\"linecolor\":\"white\",\"ticks\":\"\"}},\"ternary\":{\"bgcolor\":\"#E5ECF6\",\"aaxis\":{\"gridcolor\":\"white\",\"linecolor\":\"white\",\"ticks\":\"\"},\"baxis\":{\"gridcolor\":\"white\",\"linecolor\":\"white\",\"ticks\":\"\"},\"caxis\":{\"gridcolor\":\"white\",\"linecolor\":\"white\",\"ticks\":\"\"}},\"coloraxis\":{\"colorbar\":{\"outlinewidth\":0,\"ticks\":\"\"}},\"colorscale\":{\"sequential\":[[0.0,\"#0d0887\"],[0.1111111111111111,\"#46039f\"],[0.2222222222222222,\"#7201a8\"],[0.3333333333333333,\"#9c179e\"],[0.4444444444444444,\"#bd3786\"],[0.5555555555555556,\"#d8576b\"],[0.6666666666666666,\"#ed7953\"],[0.7777777777777778,\"#fb9f3a\"],[0.8888888888888888,\"#fdca26\"],[1.0,\"#f0f921\"]],\"sequentialminus\":[[0.0,\"#0d0887\"],[0.1111111111111111,\"#46039f\"],[0.2222222222222222,\"#7201a8\"],[0.3333333333333333,\"#9c179e\"],[0.4444444444444444,\"#bd3786\"],[0.5555555555555556,\"#d8576b\"],[0.6666666666666666,\"#ed7953\"],[0.7777777777777778,\"#fb9f3a\"],[0.8888888888888888,\"#fdca26\"],[1.0,\"#f0f921\"]],\"diverging\":[[0,\"#8e0152\"],[0.1,\"#c51b7d\"],[0.2,\"#de77ae\"],[0.3,\"#f1b6da\"],[0.4,\"#fde0ef\"],[0.5,\"#f7f7f7\"],[0.6,\"#e6f5d0\"],[0.7,\"#b8e186\"],[0.8,\"#7fbc41\"],[0.9,\"#4d9221\"],[1,\"#276419\"]]},\"xaxis\":{\"gridcolor\":\"white\",\"linecolor\":\"white\",\"ticks\":\"\",\"title\":{\"standoff\":15},\"zerolinecolor\":\"white\",\"automargin\":true,\"zerolinewidth\":2},\"yaxis\":{\"gridcolor\":\"white\",\"linecolor\":\"white\",\"ticks\":\"\",\"title\":{\"standoff\":15},\"zerolinecolor\":\"white\",\"automargin\":true,\"zerolinewidth\":2},\"scene\":{\"xaxis\":{\"backgroundcolor\":\"#E5ECF6\",\"gridcolor\":\"white\",\"linecolor\":\"white\",\"showbackground\":true,\"ticks\":\"\",\"zerolinecolor\":\"white\",\"gridwidth\":2},\"yaxis\":{\"backgroundcolor\":\"#E5ECF6\",\"gridcolor\":\"white\",\"linecolor\":\"white\",\"showbackground\":true,\"ticks\":\"\",\"zerolinecolor\":\"white\",\"gridwidth\":2},\"zaxis\":{\"backgroundcolor\":\"#E5ECF6\",\"gridcolor\":\"white\",\"linecolor\":\"white\",\"showbackground\":true,\"ticks\":\"\",\"zerolinecolor\":\"white\",\"gridwidth\":2}},\"shapedefaults\":{\"line\":{\"color\":\"#2a3f5f\"}},\"annotationdefaults\":{\"arrowcolor\":\"#2a3f5f\",\"arrowhead\":0,\"arrowwidth\":1},\"geo\":{\"bgcolor\":\"white\",\"landcolor\":\"#E5ECF6\",\"subunitcolor\":\"white\",\"showland\":true,\"showlakes\":true,\"lakecolor\":\"white\"},\"title\":{\"x\":0.05},\"mapbox\":{\"style\":\"light\"}}},\"xaxis\":{\"anchor\":\"y\",\"domain\":[0.0,1.0],\"title\":{\"text\":\"Training Accuracy\"}},\"yaxis\":{\"anchor\":\"x\",\"domain\":[0.0,1.0],\"title\":{\"text\":\"Validation Accuracy\"}},\"legend\":{\"title\":{\"text\":\"optimizer\"},\"tracegroupgap\":0,\"itemsizing\":\"constant\"},\"title\":{\"text\":\"Training vs Validation Accuracy for Different Optimizers\"}},                        {\"responsive\": true}                    ).then(function(){\n",
       "                            \n",
       "var gd = document.getElementById('f84f5097-56dd-4b5a-9454-fadcecf4b2a0');\n",
       "var x = new MutationObserver(function (mutations, observer) {{\n",
       "        var display = window.getComputedStyle(gd).display;\n",
       "        if (!display || display === 'none') {{\n",
       "            console.log([gd, 'removed!']);\n",
       "            Plotly.purge(gd);\n",
       "            observer.disconnect();\n",
       "        }}\n",
       "}});\n",
       "\n",
       "// Listen for the removal of the full notebook cells\n",
       "var notebookContainer = gd.closest('#notebook-container');\n",
       "if (notebookContainer) {{\n",
       "    x.observe(notebookContainer, {childList: true});\n",
       "}}\n",
       "\n",
       "// Listen for the clearing of the current output cell\n",
       "var outputEl = gd.closest('.output');\n",
       "if (outputEl) {{\n",
       "    x.observe(outputEl, {childList: true});\n",
       "}}\n",
       "\n",
       "                        })                };                });            </script>        </div>"
      ]
     },
     "metadata": {},
     "output_type": "display_data"
    }
   ],
   "source": [
    "import plotly.express as px\n",
    "\n",
    "# Create an interactive scatter plot for training vs validation accuracy\n",
    "fig = px.scatter(\n",
    "    results_df, \n",
    "    x='train_accuracy', \n",
    "    y='val_accuracy', \n",
    "    color='optimizer',  # Color by optimizer to differentiate\n",
    "    hover_data=['filter_size', 'num_filters', 'num_layers', 'num_units', \n",
    "                'activation', 'padding', 'stride', 'l1_lambda', 'l2_lambda', \n",
    "                'dropout_rate', 'epochs', 'batch_size'],  # Display parameter details\n",
    "    title='Training vs Validation Accuracy for Different Optimizers',\n",
    "    labels={'train_accuracy': 'Training Accuracy', 'val_accuracy': 'Validation Accuracy'},\n",
    "    size='train_accuracy',  # Change the size based on a column, you can replace with any column in your data,\n",
    "    size_max=10,  # Adjust this value to make bubbles larger or smaller (default is 20)\n",
    ")\n",
    "\n",
    "fig.show()\n"
   ]
  },
  {
   "cell_type": "code",
   "execution_count": 79,
   "metadata": {},
   "outputs": [
    {
     "data": {
      "application/vnd.plotly.v1+json": {
       "config": {
        "plotlyServerURL": "https://plot.ly"
       },
       "data": [
        {
         "customdata": [
          [
           [
            3,
            3
           ],
           32,
           2,
           32,
           "relu",
           "valid",
           [
            1,
            1
           ]
          ],
          [
           [
            5,
            5
           ],
           32,
           2,
           32,
           "relu",
           "valid",
           [
            1,
            1
           ]
          ]
         ],
         "hovertemplate": "optimizer=rmsprop<br>num_filters=%{customdata[1]}<br>activation=%{customdata[4]}<br>num_units=%{customdata[3]}<br>Training Accuracy=%{marker.size}<br>Validation Accuracy=%{y}<br>filter_size=%{customdata[0]}<br>num_layers=%{customdata[2]}<br>padding=%{customdata[5]}<br>stride=%{customdata[6]}<extra></extra>",
         "legendgroup": "rmsprop, 32",
         "marker": {
          "color": "#636efa",
          "size": [
           0.8408613204956055,
           0.8084734082221985
          ],
          "sizemode": "area",
          "sizeref": 0.0088742995262146,
          "symbol": "circle"
         },
         "mode": "markers",
         "name": "rmsprop, 32",
         "orientation": "v",
         "showlegend": true,
         "type": "scatter",
         "x": [
          0.8408613204956055,
          0.8084734082221985
         ],
         "xaxis": "x3",
         "y": [
          0.8565179109573364,
          0.8372703194618225
         ],
         "yaxis": "y3"
        },
        {
         "customdata": [
          [
           [
            3,
            3
           ],
           32,
           2,
           64,
           "relu",
           "valid",
           [
            1,
            1
           ]
          ],
          [
           [
            5,
            5
           ],
           32,
           2,
           64,
           "relu",
           "valid",
           [
            1,
            1
           ]
          ]
         ],
         "hovertemplate": "optimizer=rmsprop<br>num_filters=%{customdata[1]}<br>activation=%{customdata[4]}<br>num_units=%{customdata[3]}<br>Training Accuracy=%{marker.size}<br>Validation Accuracy=%{y}<br>filter_size=%{customdata[0]}<br>num_layers=%{customdata[2]}<br>padding=%{customdata[5]}<br>stride=%{customdata[6]}<extra></extra>",
         "legendgroup": "rmsprop, 32",
         "marker": {
          "color": "#636efa",
          "size": [
           0.843662440776825,
           0.8322829008102417
          ],
          "sizemode": "area",
          "sizeref": 0.0088742995262146,
          "symbol": "circle"
         },
         "mode": "markers",
         "name": "rmsprop, 32",
         "orientation": "v",
         "showlegend": false,
         "type": "scatter",
         "x": [
          0.843662440776825,
          0.8322829008102417
         ],
         "xaxis": "x4",
         "y": [
          0.8460192680358887,
          0.8591426014900208
         ],
         "yaxis": "y4"
        },
        {
         "customdata": [
          [
           [
            3,
            3
           ],
           32,
           2,
           32,
           "tanh",
           "valid",
           [
            1,
            1
           ]
          ],
          [
           [
            5,
            5
           ],
           32,
           2,
           32,
           "tanh",
           "valid",
           [
            1,
            1
           ]
          ]
         ],
         "hovertemplate": "optimizer=rmsprop<br>num_filters=%{customdata[1]}<br>activation=%{customdata[4]}<br>num_units=%{customdata[3]}<br>Training Accuracy=%{marker.size}<br>Validation Accuracy=%{y}<br>filter_size=%{customdata[0]}<br>num_layers=%{customdata[2]}<br>padding=%{customdata[5]}<br>stride=%{customdata[6]}<extra></extra>",
         "legendgroup": "rmsprop, 32",
         "marker": {
          "color": "#636efa",
          "size": [
           0.848739504814148,
           0.8429622054100037
          ],
          "sizemode": "area",
          "sizeref": 0.0088742995262146,
          "symbol": "circle"
         },
         "mode": "markers",
         "name": "rmsprop, 32",
         "orientation": "v",
         "showlegend": false,
         "type": "scatter",
         "x": [
          0.848739504814148,
          0.8429622054100037
         ],
         "xaxis": "x",
         "y": [
          0.8775153160095215,
          0.8652668595314026
         ],
         "yaxis": "y"
        },
        {
         "customdata": [
          [
           [
            3,
            3
           ],
           32,
           2,
           64,
           "tanh",
           "valid",
           [
            1,
            1
           ]
          ],
          [
           [
            5,
            5
           ],
           32,
           2,
           64,
           "tanh",
           "valid",
           [
            1,
            1
           ]
          ]
         ],
         "hovertemplate": "optimizer=rmsprop<br>num_filters=%{customdata[1]}<br>activation=%{customdata[4]}<br>num_units=%{customdata[3]}<br>Training Accuracy=%{marker.size}<br>Validation Accuracy=%{y}<br>filter_size=%{customdata[0]}<br>num_layers=%{customdata[2]}<br>padding=%{customdata[5]}<br>stride=%{customdata[6]}<extra></extra>",
         "legendgroup": "rmsprop, 32",
         "marker": {
          "color": "#636efa",
          "size": [
           0.843837559223175,
           0.8392857313156128
          ],
          "sizemode": "area",
          "sizeref": 0.0088742995262146,
          "symbol": "circle"
         },
         "mode": "markers",
         "name": "rmsprop, 32",
         "orientation": "v",
         "showlegend": false,
         "type": "scatter",
         "x": [
          0.843837559223175,
          0.8392857313156128
         ],
         "xaxis": "x2",
         "y": [
          0.8705161809921265,
          0.8573928475379944
         ],
         "yaxis": "y2"
        },
        {
         "customdata": [
          [
           [
            3,
            3
           ],
           64,
           2,
           32,
           "relu",
           "valid",
           [
            1,
            1
           ]
          ],
          [
           [
            5,
            5
           ],
           64,
           2,
           32,
           "relu",
           "valid",
           [
            1,
            1
           ]
          ]
         ],
         "hovertemplate": "optimizer=rmsprop<br>num_filters=%{customdata[1]}<br>activation=%{customdata[4]}<br>num_units=%{customdata[3]}<br>Training Accuracy=%{marker.size}<br>Validation Accuracy=%{y}<br>filter_size=%{customdata[0]}<br>num_layers=%{customdata[2]}<br>padding=%{customdata[5]}<br>stride=%{customdata[6]}<extra></extra>",
         "legendgroup": "rmsprop, 64",
         "marker": {
          "color": "#636efa",
          "size": [
           0.844362735748291,
           0.8422619104385376
          ],
          "sizemode": "area",
          "sizeref": 0.0088742995262146,
          "symbol": "diamond"
         },
         "mode": "markers",
         "name": "rmsprop, 64",
         "orientation": "v",
         "showlegend": true,
         "type": "scatter",
         "x": [
          0.844362735748291,
          0.8422619104385376
         ],
         "xaxis": "x3",
         "y": [
          0.8626421689987183,
          0.8678914904594421
         ],
         "yaxis": "y3"
        },
        {
         "customdata": [
          [
           [
            3,
            3
           ],
           64,
           2,
           64,
           "relu",
           "valid",
           [
            1,
            1
           ]
          ],
          [
           [
            5,
            5
           ],
           64,
           2,
           64,
           "relu",
           "valid",
           [
            1,
            1
           ]
          ]
         ],
         "hovertemplate": "optimizer=rmsprop<br>num_filters=%{customdata[1]}<br>activation=%{customdata[4]}<br>num_units=%{customdata[3]}<br>Training Accuracy=%{marker.size}<br>Validation Accuracy=%{y}<br>filter_size=%{customdata[0]}<br>num_layers=%{customdata[2]}<br>padding=%{customdata[5]}<br>stride=%{customdata[6]}<extra></extra>",
         "legendgroup": "rmsprop, 64",
         "marker": {
          "color": "#636efa",
          "size": [
           0.8557422757148743,
           0.8476890921592712
          ],
          "sizemode": "area",
          "sizeref": 0.0088742995262146,
          "symbol": "diamond"
         },
         "mode": "markers",
         "name": "rmsprop, 64",
         "orientation": "v",
         "showlegend": false,
         "type": "scatter",
         "x": [
          0.8557422757148743,
          0.8476890921592712
         ],
         "xaxis": "x4",
         "y": [
          0.8827646374702454,
          0.8696413040161133
         ],
         "yaxis": "y4"
        },
        {
         "customdata": [
          [
           [
            3,
            3
           ],
           64,
           2,
           32,
           "tanh",
           "valid",
           [
            1,
            1
           ]
          ],
          [
           [
            5,
            5
           ],
           64,
           2,
           32,
           "tanh",
           "valid",
           [
            1,
            1
           ]
          ]
         ],
         "hovertemplate": "optimizer=rmsprop<br>num_filters=%{customdata[1]}<br>activation=%{customdata[4]}<br>num_units=%{customdata[3]}<br>Training Accuracy=%{marker.size}<br>Validation Accuracy=%{y}<br>filter_size=%{customdata[0]}<br>num_layers=%{customdata[2]}<br>padding=%{customdata[5]}<br>stride=%{customdata[6]}<extra></extra>",
         "legendgroup": "rmsprop, 64",
         "marker": {
          "color": "#636efa",
          "size": [
           0.8665966391563416,
           0.8588935732841492
          ],
          "sizemode": "area",
          "sizeref": 0.0088742995262146,
          "symbol": "diamond"
         },
         "mode": "markers",
         "name": "rmsprop, 64",
         "orientation": "v",
         "showlegend": false,
         "type": "scatter",
         "x": [
          0.8665966391563416,
          0.8588935732841492
         ],
         "xaxis": "x",
         "y": [
          0.8985126614570618,
          0.8792650699615479
         ],
         "yaxis": "y"
        },
        {
         "customdata": [
          [
           [
            3,
            3
           ],
           64,
           2,
           64,
           "tanh",
           "valid",
           [
            1,
            1
           ]
          ],
          [
           [
            5,
            5
           ],
           64,
           2,
           64,
           "tanh",
           "valid",
           [
            1,
            1
           ]
          ]
         ],
         "hovertemplate": "optimizer=rmsprop<br>num_filters=%{customdata[1]}<br>activation=%{customdata[4]}<br>num_units=%{customdata[3]}<br>Training Accuracy=%{marker.size}<br>Validation Accuracy=%{y}<br>filter_size=%{customdata[0]}<br>num_layers=%{customdata[2]}<br>padding=%{customdata[5]}<br>stride=%{customdata[6]}<extra></extra>",
         "legendgroup": "rmsprop, 64",
         "marker": {
          "color": "#636efa",
          "size": [
           0.8676470518112183,
           0.8632702827453613
          ],
          "sizemode": "area",
          "sizeref": 0.0088742995262146,
          "symbol": "diamond"
         },
         "mode": "markers",
         "name": "rmsprop, 64",
         "orientation": "v",
         "showlegend": false,
         "type": "scatter",
         "x": [
          0.8676470518112183,
          0.8632702827453613
         ],
         "xaxis": "x2",
         "y": [
          0.8932633399963379,
          0.8862642049789429
         ],
         "yaxis": "y2"
        },
        {
         "customdata": [
          [
           [
            3,
            3
           ],
           32,
           2,
           32,
           "relu",
           "valid",
           [
            1,
            1
           ]
          ],
          [
           [
            5,
            5
           ],
           32,
           2,
           32,
           "relu",
           "valid",
           [
            1,
            1
           ]
          ]
         ],
         "hovertemplate": "optimizer=adagrad<br>num_filters=%{customdata[1]}<br>activation=%{customdata[4]}<br>num_units=%{customdata[3]}<br>Training Accuracy=%{marker.size}<br>Validation Accuracy=%{y}<br>filter_size=%{customdata[0]}<br>num_layers=%{customdata[2]}<br>padding=%{customdata[5]}<br>stride=%{customdata[6]}<extra></extra>",
         "legendgroup": "adagrad, 32",
         "marker": {
          "color": "#EF553B",
          "size": [
           0.46095937490463257,
           0.5915616154670715
          ],
          "sizemode": "area",
          "sizeref": 0.0088742995262146,
          "symbol": "circle"
         },
         "mode": "markers",
         "name": "adagrad, 32",
         "orientation": "v",
         "showlegend": true,
         "type": "scatter",
         "x": [
          0.46095937490463257,
          0.5915616154670715
         ],
         "xaxis": "x3",
         "y": [
          0.44969379901885986,
          0.6220472455024719
         ],
         "yaxis": "y3"
        },
        {
         "customdata": [
          [
           [
            3,
            3
           ],
           32,
           2,
           64,
           "relu",
           "valid",
           [
            1,
            1
           ]
          ],
          [
           [
            5,
            5
           ],
           32,
           2,
           64,
           "relu",
           "valid",
           [
            1,
            1
           ]
          ]
         ],
         "hovertemplate": "optimizer=adagrad<br>num_filters=%{customdata[1]}<br>activation=%{customdata[4]}<br>num_units=%{customdata[3]}<br>Training Accuracy=%{marker.size}<br>Validation Accuracy=%{y}<br>filter_size=%{customdata[0]}<br>num_layers=%{customdata[2]}<br>padding=%{customdata[5]}<br>stride=%{customdata[6]}<extra></extra>",
         "legendgroup": "adagrad, 32",
         "marker": {
          "color": "#EF553B",
          "size": [
           0.5663515329360962,
           0.5297619104385376
          ],
          "sizemode": "area",
          "sizeref": 0.0088742995262146,
          "symbol": "circle"
         },
         "mode": "markers",
         "name": "adagrad, 32",
         "orientation": "v",
         "showlegend": false,
         "type": "scatter",
         "x": [
          0.5663515329360962,
          0.5297619104385376
         ],
         "xaxis": "x4",
         "y": [
          0.5870516300201416,
          0.5441820025444031
         ],
         "yaxis": "y4"
        },
        {
         "customdata": [
          [
           [
            3,
            3
           ],
           32,
           2,
           32,
           "tanh",
           "valid",
           [
            1,
            1
           ]
          ],
          [
           [
            5,
            5
           ],
           32,
           2,
           32,
           "tanh",
           "valid",
           [
            1,
            1
           ]
          ]
         ],
         "hovertemplate": "optimizer=adagrad<br>num_filters=%{customdata[1]}<br>activation=%{customdata[4]}<br>num_units=%{customdata[3]}<br>Training Accuracy=%{marker.size}<br>Validation Accuracy=%{y}<br>filter_size=%{customdata[0]}<br>num_layers=%{customdata[2]}<br>padding=%{customdata[5]}<br>stride=%{customdata[6]}<extra></extra>",
         "legendgroup": "adagrad, 32",
         "marker": {
          "color": "#EF553B",
          "size": [
           0.6502100825309753,
           0.6540616154670715
          ],
          "sizemode": "area",
          "sizeref": 0.0088742995262146,
          "symbol": "circle"
         },
         "mode": "markers",
         "name": "adagrad, 32",
         "orientation": "v",
         "showlegend": false,
         "type": "scatter",
         "x": [
          0.6502100825309753,
          0.6540616154670715
         ],
         "xaxis": "x",
         "y": [
          0.6596675515174866,
          0.6596675515174866
         ],
         "yaxis": "y"
        },
        {
         "customdata": [
          [
           [
            3,
            3
           ],
           32,
           2,
           64,
           "tanh",
           "valid",
           [
            1,
            1
           ]
          ],
          [
           [
            5,
            5
           ],
           32,
           2,
           64,
           "tanh",
           "valid",
           [
            1,
            1
           ]
          ]
         ],
         "hovertemplate": "optimizer=adagrad<br>num_filters=%{customdata[1]}<br>activation=%{customdata[4]}<br>num_units=%{customdata[3]}<br>Training Accuracy=%{marker.size}<br>Validation Accuracy=%{y}<br>filter_size=%{customdata[0]}<br>num_layers=%{customdata[2]}<br>padding=%{customdata[5]}<br>stride=%{customdata[6]}<extra></extra>",
         "legendgroup": "adagrad, 32",
         "marker": {
          "color": "#EF553B",
          "size": [
           0.6726190447807312,
           0.658088207244873
          ],
          "sizemode": "area",
          "sizeref": 0.0088742995262146,
          "symbol": "circle"
         },
         "mode": "markers",
         "name": "adagrad, 32",
         "orientation": "v",
         "showlegend": false,
         "type": "scatter",
         "x": [
          0.6726190447807312,
          0.658088207244873
         ],
         "xaxis": "x2",
         "y": [
          0.6815398335456848,
          0.6666666865348816
         ],
         "yaxis": "y2"
        },
        {
         "customdata": [
          [
           [
            3,
            3
           ],
           64,
           2,
           32,
           "relu",
           "valid",
           [
            1,
            1
           ]
          ],
          [
           [
            5,
            5
           ],
           64,
           2,
           32,
           "relu",
           "valid",
           [
            1,
            1
           ]
          ]
         ],
         "hovertemplate": "optimizer=adagrad<br>num_filters=%{customdata[1]}<br>activation=%{customdata[4]}<br>num_units=%{customdata[3]}<br>Training Accuracy=%{marker.size}<br>Validation Accuracy=%{y}<br>filter_size=%{customdata[0]}<br>num_layers=%{customdata[2]}<br>padding=%{customdata[5]}<br>stride=%{customdata[6]}<extra></extra>",
         "legendgroup": "adagrad, 64",
         "marker": {
          "color": "#EF553B",
          "size": [
           0.5516456365585327,
           0.6290265917778015
          ],
          "sizemode": "area",
          "sizeref": 0.0088742995262146,
          "symbol": "diamond"
         },
         "mode": "markers",
         "name": "adagrad, 64",
         "orientation": "v",
         "showlegend": true,
         "type": "scatter",
         "x": [
          0.5516456365585327,
          0.6290265917778015
         ],
         "xaxis": "x3",
         "y": [
          0.5433070659637451,
          0.6176728010177612
         ],
         "yaxis": "y3"
        },
        {
         "customdata": [
          [
           [
            3,
            3
           ],
           64,
           2,
           64,
           "relu",
           "valid",
           [
            1,
            1
           ]
          ],
          [
           [
            5,
            5
           ],
           64,
           2,
           64,
           "relu",
           "valid",
           [
            1,
            1
           ]
          ]
         ],
         "hovertemplate": "optimizer=adagrad<br>num_filters=%{customdata[1]}<br>activation=%{customdata[4]}<br>num_units=%{customdata[3]}<br>Training Accuracy=%{marker.size}<br>Validation Accuracy=%{y}<br>filter_size=%{customdata[0]}<br>num_layers=%{customdata[2]}<br>padding=%{customdata[5]}<br>stride=%{customdata[6]}<extra></extra>",
         "legendgroup": "adagrad, 64",
         "marker": {
          "color": "#EF553B",
          "size": [
           0.488095223903656,
           0.5784313678741455
          ],
          "sizemode": "area",
          "sizeref": 0.0088742995262146,
          "symbol": "diamond"
         },
         "mode": "markers",
         "name": "adagrad, 64",
         "orientation": "v",
         "showlegend": false,
         "type": "scatter",
         "x": [
          0.488095223903656,
          0.5784313678741455
         ],
         "xaxis": "x4",
         "y": [
          0.5660542249679565,
          0.5870516300201416
         ],
         "yaxis": "y4"
        },
        {
         "customdata": [
          [
           [
            3,
            3
           ],
           64,
           2,
           32,
           "tanh",
           "valid",
           [
            1,
            1
           ]
          ],
          [
           [
            5,
            5
           ],
           64,
           2,
           32,
           "tanh",
           "valid",
           [
            1,
            1
           ]
          ]
         ],
         "hovertemplate": "optimizer=adagrad<br>num_filters=%{customdata[1]}<br>activation=%{customdata[4]}<br>num_units=%{customdata[3]}<br>Training Accuracy=%{marker.size}<br>Validation Accuracy=%{y}<br>filter_size=%{customdata[0]}<br>num_layers=%{customdata[2]}<br>padding=%{customdata[5]}<br>stride=%{customdata[6]}<extra></extra>",
         "legendgroup": "adagrad, 64",
         "marker": {
          "color": "#EF553B",
          "size": [
           0.6796218752861023,
           0.6545868515968323
          ],
          "sizemode": "area",
          "sizeref": 0.0088742995262146,
          "symbol": "diamond"
         },
         "mode": "markers",
         "name": "adagrad, 64",
         "orientation": "v",
         "showlegend": false,
         "type": "scatter",
         "x": [
          0.6796218752861023,
          0.6545868515968323
         ],
         "xaxis": "x",
         "y": [
          0.6937882900238037,
          0.668416440486908
         ],
         "yaxis": "y"
        },
        {
         "customdata": [
          [
           [
            3,
            3
           ],
           64,
           2,
           64,
           "tanh",
           "valid",
           [
            1,
            1
           ]
          ],
          [
           [
            5,
            5
           ],
           64,
           2,
           64,
           "tanh",
           "valid",
           [
            1,
            1
           ]
          ]
         ],
         "hovertemplate": "optimizer=adagrad<br>num_filters=%{customdata[1]}<br>activation=%{customdata[4]}<br>num_units=%{customdata[3]}<br>Training Accuracy=%{marker.size}<br>Validation Accuracy=%{y}<br>filter_size=%{customdata[0]}<br>num_layers=%{customdata[2]}<br>padding=%{customdata[5]}<br>stride=%{customdata[6]}<extra></extra>",
         "legendgroup": "adagrad, 64",
         "marker": {
          "color": "#EF553B",
          "size": [
           0.6745448112487793,
           0.6882002949714661
          ],
          "sizemode": "area",
          "sizeref": 0.0088742995262146,
          "symbol": "diamond"
         },
         "mode": "markers",
         "name": "adagrad, 64",
         "orientation": "v",
         "showlegend": false,
         "type": "scatter",
         "x": [
          0.6745448112487793,
          0.6882002949714661
         ],
         "xaxis": "x2",
         "y": [
          0.6789151430130005,
          0.6911635994911194
         ],
         "yaxis": "y2"
        },
        {
         "customdata": [
          [
           [
            3,
            3
           ],
           32,
           2,
           32,
           "relu",
           "valid",
           [
            1,
            1
           ]
          ],
          [
           [
            5,
            5
           ],
           32,
           2,
           32,
           "relu",
           "valid",
           [
            1,
            1
           ]
          ]
         ],
         "hovertemplate": "optimizer=adam<br>num_filters=%{customdata[1]}<br>activation=%{customdata[4]}<br>num_units=%{customdata[3]}<br>Training Accuracy=%{marker.size}<br>Validation Accuracy=%{y}<br>filter_size=%{customdata[0]}<br>num_layers=%{customdata[2]}<br>padding=%{customdata[5]}<br>stride=%{customdata[6]}<extra></extra>",
         "legendgroup": "adam, 32",
         "marker": {
          "color": "#00cc96",
          "size": [
           0.8258053064346313,
           0.8109243512153625
          ],
          "sizemode": "area",
          "sizeref": 0.0088742995262146,
          "symbol": "circle"
         },
         "mode": "markers",
         "name": "adam, 32",
         "orientation": "v",
         "showlegend": true,
         "type": "scatter",
         "x": [
          0.8258053064346313,
          0.8109243512153625
         ],
         "xaxis": "x3",
         "y": [
          0.84076988697052,
          0.8328958749771118
         ],
         "yaxis": "y3"
        },
        {
         "customdata": [
          [
           [
            3,
            3
           ],
           32,
           2,
           64,
           "relu",
           "valid",
           [
            1,
            1
           ]
          ],
          [
           [
            5,
            5
           ],
           32,
           2,
           64,
           "relu",
           "valid",
           [
            1,
            1
           ]
          ]
         ],
         "hovertemplate": "optimizer=adam<br>num_filters=%{customdata[1]}<br>activation=%{customdata[4]}<br>num_units=%{customdata[3]}<br>Training Accuracy=%{marker.size}<br>Validation Accuracy=%{y}<br>filter_size=%{customdata[0]}<br>num_layers=%{customdata[2]}<br>padding=%{customdata[5]}<br>stride=%{customdata[6]}<extra></extra>",
         "legendgroup": "adam, 32",
         "marker": {
          "color": "#00cc96",
          "size": [
           0.8440126180648804,
           0.8308823704719543
          ],
          "sizemode": "area",
          "sizeref": 0.0088742995262146,
          "symbol": "circle"
         },
         "mode": "markers",
         "name": "adam, 32",
         "orientation": "v",
         "showlegend": false,
         "type": "scatter",
         "x": [
          0.8440126180648804,
          0.8308823704719543
         ],
         "xaxis": "x4",
         "y": [
          0.8538932800292969,
          0.8468941450119019
         ],
         "yaxis": "y4"
        },
        {
         "customdata": [
          [
           [
            3,
            3
           ],
           32,
           2,
           32,
           "tanh",
           "valid",
           [
            1,
            1
           ]
          ],
          [
           [
            5,
            5
           ],
           32,
           2,
           32,
           "tanh",
           "valid",
           [
            1,
            1
           ]
          ]
         ],
         "hovertemplate": "optimizer=adam<br>num_filters=%{customdata[1]}<br>activation=%{customdata[4]}<br>num_units=%{customdata[3]}<br>Training Accuracy=%{marker.size}<br>Validation Accuracy=%{y}<br>filter_size=%{customdata[0]}<br>num_layers=%{customdata[2]}<br>padding=%{customdata[5]}<br>stride=%{customdata[6]}<extra></extra>",
         "legendgroup": "adam, 32",
         "marker": {
          "color": "#00cc96",
          "size": [
           0.8483893275260925,
           0.8473389148712158
          ],
          "sizemode": "area",
          "sizeref": 0.0088742995262146,
          "symbol": "circle"
         },
         "mode": "markers",
         "name": "adam, 32",
         "orientation": "v",
         "showlegend": false,
         "type": "scatter",
         "x": [
          0.8483893275260925,
          0.8473389148712158
         ],
         "xaxis": "x",
         "y": [
          0.8573928475379944,
          0.8573928475379944
         ],
         "yaxis": "y"
        },
        {
         "customdata": [
          [
           [
            3,
            3
           ],
           32,
           2,
           64,
           "tanh",
           "valid",
           [
            1,
            1
           ]
          ],
          [
           [
            5,
            5
           ],
           32,
           2,
           64,
           "tanh",
           "valid",
           [
            1,
            1
           ]
          ]
         ],
         "hovertemplate": "optimizer=adam<br>num_filters=%{customdata[1]}<br>activation=%{customdata[4]}<br>num_units=%{customdata[3]}<br>Training Accuracy=%{marker.size}<br>Validation Accuracy=%{y}<br>filter_size=%{customdata[0]}<br>num_layers=%{customdata[2]}<br>padding=%{customdata[5]}<br>stride=%{customdata[6]}<extra></extra>",
         "legendgroup": "adam, 32",
         "marker": {
          "color": "#00cc96",
          "size": [
           0.84996497631073,
           0.8504902124404907
          ],
          "sizemode": "area",
          "sizeref": 0.0088742995262146,
          "symbol": "circle"
         },
         "mode": "markers",
         "name": "adam, 32",
         "orientation": "v",
         "showlegend": false,
         "type": "scatter",
         "x": [
          0.84996497631073,
          0.8504902124404907
         ],
         "xaxis": "x2",
         "y": [
          0.8582677245140076,
          0.8547681570053101
         ],
         "yaxis": "y2"
        },
        {
         "customdata": [
          [
           [
            3,
            3
           ],
           64,
           2,
           32,
           "relu",
           "valid",
           [
            1,
            1
           ]
          ],
          [
           [
            5,
            5
           ],
           64,
           2,
           32,
           "relu",
           "valid",
           [
            1,
            1
           ]
          ]
         ],
         "hovertemplate": "optimizer=adam<br>num_filters=%{customdata[1]}<br>activation=%{customdata[4]}<br>num_units=%{customdata[3]}<br>Training Accuracy=%{marker.size}<br>Validation Accuracy=%{y}<br>filter_size=%{customdata[0]}<br>num_layers=%{customdata[2]}<br>padding=%{customdata[5]}<br>stride=%{customdata[6]}<extra></extra>",
         "legendgroup": "adam, 64",
         "marker": {
          "color": "#00cc96",
          "size": [
           0.8294817805290222,
           0.8347339034080505
          ],
          "sizemode": "area",
          "sizeref": 0.0088742995262146,
          "symbol": "diamond"
         },
         "mode": "markers",
         "name": "adam, 64",
         "orientation": "v",
         "showlegend": true,
         "type": "scatter",
         "x": [
          0.8294817805290222,
          0.8347339034080505
         ],
         "xaxis": "x3",
         "y": [
          0.8398950099945068,
          0.8468941450119019
         ],
         "yaxis": "y3"
        },
        {
         "customdata": [
          [
           [
            3,
            3
           ],
           64,
           2,
           64,
           "relu",
           "valid",
           [
            1,
            1
           ]
          ],
          [
           [
            5,
            5
           ],
           64,
           2,
           64,
           "relu",
           "valid",
           [
            1,
            1
           ]
          ]
         ],
         "hovertemplate": "optimizer=adam<br>num_filters=%{customdata[1]}<br>activation=%{customdata[4]}<br>num_units=%{customdata[3]}<br>Training Accuracy=%{marker.size}<br>Validation Accuracy=%{y}<br>filter_size=%{customdata[0]}<br>num_layers=%{customdata[2]}<br>padding=%{customdata[5]}<br>stride=%{customdata[6]}<extra></extra>",
         "legendgroup": "adam, 64",
         "marker": {
          "color": "#00cc96",
          "size": [
           0.8664215803146362,
           0.8356092572212219
          ],
          "sizemode": "area",
          "sizeref": 0.0088742995262146,
          "symbol": "diamond"
         },
         "mode": "markers",
         "name": "adam, 64",
         "orientation": "v",
         "showlegend": false,
         "type": "scatter",
         "x": [
          0.8664215803146362,
          0.8356092572212219
         ],
         "xaxis": "x4",
         "y": [
          0.8836395740509033,
          0.8556430339813232
         ],
         "yaxis": "y4"
        },
        {
         "customdata": [
          [
           [
            3,
            3
           ],
           64,
           2,
           32,
           "tanh",
           "valid",
           [
            1,
            1
           ]
          ],
          [
           [
            5,
            5
           ],
           64,
           2,
           32,
           "tanh",
           "valid",
           [
            1,
            1
           ]
          ]
         ],
         "hovertemplate": "optimizer=adam<br>num_filters=%{customdata[1]}<br>activation=%{customdata[4]}<br>num_units=%{customdata[3]}<br>Training Accuracy=%{marker.size}<br>Validation Accuracy=%{y}<br>filter_size=%{customdata[0]}<br>num_layers=%{customdata[2]}<br>padding=%{customdata[5]}<br>stride=%{customdata[6]}<extra></extra>",
         "legendgroup": "adam, 64",
         "marker": {
          "color": "#00cc96",
          "size": [
           0.8776260614395142,
           0.868697464466095
          ],
          "sizemode": "area",
          "sizeref": 0.0088742995262146,
          "symbol": "diamond"
         },
         "mode": "markers",
         "name": "adam, 64",
         "orientation": "v",
         "showlegend": false,
         "type": "scatter",
         "x": [
          0.8776260614395142,
          0.868697464466095
         ],
         "xaxis": "x",
         "y": [
          0.8897637724876404,
          0.8941382169723511
         ],
         "yaxis": "y"
        },
        {
         "customdata": [
          [
           [
            3,
            3
           ],
           64,
           2,
           64,
           "tanh",
           "valid",
           [
            1,
            1
           ]
          ],
          [
           [
            5,
            5
           ],
           64,
           2,
           64,
           "tanh",
           "valid",
           [
            1,
            1
           ]
          ]
         ],
         "hovertemplate": "optimizer=adam<br>num_filters=%{customdata[1]}<br>activation=%{customdata[4]}<br>num_units=%{customdata[3]}<br>Training Accuracy=%{marker.size}<br>Validation Accuracy=%{y}<br>filter_size=%{customdata[0]}<br>num_layers=%{customdata[2]}<br>padding=%{customdata[5]}<br>stride=%{customdata[6]}<extra></extra>",
         "legendgroup": "adam, 64",
         "marker": {
          "color": "#00cc96",
          "size": [
           0.88742995262146,
           0.8758753538131714
          ],
          "sizemode": "area",
          "sizeref": 0.0088742995262146,
          "symbol": "diamond"
         },
         "mode": "markers",
         "name": "adam, 64",
         "orientation": "v",
         "showlegend": false,
         "type": "scatter",
         "x": [
          0.88742995262146,
          0.8758753538131714
         ],
         "xaxis": "x2",
         "y": [
          0.9002624750137329,
          0.8775153160095215
         ],
         "yaxis": "y2"
        },
        {
         "customdata": [
          [
           [
            3,
            3
           ],
           32,
           2,
           32,
           "relu",
           "valid",
           [
            1,
            1
           ]
          ],
          [
           [
            5,
            5
           ],
           32,
           2,
           32,
           "relu",
           "valid",
           [
            1,
            1
           ]
          ]
         ],
         "hovertemplate": "optimizer=sgd<br>num_filters=%{customdata[1]}<br>activation=%{customdata[4]}<br>num_units=%{customdata[3]}<br>Training Accuracy=%{marker.size}<br>Validation Accuracy=%{y}<br>filter_size=%{customdata[0]}<br>num_layers=%{customdata[2]}<br>padding=%{customdata[5]}<br>stride=%{customdata[6]}<extra></extra>",
         "legendgroup": "sgd, 32",
         "marker": {
          "color": "#ab63fa",
          "size": [
           0.7146358489990234,
           0.6925770044326782
          ],
          "sizemode": "area",
          "sizeref": 0.0088742995262146,
          "symbol": "circle"
         },
         "mode": "markers",
         "name": "sgd, 32",
         "orientation": "v",
         "showlegend": true,
         "type": "scatter",
         "x": [
          0.7146358489990234,
          0.6925770044326782
         ],
         "xaxis": "x3",
         "y": [
          0.721784770488739,
          0.6981627345085144
         ],
         "yaxis": "y3"
        },
        {
         "customdata": [
          [
           [
            3,
            3
           ],
           32,
           2,
           64,
           "relu",
           "valid",
           [
            1,
            1
           ]
          ],
          [
           [
            5,
            5
           ],
           32,
           2,
           64,
           "relu",
           "valid",
           [
            1,
            1
           ]
          ]
         ],
         "hovertemplate": "optimizer=sgd<br>num_filters=%{customdata[1]}<br>activation=%{customdata[4]}<br>num_units=%{customdata[3]}<br>Training Accuracy=%{marker.size}<br>Validation Accuracy=%{y}<br>filter_size=%{customdata[0]}<br>num_layers=%{customdata[2]}<br>padding=%{customdata[5]}<br>stride=%{customdata[6]}<extra></extra>",
         "legendgroup": "sgd, 32",
         "marker": {
          "color": "#ab63fa",
          "size": [
           0.7253151535987854,
           0.7046568393707275
          ],
          "sizemode": "area",
          "sizeref": 0.0088742995262146,
          "symbol": "circle"
         },
         "mode": "markers",
         "name": "sgd, 32",
         "orientation": "v",
         "showlegend": false,
         "type": "scatter",
         "x": [
          0.7253151535987854,
          0.7046568393707275
         ],
         "xaxis": "x4",
         "y": [
          0.7401574850082397,
          0.7191600799560547
         ],
         "yaxis": "y4"
        },
        {
         "customdata": [
          [
           [
            3,
            3
           ],
           32,
           2,
           32,
           "tanh",
           "valid",
           [
            1,
            1
           ]
          ],
          [
           [
            5,
            5
           ],
           32,
           2,
           32,
           "tanh",
           "valid",
           [
            1,
            1
           ]
          ]
         ],
         "hovertemplate": "optimizer=sgd<br>num_filters=%{customdata[1]}<br>activation=%{customdata[4]}<br>num_units=%{customdata[3]}<br>Training Accuracy=%{marker.size}<br>Validation Accuracy=%{y}<br>filter_size=%{customdata[0]}<br>num_layers=%{customdata[2]}<br>padding=%{customdata[5]}<br>stride=%{customdata[6]}<extra></extra>",
         "legendgroup": "sgd, 32",
         "marker": {
          "color": "#ab63fa",
          "size": [
           0.7596288323402405,
           0.7298669219017029
          ],
          "sizemode": "area",
          "sizeref": 0.0088742995262146,
          "symbol": "circle"
         },
         "mode": "markers",
         "name": "sgd, 32",
         "orientation": "v",
         "showlegend": false,
         "type": "scatter",
         "x": [
          0.7596288323402405,
          0.7298669219017029
         ],
         "xaxis": "x",
         "y": [
          0.7515310645103455,
          0.7366579174995422
         ],
         "yaxis": "y"
        },
        {
         "customdata": [
          [
           [
            3,
            3
           ],
           32,
           2,
           64,
           "tanh",
           "valid",
           [
            1,
            1
           ]
          ],
          [
           [
            5,
            5
           ],
           32,
           2,
           64,
           "tanh",
           "valid",
           [
            1,
            1
           ]
          ]
         ],
         "hovertemplate": "optimizer=sgd<br>num_filters=%{customdata[1]}<br>activation=%{customdata[4]}<br>num_units=%{customdata[3]}<br>Training Accuracy=%{marker.size}<br>Validation Accuracy=%{y}<br>filter_size=%{customdata[0]}<br>num_layers=%{customdata[2]}<br>padding=%{customdata[5]}<br>stride=%{customdata[6]}<extra></extra>",
         "legendgroup": "sgd, 32",
         "marker": {
          "color": "#ab63fa",
          "size": [
           0.7629551887512207,
           0.7417716979980469
          ],
          "sizemode": "area",
          "sizeref": 0.0088742995262146,
          "symbol": "circle"
         },
         "mode": "markers",
         "name": "sgd, 32",
         "orientation": "v",
         "showlegend": false,
         "type": "scatter",
         "x": [
          0.7629551887512207,
          0.7417716979980469
         ],
         "xaxis": "x2",
         "y": [
          0.768153965473175,
          0.7375327944755554
         ],
         "yaxis": "y2"
        },
        {
         "customdata": [
          [
           [
            3,
            3
           ],
           64,
           2,
           32,
           "relu",
           "valid",
           [
            1,
            1
           ]
          ],
          [
           [
            5,
            5
           ],
           64,
           2,
           32,
           "relu",
           "valid",
           [
            1,
            1
           ]
          ]
         ],
         "hovertemplate": "optimizer=sgd<br>num_filters=%{customdata[1]}<br>activation=%{customdata[4]}<br>num_units=%{customdata[3]}<br>Training Accuracy=%{marker.size}<br>Validation Accuracy=%{y}<br>filter_size=%{customdata[0]}<br>num_layers=%{customdata[2]}<br>padding=%{customdata[5]}<br>stride=%{customdata[6]}<extra></extra>",
         "legendgroup": "sgd, 64",
         "marker": {
          "color": "#ab63fa",
          "size": [
           0.7116596698760986,
           0.7011554837226868
          ],
          "sizemode": "area",
          "sizeref": 0.0088742995262146,
          "symbol": "diamond"
         },
         "mode": "markers",
         "name": "sgd, 64",
         "orientation": "v",
         "showlegend": true,
         "type": "scatter",
         "x": [
          0.7116596698760986,
          0.7011554837226868
         ],
         "xaxis": "x3",
         "y": [
          0.7366579174995422,
          0.714785635471344
         ],
         "yaxis": "y3"
        },
        {
         "customdata": [
          [
           [
            3,
            3
           ],
           64,
           2,
           64,
           "relu",
           "valid",
           [
            1,
            1
           ]
          ],
          [
           [
            5,
            5
           ],
           64,
           2,
           64,
           "relu",
           "valid",
           [
            1,
            1
           ]
          ]
         ],
         "hovertemplate": "optimizer=sgd<br>num_filters=%{customdata[1]}<br>activation=%{customdata[4]}<br>num_units=%{customdata[3]}<br>Training Accuracy=%{marker.size}<br>Validation Accuracy=%{y}<br>filter_size=%{customdata[0]}<br>num_layers=%{customdata[2]}<br>padding=%{customdata[5]}<br>stride=%{customdata[6]}<extra></extra>",
         "legendgroup": "sgd, 64",
         "marker": {
          "color": "#ab63fa",
          "size": [
           0.7284663915634155,
           0.7071078419685364
          ],
          "sizemode": "area",
          "sizeref": 0.0088742995262146,
          "symbol": "diamond"
         },
         "mode": "markers",
         "name": "sgd, 64",
         "orientation": "v",
         "showlegend": false,
         "type": "scatter",
         "x": [
          0.7284663915634155,
          0.7071078419685364
         ],
         "xaxis": "x4",
         "y": [
          0.7200350165367126,
          0.715660572052002
         ],
         "yaxis": "y4"
        },
        {
         "customdata": [
          [
           [
            3,
            3
           ],
           64,
           2,
           32,
           "tanh",
           "valid",
           [
            1,
            1
           ]
          ],
          [
           [
            5,
            5
           ],
           64,
           2,
           32,
           "tanh",
           "valid",
           [
            1,
            1
           ]
          ]
         ],
         "hovertemplate": "optimizer=sgd<br>num_filters=%{customdata[1]}<br>activation=%{customdata[4]}<br>num_units=%{customdata[3]}<br>Training Accuracy=%{marker.size}<br>Validation Accuracy=%{y}<br>filter_size=%{customdata[0]}<br>num_layers=%{customdata[2]}<br>padding=%{customdata[5]}<br>stride=%{customdata[6]}<extra></extra>",
         "legendgroup": "sgd, 64",
         "marker": {
          "color": "#ab63fa",
          "size": [
           0.7696078419685364,
           0.7442227005958557
          ],
          "sizemode": "area",
          "sizeref": 0.0088742995262146,
          "symbol": "diamond"
         },
         "mode": "markers",
         "name": "sgd, 64",
         "orientation": "v",
         "showlegend": false,
         "type": "scatter",
         "x": [
          0.7696078419685364,
          0.7442227005958557
         ],
         "xaxis": "x",
         "y": [
          0.7515310645103455,
          0.7349081635475159
         ],
         "yaxis": "y"
        },
        {
         "customdata": [
          [
           [
            3,
            3
           ],
           64,
           2,
           64,
           "tanh",
           "valid",
           [
            1,
            1
           ]
          ],
          [
           [
            5,
            5
           ],
           64,
           2,
           64,
           "tanh",
           "valid",
           [
            1,
            1
           ]
          ]
         ],
         "hovertemplate": "optimizer=sgd<br>num_filters=%{customdata[1]}<br>activation=%{customdata[4]}<br>num_units=%{customdata[3]}<br>Training Accuracy=%{marker.size}<br>Validation Accuracy=%{y}<br>filter_size=%{customdata[0]}<br>num_layers=%{customdata[2]}<br>padding=%{customdata[5]}<br>stride=%{customdata[6]}<extra></extra>",
         "legendgroup": "sgd, 64",
         "marker": {
          "color": "#ab63fa",
          "size": [
           0.7661064267158508,
           0.7533263564109802
          ],
          "sizemode": "area",
          "sizeref": 0.0088742995262146,
          "symbol": "diamond"
         },
         "mode": "markers",
         "name": "sgd, 64",
         "orientation": "v",
         "showlegend": false,
         "type": "scatter",
         "x": [
          0.7661064267158508,
          0.7533263564109802
         ],
         "xaxis": "x2",
         "y": [
          0.7602799534797668,
          0.7462817430496216
         ],
         "yaxis": "y2"
        }
       ],
       "layout": {
        "annotations": [
         {
          "font": {},
          "showarrow": false,
          "text": "num_units=32",
          "x": 0.24,
          "xanchor": "center",
          "xref": "paper",
          "y": 1,
          "yanchor": "bottom",
          "yref": "paper"
         },
         {
          "font": {},
          "showarrow": false,
          "text": "num_units=64",
          "x": 0.74,
          "xanchor": "center",
          "xref": "paper",
          "y": 1,
          "yanchor": "bottom",
          "yref": "paper"
         },
         {
          "font": {},
          "showarrow": false,
          "text": "activation=tanh",
          "textangle": 90,
          "x": 0.98,
          "xanchor": "left",
          "xref": "paper",
          "y": 0.2425,
          "yanchor": "middle",
          "yref": "paper"
         },
         {
          "font": {},
          "showarrow": false,
          "text": "activation=relu",
          "textangle": 90,
          "x": 0.98,
          "xanchor": "left",
          "xref": "paper",
          "y": 0.7575000000000001,
          "yanchor": "middle",
          "yref": "paper"
         }
        ],
        "legend": {
         "itemsizing": "constant",
         "title": {
          "text": "optimizer, num_filters"
         },
         "tracegroupgap": 0
        },
        "margin": {
         "t": 60
        },
        "template": {
         "data": {
          "bar": [
           {
            "error_x": {
             "color": "#2a3f5f"
            },
            "error_y": {
             "color": "#2a3f5f"
            },
            "marker": {
             "line": {
              "color": "#E5ECF6",
              "width": 0.5
             },
             "pattern": {
              "fillmode": "overlay",
              "size": 10,
              "solidity": 0.2
             }
            },
            "type": "bar"
           }
          ],
          "barpolar": [
           {
            "marker": {
             "line": {
              "color": "#E5ECF6",
              "width": 0.5
             },
             "pattern": {
              "fillmode": "overlay",
              "size": 10,
              "solidity": 0.2
             }
            },
            "type": "barpolar"
           }
          ],
          "carpet": [
           {
            "aaxis": {
             "endlinecolor": "#2a3f5f",
             "gridcolor": "white",
             "linecolor": "white",
             "minorgridcolor": "white",
             "startlinecolor": "#2a3f5f"
            },
            "baxis": {
             "endlinecolor": "#2a3f5f",
             "gridcolor": "white",
             "linecolor": "white",
             "minorgridcolor": "white",
             "startlinecolor": "#2a3f5f"
            },
            "type": "carpet"
           }
          ],
          "choropleth": [
           {
            "colorbar": {
             "outlinewidth": 0,
             "ticks": ""
            },
            "type": "choropleth"
           }
          ],
          "contour": [
           {
            "colorbar": {
             "outlinewidth": 0,
             "ticks": ""
            },
            "colorscale": [
             [
              0,
              "#0d0887"
             ],
             [
              0.1111111111111111,
              "#46039f"
             ],
             [
              0.2222222222222222,
              "#7201a8"
             ],
             [
              0.3333333333333333,
              "#9c179e"
             ],
             [
              0.4444444444444444,
              "#bd3786"
             ],
             [
              0.5555555555555556,
              "#d8576b"
             ],
             [
              0.6666666666666666,
              "#ed7953"
             ],
             [
              0.7777777777777778,
              "#fb9f3a"
             ],
             [
              0.8888888888888888,
              "#fdca26"
             ],
             [
              1,
              "#f0f921"
             ]
            ],
            "type": "contour"
           }
          ],
          "contourcarpet": [
           {
            "colorbar": {
             "outlinewidth": 0,
             "ticks": ""
            },
            "type": "contourcarpet"
           }
          ],
          "heatmap": [
           {
            "colorbar": {
             "outlinewidth": 0,
             "ticks": ""
            },
            "colorscale": [
             [
              0,
              "#0d0887"
             ],
             [
              0.1111111111111111,
              "#46039f"
             ],
             [
              0.2222222222222222,
              "#7201a8"
             ],
             [
              0.3333333333333333,
              "#9c179e"
             ],
             [
              0.4444444444444444,
              "#bd3786"
             ],
             [
              0.5555555555555556,
              "#d8576b"
             ],
             [
              0.6666666666666666,
              "#ed7953"
             ],
             [
              0.7777777777777778,
              "#fb9f3a"
             ],
             [
              0.8888888888888888,
              "#fdca26"
             ],
             [
              1,
              "#f0f921"
             ]
            ],
            "type": "heatmap"
           }
          ],
          "heatmapgl": [
           {
            "colorbar": {
             "outlinewidth": 0,
             "ticks": ""
            },
            "colorscale": [
             [
              0,
              "#0d0887"
             ],
             [
              0.1111111111111111,
              "#46039f"
             ],
             [
              0.2222222222222222,
              "#7201a8"
             ],
             [
              0.3333333333333333,
              "#9c179e"
             ],
             [
              0.4444444444444444,
              "#bd3786"
             ],
             [
              0.5555555555555556,
              "#d8576b"
             ],
             [
              0.6666666666666666,
              "#ed7953"
             ],
             [
              0.7777777777777778,
              "#fb9f3a"
             ],
             [
              0.8888888888888888,
              "#fdca26"
             ],
             [
              1,
              "#f0f921"
             ]
            ],
            "type": "heatmapgl"
           }
          ],
          "histogram": [
           {
            "marker": {
             "pattern": {
              "fillmode": "overlay",
              "size": 10,
              "solidity": 0.2
             }
            },
            "type": "histogram"
           }
          ],
          "histogram2d": [
           {
            "colorbar": {
             "outlinewidth": 0,
             "ticks": ""
            },
            "colorscale": [
             [
              0,
              "#0d0887"
             ],
             [
              0.1111111111111111,
              "#46039f"
             ],
             [
              0.2222222222222222,
              "#7201a8"
             ],
             [
              0.3333333333333333,
              "#9c179e"
             ],
             [
              0.4444444444444444,
              "#bd3786"
             ],
             [
              0.5555555555555556,
              "#d8576b"
             ],
             [
              0.6666666666666666,
              "#ed7953"
             ],
             [
              0.7777777777777778,
              "#fb9f3a"
             ],
             [
              0.8888888888888888,
              "#fdca26"
             ],
             [
              1,
              "#f0f921"
             ]
            ],
            "type": "histogram2d"
           }
          ],
          "histogram2dcontour": [
           {
            "colorbar": {
             "outlinewidth": 0,
             "ticks": ""
            },
            "colorscale": [
             [
              0,
              "#0d0887"
             ],
             [
              0.1111111111111111,
              "#46039f"
             ],
             [
              0.2222222222222222,
              "#7201a8"
             ],
             [
              0.3333333333333333,
              "#9c179e"
             ],
             [
              0.4444444444444444,
              "#bd3786"
             ],
             [
              0.5555555555555556,
              "#d8576b"
             ],
             [
              0.6666666666666666,
              "#ed7953"
             ],
             [
              0.7777777777777778,
              "#fb9f3a"
             ],
             [
              0.8888888888888888,
              "#fdca26"
             ],
             [
              1,
              "#f0f921"
             ]
            ],
            "type": "histogram2dcontour"
           }
          ],
          "mesh3d": [
           {
            "colorbar": {
             "outlinewidth": 0,
             "ticks": ""
            },
            "type": "mesh3d"
           }
          ],
          "parcoords": [
           {
            "line": {
             "colorbar": {
              "outlinewidth": 0,
              "ticks": ""
             }
            },
            "type": "parcoords"
           }
          ],
          "pie": [
           {
            "automargin": true,
            "type": "pie"
           }
          ],
          "scatter": [
           {
            "fillpattern": {
             "fillmode": "overlay",
             "size": 10,
             "solidity": 0.2
            },
            "type": "scatter"
           }
          ],
          "scatter3d": [
           {
            "line": {
             "colorbar": {
              "outlinewidth": 0,
              "ticks": ""
             }
            },
            "marker": {
             "colorbar": {
              "outlinewidth": 0,
              "ticks": ""
             }
            },
            "type": "scatter3d"
           }
          ],
          "scattercarpet": [
           {
            "marker": {
             "colorbar": {
              "outlinewidth": 0,
              "ticks": ""
             }
            },
            "type": "scattercarpet"
           }
          ],
          "scattergeo": [
           {
            "marker": {
             "colorbar": {
              "outlinewidth": 0,
              "ticks": ""
             }
            },
            "type": "scattergeo"
           }
          ],
          "scattergl": [
           {
            "marker": {
             "colorbar": {
              "outlinewidth": 0,
              "ticks": ""
             }
            },
            "type": "scattergl"
           }
          ],
          "scattermapbox": [
           {
            "marker": {
             "colorbar": {
              "outlinewidth": 0,
              "ticks": ""
             }
            },
            "type": "scattermapbox"
           }
          ],
          "scatterpolar": [
           {
            "marker": {
             "colorbar": {
              "outlinewidth": 0,
              "ticks": ""
             }
            },
            "type": "scatterpolar"
           }
          ],
          "scatterpolargl": [
           {
            "marker": {
             "colorbar": {
              "outlinewidth": 0,
              "ticks": ""
             }
            },
            "type": "scatterpolargl"
           }
          ],
          "scatterternary": [
           {
            "marker": {
             "colorbar": {
              "outlinewidth": 0,
              "ticks": ""
             }
            },
            "type": "scatterternary"
           }
          ],
          "surface": [
           {
            "colorbar": {
             "outlinewidth": 0,
             "ticks": ""
            },
            "colorscale": [
             [
              0,
              "#0d0887"
             ],
             [
              0.1111111111111111,
              "#46039f"
             ],
             [
              0.2222222222222222,
              "#7201a8"
             ],
             [
              0.3333333333333333,
              "#9c179e"
             ],
             [
              0.4444444444444444,
              "#bd3786"
             ],
             [
              0.5555555555555556,
              "#d8576b"
             ],
             [
              0.6666666666666666,
              "#ed7953"
             ],
             [
              0.7777777777777778,
              "#fb9f3a"
             ],
             [
              0.8888888888888888,
              "#fdca26"
             ],
             [
              1,
              "#f0f921"
             ]
            ],
            "type": "surface"
           }
          ],
          "table": [
           {
            "cells": {
             "fill": {
              "color": "#EBF0F8"
             },
             "line": {
              "color": "white"
             }
            },
            "header": {
             "fill": {
              "color": "#C8D4E3"
             },
             "line": {
              "color": "white"
             }
            },
            "type": "table"
           }
          ]
         },
         "layout": {
          "annotationdefaults": {
           "arrowcolor": "#2a3f5f",
           "arrowhead": 0,
           "arrowwidth": 1
          },
          "autotypenumbers": "strict",
          "coloraxis": {
           "colorbar": {
            "outlinewidth": 0,
            "ticks": ""
           }
          },
          "colorscale": {
           "diverging": [
            [
             0,
             "#8e0152"
            ],
            [
             0.1,
             "#c51b7d"
            ],
            [
             0.2,
             "#de77ae"
            ],
            [
             0.3,
             "#f1b6da"
            ],
            [
             0.4,
             "#fde0ef"
            ],
            [
             0.5,
             "#f7f7f7"
            ],
            [
             0.6,
             "#e6f5d0"
            ],
            [
             0.7,
             "#b8e186"
            ],
            [
             0.8,
             "#7fbc41"
            ],
            [
             0.9,
             "#4d9221"
            ],
            [
             1,
             "#276419"
            ]
           ],
           "sequential": [
            [
             0,
             "#0d0887"
            ],
            [
             0.1111111111111111,
             "#46039f"
            ],
            [
             0.2222222222222222,
             "#7201a8"
            ],
            [
             0.3333333333333333,
             "#9c179e"
            ],
            [
             0.4444444444444444,
             "#bd3786"
            ],
            [
             0.5555555555555556,
             "#d8576b"
            ],
            [
             0.6666666666666666,
             "#ed7953"
            ],
            [
             0.7777777777777778,
             "#fb9f3a"
            ],
            [
             0.8888888888888888,
             "#fdca26"
            ],
            [
             1,
             "#f0f921"
            ]
           ],
           "sequentialminus": [
            [
             0,
             "#0d0887"
            ],
            [
             0.1111111111111111,
             "#46039f"
            ],
            [
             0.2222222222222222,
             "#7201a8"
            ],
            [
             0.3333333333333333,
             "#9c179e"
            ],
            [
             0.4444444444444444,
             "#bd3786"
            ],
            [
             0.5555555555555556,
             "#d8576b"
            ],
            [
             0.6666666666666666,
             "#ed7953"
            ],
            [
             0.7777777777777778,
             "#fb9f3a"
            ],
            [
             0.8888888888888888,
             "#fdca26"
            ],
            [
             1,
             "#f0f921"
            ]
           ]
          },
          "colorway": [
           "#636efa",
           "#EF553B",
           "#00cc96",
           "#ab63fa",
           "#FFA15A",
           "#19d3f3",
           "#FF6692",
           "#B6E880",
           "#FF97FF",
           "#FECB52"
          ],
          "font": {
           "color": "#2a3f5f"
          },
          "geo": {
           "bgcolor": "white",
           "lakecolor": "white",
           "landcolor": "#E5ECF6",
           "showlakes": true,
           "showland": true,
           "subunitcolor": "white"
          },
          "hoverlabel": {
           "align": "left"
          },
          "hovermode": "closest",
          "mapbox": {
           "style": "light"
          },
          "paper_bgcolor": "white",
          "plot_bgcolor": "#E5ECF6",
          "polar": {
           "angularaxis": {
            "gridcolor": "white",
            "linecolor": "white",
            "ticks": ""
           },
           "bgcolor": "#E5ECF6",
           "radialaxis": {
            "gridcolor": "white",
            "linecolor": "white",
            "ticks": ""
           }
          },
          "scene": {
           "xaxis": {
            "backgroundcolor": "#E5ECF6",
            "gridcolor": "white",
            "gridwidth": 2,
            "linecolor": "white",
            "showbackground": true,
            "ticks": "",
            "zerolinecolor": "white"
           },
           "yaxis": {
            "backgroundcolor": "#E5ECF6",
            "gridcolor": "white",
            "gridwidth": 2,
            "linecolor": "white",
            "showbackground": true,
            "ticks": "",
            "zerolinecolor": "white"
           },
           "zaxis": {
            "backgroundcolor": "#E5ECF6",
            "gridcolor": "white",
            "gridwidth": 2,
            "linecolor": "white",
            "showbackground": true,
            "ticks": "",
            "zerolinecolor": "white"
           }
          },
          "shapedefaults": {
           "line": {
            "color": "#2a3f5f"
           }
          },
          "ternary": {
           "aaxis": {
            "gridcolor": "white",
            "linecolor": "white",
            "ticks": ""
           },
           "baxis": {
            "gridcolor": "white",
            "linecolor": "white",
            "ticks": ""
           },
           "bgcolor": "#E5ECF6",
           "caxis": {
            "gridcolor": "white",
            "linecolor": "white",
            "ticks": ""
           }
          },
          "title": {
           "x": 0.05
          },
          "xaxis": {
           "automargin": true,
           "gridcolor": "white",
           "linecolor": "white",
           "ticks": "",
           "title": {
            "standoff": 15
           },
           "zerolinecolor": "white",
           "zerolinewidth": 2
          },
          "yaxis": {
           "automargin": true,
           "gridcolor": "white",
           "linecolor": "white",
           "ticks": "",
           "title": {
            "standoff": 15
           },
           "zerolinecolor": "white",
           "zerolinewidth": 2
          }
         }
        },
        "xaxis": {
         "anchor": "y",
         "domain": [
          0,
          0.48
         ],
         "title": {
          "text": "Training Accuracy"
         }
        },
        "xaxis2": {
         "anchor": "y2",
         "domain": [
          0.5,
          0.98
         ],
         "matches": "x",
         "title": {
          "text": "Training Accuracy"
         }
        },
        "xaxis3": {
         "anchor": "y3",
         "domain": [
          0,
          0.48
         ],
         "matches": "x",
         "showticklabels": false
        },
        "xaxis4": {
         "anchor": "y4",
         "domain": [
          0.5,
          0.98
         ],
         "matches": "x",
         "showticklabels": false
        },
        "yaxis": {
         "anchor": "x",
         "domain": [
          0,
          0.485
         ],
         "title": {
          "text": "Validation Accuracy"
         }
        },
        "yaxis2": {
         "anchor": "x2",
         "domain": [
          0,
          0.485
         ],
         "matches": "y",
         "showticklabels": false
        },
        "yaxis3": {
         "anchor": "x3",
         "domain": [
          0.515,
          1
         ],
         "matches": "y",
         "title": {
          "text": "Validation Accuracy"
         }
        },
        "yaxis4": {
         "anchor": "x4",
         "domain": [
          0.515,
          1
         ],
         "matches": "y",
         "showticklabels": false
        }
       }
      },
      "text/html": [
       "<div>                            <div id=\"72a182ea-35b5-4b59-91d6-f471f0bd1459\" class=\"plotly-graph-div\" style=\"height:525px; width:100%;\"></div>            <script type=\"text/javascript\">                require([\"plotly\"], function(Plotly) {                    window.PLOTLYENV=window.PLOTLYENV || {};                                    if (document.getElementById(\"72a182ea-35b5-4b59-91d6-f471f0bd1459\")) {                    Plotly.newPlot(                        \"72a182ea-35b5-4b59-91d6-f471f0bd1459\",                        [{\"customdata\":[[[3,3],32,2,32,\"relu\",\"valid\",[1,1]],[[5,5],32,2,32,\"relu\",\"valid\",[1,1]]],\"hovertemplate\":\"optimizer=rmsprop<br>num_filters=%{customdata[1]}<br>activation=%{customdata[4]}<br>num_units=%{customdata[3]}<br>Training Accuracy=%{marker.size}<br>Validation Accuracy=%{y}<br>filter_size=%{customdata[0]}<br>num_layers=%{customdata[2]}<br>padding=%{customdata[5]}<br>stride=%{customdata[6]}<extra></extra>\",\"legendgroup\":\"rmsprop, 32\",\"marker\":{\"color\":\"#636efa\",\"size\":[0.8408613204956055,0.8084734082221985],\"sizemode\":\"area\",\"sizeref\":0.0088742995262146,\"symbol\":\"circle\"},\"mode\":\"markers\",\"name\":\"rmsprop, 32\",\"orientation\":\"v\",\"showlegend\":true,\"x\":[0.8408613204956055,0.8084734082221985],\"xaxis\":\"x3\",\"y\":[0.8565179109573364,0.8372703194618225],\"yaxis\":\"y3\",\"type\":\"scatter\"},{\"customdata\":[[[3,3],32,2,64,\"relu\",\"valid\",[1,1]],[[5,5],32,2,64,\"relu\",\"valid\",[1,1]]],\"hovertemplate\":\"optimizer=rmsprop<br>num_filters=%{customdata[1]}<br>activation=%{customdata[4]}<br>num_units=%{customdata[3]}<br>Training Accuracy=%{marker.size}<br>Validation Accuracy=%{y}<br>filter_size=%{customdata[0]}<br>num_layers=%{customdata[2]}<br>padding=%{customdata[5]}<br>stride=%{customdata[6]}<extra></extra>\",\"legendgroup\":\"rmsprop, 32\",\"marker\":{\"color\":\"#636efa\",\"size\":[0.843662440776825,0.8322829008102417],\"sizemode\":\"area\",\"sizeref\":0.0088742995262146,\"symbol\":\"circle\"},\"mode\":\"markers\",\"name\":\"rmsprop, 32\",\"orientation\":\"v\",\"showlegend\":false,\"x\":[0.843662440776825,0.8322829008102417],\"xaxis\":\"x4\",\"y\":[0.8460192680358887,0.8591426014900208],\"yaxis\":\"y4\",\"type\":\"scatter\"},{\"customdata\":[[[3,3],32,2,32,\"tanh\",\"valid\",[1,1]],[[5,5],32,2,32,\"tanh\",\"valid\",[1,1]]],\"hovertemplate\":\"optimizer=rmsprop<br>num_filters=%{customdata[1]}<br>activation=%{customdata[4]}<br>num_units=%{customdata[3]}<br>Training Accuracy=%{marker.size}<br>Validation Accuracy=%{y}<br>filter_size=%{customdata[0]}<br>num_layers=%{customdata[2]}<br>padding=%{customdata[5]}<br>stride=%{customdata[6]}<extra></extra>\",\"legendgroup\":\"rmsprop, 32\",\"marker\":{\"color\":\"#636efa\",\"size\":[0.848739504814148,0.8429622054100037],\"sizemode\":\"area\",\"sizeref\":0.0088742995262146,\"symbol\":\"circle\"},\"mode\":\"markers\",\"name\":\"rmsprop, 32\",\"orientation\":\"v\",\"showlegend\":false,\"x\":[0.848739504814148,0.8429622054100037],\"xaxis\":\"x\",\"y\":[0.8775153160095215,0.8652668595314026],\"yaxis\":\"y\",\"type\":\"scatter\"},{\"customdata\":[[[3,3],32,2,64,\"tanh\",\"valid\",[1,1]],[[5,5],32,2,64,\"tanh\",\"valid\",[1,1]]],\"hovertemplate\":\"optimizer=rmsprop<br>num_filters=%{customdata[1]}<br>activation=%{customdata[4]}<br>num_units=%{customdata[3]}<br>Training Accuracy=%{marker.size}<br>Validation Accuracy=%{y}<br>filter_size=%{customdata[0]}<br>num_layers=%{customdata[2]}<br>padding=%{customdata[5]}<br>stride=%{customdata[6]}<extra></extra>\",\"legendgroup\":\"rmsprop, 32\",\"marker\":{\"color\":\"#636efa\",\"size\":[0.843837559223175,0.8392857313156128],\"sizemode\":\"area\",\"sizeref\":0.0088742995262146,\"symbol\":\"circle\"},\"mode\":\"markers\",\"name\":\"rmsprop, 32\",\"orientation\":\"v\",\"showlegend\":false,\"x\":[0.843837559223175,0.8392857313156128],\"xaxis\":\"x2\",\"y\":[0.8705161809921265,0.8573928475379944],\"yaxis\":\"y2\",\"type\":\"scatter\"},{\"customdata\":[[[3,3],64,2,32,\"relu\",\"valid\",[1,1]],[[5,5],64,2,32,\"relu\",\"valid\",[1,1]]],\"hovertemplate\":\"optimizer=rmsprop<br>num_filters=%{customdata[1]}<br>activation=%{customdata[4]}<br>num_units=%{customdata[3]}<br>Training Accuracy=%{marker.size}<br>Validation Accuracy=%{y}<br>filter_size=%{customdata[0]}<br>num_layers=%{customdata[2]}<br>padding=%{customdata[5]}<br>stride=%{customdata[6]}<extra></extra>\",\"legendgroup\":\"rmsprop, 64\",\"marker\":{\"color\":\"#636efa\",\"size\":[0.844362735748291,0.8422619104385376],\"sizemode\":\"area\",\"sizeref\":0.0088742995262146,\"symbol\":\"diamond\"},\"mode\":\"markers\",\"name\":\"rmsprop, 64\",\"orientation\":\"v\",\"showlegend\":true,\"x\":[0.844362735748291,0.8422619104385376],\"xaxis\":\"x3\",\"y\":[0.8626421689987183,0.8678914904594421],\"yaxis\":\"y3\",\"type\":\"scatter\"},{\"customdata\":[[[3,3],64,2,64,\"relu\",\"valid\",[1,1]],[[5,5],64,2,64,\"relu\",\"valid\",[1,1]]],\"hovertemplate\":\"optimizer=rmsprop<br>num_filters=%{customdata[1]}<br>activation=%{customdata[4]}<br>num_units=%{customdata[3]}<br>Training Accuracy=%{marker.size}<br>Validation Accuracy=%{y}<br>filter_size=%{customdata[0]}<br>num_layers=%{customdata[2]}<br>padding=%{customdata[5]}<br>stride=%{customdata[6]}<extra></extra>\",\"legendgroup\":\"rmsprop, 64\",\"marker\":{\"color\":\"#636efa\",\"size\":[0.8557422757148743,0.8476890921592712],\"sizemode\":\"area\",\"sizeref\":0.0088742995262146,\"symbol\":\"diamond\"},\"mode\":\"markers\",\"name\":\"rmsprop, 64\",\"orientation\":\"v\",\"showlegend\":false,\"x\":[0.8557422757148743,0.8476890921592712],\"xaxis\":\"x4\",\"y\":[0.8827646374702454,0.8696413040161133],\"yaxis\":\"y4\",\"type\":\"scatter\"},{\"customdata\":[[[3,3],64,2,32,\"tanh\",\"valid\",[1,1]],[[5,5],64,2,32,\"tanh\",\"valid\",[1,1]]],\"hovertemplate\":\"optimizer=rmsprop<br>num_filters=%{customdata[1]}<br>activation=%{customdata[4]}<br>num_units=%{customdata[3]}<br>Training Accuracy=%{marker.size}<br>Validation Accuracy=%{y}<br>filter_size=%{customdata[0]}<br>num_layers=%{customdata[2]}<br>padding=%{customdata[5]}<br>stride=%{customdata[6]}<extra></extra>\",\"legendgroup\":\"rmsprop, 64\",\"marker\":{\"color\":\"#636efa\",\"size\":[0.8665966391563416,0.8588935732841492],\"sizemode\":\"area\",\"sizeref\":0.0088742995262146,\"symbol\":\"diamond\"},\"mode\":\"markers\",\"name\":\"rmsprop, 64\",\"orientation\":\"v\",\"showlegend\":false,\"x\":[0.8665966391563416,0.8588935732841492],\"xaxis\":\"x\",\"y\":[0.8985126614570618,0.8792650699615479],\"yaxis\":\"y\",\"type\":\"scatter\"},{\"customdata\":[[[3,3],64,2,64,\"tanh\",\"valid\",[1,1]],[[5,5],64,2,64,\"tanh\",\"valid\",[1,1]]],\"hovertemplate\":\"optimizer=rmsprop<br>num_filters=%{customdata[1]}<br>activation=%{customdata[4]}<br>num_units=%{customdata[3]}<br>Training Accuracy=%{marker.size}<br>Validation Accuracy=%{y}<br>filter_size=%{customdata[0]}<br>num_layers=%{customdata[2]}<br>padding=%{customdata[5]}<br>stride=%{customdata[6]}<extra></extra>\",\"legendgroup\":\"rmsprop, 64\",\"marker\":{\"color\":\"#636efa\",\"size\":[0.8676470518112183,0.8632702827453613],\"sizemode\":\"area\",\"sizeref\":0.0088742995262146,\"symbol\":\"diamond\"},\"mode\":\"markers\",\"name\":\"rmsprop, 64\",\"orientation\":\"v\",\"showlegend\":false,\"x\":[0.8676470518112183,0.8632702827453613],\"xaxis\":\"x2\",\"y\":[0.8932633399963379,0.8862642049789429],\"yaxis\":\"y2\",\"type\":\"scatter\"},{\"customdata\":[[[3,3],32,2,32,\"relu\",\"valid\",[1,1]],[[5,5],32,2,32,\"relu\",\"valid\",[1,1]]],\"hovertemplate\":\"optimizer=adagrad<br>num_filters=%{customdata[1]}<br>activation=%{customdata[4]}<br>num_units=%{customdata[3]}<br>Training Accuracy=%{marker.size}<br>Validation Accuracy=%{y}<br>filter_size=%{customdata[0]}<br>num_layers=%{customdata[2]}<br>padding=%{customdata[5]}<br>stride=%{customdata[6]}<extra></extra>\",\"legendgroup\":\"adagrad, 32\",\"marker\":{\"color\":\"#EF553B\",\"size\":[0.46095937490463257,0.5915616154670715],\"sizemode\":\"area\",\"sizeref\":0.0088742995262146,\"symbol\":\"circle\"},\"mode\":\"markers\",\"name\":\"adagrad, 32\",\"orientation\":\"v\",\"showlegend\":true,\"x\":[0.46095937490463257,0.5915616154670715],\"xaxis\":\"x3\",\"y\":[0.44969379901885986,0.6220472455024719],\"yaxis\":\"y3\",\"type\":\"scatter\"},{\"customdata\":[[[3,3],32,2,64,\"relu\",\"valid\",[1,1]],[[5,5],32,2,64,\"relu\",\"valid\",[1,1]]],\"hovertemplate\":\"optimizer=adagrad<br>num_filters=%{customdata[1]}<br>activation=%{customdata[4]}<br>num_units=%{customdata[3]}<br>Training Accuracy=%{marker.size}<br>Validation Accuracy=%{y}<br>filter_size=%{customdata[0]}<br>num_layers=%{customdata[2]}<br>padding=%{customdata[5]}<br>stride=%{customdata[6]}<extra></extra>\",\"legendgroup\":\"adagrad, 32\",\"marker\":{\"color\":\"#EF553B\",\"size\":[0.5663515329360962,0.5297619104385376],\"sizemode\":\"area\",\"sizeref\":0.0088742995262146,\"symbol\":\"circle\"},\"mode\":\"markers\",\"name\":\"adagrad, 32\",\"orientation\":\"v\",\"showlegend\":false,\"x\":[0.5663515329360962,0.5297619104385376],\"xaxis\":\"x4\",\"y\":[0.5870516300201416,0.5441820025444031],\"yaxis\":\"y4\",\"type\":\"scatter\"},{\"customdata\":[[[3,3],32,2,32,\"tanh\",\"valid\",[1,1]],[[5,5],32,2,32,\"tanh\",\"valid\",[1,1]]],\"hovertemplate\":\"optimizer=adagrad<br>num_filters=%{customdata[1]}<br>activation=%{customdata[4]}<br>num_units=%{customdata[3]}<br>Training Accuracy=%{marker.size}<br>Validation Accuracy=%{y}<br>filter_size=%{customdata[0]}<br>num_layers=%{customdata[2]}<br>padding=%{customdata[5]}<br>stride=%{customdata[6]}<extra></extra>\",\"legendgroup\":\"adagrad, 32\",\"marker\":{\"color\":\"#EF553B\",\"size\":[0.6502100825309753,0.6540616154670715],\"sizemode\":\"area\",\"sizeref\":0.0088742995262146,\"symbol\":\"circle\"},\"mode\":\"markers\",\"name\":\"adagrad, 32\",\"orientation\":\"v\",\"showlegend\":false,\"x\":[0.6502100825309753,0.6540616154670715],\"xaxis\":\"x\",\"y\":[0.6596675515174866,0.6596675515174866],\"yaxis\":\"y\",\"type\":\"scatter\"},{\"customdata\":[[[3,3],32,2,64,\"tanh\",\"valid\",[1,1]],[[5,5],32,2,64,\"tanh\",\"valid\",[1,1]]],\"hovertemplate\":\"optimizer=adagrad<br>num_filters=%{customdata[1]}<br>activation=%{customdata[4]}<br>num_units=%{customdata[3]}<br>Training Accuracy=%{marker.size}<br>Validation Accuracy=%{y}<br>filter_size=%{customdata[0]}<br>num_layers=%{customdata[2]}<br>padding=%{customdata[5]}<br>stride=%{customdata[6]}<extra></extra>\",\"legendgroup\":\"adagrad, 32\",\"marker\":{\"color\":\"#EF553B\",\"size\":[0.6726190447807312,0.658088207244873],\"sizemode\":\"area\",\"sizeref\":0.0088742995262146,\"symbol\":\"circle\"},\"mode\":\"markers\",\"name\":\"adagrad, 32\",\"orientation\":\"v\",\"showlegend\":false,\"x\":[0.6726190447807312,0.658088207244873],\"xaxis\":\"x2\",\"y\":[0.6815398335456848,0.6666666865348816],\"yaxis\":\"y2\",\"type\":\"scatter\"},{\"customdata\":[[[3,3],64,2,32,\"relu\",\"valid\",[1,1]],[[5,5],64,2,32,\"relu\",\"valid\",[1,1]]],\"hovertemplate\":\"optimizer=adagrad<br>num_filters=%{customdata[1]}<br>activation=%{customdata[4]}<br>num_units=%{customdata[3]}<br>Training Accuracy=%{marker.size}<br>Validation Accuracy=%{y}<br>filter_size=%{customdata[0]}<br>num_layers=%{customdata[2]}<br>padding=%{customdata[5]}<br>stride=%{customdata[6]}<extra></extra>\",\"legendgroup\":\"adagrad, 64\",\"marker\":{\"color\":\"#EF553B\",\"size\":[0.5516456365585327,0.6290265917778015],\"sizemode\":\"area\",\"sizeref\":0.0088742995262146,\"symbol\":\"diamond\"},\"mode\":\"markers\",\"name\":\"adagrad, 64\",\"orientation\":\"v\",\"showlegend\":true,\"x\":[0.5516456365585327,0.6290265917778015],\"xaxis\":\"x3\",\"y\":[0.5433070659637451,0.6176728010177612],\"yaxis\":\"y3\",\"type\":\"scatter\"},{\"customdata\":[[[3,3],64,2,64,\"relu\",\"valid\",[1,1]],[[5,5],64,2,64,\"relu\",\"valid\",[1,1]]],\"hovertemplate\":\"optimizer=adagrad<br>num_filters=%{customdata[1]}<br>activation=%{customdata[4]}<br>num_units=%{customdata[3]}<br>Training Accuracy=%{marker.size}<br>Validation Accuracy=%{y}<br>filter_size=%{customdata[0]}<br>num_layers=%{customdata[2]}<br>padding=%{customdata[5]}<br>stride=%{customdata[6]}<extra></extra>\",\"legendgroup\":\"adagrad, 64\",\"marker\":{\"color\":\"#EF553B\",\"size\":[0.488095223903656,0.5784313678741455],\"sizemode\":\"area\",\"sizeref\":0.0088742995262146,\"symbol\":\"diamond\"},\"mode\":\"markers\",\"name\":\"adagrad, 64\",\"orientation\":\"v\",\"showlegend\":false,\"x\":[0.488095223903656,0.5784313678741455],\"xaxis\":\"x4\",\"y\":[0.5660542249679565,0.5870516300201416],\"yaxis\":\"y4\",\"type\":\"scatter\"},{\"customdata\":[[[3,3],64,2,32,\"tanh\",\"valid\",[1,1]],[[5,5],64,2,32,\"tanh\",\"valid\",[1,1]]],\"hovertemplate\":\"optimizer=adagrad<br>num_filters=%{customdata[1]}<br>activation=%{customdata[4]}<br>num_units=%{customdata[3]}<br>Training Accuracy=%{marker.size}<br>Validation Accuracy=%{y}<br>filter_size=%{customdata[0]}<br>num_layers=%{customdata[2]}<br>padding=%{customdata[5]}<br>stride=%{customdata[6]}<extra></extra>\",\"legendgroup\":\"adagrad, 64\",\"marker\":{\"color\":\"#EF553B\",\"size\":[0.6796218752861023,0.6545868515968323],\"sizemode\":\"area\",\"sizeref\":0.0088742995262146,\"symbol\":\"diamond\"},\"mode\":\"markers\",\"name\":\"adagrad, 64\",\"orientation\":\"v\",\"showlegend\":false,\"x\":[0.6796218752861023,0.6545868515968323],\"xaxis\":\"x\",\"y\":[0.6937882900238037,0.668416440486908],\"yaxis\":\"y\",\"type\":\"scatter\"},{\"customdata\":[[[3,3],64,2,64,\"tanh\",\"valid\",[1,1]],[[5,5],64,2,64,\"tanh\",\"valid\",[1,1]]],\"hovertemplate\":\"optimizer=adagrad<br>num_filters=%{customdata[1]}<br>activation=%{customdata[4]}<br>num_units=%{customdata[3]}<br>Training Accuracy=%{marker.size}<br>Validation Accuracy=%{y}<br>filter_size=%{customdata[0]}<br>num_layers=%{customdata[2]}<br>padding=%{customdata[5]}<br>stride=%{customdata[6]}<extra></extra>\",\"legendgroup\":\"adagrad, 64\",\"marker\":{\"color\":\"#EF553B\",\"size\":[0.6745448112487793,0.6882002949714661],\"sizemode\":\"area\",\"sizeref\":0.0088742995262146,\"symbol\":\"diamond\"},\"mode\":\"markers\",\"name\":\"adagrad, 64\",\"orientation\":\"v\",\"showlegend\":false,\"x\":[0.6745448112487793,0.6882002949714661],\"xaxis\":\"x2\",\"y\":[0.6789151430130005,0.6911635994911194],\"yaxis\":\"y2\",\"type\":\"scatter\"},{\"customdata\":[[[3,3],32,2,32,\"relu\",\"valid\",[1,1]],[[5,5],32,2,32,\"relu\",\"valid\",[1,1]]],\"hovertemplate\":\"optimizer=adam<br>num_filters=%{customdata[1]}<br>activation=%{customdata[4]}<br>num_units=%{customdata[3]}<br>Training Accuracy=%{marker.size}<br>Validation Accuracy=%{y}<br>filter_size=%{customdata[0]}<br>num_layers=%{customdata[2]}<br>padding=%{customdata[5]}<br>stride=%{customdata[6]}<extra></extra>\",\"legendgroup\":\"adam, 32\",\"marker\":{\"color\":\"#00cc96\",\"size\":[0.8258053064346313,0.8109243512153625],\"sizemode\":\"area\",\"sizeref\":0.0088742995262146,\"symbol\":\"circle\"},\"mode\":\"markers\",\"name\":\"adam, 32\",\"orientation\":\"v\",\"showlegend\":true,\"x\":[0.8258053064346313,0.8109243512153625],\"xaxis\":\"x3\",\"y\":[0.84076988697052,0.8328958749771118],\"yaxis\":\"y3\",\"type\":\"scatter\"},{\"customdata\":[[[3,3],32,2,64,\"relu\",\"valid\",[1,1]],[[5,5],32,2,64,\"relu\",\"valid\",[1,1]]],\"hovertemplate\":\"optimizer=adam<br>num_filters=%{customdata[1]}<br>activation=%{customdata[4]}<br>num_units=%{customdata[3]}<br>Training Accuracy=%{marker.size}<br>Validation Accuracy=%{y}<br>filter_size=%{customdata[0]}<br>num_layers=%{customdata[2]}<br>padding=%{customdata[5]}<br>stride=%{customdata[6]}<extra></extra>\",\"legendgroup\":\"adam, 32\",\"marker\":{\"color\":\"#00cc96\",\"size\":[0.8440126180648804,0.8308823704719543],\"sizemode\":\"area\",\"sizeref\":0.0088742995262146,\"symbol\":\"circle\"},\"mode\":\"markers\",\"name\":\"adam, 32\",\"orientation\":\"v\",\"showlegend\":false,\"x\":[0.8440126180648804,0.8308823704719543],\"xaxis\":\"x4\",\"y\":[0.8538932800292969,0.8468941450119019],\"yaxis\":\"y4\",\"type\":\"scatter\"},{\"customdata\":[[[3,3],32,2,32,\"tanh\",\"valid\",[1,1]],[[5,5],32,2,32,\"tanh\",\"valid\",[1,1]]],\"hovertemplate\":\"optimizer=adam<br>num_filters=%{customdata[1]}<br>activation=%{customdata[4]}<br>num_units=%{customdata[3]}<br>Training Accuracy=%{marker.size}<br>Validation Accuracy=%{y}<br>filter_size=%{customdata[0]}<br>num_layers=%{customdata[2]}<br>padding=%{customdata[5]}<br>stride=%{customdata[6]}<extra></extra>\",\"legendgroup\":\"adam, 32\",\"marker\":{\"color\":\"#00cc96\",\"size\":[0.8483893275260925,0.8473389148712158],\"sizemode\":\"area\",\"sizeref\":0.0088742995262146,\"symbol\":\"circle\"},\"mode\":\"markers\",\"name\":\"adam, 32\",\"orientation\":\"v\",\"showlegend\":false,\"x\":[0.8483893275260925,0.8473389148712158],\"xaxis\":\"x\",\"y\":[0.8573928475379944,0.8573928475379944],\"yaxis\":\"y\",\"type\":\"scatter\"},{\"customdata\":[[[3,3],32,2,64,\"tanh\",\"valid\",[1,1]],[[5,5],32,2,64,\"tanh\",\"valid\",[1,1]]],\"hovertemplate\":\"optimizer=adam<br>num_filters=%{customdata[1]}<br>activation=%{customdata[4]}<br>num_units=%{customdata[3]}<br>Training Accuracy=%{marker.size}<br>Validation Accuracy=%{y}<br>filter_size=%{customdata[0]}<br>num_layers=%{customdata[2]}<br>padding=%{customdata[5]}<br>stride=%{customdata[6]}<extra></extra>\",\"legendgroup\":\"adam, 32\",\"marker\":{\"color\":\"#00cc96\",\"size\":[0.84996497631073,0.8504902124404907],\"sizemode\":\"area\",\"sizeref\":0.0088742995262146,\"symbol\":\"circle\"},\"mode\":\"markers\",\"name\":\"adam, 32\",\"orientation\":\"v\",\"showlegend\":false,\"x\":[0.84996497631073,0.8504902124404907],\"xaxis\":\"x2\",\"y\":[0.8582677245140076,0.8547681570053101],\"yaxis\":\"y2\",\"type\":\"scatter\"},{\"customdata\":[[[3,3],64,2,32,\"relu\",\"valid\",[1,1]],[[5,5],64,2,32,\"relu\",\"valid\",[1,1]]],\"hovertemplate\":\"optimizer=adam<br>num_filters=%{customdata[1]}<br>activation=%{customdata[4]}<br>num_units=%{customdata[3]}<br>Training Accuracy=%{marker.size}<br>Validation Accuracy=%{y}<br>filter_size=%{customdata[0]}<br>num_layers=%{customdata[2]}<br>padding=%{customdata[5]}<br>stride=%{customdata[6]}<extra></extra>\",\"legendgroup\":\"adam, 64\",\"marker\":{\"color\":\"#00cc96\",\"size\":[0.8294817805290222,0.8347339034080505],\"sizemode\":\"area\",\"sizeref\":0.0088742995262146,\"symbol\":\"diamond\"},\"mode\":\"markers\",\"name\":\"adam, 64\",\"orientation\":\"v\",\"showlegend\":true,\"x\":[0.8294817805290222,0.8347339034080505],\"xaxis\":\"x3\",\"y\":[0.8398950099945068,0.8468941450119019],\"yaxis\":\"y3\",\"type\":\"scatter\"},{\"customdata\":[[[3,3],64,2,64,\"relu\",\"valid\",[1,1]],[[5,5],64,2,64,\"relu\",\"valid\",[1,1]]],\"hovertemplate\":\"optimizer=adam<br>num_filters=%{customdata[1]}<br>activation=%{customdata[4]}<br>num_units=%{customdata[3]}<br>Training Accuracy=%{marker.size}<br>Validation Accuracy=%{y}<br>filter_size=%{customdata[0]}<br>num_layers=%{customdata[2]}<br>padding=%{customdata[5]}<br>stride=%{customdata[6]}<extra></extra>\",\"legendgroup\":\"adam, 64\",\"marker\":{\"color\":\"#00cc96\",\"size\":[0.8664215803146362,0.8356092572212219],\"sizemode\":\"area\",\"sizeref\":0.0088742995262146,\"symbol\":\"diamond\"},\"mode\":\"markers\",\"name\":\"adam, 64\",\"orientation\":\"v\",\"showlegend\":false,\"x\":[0.8664215803146362,0.8356092572212219],\"xaxis\":\"x4\",\"y\":[0.8836395740509033,0.8556430339813232],\"yaxis\":\"y4\",\"type\":\"scatter\"},{\"customdata\":[[[3,3],64,2,32,\"tanh\",\"valid\",[1,1]],[[5,5],64,2,32,\"tanh\",\"valid\",[1,1]]],\"hovertemplate\":\"optimizer=adam<br>num_filters=%{customdata[1]}<br>activation=%{customdata[4]}<br>num_units=%{customdata[3]}<br>Training Accuracy=%{marker.size}<br>Validation Accuracy=%{y}<br>filter_size=%{customdata[0]}<br>num_layers=%{customdata[2]}<br>padding=%{customdata[5]}<br>stride=%{customdata[6]}<extra></extra>\",\"legendgroup\":\"adam, 64\",\"marker\":{\"color\":\"#00cc96\",\"size\":[0.8776260614395142,0.868697464466095],\"sizemode\":\"area\",\"sizeref\":0.0088742995262146,\"symbol\":\"diamond\"},\"mode\":\"markers\",\"name\":\"adam, 64\",\"orientation\":\"v\",\"showlegend\":false,\"x\":[0.8776260614395142,0.868697464466095],\"xaxis\":\"x\",\"y\":[0.8897637724876404,0.8941382169723511],\"yaxis\":\"y\",\"type\":\"scatter\"},{\"customdata\":[[[3,3],64,2,64,\"tanh\",\"valid\",[1,1]],[[5,5],64,2,64,\"tanh\",\"valid\",[1,1]]],\"hovertemplate\":\"optimizer=adam<br>num_filters=%{customdata[1]}<br>activation=%{customdata[4]}<br>num_units=%{customdata[3]}<br>Training Accuracy=%{marker.size}<br>Validation Accuracy=%{y}<br>filter_size=%{customdata[0]}<br>num_layers=%{customdata[2]}<br>padding=%{customdata[5]}<br>stride=%{customdata[6]}<extra></extra>\",\"legendgroup\":\"adam, 64\",\"marker\":{\"color\":\"#00cc96\",\"size\":[0.88742995262146,0.8758753538131714],\"sizemode\":\"area\",\"sizeref\":0.0088742995262146,\"symbol\":\"diamond\"},\"mode\":\"markers\",\"name\":\"adam, 64\",\"orientation\":\"v\",\"showlegend\":false,\"x\":[0.88742995262146,0.8758753538131714],\"xaxis\":\"x2\",\"y\":[0.9002624750137329,0.8775153160095215],\"yaxis\":\"y2\",\"type\":\"scatter\"},{\"customdata\":[[[3,3],32,2,32,\"relu\",\"valid\",[1,1]],[[5,5],32,2,32,\"relu\",\"valid\",[1,1]]],\"hovertemplate\":\"optimizer=sgd<br>num_filters=%{customdata[1]}<br>activation=%{customdata[4]}<br>num_units=%{customdata[3]}<br>Training Accuracy=%{marker.size}<br>Validation Accuracy=%{y}<br>filter_size=%{customdata[0]}<br>num_layers=%{customdata[2]}<br>padding=%{customdata[5]}<br>stride=%{customdata[6]}<extra></extra>\",\"legendgroup\":\"sgd, 32\",\"marker\":{\"color\":\"#ab63fa\",\"size\":[0.7146358489990234,0.6925770044326782],\"sizemode\":\"area\",\"sizeref\":0.0088742995262146,\"symbol\":\"circle\"},\"mode\":\"markers\",\"name\":\"sgd, 32\",\"orientation\":\"v\",\"showlegend\":true,\"x\":[0.7146358489990234,0.6925770044326782],\"xaxis\":\"x3\",\"y\":[0.721784770488739,0.6981627345085144],\"yaxis\":\"y3\",\"type\":\"scatter\"},{\"customdata\":[[[3,3],32,2,64,\"relu\",\"valid\",[1,1]],[[5,5],32,2,64,\"relu\",\"valid\",[1,1]]],\"hovertemplate\":\"optimizer=sgd<br>num_filters=%{customdata[1]}<br>activation=%{customdata[4]}<br>num_units=%{customdata[3]}<br>Training Accuracy=%{marker.size}<br>Validation Accuracy=%{y}<br>filter_size=%{customdata[0]}<br>num_layers=%{customdata[2]}<br>padding=%{customdata[5]}<br>stride=%{customdata[6]}<extra></extra>\",\"legendgroup\":\"sgd, 32\",\"marker\":{\"color\":\"#ab63fa\",\"size\":[0.7253151535987854,0.7046568393707275],\"sizemode\":\"area\",\"sizeref\":0.0088742995262146,\"symbol\":\"circle\"},\"mode\":\"markers\",\"name\":\"sgd, 32\",\"orientation\":\"v\",\"showlegend\":false,\"x\":[0.7253151535987854,0.7046568393707275],\"xaxis\":\"x4\",\"y\":[0.7401574850082397,0.7191600799560547],\"yaxis\":\"y4\",\"type\":\"scatter\"},{\"customdata\":[[[3,3],32,2,32,\"tanh\",\"valid\",[1,1]],[[5,5],32,2,32,\"tanh\",\"valid\",[1,1]]],\"hovertemplate\":\"optimizer=sgd<br>num_filters=%{customdata[1]}<br>activation=%{customdata[4]}<br>num_units=%{customdata[3]}<br>Training Accuracy=%{marker.size}<br>Validation Accuracy=%{y}<br>filter_size=%{customdata[0]}<br>num_layers=%{customdata[2]}<br>padding=%{customdata[5]}<br>stride=%{customdata[6]}<extra></extra>\",\"legendgroup\":\"sgd, 32\",\"marker\":{\"color\":\"#ab63fa\",\"size\":[0.7596288323402405,0.7298669219017029],\"sizemode\":\"area\",\"sizeref\":0.0088742995262146,\"symbol\":\"circle\"},\"mode\":\"markers\",\"name\":\"sgd, 32\",\"orientation\":\"v\",\"showlegend\":false,\"x\":[0.7596288323402405,0.7298669219017029],\"xaxis\":\"x\",\"y\":[0.7515310645103455,0.7366579174995422],\"yaxis\":\"y\",\"type\":\"scatter\"},{\"customdata\":[[[3,3],32,2,64,\"tanh\",\"valid\",[1,1]],[[5,5],32,2,64,\"tanh\",\"valid\",[1,1]]],\"hovertemplate\":\"optimizer=sgd<br>num_filters=%{customdata[1]}<br>activation=%{customdata[4]}<br>num_units=%{customdata[3]}<br>Training Accuracy=%{marker.size}<br>Validation Accuracy=%{y}<br>filter_size=%{customdata[0]}<br>num_layers=%{customdata[2]}<br>padding=%{customdata[5]}<br>stride=%{customdata[6]}<extra></extra>\",\"legendgroup\":\"sgd, 32\",\"marker\":{\"color\":\"#ab63fa\",\"size\":[0.7629551887512207,0.7417716979980469],\"sizemode\":\"area\",\"sizeref\":0.0088742995262146,\"symbol\":\"circle\"},\"mode\":\"markers\",\"name\":\"sgd, 32\",\"orientation\":\"v\",\"showlegend\":false,\"x\":[0.7629551887512207,0.7417716979980469],\"xaxis\":\"x2\",\"y\":[0.768153965473175,0.7375327944755554],\"yaxis\":\"y2\",\"type\":\"scatter\"},{\"customdata\":[[[3,3],64,2,32,\"relu\",\"valid\",[1,1]],[[5,5],64,2,32,\"relu\",\"valid\",[1,1]]],\"hovertemplate\":\"optimizer=sgd<br>num_filters=%{customdata[1]}<br>activation=%{customdata[4]}<br>num_units=%{customdata[3]}<br>Training Accuracy=%{marker.size}<br>Validation Accuracy=%{y}<br>filter_size=%{customdata[0]}<br>num_layers=%{customdata[2]}<br>padding=%{customdata[5]}<br>stride=%{customdata[6]}<extra></extra>\",\"legendgroup\":\"sgd, 64\",\"marker\":{\"color\":\"#ab63fa\",\"size\":[0.7116596698760986,0.7011554837226868],\"sizemode\":\"area\",\"sizeref\":0.0088742995262146,\"symbol\":\"diamond\"},\"mode\":\"markers\",\"name\":\"sgd, 64\",\"orientation\":\"v\",\"showlegend\":true,\"x\":[0.7116596698760986,0.7011554837226868],\"xaxis\":\"x3\",\"y\":[0.7366579174995422,0.714785635471344],\"yaxis\":\"y3\",\"type\":\"scatter\"},{\"customdata\":[[[3,3],64,2,64,\"relu\",\"valid\",[1,1]],[[5,5],64,2,64,\"relu\",\"valid\",[1,1]]],\"hovertemplate\":\"optimizer=sgd<br>num_filters=%{customdata[1]}<br>activation=%{customdata[4]}<br>num_units=%{customdata[3]}<br>Training Accuracy=%{marker.size}<br>Validation Accuracy=%{y}<br>filter_size=%{customdata[0]}<br>num_layers=%{customdata[2]}<br>padding=%{customdata[5]}<br>stride=%{customdata[6]}<extra></extra>\",\"legendgroup\":\"sgd, 64\",\"marker\":{\"color\":\"#ab63fa\",\"size\":[0.7284663915634155,0.7071078419685364],\"sizemode\":\"area\",\"sizeref\":0.0088742995262146,\"symbol\":\"diamond\"},\"mode\":\"markers\",\"name\":\"sgd, 64\",\"orientation\":\"v\",\"showlegend\":false,\"x\":[0.7284663915634155,0.7071078419685364],\"xaxis\":\"x4\",\"y\":[0.7200350165367126,0.715660572052002],\"yaxis\":\"y4\",\"type\":\"scatter\"},{\"customdata\":[[[3,3],64,2,32,\"tanh\",\"valid\",[1,1]],[[5,5],64,2,32,\"tanh\",\"valid\",[1,1]]],\"hovertemplate\":\"optimizer=sgd<br>num_filters=%{customdata[1]}<br>activation=%{customdata[4]}<br>num_units=%{customdata[3]}<br>Training Accuracy=%{marker.size}<br>Validation Accuracy=%{y}<br>filter_size=%{customdata[0]}<br>num_layers=%{customdata[2]}<br>padding=%{customdata[5]}<br>stride=%{customdata[6]}<extra></extra>\",\"legendgroup\":\"sgd, 64\",\"marker\":{\"color\":\"#ab63fa\",\"size\":[0.7696078419685364,0.7442227005958557],\"sizemode\":\"area\",\"sizeref\":0.0088742995262146,\"symbol\":\"diamond\"},\"mode\":\"markers\",\"name\":\"sgd, 64\",\"orientation\":\"v\",\"showlegend\":false,\"x\":[0.7696078419685364,0.7442227005958557],\"xaxis\":\"x\",\"y\":[0.7515310645103455,0.7349081635475159],\"yaxis\":\"y\",\"type\":\"scatter\"},{\"customdata\":[[[3,3],64,2,64,\"tanh\",\"valid\",[1,1]],[[5,5],64,2,64,\"tanh\",\"valid\",[1,1]]],\"hovertemplate\":\"optimizer=sgd<br>num_filters=%{customdata[1]}<br>activation=%{customdata[4]}<br>num_units=%{customdata[3]}<br>Training Accuracy=%{marker.size}<br>Validation Accuracy=%{y}<br>filter_size=%{customdata[0]}<br>num_layers=%{customdata[2]}<br>padding=%{customdata[5]}<br>stride=%{customdata[6]}<extra></extra>\",\"legendgroup\":\"sgd, 64\",\"marker\":{\"color\":\"#ab63fa\",\"size\":[0.7661064267158508,0.7533263564109802],\"sizemode\":\"area\",\"sizeref\":0.0088742995262146,\"symbol\":\"diamond\"},\"mode\":\"markers\",\"name\":\"sgd, 64\",\"orientation\":\"v\",\"showlegend\":false,\"x\":[0.7661064267158508,0.7533263564109802],\"xaxis\":\"x2\",\"y\":[0.7602799534797668,0.7462817430496216],\"yaxis\":\"y2\",\"type\":\"scatter\"}],                        {\"template\":{\"data\":{\"histogram2dcontour\":[{\"type\":\"histogram2dcontour\",\"colorbar\":{\"outlinewidth\":0,\"ticks\":\"\"},\"colorscale\":[[0.0,\"#0d0887\"],[0.1111111111111111,\"#46039f\"],[0.2222222222222222,\"#7201a8\"],[0.3333333333333333,\"#9c179e\"],[0.4444444444444444,\"#bd3786\"],[0.5555555555555556,\"#d8576b\"],[0.6666666666666666,\"#ed7953\"],[0.7777777777777778,\"#fb9f3a\"],[0.8888888888888888,\"#fdca26\"],[1.0,\"#f0f921\"]]}],\"choropleth\":[{\"type\":\"choropleth\",\"colorbar\":{\"outlinewidth\":0,\"ticks\":\"\"}}],\"histogram2d\":[{\"type\":\"histogram2d\",\"colorbar\":{\"outlinewidth\":0,\"ticks\":\"\"},\"colorscale\":[[0.0,\"#0d0887\"],[0.1111111111111111,\"#46039f\"],[0.2222222222222222,\"#7201a8\"],[0.3333333333333333,\"#9c179e\"],[0.4444444444444444,\"#bd3786\"],[0.5555555555555556,\"#d8576b\"],[0.6666666666666666,\"#ed7953\"],[0.7777777777777778,\"#fb9f3a\"],[0.8888888888888888,\"#fdca26\"],[1.0,\"#f0f921\"]]}],\"heatmap\":[{\"type\":\"heatmap\",\"colorbar\":{\"outlinewidth\":0,\"ticks\":\"\"},\"colorscale\":[[0.0,\"#0d0887\"],[0.1111111111111111,\"#46039f\"],[0.2222222222222222,\"#7201a8\"],[0.3333333333333333,\"#9c179e\"],[0.4444444444444444,\"#bd3786\"],[0.5555555555555556,\"#d8576b\"],[0.6666666666666666,\"#ed7953\"],[0.7777777777777778,\"#fb9f3a\"],[0.8888888888888888,\"#fdca26\"],[1.0,\"#f0f921\"]]}],\"heatmapgl\":[{\"type\":\"heatmapgl\",\"colorbar\":{\"outlinewidth\":0,\"ticks\":\"\"},\"colorscale\":[[0.0,\"#0d0887\"],[0.1111111111111111,\"#46039f\"],[0.2222222222222222,\"#7201a8\"],[0.3333333333333333,\"#9c179e\"],[0.4444444444444444,\"#bd3786\"],[0.5555555555555556,\"#d8576b\"],[0.6666666666666666,\"#ed7953\"],[0.7777777777777778,\"#fb9f3a\"],[0.8888888888888888,\"#fdca26\"],[1.0,\"#f0f921\"]]}],\"contourcarpet\":[{\"type\":\"contourcarpet\",\"colorbar\":{\"outlinewidth\":0,\"ticks\":\"\"}}],\"contour\":[{\"type\":\"contour\",\"colorbar\":{\"outlinewidth\":0,\"ticks\":\"\"},\"colorscale\":[[0.0,\"#0d0887\"],[0.1111111111111111,\"#46039f\"],[0.2222222222222222,\"#7201a8\"],[0.3333333333333333,\"#9c179e\"],[0.4444444444444444,\"#bd3786\"],[0.5555555555555556,\"#d8576b\"],[0.6666666666666666,\"#ed7953\"],[0.7777777777777778,\"#fb9f3a\"],[0.8888888888888888,\"#fdca26\"],[1.0,\"#f0f921\"]]}],\"surface\":[{\"type\":\"surface\",\"colorbar\":{\"outlinewidth\":0,\"ticks\":\"\"},\"colorscale\":[[0.0,\"#0d0887\"],[0.1111111111111111,\"#46039f\"],[0.2222222222222222,\"#7201a8\"],[0.3333333333333333,\"#9c179e\"],[0.4444444444444444,\"#bd3786\"],[0.5555555555555556,\"#d8576b\"],[0.6666666666666666,\"#ed7953\"],[0.7777777777777778,\"#fb9f3a\"],[0.8888888888888888,\"#fdca26\"],[1.0,\"#f0f921\"]]}],\"mesh3d\":[{\"type\":\"mesh3d\",\"colorbar\":{\"outlinewidth\":0,\"ticks\":\"\"}}],\"scatter\":[{\"fillpattern\":{\"fillmode\":\"overlay\",\"size\":10,\"solidity\":0.2},\"type\":\"scatter\"}],\"parcoords\":[{\"type\":\"parcoords\",\"line\":{\"colorbar\":{\"outlinewidth\":0,\"ticks\":\"\"}}}],\"scatterpolargl\":[{\"type\":\"scatterpolargl\",\"marker\":{\"colorbar\":{\"outlinewidth\":0,\"ticks\":\"\"}}}],\"bar\":[{\"error_x\":{\"color\":\"#2a3f5f\"},\"error_y\":{\"color\":\"#2a3f5f\"},\"marker\":{\"line\":{\"color\":\"#E5ECF6\",\"width\":0.5},\"pattern\":{\"fillmode\":\"overlay\",\"size\":10,\"solidity\":0.2}},\"type\":\"bar\"}],\"scattergeo\":[{\"type\":\"scattergeo\",\"marker\":{\"colorbar\":{\"outlinewidth\":0,\"ticks\":\"\"}}}],\"scatterpolar\":[{\"type\":\"scatterpolar\",\"marker\":{\"colorbar\":{\"outlinewidth\":0,\"ticks\":\"\"}}}],\"histogram\":[{\"marker\":{\"pattern\":{\"fillmode\":\"overlay\",\"size\":10,\"solidity\":0.2}},\"type\":\"histogram\"}],\"scattergl\":[{\"type\":\"scattergl\",\"marker\":{\"colorbar\":{\"outlinewidth\":0,\"ticks\":\"\"}}}],\"scatter3d\":[{\"type\":\"scatter3d\",\"line\":{\"colorbar\":{\"outlinewidth\":0,\"ticks\":\"\"}},\"marker\":{\"colorbar\":{\"outlinewidth\":0,\"ticks\":\"\"}}}],\"scattermapbox\":[{\"type\":\"scattermapbox\",\"marker\":{\"colorbar\":{\"outlinewidth\":0,\"ticks\":\"\"}}}],\"scatterternary\":[{\"type\":\"scatterternary\",\"marker\":{\"colorbar\":{\"outlinewidth\":0,\"ticks\":\"\"}}}],\"scattercarpet\":[{\"type\":\"scattercarpet\",\"marker\":{\"colorbar\":{\"outlinewidth\":0,\"ticks\":\"\"}}}],\"carpet\":[{\"aaxis\":{\"endlinecolor\":\"#2a3f5f\",\"gridcolor\":\"white\",\"linecolor\":\"white\",\"minorgridcolor\":\"white\",\"startlinecolor\":\"#2a3f5f\"},\"baxis\":{\"endlinecolor\":\"#2a3f5f\",\"gridcolor\":\"white\",\"linecolor\":\"white\",\"minorgridcolor\":\"white\",\"startlinecolor\":\"#2a3f5f\"},\"type\":\"carpet\"}],\"table\":[{\"cells\":{\"fill\":{\"color\":\"#EBF0F8\"},\"line\":{\"color\":\"white\"}},\"header\":{\"fill\":{\"color\":\"#C8D4E3\"},\"line\":{\"color\":\"white\"}},\"type\":\"table\"}],\"barpolar\":[{\"marker\":{\"line\":{\"color\":\"#E5ECF6\",\"width\":0.5},\"pattern\":{\"fillmode\":\"overlay\",\"size\":10,\"solidity\":0.2}},\"type\":\"barpolar\"}],\"pie\":[{\"automargin\":true,\"type\":\"pie\"}]},\"layout\":{\"autotypenumbers\":\"strict\",\"colorway\":[\"#636efa\",\"#EF553B\",\"#00cc96\",\"#ab63fa\",\"#FFA15A\",\"#19d3f3\",\"#FF6692\",\"#B6E880\",\"#FF97FF\",\"#FECB52\"],\"font\":{\"color\":\"#2a3f5f\"},\"hovermode\":\"closest\",\"hoverlabel\":{\"align\":\"left\"},\"paper_bgcolor\":\"white\",\"plot_bgcolor\":\"#E5ECF6\",\"polar\":{\"bgcolor\":\"#E5ECF6\",\"angularaxis\":{\"gridcolor\":\"white\",\"linecolor\":\"white\",\"ticks\":\"\"},\"radialaxis\":{\"gridcolor\":\"white\",\"linecolor\":\"white\",\"ticks\":\"\"}},\"ternary\":{\"bgcolor\":\"#E5ECF6\",\"aaxis\":{\"gridcolor\":\"white\",\"linecolor\":\"white\",\"ticks\":\"\"},\"baxis\":{\"gridcolor\":\"white\",\"linecolor\":\"white\",\"ticks\":\"\"},\"caxis\":{\"gridcolor\":\"white\",\"linecolor\":\"white\",\"ticks\":\"\"}},\"coloraxis\":{\"colorbar\":{\"outlinewidth\":0,\"ticks\":\"\"}},\"colorscale\":{\"sequential\":[[0.0,\"#0d0887\"],[0.1111111111111111,\"#46039f\"],[0.2222222222222222,\"#7201a8\"],[0.3333333333333333,\"#9c179e\"],[0.4444444444444444,\"#bd3786\"],[0.5555555555555556,\"#d8576b\"],[0.6666666666666666,\"#ed7953\"],[0.7777777777777778,\"#fb9f3a\"],[0.8888888888888888,\"#fdca26\"],[1.0,\"#f0f921\"]],\"sequentialminus\":[[0.0,\"#0d0887\"],[0.1111111111111111,\"#46039f\"],[0.2222222222222222,\"#7201a8\"],[0.3333333333333333,\"#9c179e\"],[0.4444444444444444,\"#bd3786\"],[0.5555555555555556,\"#d8576b\"],[0.6666666666666666,\"#ed7953\"],[0.7777777777777778,\"#fb9f3a\"],[0.8888888888888888,\"#fdca26\"],[1.0,\"#f0f921\"]],\"diverging\":[[0,\"#8e0152\"],[0.1,\"#c51b7d\"],[0.2,\"#de77ae\"],[0.3,\"#f1b6da\"],[0.4,\"#fde0ef\"],[0.5,\"#f7f7f7\"],[0.6,\"#e6f5d0\"],[0.7,\"#b8e186\"],[0.8,\"#7fbc41\"],[0.9,\"#4d9221\"],[1,\"#276419\"]]},\"xaxis\":{\"gridcolor\":\"white\",\"linecolor\":\"white\",\"ticks\":\"\",\"title\":{\"standoff\":15},\"zerolinecolor\":\"white\",\"automargin\":true,\"zerolinewidth\":2},\"yaxis\":{\"gridcolor\":\"white\",\"linecolor\":\"white\",\"ticks\":\"\",\"title\":{\"standoff\":15},\"zerolinecolor\":\"white\",\"automargin\":true,\"zerolinewidth\":2},\"scene\":{\"xaxis\":{\"backgroundcolor\":\"#E5ECF6\",\"gridcolor\":\"white\",\"linecolor\":\"white\",\"showbackground\":true,\"ticks\":\"\",\"zerolinecolor\":\"white\",\"gridwidth\":2},\"yaxis\":{\"backgroundcolor\":\"#E5ECF6\",\"gridcolor\":\"white\",\"linecolor\":\"white\",\"showbackground\":true,\"ticks\":\"\",\"zerolinecolor\":\"white\",\"gridwidth\":2},\"zaxis\":{\"backgroundcolor\":\"#E5ECF6\",\"gridcolor\":\"white\",\"linecolor\":\"white\",\"showbackground\":true,\"ticks\":\"\",\"zerolinecolor\":\"white\",\"gridwidth\":2}},\"shapedefaults\":{\"line\":{\"color\":\"#2a3f5f\"}},\"annotationdefaults\":{\"arrowcolor\":\"#2a3f5f\",\"arrowhead\":0,\"arrowwidth\":1},\"geo\":{\"bgcolor\":\"white\",\"landcolor\":\"#E5ECF6\",\"subunitcolor\":\"white\",\"showland\":true,\"showlakes\":true,\"lakecolor\":\"white\"},\"title\":{\"x\":0.05},\"mapbox\":{\"style\":\"light\"}}},\"xaxis\":{\"anchor\":\"y\",\"domain\":[0.0,0.48],\"title\":{\"text\":\"Training Accuracy\"}},\"yaxis\":{\"anchor\":\"x\",\"domain\":[0.0,0.485],\"title\":{\"text\":\"Validation Accuracy\"}},\"xaxis2\":{\"anchor\":\"y2\",\"domain\":[0.5,0.98],\"matches\":\"x\",\"title\":{\"text\":\"Training Accuracy\"}},\"yaxis2\":{\"anchor\":\"x2\",\"domain\":[0.0,0.485],\"matches\":\"y\",\"showticklabels\":false},\"xaxis3\":{\"anchor\":\"y3\",\"domain\":[0.0,0.48],\"matches\":\"x\",\"showticklabels\":false},\"yaxis3\":{\"anchor\":\"x3\",\"domain\":[0.515,1.0],\"matches\":\"y\",\"title\":{\"text\":\"Validation Accuracy\"}},\"xaxis4\":{\"anchor\":\"y4\",\"domain\":[0.5,0.98],\"matches\":\"x\",\"showticklabels\":false},\"yaxis4\":{\"anchor\":\"x4\",\"domain\":[0.515,1.0],\"matches\":\"y\",\"showticklabels\":false},\"annotations\":[{\"font\":{},\"showarrow\":false,\"text\":\"num_units=32\",\"x\":0.24,\"xanchor\":\"center\",\"xref\":\"paper\",\"y\":1.0,\"yanchor\":\"bottom\",\"yref\":\"paper\"},{\"font\":{},\"showarrow\":false,\"text\":\"num_units=64\",\"x\":0.74,\"xanchor\":\"center\",\"xref\":\"paper\",\"y\":1.0,\"yanchor\":\"bottom\",\"yref\":\"paper\"},{\"font\":{},\"showarrow\":false,\"text\":\"activation=tanh\",\"textangle\":90,\"x\":0.98,\"xanchor\":\"left\",\"xref\":\"paper\",\"y\":0.2425,\"yanchor\":\"middle\",\"yref\":\"paper\"},{\"font\":{},\"showarrow\":false,\"text\":\"activation=relu\",\"textangle\":90,\"x\":0.98,\"xanchor\":\"left\",\"xref\":\"paper\",\"y\":0.7575000000000001,\"yanchor\":\"middle\",\"yref\":\"paper\"}],\"legend\":{\"title\":{\"text\":\"optimizer, num_filters\"},\"tracegroupgap\":0,\"itemsizing\":\"constant\"},\"margin\":{\"t\":60}},                        {\"responsive\": true}                    ).then(function(){\n",
       "                            \n",
       "var gd = document.getElementById('72a182ea-35b5-4b59-91d6-f471f0bd1459');\n",
       "var x = new MutationObserver(function (mutations, observer) {{\n",
       "        var display = window.getComputedStyle(gd).display;\n",
       "        if (!display || display === 'none') {{\n",
       "            console.log([gd, 'removed!']);\n",
       "            Plotly.purge(gd);\n",
       "            observer.disconnect();\n",
       "        }}\n",
       "}});\n",
       "\n",
       "// Listen for the removal of the full notebook cells\n",
       "var notebookContainer = gd.closest('#notebook-container');\n",
       "if (notebookContainer) {{\n",
       "    x.observe(notebookContainer, {childList: true});\n",
       "}}\n",
       "\n",
       "// Listen for the clearing of the current output cell\n",
       "var outputEl = gd.closest('.output');\n",
       "if (outputEl) {{\n",
       "    x.observe(outputEl, {childList: true});\n",
       "}}\n",
       "\n",
       "                        })                };                });            </script>        </div>"
      ]
     },
     "metadata": {},
     "output_type": "display_data"
    }
   ],
   "source": [
    "import plotly.express as px\n",
    "\n",
    "# Create an interactive scatter plot for training vs validation accuracy\n",
    "fig = px.scatter(\n",
    "    results_df, \n",
    "    x='train_accuracy', \n",
    "    y='val_accuracy', \n",
    "    color='optimizer',  # Differentiating by optimizer\n",
    "    symbol='num_filters',  # Differentiating by num_filters function\n",
    "    facet_col='num_units',  # Differentiating by num_units\n",
    "    facet_row='activation',   # Differentiating by activation\n",
    "    hover_data=['filter_size', 'num_filters', 'num_layers', 'num_units', \n",
    "                'activation', 'padding', 'stride'],  # Display parameter details\n",
    "    title='',\n",
    "    labels={'train_accuracy': 'Training Accuracy', 'val_accuracy': 'Validation Accuracy'},\n",
    "    size='train_accuracy',  # Adjust size based on a column, replace with another parameter if needed\n",
    "    size_max=10,  # Adjust bubble size\n",
    ")\n",
    "\n",
    "fig.show()\n"
   ]
  },
  {
   "cell_type": "markdown",
   "metadata": {},
   "source": [
    "As can bee seen in the above figure, rmsprop and adam has a better result in both training and validation accurace"
   ]
  },
  {
   "cell_type": "markdown",
   "metadata": {},
   "source": [
    "## 6.2 Use the insight from the last part to create the best model"
   ]
  },
  {
   "cell_type": "markdown",
   "metadata": {},
   "source": [
    "1- Merge the training and validation sets to have a larger training set to fit the model\n",
    "3- use the best Network architecture from last part\n",
    "2- Evaluate the model on test set by different learning rates for 2 optimizer (Adam & RMSprop)"
   ]
  },
  {
   "cell_type": "code",
   "execution_count": 31,
   "metadata": {},
   "outputs": [
    {
     "name": "stdout",
     "output_type": "stream",
     "text": [
      "Combined training set size: (5712, 30, 30, 1)\n",
      "Combined training labels size: (5712, 4)\n"
     ]
    }
   ],
   "source": [
    "# Merge the training and validation sets\n",
    "X_combined_train = np.concatenate((x_train, x_val), axis=0)\n",
    "y_combined_train = np.concatenate((y_train, y_val), axis=0)\n",
    "\n",
    "print(f'Combined training set size: {X_combined_train.shape}')\n",
    "print(f'Combined training labels size: {y_combined_train.shape}')"
   ]
  },
  {
   "cell_type": "code",
   "execution_count": 32,
   "metadata": {},
   "outputs": [
    {
     "name": "stdout",
     "output_type": "stream",
     "text": [
      "Extracted 1311 test samples\n",
      "Extracted 1311 test samples\n",
      "Extracted 5712 train samples\n",
      "Extracted 5712 train samples\n"
     ]
    }
   ],
   "source": [
    "# Extract X_test and y_test from the test_data generator\n",
    "X_test = []\n",
    "y_test = []\n",
    "\n",
    "for i in range(len(test_data)):\n",
    "    images, labels = next(test_data)\n",
    "    X_test.extend(images)\n",
    "    y_test.extend(labels)\n",
    "\n",
    "# Convert lists to NumPy arrays\n",
    "X_test = np.array(X_test)\n",
    "y_test = np.array(y_test)\n",
    "\n",
    "print(f\"Extracted {len(X_test)} test samples\")\n",
    "print(f\"Extracted {len(y_test)} test samples\")\n",
    "print(f\"Extracted {len(X_combined_train)} train samples\")\n",
    "print(f\"Extracted {len(y_combined_train)} train samples\")"
   ]
  },
  {
   "cell_type": "code",
   "execution_count": 99,
   "metadata": {},
   "outputs": [
    {
     "name": "stderr",
     "output_type": "stream",
     "text": [
      "C:\\ProgramData\\anaconda3\\Lib\\site-packages\\keras\\src\\layers\\convolutional\\base_conv.py:107: UserWarning:\n",
      "\n",
      "Do not pass an `input_shape`/`input_dim` argument to a layer. When using Sequential models, prefer using an `Input(shape)` object as the first layer in the model instead.\n",
      "\n"
     ]
    }
   ],
   "source": [
    "import pandas as pd\n",
    "from tensorflow.keras import layers, models, regularizers, optimizers\n",
    "\n",
    "# Define the hyperparameters to test\n",
    "learning_rates = [0.01, 0.001, 0.002, 0.003]  # Different learning rates to test\n",
    "optimizers_to_test = {\n",
    "    \"adam\": optimizers.Adam,\n",
    "    \"rmsprop\": optimizers.RMSprop\n",
    "}\n",
    "\n",
    "# Other hyperparameters\n",
    "filter_size = (3, 3)\n",
    "num_filters = 64\n",
    "num_layers = 2\n",
    "num_units = 64\n",
    "activation = 'tanh'\n",
    "padding = 'valid'\n",
    "stride = (1, 1)\n",
    "l1_lambda = 0\n",
    "l2_lambda = 0\n",
    "dropout_rate = 0\n",
    "epochs = 10  # Reduced for quick testing; adjust as needed\n",
    "batch_size = 32\n",
    "input_shape = (30, 30, 1)  # Assuming grayscale 30x30 input\n",
    "\n",
    "# Placeholder for results\n",
    "results = []\n",
    "\n",
    "# Loop through different optimizers and learning rates\n",
    "for optimizer_name, optimizer_fn in optimizers_to_test.items():\n",
    "    for lr in learning_rates:\n",
    "        # Build the model\n",
    "        model_new = models.Sequential()\n",
    "        \n",
    "        # Add convolutional layers\n",
    "        for _ in range(num_layers):\n",
    "            model_new.add(layers.Conv2D(num_filters, filter_size, activation=activation, padding=padding, strides=stride,\n",
    "                                        input_shape=input_shape if _ == 0 else None,\n",
    "                                        kernel_regularizer=regularizers.l1_l2(l1=l1_lambda, l2=l2_lambda)))\n",
    "            model_new.add(layers.MaxPooling2D((2, 2)))\n",
    "\n",
    "        # Flatten the output from the convolutional layers\n",
    "        model_new.add(layers.Flatten())\n",
    "\n",
    "        # Add dense layers\n",
    "        model_new.add(layers.Dense(num_units, activation=activation))\n",
    "        model_new.add(layers.Dense(num_units, activation=activation))\n",
    "\n",
    "        # Add dropout if dropout_rate > 0\n",
    "        if dropout_rate > 0:\n",
    "            model_new.add(layers.Dropout(dropout_rate))\n",
    "\n",
    "        # Add the output layer\n",
    "        num_classes = 4  # Assuming 4 classes as y_train.shape[1]\n",
    "        model_new.add(layers.Dense(num_classes, activation='softmax'))\n",
    "\n",
    "        # Compile the model with the current optimizer and learning rate\n",
    "        optimizer = optimizer_fn(learning_rate=lr)\n",
    "        model_new.compile(optimizer=optimizer, loss='categorical_crossentropy', metrics=['accuracy'])\n",
    "\n",
    "        # Train the model\n",
    "        history = model_new.fit(X_combined_train, y_combined_train,\n",
    "                                epochs=epochs,\n",
    "                                batch_size=batch_size,\n",
    "                                validation_data=(X_test, y_test),\n",
    "                                shuffle=True,\n",
    "                                verbose=0)  # Set verbose to 0 to reduce output during training\n",
    "\n",
    "        # Record the final training and validation accuracy\n",
    "        final_train_acc = history.history['accuracy'][-1]\n",
    "        final_val_acc = history.history['val_accuracy'][-1]\n",
    "\n",
    "        # Append results\n",
    "        results.append({\n",
    "            'Optimizer': optimizer_name,\n",
    "            'Learning Rate': lr,\n",
    "            'Train Accuracy': final_train_acc,\n",
    "            'test Accuracy': final_val_acc\n",
    "        })\n",
    "\n",
    "# Convert results to a DataFrame\n",
    "results_df = pd.DataFrame(results)\n"
   ]
  },
  {
   "cell_type": "code",
   "execution_count": 100,
   "metadata": {},
   "outputs": [
    {
     "data": {
      "text/html": [
       "<div>\n",
       "<style scoped>\n",
       "    .dataframe tbody tr th:only-of-type {\n",
       "        vertical-align: middle;\n",
       "    }\n",
       "\n",
       "    .dataframe tbody tr th {\n",
       "        vertical-align: top;\n",
       "    }\n",
       "\n",
       "    .dataframe thead th {\n",
       "        text-align: right;\n",
       "    }\n",
       "</style>\n",
       "<table border=\"1\" class=\"dataframe\">\n",
       "  <thead>\n",
       "    <tr style=\"text-align: right;\">\n",
       "      <th></th>\n",
       "      <th>Optimizer</th>\n",
       "      <th>Learning Rate</th>\n",
       "      <th>Train Accuracy</th>\n",
       "      <th>test Accuracy</th>\n",
       "    </tr>\n",
       "  </thead>\n",
       "  <tbody>\n",
       "    <tr>\n",
       "      <th>0</th>\n",
       "      <td>adam</td>\n",
       "      <td>0.000</td>\n",
       "      <td>0.234069</td>\n",
       "      <td>0.233410</td>\n",
       "    </tr>\n",
       "    <tr>\n",
       "      <th>1</th>\n",
       "      <td>adam</td>\n",
       "      <td>0.010</td>\n",
       "      <td>0.546569</td>\n",
       "      <td>0.450038</td>\n",
       "    </tr>\n",
       "    <tr>\n",
       "      <th>2</th>\n",
       "      <td>adam</td>\n",
       "      <td>0.001</td>\n",
       "      <td>0.992647</td>\n",
       "      <td>0.803204</td>\n",
       "    </tr>\n",
       "    <tr>\n",
       "      <th>3</th>\n",
       "      <td>adam</td>\n",
       "      <td>0.002</td>\n",
       "      <td>0.992647</td>\n",
       "      <td>0.796339</td>\n",
       "    </tr>\n",
       "    <tr>\n",
       "      <th>4</th>\n",
       "      <td>adam</td>\n",
       "      <td>0.003</td>\n",
       "      <td>0.974265</td>\n",
       "      <td>0.792525</td>\n",
       "    </tr>\n",
       "    <tr>\n",
       "      <th>5</th>\n",
       "      <td>rmsprop</td>\n",
       "      <td>0.000</td>\n",
       "      <td>0.287640</td>\n",
       "      <td>0.303585</td>\n",
       "    </tr>\n",
       "    <tr>\n",
       "      <th>6</th>\n",
       "      <td>rmsprop</td>\n",
       "      <td>0.010</td>\n",
       "      <td>0.252101</td>\n",
       "      <td>0.308924</td>\n",
       "    </tr>\n",
       "    <tr>\n",
       "      <th>7</th>\n",
       "      <td>rmsprop</td>\n",
       "      <td>0.001</td>\n",
       "      <td>0.984419</td>\n",
       "      <td>0.775744</td>\n",
       "    </tr>\n",
       "    <tr>\n",
       "      <th>8</th>\n",
       "      <td>rmsprop</td>\n",
       "      <td>0.002</td>\n",
       "      <td>0.982143</td>\n",
       "      <td>0.806255</td>\n",
       "    </tr>\n",
       "    <tr>\n",
       "      <th>9</th>\n",
       "      <td>rmsprop</td>\n",
       "      <td>0.003</td>\n",
       "      <td>0.983368</td>\n",
       "      <td>0.782609</td>\n",
       "    </tr>\n",
       "  </tbody>\n",
       "</table>\n",
       "</div>"
      ],
      "text/plain": [
       "  Optimizer  Learning Rate  Train Accuracy  test Accuracy\n",
       "0      adam          0.000        0.234069       0.233410\n",
       "1      adam          0.010        0.546569       0.450038\n",
       "2      adam          0.001        0.992647       0.803204\n",
       "3      adam          0.002        0.992647       0.796339\n",
       "4      adam          0.003        0.974265       0.792525\n",
       "5   rmsprop          0.000        0.287640       0.303585\n",
       "6   rmsprop          0.010        0.252101       0.308924\n",
       "7   rmsprop          0.001        0.984419       0.775744\n",
       "8   rmsprop          0.002        0.982143       0.806255\n",
       "9   rmsprop          0.003        0.983368       0.782609"
      ]
     },
     "execution_count": 100,
     "metadata": {},
     "output_type": "execute_result"
    }
   ],
   "source": [
    "# Display the results in a table\n",
    "results_df"
   ]
  },
  {
   "cell_type": "markdown",
   "metadata": {},
   "source": [
    "# Fighting overfiting"
   ]
  },
  {
   "cell_type": "markdown",
   "metadata": {},
   "source": [
    "## Using 3 method for fighting overfitting"
   ]
  },
  {
   "cell_type": "markdown",
   "metadata": {},
   "source": [
    "1- Reducing the capacity of the network."
   ]
  },
  {
   "cell_type": "code",
   "execution_count": 109,
   "metadata": {},
   "outputs": [
    {
     "name": "stderr",
     "output_type": "stream",
     "text": [
      "C:\\ProgramData\\anaconda3\\Lib\\site-packages\\keras\\src\\layers\\convolutional\\base_conv.py:107: UserWarning:\n",
      "\n",
      "Do not pass an `input_shape`/`input_dim` argument to a layer. When using Sequential models, prefer using an `Input(shape)` object as the first layer in the model instead.\n",
      "\n"
     ]
    }
   ],
   "source": [
    "import pandas as pd\n",
    "from tensorflow.keras import layers, models, regularizers, optimizers\n",
    "\n",
    "# Define the fixed learning rates for Adam and RMSprop\n",
    "learning_rates = {\n",
    "    \"adam\": 0.001,\n",
    "    \"rmsprop\": 0.002\n",
    "}\n",
    "\n",
    "# Define different dropout rates and num_units to test\n",
    "dropout_rates = [0.0]\n",
    "num_units_list = [ 32, 64]  # Different numbers of units to test in Dense layers\n",
    "\n",
    "# Other hyperparameters\n",
    "filter_size = (3, 3)\n",
    "num_filters = 64\n",
    "num_layers = 2\n",
    "activation = 'tanh'\n",
    "padding = 'valid'\n",
    "stride = (1, 1)\n",
    "l1_lambda = 0\n",
    "l2_lambda = 0\n",
    "epochs = 10  # Reduced for quick testing; adjust as needed\n",
    "batch_size = 32\n",
    "input_shape = (30, 30, 1)  # Assuming grayscale 30x30 input\n",
    "\n",
    "# Placeholder for results\n",
    "results = []\n",
    "\n",
    "# Loop through different optimizers, dropout rates, and number of units\n",
    "for optimizer_name, lr in learning_rates.items():\n",
    "    for dropout_rate in dropout_rates:\n",
    "        for num_units in num_units_list:\n",
    "            # Build the model\n",
    "            model_new = models.Sequential()\n",
    "            \n",
    "            # Add convolutional layers\n",
    "            for _ in range(num_layers):\n",
    "                model_new.add(layers.Conv2D(num_filters, filter_size, activation=activation, padding=padding, strides=stride,\n",
    "                                            input_shape=input_shape if _ == 0 else None,\n",
    "                                            kernel_regularizer=regularizers.l1_l2(l1=l1_lambda, l2=l2_lambda)))\n",
    "                model_new.add(layers.MaxPooling2D((2, 2)))\n",
    "\n",
    "            # Flatten the output from the convolutional layers\n",
    "            model_new.add(layers.Flatten())\n",
    "\n",
    "            # Add dense layers with the current num_units\n",
    "            model_new.add(layers.Dense(num_units, activation=activation))\n",
    "            model_new.add(layers.Dense(num_units, activation=activation))\n",
    "\n",
    "            # Add dropout if dropout_rate > 0\n",
    "            if dropout_rate > 0:\n",
    "                model_new.add(layers.Dropout(dropout_rate))\n",
    "\n",
    "            # Add the output layer\n",
    "            num_classes = 4  # Assuming 4 classes as y_train.shape[1]\n",
    "            model_new.add(layers.Dense(num_classes, activation='softmax'))\n",
    "\n",
    "            # Compile the model with the current optimizer and fixed learning rate\n",
    "            if optimizer_name == \"adam\":\n",
    "                optimizer = optimizers.Adam(learning_rate=lr)\n",
    "            elif optimizer_name == \"rmsprop\":\n",
    "                optimizer = optimizers.RMSprop(learning_rate=lr)\n",
    "\n",
    "            model_new.compile(optimizer=optimizer, loss='categorical_crossentropy', metrics=['accuracy'])\n",
    "\n",
    "            # Train the model\n",
    "            # Assuming that X_combined_train, y_combined_train, X_test, y_test are predefined datasets\n",
    "            history = model_new.fit(X_combined_train, y_combined_train,\n",
    "                                    epochs=epochs,\n",
    "                                    batch_size=batch_size,\n",
    "                                    validation_data=(X_test, y_test),\n",
    "                                    shuffle=True,\n",
    "                                    verbose=0)  # Set verbose to 0 to reduce output during training\n",
    "\n",
    "            # Record the final training and validation accuracy\n",
    "            final_train_acc = history.history['accuracy'][-1]\n",
    "            final_val_acc = history.history['val_accuracy'][-1]\n",
    "\n",
    "            # Append results\n",
    "            results.append({\n",
    "                'Optimizer': optimizer_name,\n",
    "                'Num Units': num_units,\n",
    "                'Train Accuracy': final_train_acc,\n",
    "                'Validation Accuracy': final_val_acc\n",
    "            })\n",
    "\n",
    "# Convert results to a DataFrame\n",
    "results_df = pd.DataFrame(results)\n"
   ]
  },
  {
   "cell_type": "code",
   "execution_count": 108,
   "metadata": {},
   "outputs": [
    {
     "data": {
      "text/html": [
       "<div>\n",
       "<style scoped>\n",
       "    .dataframe tbody tr th:only-of-type {\n",
       "        vertical-align: middle;\n",
       "    }\n",
       "\n",
       "    .dataframe tbody tr th {\n",
       "        vertical-align: top;\n",
       "    }\n",
       "\n",
       "    .dataframe thead th {\n",
       "        text-align: right;\n",
       "    }\n",
       "</style>\n",
       "<table border=\"1\" class=\"dataframe\">\n",
       "  <thead>\n",
       "    <tr style=\"text-align: right;\">\n",
       "      <th></th>\n",
       "      <th>Optimizer</th>\n",
       "      <th>Learning Rate</th>\n",
       "      <th>Dropout Rate</th>\n",
       "      <th>Num Units</th>\n",
       "      <th>Train Accuracy</th>\n",
       "      <th>Validation Accuracy</th>\n",
       "    </tr>\n",
       "  </thead>\n",
       "  <tbody>\n",
       "    <tr>\n",
       "      <th>0</th>\n",
       "      <td>adam</td>\n",
       "      <td>0.001</td>\n",
       "      <td>0</td>\n",
       "      <td>4</td>\n",
       "      <td>0.887080</td>\n",
       "      <td>0.775744</td>\n",
       "    </tr>\n",
       "    <tr>\n",
       "      <th>1</th>\n",
       "      <td>adam</td>\n",
       "      <td>0.001</td>\n",
       "      <td>0</td>\n",
       "      <td>8</td>\n",
       "      <td>0.953606</td>\n",
       "      <td>0.796339</td>\n",
       "    </tr>\n",
       "    <tr>\n",
       "      <th>2</th>\n",
       "      <td>adam</td>\n",
       "      <td>0.001</td>\n",
       "      <td>0</td>\n",
       "      <td>16</td>\n",
       "      <td>0.968838</td>\n",
       "      <td>0.784897</td>\n",
       "    </tr>\n",
       "    <tr>\n",
       "      <th>3</th>\n",
       "      <td>adam</td>\n",
       "      <td>0.001</td>\n",
       "      <td>0</td>\n",
       "      <td>32</td>\n",
       "      <td>0.991422</td>\n",
       "      <td>0.797101</td>\n",
       "    </tr>\n",
       "    <tr>\n",
       "      <th>4</th>\n",
       "      <td>adam</td>\n",
       "      <td>0.001</td>\n",
       "      <td>0</td>\n",
       "      <td>64</td>\n",
       "      <td>0.994398</td>\n",
       "      <td>0.794050</td>\n",
       "    </tr>\n",
       "    <tr>\n",
       "      <th>5</th>\n",
       "      <td>rmsprop</td>\n",
       "      <td>0.002</td>\n",
       "      <td>0</td>\n",
       "      <td>4</td>\n",
       "      <td>0.929272</td>\n",
       "      <td>0.739130</td>\n",
       "    </tr>\n",
       "    <tr>\n",
       "      <th>6</th>\n",
       "      <td>rmsprop</td>\n",
       "      <td>0.002</td>\n",
       "      <td>0</td>\n",
       "      <td>8</td>\n",
       "      <td>0.961485</td>\n",
       "      <td>0.765828</td>\n",
       "    </tr>\n",
       "    <tr>\n",
       "      <th>7</th>\n",
       "      <td>rmsprop</td>\n",
       "      <td>0.002</td>\n",
       "      <td>0</td>\n",
       "      <td>16</td>\n",
       "      <td>0.980567</td>\n",
       "      <td>0.775744</td>\n",
       "    </tr>\n",
       "    <tr>\n",
       "      <th>8</th>\n",
       "      <td>rmsprop</td>\n",
       "      <td>0.002</td>\n",
       "      <td>0</td>\n",
       "      <td>32</td>\n",
       "      <td>0.985294</td>\n",
       "      <td>0.793288</td>\n",
       "    </tr>\n",
       "    <tr>\n",
       "      <th>9</th>\n",
       "      <td>rmsprop</td>\n",
       "      <td>0.002</td>\n",
       "      <td>0</td>\n",
       "      <td>64</td>\n",
       "      <td>0.988796</td>\n",
       "      <td>0.797864</td>\n",
       "    </tr>\n",
       "  </tbody>\n",
       "</table>\n",
       "</div>"
      ],
      "text/plain": [
       "  Optimizer  Learning Rate  Dropout Rate  Num Units  Train Accuracy  \\\n",
       "0      adam          0.001             0          4        0.887080   \n",
       "1      adam          0.001             0          8        0.953606   \n",
       "2      adam          0.001             0         16        0.968838   \n",
       "3      adam          0.001             0         32        0.991422   \n",
       "4      adam          0.001             0         64        0.994398   \n",
       "5   rmsprop          0.002             0          4        0.929272   \n",
       "6   rmsprop          0.002             0          8        0.961485   \n",
       "7   rmsprop          0.002             0         16        0.980567   \n",
       "8   rmsprop          0.002             0         32        0.985294   \n",
       "9   rmsprop          0.002             0         64        0.988796   \n",
       "\n",
       "   Validation Accuracy  \n",
       "0             0.775744  \n",
       "1             0.796339  \n",
       "2             0.784897  \n",
       "3             0.797101  \n",
       "4             0.794050  \n",
       "5             0.739130  \n",
       "6             0.765828  \n",
       "7             0.775744  \n",
       "8             0.793288  \n",
       "9             0.797864  "
      ]
     },
     "execution_count": 108,
     "metadata": {},
     "output_type": "execute_result"
    }
   ],
   "source": [
    "# Display the results in a table\n",
    "results_df"
   ]
  },
  {
   "cell_type": "markdown",
   "metadata": {},
   "source": [
    "2- adding drop-out rate"
   ]
  },
  {
   "cell_type": "code",
   "execution_count": 110,
   "metadata": {},
   "outputs": [],
   "source": [
    "import pandas as pd\n",
    "from tensorflow.keras import layers, models, regularizers, optimizers\n",
    "\n",
    "# Define the fixed learning rates for Adam and RMSprop\n",
    "learning_rates = {\n",
    "    \"adam\": 0.001,\n",
    "    \"rmsprop\": 0.002\n",
    "}\n",
    "\n",
    "# Define different dropout rates and num_units to test\n",
    "dropout_rates = [0.0 , 0.1 , 0.2 , 0.4 , 0.6]\n",
    "num_units_list = [32]  # Different numbers of units to test in Dense layers\n",
    "\n",
    "# Other hyperparameters\n",
    "filter_size = (3, 3)\n",
    "num_filters = 64\n",
    "num_layers = 2\n",
    "activation = 'tanh'\n",
    "padding = 'valid'\n",
    "stride = (1, 1)\n",
    "l1_lambda = 0\n",
    "l2_lambda = 0\n",
    "epochs = 10  # Reduced for quick testing; adjust as needed\n",
    "batch_size = 32\n",
    "input_shape = (30, 30, 1)  # Assuming grayscale 30x30 input\n",
    "\n",
    "# Placeholder for results\n",
    "results = []\n",
    "\n",
    "# Loop through different optimizers, dropout rates, and number of units\n",
    "for optimizer_name, lr in learning_rates.items():\n",
    "    for dropout_rate in dropout_rates:\n",
    "        for num_units in num_units_list:\n",
    "            # Build the model\n",
    "            model_new = models.Sequential()\n",
    "            \n",
    "            # Add convolutional layers\n",
    "            for _ in range(num_layers):\n",
    "                model_new.add(layers.Conv2D(num_filters, filter_size, activation=activation, padding=padding, strides=stride,\n",
    "                                            input_shape=input_shape if _ == 0 else None,\n",
    "                                            kernel_regularizer=regularizers.l1_l2(l1=l1_lambda, l2=l2_lambda)))\n",
    "                model_new.add(layers.MaxPooling2D((2, 2)))\n",
    "\n",
    "            # Flatten the output from the convolutional layers\n",
    "            model_new.add(layers.Flatten())\n",
    "\n",
    "            # Add dense layers with the current num_units\n",
    "            model_new.add(layers.Dense(num_units, activation=activation))\n",
    "            model_new.add(layers.Dense(num_units, activation=activation))\n",
    "\n",
    "            # Add dropout if dropout_rate > 0\n",
    "            if dropout_rate > 0:\n",
    "                model_new.add(layers.Dropout(dropout_rate))\n",
    "\n",
    "            # Add the output layer\n",
    "            num_classes = 4  # Assuming 4 classes as y_train.shape[1]\n",
    "            model_new.add(layers.Dense(num_classes, activation='softmax'))\n",
    "\n",
    "            # Compile the model with the current optimizer and fixed learning rate\n",
    "            if optimizer_name == \"adam\":\n",
    "                optimizer = optimizers.Adam(learning_rate=lr)\n",
    "            elif optimizer_name == \"rmsprop\":\n",
    "                optimizer = optimizers.RMSprop(learning_rate=lr)\n",
    "\n",
    "            model_new.compile(optimizer=optimizer, loss='categorical_crossentropy', metrics=['accuracy'])\n",
    "\n",
    "            # Train the model\n",
    "            # Assuming that X_combined_train, y_combined_train, X_test, y_test are predefined datasets\n",
    "            history = model_new.fit(X_combined_train, y_combined_train,\n",
    "                                    epochs=epochs,\n",
    "                                    batch_size=batch_size,\n",
    "                                    validation_data=(X_test, y_test),\n",
    "                                    shuffle=True,\n",
    "                                    verbose=0)  # Set verbose to 0 to reduce output during training\n",
    "\n",
    "            # Record the final training and validation accuracy\n",
    "            final_train_acc = history.history['accuracy'][-1]\n",
    "            final_val_acc = history.history['val_accuracy'][-1]\n",
    "\n",
    "            # Append results\n",
    "            results.append({\n",
    "                'Optimizer': optimizer_name,\n",
    "                'Learning Rate': lr,\n",
    "                'Dropout Rate': dropout_rate,\n",
    "                'Num Units': num_units,\n",
    "                'Train Accuracy': final_train_acc,\n",
    "                'Validation Accuracy': final_val_acc\n",
    "            })\n",
    "\n",
    "# Convert results to a DataFrame\n",
    "results_df = pd.DataFrame(results)\n"
   ]
  },
  {
   "cell_type": "code",
   "execution_count": 111,
   "metadata": {},
   "outputs": [
    {
     "data": {
      "text/html": [
       "<div>\n",
       "<style scoped>\n",
       "    .dataframe tbody tr th:only-of-type {\n",
       "        vertical-align: middle;\n",
       "    }\n",
       "\n",
       "    .dataframe tbody tr th {\n",
       "        vertical-align: top;\n",
       "    }\n",
       "\n",
       "    .dataframe thead th {\n",
       "        text-align: right;\n",
       "    }\n",
       "</style>\n",
       "<table border=\"1\" class=\"dataframe\">\n",
       "  <thead>\n",
       "    <tr style=\"text-align: right;\">\n",
       "      <th></th>\n",
       "      <th>Optimizer</th>\n",
       "      <th>Learning Rate</th>\n",
       "      <th>Dropout Rate</th>\n",
       "      <th>Num Units</th>\n",
       "      <th>Train Accuracy</th>\n",
       "      <th>Validation Accuracy</th>\n",
       "    </tr>\n",
       "  </thead>\n",
       "  <tbody>\n",
       "    <tr>\n",
       "      <th>0</th>\n",
       "      <td>adam</td>\n",
       "      <td>0.001</td>\n",
       "      <td>0.0</td>\n",
       "      <td>32</td>\n",
       "      <td>0.987220</td>\n",
       "      <td>0.787948</td>\n",
       "    </tr>\n",
       "    <tr>\n",
       "      <th>1</th>\n",
       "      <td>adam</td>\n",
       "      <td>0.001</td>\n",
       "      <td>0.0</td>\n",
       "      <td>64</td>\n",
       "      <td>0.986169</td>\n",
       "      <td>0.791762</td>\n",
       "    </tr>\n",
       "    <tr>\n",
       "      <th>2</th>\n",
       "      <td>adam</td>\n",
       "      <td>0.001</td>\n",
       "      <td>0.1</td>\n",
       "      <td>32</td>\n",
       "      <td>0.985469</td>\n",
       "      <td>0.775744</td>\n",
       "    </tr>\n",
       "    <tr>\n",
       "      <th>3</th>\n",
       "      <td>adam</td>\n",
       "      <td>0.001</td>\n",
       "      <td>0.1</td>\n",
       "      <td>64</td>\n",
       "      <td>0.984244</td>\n",
       "      <td>0.771167</td>\n",
       "    </tr>\n",
       "    <tr>\n",
       "      <th>4</th>\n",
       "      <td>adam</td>\n",
       "      <td>0.001</td>\n",
       "      <td>0.2</td>\n",
       "      <td>32</td>\n",
       "      <td>0.981092</td>\n",
       "      <td>0.791762</td>\n",
       "    </tr>\n",
       "    <tr>\n",
       "      <th>5</th>\n",
       "      <td>adam</td>\n",
       "      <td>0.001</td>\n",
       "      <td>0.2</td>\n",
       "      <td>64</td>\n",
       "      <td>0.987745</td>\n",
       "      <td>0.764302</td>\n",
       "    </tr>\n",
       "    <tr>\n",
       "      <th>6</th>\n",
       "      <td>adam</td>\n",
       "      <td>0.001</td>\n",
       "      <td>0.4</td>\n",
       "      <td>32</td>\n",
       "      <td>0.968662</td>\n",
       "      <td>0.802441</td>\n",
       "    </tr>\n",
       "    <tr>\n",
       "      <th>7</th>\n",
       "      <td>adam</td>\n",
       "      <td>0.001</td>\n",
       "      <td>0.4</td>\n",
       "      <td>64</td>\n",
       "      <td>0.979517</td>\n",
       "      <td>0.772693</td>\n",
       "    </tr>\n",
       "    <tr>\n",
       "      <th>8</th>\n",
       "      <td>adam</td>\n",
       "      <td>0.001</td>\n",
       "      <td>0.6</td>\n",
       "      <td>32</td>\n",
       "      <td>0.961310</td>\n",
       "      <td>0.785660</td>\n",
       "    </tr>\n",
       "    <tr>\n",
       "      <th>9</th>\n",
       "      <td>adam</td>\n",
       "      <td>0.001</td>\n",
       "      <td>0.6</td>\n",
       "      <td>64</td>\n",
       "      <td>0.976190</td>\n",
       "      <td>0.760488</td>\n",
       "    </tr>\n",
       "    <tr>\n",
       "      <th>10</th>\n",
       "      <td>rmsprop</td>\n",
       "      <td>0.002</td>\n",
       "      <td>0.0</td>\n",
       "      <td>32</td>\n",
       "      <td>0.982843</td>\n",
       "      <td>0.790236</td>\n",
       "    </tr>\n",
       "    <tr>\n",
       "      <th>11</th>\n",
       "      <td>rmsprop</td>\n",
       "      <td>0.002</td>\n",
       "      <td>0.0</td>\n",
       "      <td>64</td>\n",
       "      <td>0.987395</td>\n",
       "      <td>0.774981</td>\n",
       "    </tr>\n",
       "    <tr>\n",
       "      <th>12</th>\n",
       "      <td>rmsprop</td>\n",
       "      <td>0.002</td>\n",
       "      <td>0.1</td>\n",
       "      <td>32</td>\n",
       "      <td>0.981443</td>\n",
       "      <td>0.778795</td>\n",
       "    </tr>\n",
       "    <tr>\n",
       "      <th>13</th>\n",
       "      <td>rmsprop</td>\n",
       "      <td>0.002</td>\n",
       "      <td>0.1</td>\n",
       "      <td>64</td>\n",
       "      <td>0.983018</td>\n",
       "      <td>0.789474</td>\n",
       "    </tr>\n",
       "    <tr>\n",
       "      <th>14</th>\n",
       "      <td>rmsprop</td>\n",
       "      <td>0.002</td>\n",
       "      <td>0.2</td>\n",
       "      <td>32</td>\n",
       "      <td>0.977591</td>\n",
       "      <td>0.791762</td>\n",
       "    </tr>\n",
       "    <tr>\n",
       "      <th>15</th>\n",
       "      <td>rmsprop</td>\n",
       "      <td>0.002</td>\n",
       "      <td>0.2</td>\n",
       "      <td>64</td>\n",
       "      <td>0.977416</td>\n",
       "      <td>0.783371</td>\n",
       "    </tr>\n",
       "    <tr>\n",
       "      <th>16</th>\n",
       "      <td>rmsprop</td>\n",
       "      <td>0.002</td>\n",
       "      <td>0.4</td>\n",
       "      <td>32</td>\n",
       "      <td>0.974615</td>\n",
       "      <td>0.764302</td>\n",
       "    </tr>\n",
       "    <tr>\n",
       "      <th>17</th>\n",
       "      <td>rmsprop</td>\n",
       "      <td>0.002</td>\n",
       "      <td>0.4</td>\n",
       "      <td>64</td>\n",
       "      <td>0.977066</td>\n",
       "      <td>0.778032</td>\n",
       "    </tr>\n",
       "    <tr>\n",
       "      <th>18</th>\n",
       "      <td>rmsprop</td>\n",
       "      <td>0.002</td>\n",
       "      <td>0.6</td>\n",
       "      <td>32</td>\n",
       "      <td>0.967087</td>\n",
       "      <td>0.777269</td>\n",
       "    </tr>\n",
       "    <tr>\n",
       "      <th>19</th>\n",
       "      <td>rmsprop</td>\n",
       "      <td>0.002</td>\n",
       "      <td>0.6</td>\n",
       "      <td>64</td>\n",
       "      <td>0.970763</td>\n",
       "      <td>0.777269</td>\n",
       "    </tr>\n",
       "  </tbody>\n",
       "</table>\n",
       "</div>"
      ],
      "text/plain": [
       "   Optimizer  Learning Rate  Dropout Rate  Num Units  Train Accuracy  \\\n",
       "0       adam          0.001           0.0         32        0.987220   \n",
       "1       adam          0.001           0.0         64        0.986169   \n",
       "2       adam          0.001           0.1         32        0.985469   \n",
       "3       adam          0.001           0.1         64        0.984244   \n",
       "4       adam          0.001           0.2         32        0.981092   \n",
       "5       adam          0.001           0.2         64        0.987745   \n",
       "6       adam          0.001           0.4         32        0.968662   \n",
       "7       adam          0.001           0.4         64        0.979517   \n",
       "8       adam          0.001           0.6         32        0.961310   \n",
       "9       adam          0.001           0.6         64        0.976190   \n",
       "10   rmsprop          0.002           0.0         32        0.982843   \n",
       "11   rmsprop          0.002           0.0         64        0.987395   \n",
       "12   rmsprop          0.002           0.1         32        0.981443   \n",
       "13   rmsprop          0.002           0.1         64        0.983018   \n",
       "14   rmsprop          0.002           0.2         32        0.977591   \n",
       "15   rmsprop          0.002           0.2         64        0.977416   \n",
       "16   rmsprop          0.002           0.4         32        0.974615   \n",
       "17   rmsprop          0.002           0.4         64        0.977066   \n",
       "18   rmsprop          0.002           0.6         32        0.967087   \n",
       "19   rmsprop          0.002           0.6         64        0.970763   \n",
       "\n",
       "    Validation Accuracy  \n",
       "0              0.787948  \n",
       "1              0.791762  \n",
       "2              0.775744  \n",
       "3              0.771167  \n",
       "4              0.791762  \n",
       "5              0.764302  \n",
       "6              0.802441  \n",
       "7              0.772693  \n",
       "8              0.785660  \n",
       "9              0.760488  \n",
       "10             0.790236  \n",
       "11             0.774981  \n",
       "12             0.778795  \n",
       "13             0.789474  \n",
       "14             0.791762  \n",
       "15             0.783371  \n",
       "16             0.764302  \n",
       "17             0.778032  \n",
       "18             0.777269  \n",
       "19             0.777269  "
      ]
     },
     "execution_count": 111,
     "metadata": {},
     "output_type": "execute_result"
    }
   ],
   "source": [
    "# Display the results in a table\n",
    "results_df"
   ]
  },
  {
   "cell_type": "markdown",
   "metadata": {},
   "source": [
    "3- Adding weight regularization (L1,L2,L1-L2 regularization)"
   ]
  },
  {
   "cell_type": "code",
   "execution_count": 13,
   "metadata": {},
   "outputs": [],
   "source": [
    "import pandas as pd\n",
    "from tensorflow.keras import layers, models, regularizers, optimizers\n",
    "\n",
    "# Define the fixed learning rates for Adam and RMSprop\n",
    "learning_rates = {\n",
    "#     \"adam\": 0.001,\n",
    "    \"rmsprop\": 0.002\n",
    "}\n",
    "\n",
    "# Define different dropout rates, num_units, and regularization parameters to test\n",
    "dropout_rates = [0.4]\n",
    "num_units_list = [32]  # Different numbers of units to test in Dense layers\n",
    "l1_l2_combinations = [ (0.001, 0), (0, 0.001), (0.001, 0.001)]  # Different L1 and L2 regularization combinations\n",
    "\n",
    "# Other hyperparameters\n",
    "filter_size = (3, 3)\n",
    "num_filters = 64\n",
    "num_layers = 2\n",
    "activation = 'tanh'\n",
    "padding = 'valid'\n",
    "stride = (1, 1)\n",
    "epochs = 10  # Reduced for quick testing; adjust as needed\n",
    "batch_size = 32\n",
    "input_shape = (30, 30, 1)  # Assuming grayscale 30x30 input\n",
    "\n",
    "# Placeholder for results\n",
    "results = []\n",
    "\n",
    "# Loop through different optimizers, dropout rates, num_units, and L1/L2 regularization values\n",
    "for optimizer_name, lr in learning_rates.items():\n",
    "    for dropout_rate in dropout_rates:\n",
    "        for num_units in num_units_list:\n",
    "            for l1_lambda, l2_lambda in l1_l2_combinations:\n",
    "                # Build the model\n",
    "                model_new = models.Sequential()\n",
    "                \n",
    "                # Add convolutional layers\n",
    "                for _ in range(num_layers):\n",
    "                    model_new.add(layers.Conv2D(num_filters, filter_size, activation=activation, padding=padding, strides=stride,\n",
    "                                                input_shape=input_shape if _ == 0 else None,\n",
    "                                                kernel_regularizer=regularizers.l1_l2(l1=l1_lambda, l2=l2_lambda)))\n",
    "                    model_new.add(layers.MaxPooling2D((2, 2)))\n",
    "\n",
    "                # Flatten the output from the convolutional layers\n",
    "                model_new.add(layers.Flatten())\n",
    "\n",
    "                # Add dense layers with the current num_units\n",
    "                model_new.add(layers.Dense(num_units, activation=activation,\n",
    "                                           kernel_regularizer=regularizers.l1_l2(l1=l1_lambda, l2=l2_lambda)))\n",
    "                model_new.add(layers.Dense(num_units, activation=activation,\n",
    "                                           kernel_regularizer=regularizers.l1_l2(l1=l1_lambda, l2=l2_lambda)))\n",
    "\n",
    "                # Add dropout if dropout_rate > 0\n",
    "                if dropout_rate > 0:\n",
    "                    model_new.add(layers.Dropout(dropout_rate))\n",
    "\n",
    "                # Add the output layer\n",
    "                num_classes = 4  # Assuming 4 classes as y_train.shape[1]\n",
    "                model_new.add(layers.Dense(num_classes, activation='softmax'))\n",
    "\n",
    "                # Compile the model with the current optimizer and fixed learning rate\n",
    "                if optimizer_name == \"adam\":\n",
    "                    optimizer = optimizers.Adam(learning_rate=lr)\n",
    "                elif optimizer_name == \"rmsprop\":\n",
    "                    optimizer = optimizers.RMSprop(learning_rate=lr)\n",
    "\n",
    "                model_new.compile(optimizer=optimizer, loss='categorical_crossentropy', metrics=['accuracy'])\n",
    "\n",
    "                # Train the model\n",
    "                # Assuming that X_combined_train, y_combined_train, X_test, y_test are predefined datasets\n",
    "                history = model_new.fit(X_combined_train, y_combined_train,\n",
    "                                        epochs=epochs,\n",
    "                                        batch_size=batch_size,\n",
    "                                        validation_data=(X_test, y_test),\n",
    "                                        shuffle=True,\n",
    "                                        verbose=0)  # Set verbose to 0 to reduce output during training\n",
    "\n",
    "                # Record the final training and validation accuracy\n",
    "                final_train_acc = history.history['accuracy'][-1]\n",
    "                final_val_acc = history.history['val_accuracy'][-1]\n",
    "\n",
    "                # Append results\n",
    "                results.append({\n",
    "                    'Optimizer': optimizer_name,\n",
    "                    'Learning Rate': lr,\n",
    "                    'Dropout Rate': dropout_rate,\n",
    "                    'Num Units': num_units,\n",
    "                    'L1 Lambda': l1_lambda,\n",
    "                    'L2 Lambda': l2_lambda,\n",
    "                    'Train Accuracy': final_train_acc,\n",
    "                    'Validation Accuracy': final_val_acc\n",
    "                })\n",
    "\n",
    "# Convert results to a DataFrame\n",
    "results_df = pd.DataFrame(results)\n"
   ]
  },
  {
   "cell_type": "code",
   "execution_count": 14,
   "metadata": {},
   "outputs": [
    {
     "data": {
      "text/html": [
       "<div>\n",
       "<style scoped>\n",
       "    .dataframe tbody tr th:only-of-type {\n",
       "        vertical-align: middle;\n",
       "    }\n",
       "\n",
       "    .dataframe tbody tr th {\n",
       "        vertical-align: top;\n",
       "    }\n",
       "\n",
       "    .dataframe thead th {\n",
       "        text-align: right;\n",
       "    }\n",
       "</style>\n",
       "<table border=\"1\" class=\"dataframe\">\n",
       "  <thead>\n",
       "    <tr style=\"text-align: right;\">\n",
       "      <th></th>\n",
       "      <th>Optimizer</th>\n",
       "      <th>Learning Rate</th>\n",
       "      <th>Dropout Rate</th>\n",
       "      <th>Num Units</th>\n",
       "      <th>L1 Lambda</th>\n",
       "      <th>L2 Lambda</th>\n",
       "      <th>Train Accuracy</th>\n",
       "      <th>Validation Accuracy</th>\n",
       "    </tr>\n",
       "  </thead>\n",
       "  <tbody>\n",
       "    <tr>\n",
       "      <th>0</th>\n",
       "      <td>rmsprop</td>\n",
       "      <td>0.002</td>\n",
       "      <td>0.4</td>\n",
       "      <td>32</td>\n",
       "      <td>0.001</td>\n",
       "      <td>0.000</td>\n",
       "      <td>0.775735</td>\n",
       "      <td>0.718535</td>\n",
       "    </tr>\n",
       "    <tr>\n",
       "      <th>1</th>\n",
       "      <td>rmsprop</td>\n",
       "      <td>0.002</td>\n",
       "      <td>0.4</td>\n",
       "      <td>32</td>\n",
       "      <td>0.000</td>\n",
       "      <td>0.001</td>\n",
       "      <td>0.942227</td>\n",
       "      <td>0.778795</td>\n",
       "    </tr>\n",
       "    <tr>\n",
       "      <th>2</th>\n",
       "      <td>rmsprop</td>\n",
       "      <td>0.002</td>\n",
       "      <td>0.4</td>\n",
       "      <td>32</td>\n",
       "      <td>0.001</td>\n",
       "      <td>0.001</td>\n",
       "      <td>0.765406</td>\n",
       "      <td>0.707857</td>\n",
       "    </tr>\n",
       "  </tbody>\n",
       "</table>\n",
       "</div>"
      ],
      "text/plain": [
       "  Optimizer  Learning Rate  Dropout Rate  Num Units  L1 Lambda  L2 Lambda  \\\n",
       "0   rmsprop          0.002           0.4         32      0.001      0.000   \n",
       "1   rmsprop          0.002           0.4         32      0.000      0.001   \n",
       "2   rmsprop          0.002           0.4         32      0.001      0.001   \n",
       "\n",
       "   Train Accuracy  Validation Accuracy  \n",
       "0        0.775735             0.718535  \n",
       "1        0.942227             0.778795  \n",
       "2        0.765406             0.707857  "
      ]
     },
     "execution_count": 14,
     "metadata": {},
     "output_type": "execute_result"
    }
   ],
   "source": [
    "# Display the results in a table\n",
    "results_df"
   ]
  },
  {
   "cell_type": "code",
   "execution_count": null,
   "metadata": {},
   "outputs": [],
   "source": []
  },
  {
   "cell_type": "markdown",
   "metadata": {},
   "source": [
    "last try"
   ]
  },
  {
   "cell_type": "code",
   "execution_count": 53,
   "metadata": {},
   "outputs": [
    {
     "data": {
      "image/png": "[encoded data removed]",
      "text/plain": [
       "<Figure size 1200x500 with 2 Axes>"
      ]
     },
     "metadata": {},
     "output_type": "display_data"
    }
   ],
   "source": [
    "# Plot accuracy and loss trends for a specific configuration\n",
    "def plot_trends(result):\n",
    "    epochs_range = range(1, epochs + 1)\n",
    "\n",
    "    # Plot accuracy trends\n",
    "    plt.figure(figsize=(12, 5))\n",
    "    \n",
    "    plt.subplot(1, 2, 1)\n",
    "    plt.plot(epochs_range, result['Accuracy Trend'], label='Train Accuracy')\n",
    "    plt.plot(epochs_range, result['Validation Accuracy Trend'], label='Validation Accuracy')\n",
    "    plt.xlabel('Epochs')\n",
    "    plt.ylabel('Accuracy')\n",
    "    plt.title(f\"Accuracy Trend (Optimizer: {result['Optimizer']}, Dropout: {result['Dropout Rate']})\")\n",
    "    plt.legend()\n",
    "    \n",
    "    # Plot loss trends\n",
    "    plt.subplot(1, 2, 2)\n",
    "    plt.plot(epochs_range, result['Loss Trend'], label='Train Loss')\n",
    "    plt.plot(epochs_range, result['Validation Loss Trend'], label='Validation Loss')\n",
    "    plt.xlabel('Epochs')\n",
    "    plt.ylabel('Loss')\n",
    "    plt.title(f\"Loss Trend (Optimizer: {result['Optimizer']}, Dropout: {result['Dropout Rate']})\")\n",
    "    plt.legend()\n",
    "    \n",
    "    plt.tight_layout()\n",
    "    plt.show()\n",
    "\n",
    "# Example: Plot trends for the first result\n",
    "if not results_df.empty:\n",
    "    plot_trends(results_df.iloc[0])\n"
   ]
  },
  {
   "cell_type": "code",
   "execution_count": null,
   "metadata": {},
   "outputs": [],
   "source": []
  }
 ],
 "metadata": {
  "colab": {
   "provenance": []
  },
  "kernelspec": {
   "display_name": "Python 3 (ipykernel)",
   "language": "python",
   "name": "python3"
  },
  "language_info": {
   "codemirror_mode": {
    "name": "ipython",
    "version": 3
   },
   "file_extension": ".py",
   "mimetype": "text/x-python",
   "name": "python",
   "nbconvert_exporter": "python",
   "pygments_lexer": "ipython3",
   "version": "3.11.5"
  }
 },
 "nbformat": 4,
 "nbformat_minor": 1
}
